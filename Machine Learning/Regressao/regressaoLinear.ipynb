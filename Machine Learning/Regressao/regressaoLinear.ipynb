{
  "cells": [
    {
      "cell_type": "markdown",
      "metadata": {},
      "source": [
        "## **Regressão Linear Simples**"
      ]
    },
    {
      "cell_type": "code",
      "execution_count": null,
      "metadata": {
        "id": "NaL72agZR3ps"
      },
      "outputs": [],
      "source": [
        "import pandas as pd"
      ]
    },
    {
      "cell_type": "code",
      "execution_count": null,
      "metadata": {
        "id": "22F7il3UXhZw"
      },
      "outputs": [],
      "source": [
        "# Dados de investimento em publicidade e acessos no site\n",
        "dados = {\n",
        "    'Investimento_Publicidade': [100, 140, 150, 390, 350, 155, 200],\n",
        "    'Acessos_Site': [200, 260, 300, 760, 700, 320, 400]\n",
        "}\n",
        "\n",
        "df = pd.DataFrame(dados)"
      ]
    },
    {
      "cell_type": "markdown",
      "metadata": {
        "id": "Lag_pNcMZ1MW"
      },
      "source": [
        "### **1. Calculando a correlação:**"
      ]
    },
    {
      "cell_type": "code",
      "execution_count": null,
      "metadata": {
        "colab": {
          "base_uri": "https://localhost:8080/"
        },
        "id": "37ilTMaXZWQd",
        "outputId": "a97aa84b-2ccb-40f4-d3ef-75322ec86e3d"
      },
      "outputs": [
        {
          "data": {
            "text/plain": [
              "0.9988447309774268"
            ]
          },
          "execution_count": 3,
          "metadata": {},
          "output_type": "execute_result"
        }
      ],
      "source": [
        "df['Investimento_Publicidade'].corr(df['Acessos_Site'])\n",
        "\n",
        "#Uma correlação de 0.99 indica uma forte correlação positiva entre as duas variáveis, o que significa que elas tendem a aumentar juntas."
      ]
    },
    {
      "cell_type": "markdown",
      "metadata": {
        "id": "I9uggWaXZzoX"
      },
      "source": [
        "Portanto, com uma correlação de 0.99, podemos dizer que 99% da variação em uma variável está associada à variação na outra variável, mas isso não implica necessariamente uma relação de causa e efeito entre elas."
      ]
    },
    {
      "cell_type": "markdown",
      "metadata": {
        "id": "s3ZybR-_aDxZ"
      },
      "source": [
        "### **2 - Regressão Linear Simples com Scikit-Learn**"
      ]
    },
    {
      "cell_type": "code",
      "execution_count": null,
      "metadata": {
        "id": "qTA9tsJNcnpG"
      },
      "outputs": [],
      "source": [
        "from sklearn.linear_model import LinearRegression"
      ]
    },
    {
      "cell_type": "markdown",
      "metadata": {
        "id": "Ow8UbjNKbyLS"
      },
      "source": [
        "**PASSO 1)** Separar nossa variável dependente da independente:\n",
        "Quem será X e Y."
      ]
    },
    {
      "cell_type": "code",
      "execution_count": null,
      "metadata": {
        "id": "ECgAaeEYZ59Y"
      },
      "outputs": [],
      "source": [
        "# Separar a variável independente da variável dependente\n",
        "X = df[['Investimento_Publicidade']]  # Variável independente (características)\n",
        "y = df['Acessos_Site']  # Variável dependente (rótulo)"
      ]
    },
    {
      "cell_type": "markdown",
      "metadata": {
        "id": "MDqgQmT7cHow"
      },
      "source": [
        "Separamos Y como dependente pois sempre vamos querer saber através do investimento mensal qual será o número de acessos no site."
      ]
    },
    {
      "cell_type": "code",
      "execution_count": null,
      "metadata": {
        "colab": {
          "base_uri": "https://localhost:8080/",
          "height": 268
        },
        "id": "oktezOoncxyq",
        "outputId": "ab42ff0f-b54b-4761-daa0-529a0bf78ab0"
      },
      "outputs": [
        {
          "data": {
            "application/vnd.google.colaboratory.intrinsic+json": {
              "summary": "{\n  \"name\": \"X\",\n  \"rows\": 7,\n  \"fields\": [\n    {\n      \"column\": \"Investimento_Publicidade\",\n      \"properties\": {\n        \"dtype\": \"number\",\n        \"std\": 112,\n        \"min\": 100,\n        \"max\": 390,\n        \"num_unique_values\": 7,\n        \"samples\": [\n          100,\n          140,\n          155\n        ],\n        \"semantic_type\": \"\",\n        \"description\": \"\"\n      }\n    }\n  ]\n}",
              "type": "dataframe",
              "variable_name": "X"
            },
            "text/html": [
              "\n",
              "  <div id=\"df-4ce4a120-bb5e-42e0-aa64-320fc6860cef\" class=\"colab-df-container\">\n",
              "    <div>\n",
              "<style scoped>\n",
              "    .dataframe tbody tr th:only-of-type {\n",
              "        vertical-align: middle;\n",
              "    }\n",
              "\n",
              "    .dataframe tbody tr th {\n",
              "        vertical-align: top;\n",
              "    }\n",
              "\n",
              "    .dataframe thead th {\n",
              "        text-align: right;\n",
              "    }\n",
              "</style>\n",
              "<table border=\"1\" class=\"dataframe\">\n",
              "  <thead>\n",
              "    <tr style=\"text-align: right;\">\n",
              "      <th></th>\n",
              "      <th>Investimento_Publicidade</th>\n",
              "    </tr>\n",
              "  </thead>\n",
              "  <tbody>\n",
              "    <tr>\n",
              "      <th>0</th>\n",
              "      <td>100</td>\n",
              "    </tr>\n",
              "    <tr>\n",
              "      <th>1</th>\n",
              "      <td>140</td>\n",
              "    </tr>\n",
              "    <tr>\n",
              "      <th>2</th>\n",
              "      <td>150</td>\n",
              "    </tr>\n",
              "    <tr>\n",
              "      <th>3</th>\n",
              "      <td>390</td>\n",
              "    </tr>\n",
              "    <tr>\n",
              "      <th>4</th>\n",
              "      <td>350</td>\n",
              "    </tr>\n",
              "    <tr>\n",
              "      <th>5</th>\n",
              "      <td>155</td>\n",
              "    </tr>\n",
              "    <tr>\n",
              "      <th>6</th>\n",
              "      <td>200</td>\n",
              "    </tr>\n",
              "  </tbody>\n",
              "</table>\n",
              "</div>\n",
              "    <div class=\"colab-df-buttons\">\n",
              "\n",
              "  <div class=\"colab-df-container\">\n",
              "    <button class=\"colab-df-convert\" onclick=\"convertToInteractive('df-4ce4a120-bb5e-42e0-aa64-320fc6860cef')\"\n",
              "            title=\"Convert this dataframe to an interactive table.\"\n",
              "            style=\"display:none;\">\n",
              "\n",
              "  <svg xmlns=\"http://www.w3.org/2000/svg\" height=\"24px\" viewBox=\"0 -960 960 960\">\n",
              "    <path d=\"M120-120v-720h720v720H120Zm60-500h600v-160H180v160Zm220 220h160v-160H400v160Zm0 220h160v-160H400v160ZM180-400h160v-160H180v160Zm440 0h160v-160H620v160ZM180-180h160v-160H180v160Zm440 0h160v-160H620v160Z\"/>\n",
              "  </svg>\n",
              "    </button>\n",
              "\n",
              "  <style>\n",
              "    .colab-df-container {\n",
              "      display:flex;\n",
              "      gap: 12px;\n",
              "    }\n",
              "\n",
              "    .colab-df-convert {\n",
              "      background-color: #E8F0FE;\n",
              "      border: none;\n",
              "      border-radius: 50%;\n",
              "      cursor: pointer;\n",
              "      display: none;\n",
              "      fill: #1967D2;\n",
              "      height: 32px;\n",
              "      padding: 0 0 0 0;\n",
              "      width: 32px;\n",
              "    }\n",
              "\n",
              "    .colab-df-convert:hover {\n",
              "      background-color: #E2EBFA;\n",
              "      box-shadow: 0px 1px 2px rgba(60, 64, 67, 0.3), 0px 1px 3px 1px rgba(60, 64, 67, 0.15);\n",
              "      fill: #174EA6;\n",
              "    }\n",
              "\n",
              "    .colab-df-buttons div {\n",
              "      margin-bottom: 4px;\n",
              "    }\n",
              "\n",
              "    [theme=dark] .colab-df-convert {\n",
              "      background-color: #3B4455;\n",
              "      fill: #D2E3FC;\n",
              "    }\n",
              "\n",
              "    [theme=dark] .colab-df-convert:hover {\n",
              "      background-color: #434B5C;\n",
              "      box-shadow: 0px 1px 3px 1px rgba(0, 0, 0, 0.15);\n",
              "      filter: drop-shadow(0px 1px 2px rgba(0, 0, 0, 0.3));\n",
              "      fill: #FFFFFF;\n",
              "    }\n",
              "  </style>\n",
              "\n",
              "    <script>\n",
              "      const buttonEl =\n",
              "        document.querySelector('#df-4ce4a120-bb5e-42e0-aa64-320fc6860cef button.colab-df-convert');\n",
              "      buttonEl.style.display =\n",
              "        google.colab.kernel.accessAllowed ? 'block' : 'none';\n",
              "\n",
              "      async function convertToInteractive(key) {\n",
              "        const element = document.querySelector('#df-4ce4a120-bb5e-42e0-aa64-320fc6860cef');\n",
              "        const dataTable =\n",
              "          await google.colab.kernel.invokeFunction('convertToInteractive',\n",
              "                                                    [key], {});\n",
              "        if (!dataTable) return;\n",
              "\n",
              "        const docLinkHtml = 'Like what you see? Visit the ' +\n",
              "          '<a target=\"_blank\" href=https://colab.research.google.com/notebooks/data_table.ipynb>data table notebook</a>'\n",
              "          + ' to learn more about interactive tables.';\n",
              "        element.innerHTML = '';\n",
              "        dataTable['output_type'] = 'display_data';\n",
              "        await google.colab.output.renderOutput(dataTable, element);\n",
              "        const docLink = document.createElement('div');\n",
              "        docLink.innerHTML = docLinkHtml;\n",
              "        element.appendChild(docLink);\n",
              "      }\n",
              "    </script>\n",
              "  </div>\n",
              "\n",
              "\n",
              "<div id=\"df-9de1df20-3ad4-4f2c-a2a2-32d77f5ba3fe\">\n",
              "  <button class=\"colab-df-quickchart\" onclick=\"quickchart('df-9de1df20-3ad4-4f2c-a2a2-32d77f5ba3fe')\"\n",
              "            title=\"Suggest charts\"\n",
              "            style=\"display:none;\">\n",
              "\n",
              "<svg xmlns=\"http://www.w3.org/2000/svg\" height=\"24px\"viewBox=\"0 0 24 24\"\n",
              "     width=\"24px\">\n",
              "    <g>\n",
              "        <path d=\"M19 3H5c-1.1 0-2 .9-2 2v14c0 1.1.9 2 2 2h14c1.1 0 2-.9 2-2V5c0-1.1-.9-2-2-2zM9 17H7v-7h2v7zm4 0h-2V7h2v10zm4 0h-2v-4h2v4z\"/>\n",
              "    </g>\n",
              "</svg>\n",
              "  </button>\n",
              "\n",
              "<style>\n",
              "  .colab-df-quickchart {\n",
              "      --bg-color: #E8F0FE;\n",
              "      --fill-color: #1967D2;\n",
              "      --hover-bg-color: #E2EBFA;\n",
              "      --hover-fill-color: #174EA6;\n",
              "      --disabled-fill-color: #AAA;\n",
              "      --disabled-bg-color: #DDD;\n",
              "  }\n",
              "\n",
              "  [theme=dark] .colab-df-quickchart {\n",
              "      --bg-color: #3B4455;\n",
              "      --fill-color: #D2E3FC;\n",
              "      --hover-bg-color: #434B5C;\n",
              "      --hover-fill-color: #FFFFFF;\n",
              "      --disabled-bg-color: #3B4455;\n",
              "      --disabled-fill-color: #666;\n",
              "  }\n",
              "\n",
              "  .colab-df-quickchart {\n",
              "    background-color: var(--bg-color);\n",
              "    border: none;\n",
              "    border-radius: 50%;\n",
              "    cursor: pointer;\n",
              "    display: none;\n",
              "    fill: var(--fill-color);\n",
              "    height: 32px;\n",
              "    padding: 0;\n",
              "    width: 32px;\n",
              "  }\n",
              "\n",
              "  .colab-df-quickchart:hover {\n",
              "    background-color: var(--hover-bg-color);\n",
              "    box-shadow: 0 1px 2px rgba(60, 64, 67, 0.3), 0 1px 3px 1px rgba(60, 64, 67, 0.15);\n",
              "    fill: var(--button-hover-fill-color);\n",
              "  }\n",
              "\n",
              "  .colab-df-quickchart-complete:disabled,\n",
              "  .colab-df-quickchart-complete:disabled:hover {\n",
              "    background-color: var(--disabled-bg-color);\n",
              "    fill: var(--disabled-fill-color);\n",
              "    box-shadow: none;\n",
              "  }\n",
              "\n",
              "  .colab-df-spinner {\n",
              "    border: 2px solid var(--fill-color);\n",
              "    border-color: transparent;\n",
              "    border-bottom-color: var(--fill-color);\n",
              "    animation:\n",
              "      spin 1s steps(1) infinite;\n",
              "  }\n",
              "\n",
              "  @keyframes spin {\n",
              "    0% {\n",
              "      border-color: transparent;\n",
              "      border-bottom-color: var(--fill-color);\n",
              "      border-left-color: var(--fill-color);\n",
              "    }\n",
              "    20% {\n",
              "      border-color: transparent;\n",
              "      border-left-color: var(--fill-color);\n",
              "      border-top-color: var(--fill-color);\n",
              "    }\n",
              "    30% {\n",
              "      border-color: transparent;\n",
              "      border-left-color: var(--fill-color);\n",
              "      border-top-color: var(--fill-color);\n",
              "      border-right-color: var(--fill-color);\n",
              "    }\n",
              "    40% {\n",
              "      border-color: transparent;\n",
              "      border-right-color: var(--fill-color);\n",
              "      border-top-color: var(--fill-color);\n",
              "    }\n",
              "    60% {\n",
              "      border-color: transparent;\n",
              "      border-right-color: var(--fill-color);\n",
              "    }\n",
              "    80% {\n",
              "      border-color: transparent;\n",
              "      border-right-color: var(--fill-color);\n",
              "      border-bottom-color: var(--fill-color);\n",
              "    }\n",
              "    90% {\n",
              "      border-color: transparent;\n",
              "      border-bottom-color: var(--fill-color);\n",
              "    }\n",
              "  }\n",
              "</style>\n",
              "\n",
              "  <script>\n",
              "    async function quickchart(key) {\n",
              "      const quickchartButtonEl =\n",
              "        document.querySelector('#' + key + ' button');\n",
              "      quickchartButtonEl.disabled = true;  // To prevent multiple clicks.\n",
              "      quickchartButtonEl.classList.add('colab-df-spinner');\n",
              "      try {\n",
              "        const charts = await google.colab.kernel.invokeFunction(\n",
              "            'suggestCharts', [key], {});\n",
              "      } catch (error) {\n",
              "        console.error('Error during call to suggestCharts:', error);\n",
              "      }\n",
              "      quickchartButtonEl.classList.remove('colab-df-spinner');\n",
              "      quickchartButtonEl.classList.add('colab-df-quickchart-complete');\n",
              "    }\n",
              "    (() => {\n",
              "      let quickchartButtonEl =\n",
              "        document.querySelector('#df-9de1df20-3ad4-4f2c-a2a2-32d77f5ba3fe button');\n",
              "      quickchartButtonEl.style.display =\n",
              "        google.colab.kernel.accessAllowed ? 'block' : 'none';\n",
              "    })();\n",
              "  </script>\n",
              "</div>\n",
              "\n",
              "  <div id=\"id_027fd46b-06c3-4041-bf26-713b59230a84\">\n",
              "    <style>\n",
              "      .colab-df-generate {\n",
              "        background-color: #E8F0FE;\n",
              "        border: none;\n",
              "        border-radius: 50%;\n",
              "        cursor: pointer;\n",
              "        display: none;\n",
              "        fill: #1967D2;\n",
              "        height: 32px;\n",
              "        padding: 0 0 0 0;\n",
              "        width: 32px;\n",
              "      }\n",
              "\n",
              "      .colab-df-generate:hover {\n",
              "        background-color: #E2EBFA;\n",
              "        box-shadow: 0px 1px 2px rgba(60, 64, 67, 0.3), 0px 1px 3px 1px rgba(60, 64, 67, 0.15);\n",
              "        fill: #174EA6;\n",
              "      }\n",
              "\n",
              "      [theme=dark] .colab-df-generate {\n",
              "        background-color: #3B4455;\n",
              "        fill: #D2E3FC;\n",
              "      }\n",
              "\n",
              "      [theme=dark] .colab-df-generate:hover {\n",
              "        background-color: #434B5C;\n",
              "        box-shadow: 0px 1px 3px 1px rgba(0, 0, 0, 0.15);\n",
              "        filter: drop-shadow(0px 1px 2px rgba(0, 0, 0, 0.3));\n",
              "        fill: #FFFFFF;\n",
              "      }\n",
              "    </style>\n",
              "    <button class=\"colab-df-generate\" onclick=\"generateWithVariable('X')\"\n",
              "            title=\"Generate code using this dataframe.\"\n",
              "            style=\"display:none;\">\n",
              "\n",
              "  <svg xmlns=\"http://www.w3.org/2000/svg\" height=\"24px\"viewBox=\"0 0 24 24\"\n",
              "       width=\"24px\">\n",
              "    <path d=\"M7,19H8.4L18.45,9,17,7.55,7,17.6ZM5,21V16.75L18.45,3.32a2,2,0,0,1,2.83,0l1.4,1.43a1.91,1.91,0,0,1,.58,1.4,1.91,1.91,0,0,1-.58,1.4L9.25,21ZM18.45,9,17,7.55Zm-12,3A5.31,5.31,0,0,0,4.9,8.1,5.31,5.31,0,0,0,1,6.5,5.31,5.31,0,0,0,4.9,4.9,5.31,5.31,0,0,0,6.5,1,5.31,5.31,0,0,0,8.1,4.9,5.31,5.31,0,0,0,12,6.5,5.46,5.46,0,0,0,6.5,12Z\"/>\n",
              "  </svg>\n",
              "    </button>\n",
              "    <script>\n",
              "      (() => {\n",
              "      const buttonEl =\n",
              "        document.querySelector('#id_027fd46b-06c3-4041-bf26-713b59230a84 button.colab-df-generate');\n",
              "      buttonEl.style.display =\n",
              "        google.colab.kernel.accessAllowed ? 'block' : 'none';\n",
              "\n",
              "      buttonEl.onclick = () => {\n",
              "        google.colab.notebook.generateWithVariable('X');\n",
              "      }\n",
              "      })();\n",
              "    </script>\n",
              "  </div>\n",
              "\n",
              "    </div>\n",
              "  </div>\n"
            ],
            "text/plain": [
              "   Investimento_Publicidade\n",
              "0                       100\n",
              "1                       140\n",
              "2                       150\n",
              "3                       390\n",
              "4                       350\n",
              "5                       155\n",
              "6                       200"
            ]
          },
          "execution_count": 6,
          "metadata": {},
          "output_type": "execute_result"
        }
      ],
      "source": [
        "X"
      ]
    },
    {
      "cell_type": "markdown",
      "metadata": {
        "id": "TT4kba6tc7WV"
      },
      "source": [
        "**PASSO 2:** Criar nosso modelo de regressão."
      ]
    },
    {
      "cell_type": "code",
      "execution_count": null,
      "metadata": {
        "colab": {
          "base_uri": "https://localhost:8080/",
          "height": 74
        },
        "id": "afgwFY53c_tO",
        "outputId": "8b8b0ca7-cd6f-49c3-c735-6ae60a98aef1"
      },
      "outputs": [
        {
          "data": {
            "text/html": [
              "<style>#sk-container-id-1 {color: black;background-color: white;}#sk-container-id-1 pre{padding: 0;}#sk-container-id-1 div.sk-toggleable {background-color: white;}#sk-container-id-1 label.sk-toggleable__label {cursor: pointer;display: block;width: 100%;margin-bottom: 0;padding: 0.3em;box-sizing: border-box;text-align: center;}#sk-container-id-1 label.sk-toggleable__label-arrow:before {content: \"▸\";float: left;margin-right: 0.25em;color: #696969;}#sk-container-id-1 label.sk-toggleable__label-arrow:hover:before {color: black;}#sk-container-id-1 div.sk-estimator:hover label.sk-toggleable__label-arrow:before {color: black;}#sk-container-id-1 div.sk-toggleable__content {max-height: 0;max-width: 0;overflow: hidden;text-align: left;background-color: #f0f8ff;}#sk-container-id-1 div.sk-toggleable__content pre {margin: 0.2em;color: black;border-radius: 0.25em;background-color: #f0f8ff;}#sk-container-id-1 input.sk-toggleable__control:checked~div.sk-toggleable__content {max-height: 200px;max-width: 100%;overflow: auto;}#sk-container-id-1 input.sk-toggleable__control:checked~label.sk-toggleable__label-arrow:before {content: \"▾\";}#sk-container-id-1 div.sk-estimator input.sk-toggleable__control:checked~label.sk-toggleable__label {background-color: #d4ebff;}#sk-container-id-1 div.sk-label input.sk-toggleable__control:checked~label.sk-toggleable__label {background-color: #d4ebff;}#sk-container-id-1 input.sk-hidden--visually {border: 0;clip: rect(1px 1px 1px 1px);clip: rect(1px, 1px, 1px, 1px);height: 1px;margin: -1px;overflow: hidden;padding: 0;position: absolute;width: 1px;}#sk-container-id-1 div.sk-estimator {font-family: monospace;background-color: #f0f8ff;border: 1px dotted black;border-radius: 0.25em;box-sizing: border-box;margin-bottom: 0.5em;}#sk-container-id-1 div.sk-estimator:hover {background-color: #d4ebff;}#sk-container-id-1 div.sk-parallel-item::after {content: \"\";width: 100%;border-bottom: 1px solid gray;flex-grow: 1;}#sk-container-id-1 div.sk-label:hover label.sk-toggleable__label {background-color: #d4ebff;}#sk-container-id-1 div.sk-serial::before {content: \"\";position: absolute;border-left: 1px solid gray;box-sizing: border-box;top: 0;bottom: 0;left: 50%;z-index: 0;}#sk-container-id-1 div.sk-serial {display: flex;flex-direction: column;align-items: center;background-color: white;padding-right: 0.2em;padding-left: 0.2em;position: relative;}#sk-container-id-1 div.sk-item {position: relative;z-index: 1;}#sk-container-id-1 div.sk-parallel {display: flex;align-items: stretch;justify-content: center;background-color: white;position: relative;}#sk-container-id-1 div.sk-item::before, #sk-container-id-1 div.sk-parallel-item::before {content: \"\";position: absolute;border-left: 1px solid gray;box-sizing: border-box;top: 0;bottom: 0;left: 50%;z-index: -1;}#sk-container-id-1 div.sk-parallel-item {display: flex;flex-direction: column;z-index: 1;position: relative;background-color: white;}#sk-container-id-1 div.sk-parallel-item:first-child::after {align-self: flex-end;width: 50%;}#sk-container-id-1 div.sk-parallel-item:last-child::after {align-self: flex-start;width: 50%;}#sk-container-id-1 div.sk-parallel-item:only-child::after {width: 0;}#sk-container-id-1 div.sk-dashed-wrapped {border: 1px dashed gray;margin: 0 0.4em 0.5em 0.4em;box-sizing: border-box;padding-bottom: 0.4em;background-color: white;}#sk-container-id-1 div.sk-label label {font-family: monospace;font-weight: bold;display: inline-block;line-height: 1.2em;}#sk-container-id-1 div.sk-label-container {text-align: center;}#sk-container-id-1 div.sk-container {/* jupyter's `normalize.less` sets `[hidden] { display: none; }` but bootstrap.min.css set `[hidden] { display: none !important; }` so we also need the `!important` here to be able to override the default hidden behavior on the sphinx rendered scikit-learn.org. See: https://github.com/scikit-learn/scikit-learn/issues/21755 */display: inline-block !important;position: relative;}#sk-container-id-1 div.sk-text-repr-fallback {display: none;}</style><div id=\"sk-container-id-1\" class=\"sk-top-container\"><div class=\"sk-text-repr-fallback\"><pre>LinearRegression()</pre><b>In a Jupyter environment, please rerun this cell to show the HTML representation or trust the notebook. <br />On GitHub, the HTML representation is unable to render, please try loading this page with nbviewer.org.</b></div><div class=\"sk-container\" hidden><div class=\"sk-item\"><div class=\"sk-estimator sk-toggleable\"><input class=\"sk-toggleable__control sk-hidden--visually\" id=\"sk-estimator-id-1\" type=\"checkbox\" checked><label for=\"sk-estimator-id-1\" class=\"sk-toggleable__label sk-toggleable__label-arrow\">LinearRegression</label><div class=\"sk-toggleable__content\"><pre>LinearRegression()</pre></div></div></div></div></div>"
            ],
            "text/plain": [
              "LinearRegression()"
            ]
          },
          "execution_count": 7,
          "metadata": {},
          "output_type": "execute_result"
        }
      ],
      "source": [
        "# Esta linha cria um objeto do tipo LinearRegression(), que será usado para representar nosso modelo de regressão linear.\n",
        "regressao_acessos_site = LinearRegression()\n",
        "\n",
        "regressao_acessos_site.fit(X,y)\n",
        "# O modelo aprende a relação entre as variáveis independentes (X) e a variável dependente (y).\n",
        "# Após a execução desta linha, o modelo estará pronto para fazer previsões."
      ]
    },
    {
      "cell_type": "code",
      "execution_count": null,
      "metadata": {
        "colab": {
          "base_uri": "https://localhost:8080/"
        },
        "id": "ML1Q09fddYTq",
        "outputId": "0401a8bb-561e-43ac-c4e8-94f5ebda8187"
      },
      "outputs": [
        {
          "data": {
            "text/plain": [
              "3.2414834387091105"
            ]
          },
          "execution_count": 8,
          "metadata": {},
          "output_type": "execute_result"
        }
      ],
      "source": [
        "#O regressao_acessos_site.intercept_ é um atributo do objeto de regressão linear que representa o coeficiente linear da equação\n",
        "regressao_acessos_site.intercept_"
      ]
    },
    {
      "cell_type": "code",
      "execution_count": null,
      "metadata": {
        "colab": {
          "base_uri": "https://localhost:8080/"
        },
        "id": "COp_oAIVdfVw",
        "outputId": "c7eeacb6-b3ba-481b-cb87-45ce5000781d"
      },
      "outputs": [
        {
          "data": {
            "text/plain": [
              "array([1.96451826])"
            ]
          },
          "execution_count": 9,
          "metadata": {},
          "output_type": "execute_result"
        }
      ],
      "source": [
        "# O regressao_acessos_site.coef_ é um atributo do objeto de regressão linear que representa os coeficientes das variáveis independentes na equação de regressão.\n",
        "regressao_acessos_site.coef_"
      ]
    },
    {
      "cell_type": "markdown",
      "metadata": {
        "id": "56Zsw8NJfEw-"
      },
      "source": [
        "Nossa equação seria:  **ACESSOS_SITE** = 3.2*(INVESTIMENTO) + 1.96"
      ]
    },
    {
      "cell_type": "markdown",
      "metadata": {
        "id": "aJFRqKUTrxtR"
      },
      "source": [
        "![image.png](data:image/png;base64,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)"
      ]
    },
    {
      "cell_type": "code",
      "execution_count": null,
      "metadata": {
        "colab": {
          "base_uri": "https://localhost:8080/"
        },
        "id": "wDMdrkc4dmEH",
        "outputId": "ac5a899a-6fa1-467e-bc0c-d65f8133e979"
      },
      "outputs": [
        {
          "data": {
            "text/plain": [
              "0.9976907966013683"
            ]
          },
          "execution_count": 10,
          "metadata": {},
          "output_type": "execute_result"
        }
      ],
      "source": [
        "regressao_acessos_site.score(X,y)"
      ]
    },
    {
      "cell_type": "markdown",
      "metadata": {
        "id": "cozNQTeRsNcx"
      },
      "source": [
        "Um coeficiente de determinação R2 de 0.997 indica que aproximadamente 99.7% da variação na variável dependente é explicada pelas variáveis independentes incluídas no modelo de regressão.\n",
        "Em outras palavras, isso significa que o modelo de regressão é altamente capaz de prever a variabilidade nos valores da variável dependente com base nas variáveis independentes. É um indicador muito forte de que o modelo se ajusta bem aos dados."
      ]
    },
    {
      "cell_type": "markdown",
      "metadata": {
        "id": "nNU8_Dj5sdlg"
      },
      "source": [
        "**PASSO 4:** Plotando nosso gráfico da reta de regressão.\n"
      ]
    },
    {
      "cell_type": "code",
      "execution_count": null,
      "metadata": {
        "colab": {
          "base_uri": "https://localhost:8080/",
          "height": 430
        },
        "id": "qoDjVLZBsqjs",
        "outputId": "70533c2a-5c80-4543-9e4f-2e1d9beefca7"
      },
      "outputs": [
        {
          "data": {
            "image/png": "[encoded data removed]",
            "text/plain": [
              "<Figure size 640x480 with 1 Axes>"
            ]
          },
          "metadata": {},
          "output_type": "display_data"
        }
      ],
      "source": [
        "import matplotlib.pyplot as plt\n",
        "\n",
        "# Plotar os dados originais\n",
        "plt.scatter(X, y, color='blue', label='Dados Originais')\n",
        "\n",
        "# Plotar a linha de regressão\n",
        "plt.plot(X, regressao_acessos_site.predict(X), color='red', label='Linha de Regressão')\n",
        "plt.legend()\n",
        "plt.show()"
      ]
    },
    {
      "cell_type": "markdown",
      "metadata": {
        "id": "USbSlkhpsw6V"
      },
      "source": [
        "**Passo 5:** Realizando Previsões."
      ]
    },
    {
      "cell_type": "markdown",
      "metadata": {
        "id": "h5nyV5wks1qM"
      },
      "source": [
        "Agora que avaliamos podemos tentar realizar uma previsão para um valor novo de investimento!"
      ]
    },
    {
      "cell_type": "code",
      "execution_count": null,
      "metadata": {
        "colab": {
          "base_uri": "https://localhost:8080/"
        },
        "id": "uVcQbjJGtM3B",
        "outputId": "dd9c304d-b679-4aee-969c-0fd4c8de31c4"
      },
      "outputs": [
        {
          "data": {
            "text/plain": [
              "array([199.69330943, 278.27403982, 297.91922242, 769.40360479,\n",
              "       690.8228744 , 307.74181372, 396.14513542])"
            ]
          },
          "execution_count": 12,
          "metadata": {},
          "output_type": "execute_result"
        }
      ],
      "source": [
        "previsoes = regressao_acessos_site.predict(X)\n",
        "previsoes"
      ]
    },
    {
      "cell_type": "markdown",
      "metadata": {
        "id": "YY_G-SQVtUD3"
      },
      "source": [
        "Aqui conseguimos visualizar todos os valores preditos e podemos comparar eles com os valores reais."
      ]
    },
    {
      "cell_type": "code",
      "execution_count": null,
      "metadata": {
        "colab": {
          "base_uri": "https://localhost:8080/"
        },
        "id": "0rBmlfn0tZCL",
        "outputId": "5d80d6ce-672e-4b0c-efb5-7261cf5fdcc8"
      },
      "outputs": [
        {
          "data": {
            "text/plain": [
              "0    200\n",
              "1    260\n",
              "2    300\n",
              "3    760\n",
              "4    700\n",
              "5    320\n",
              "6    400\n",
              "Name: Acessos_Site, dtype: int64"
            ]
          },
          "execution_count": 13,
          "metadata": {},
          "output_type": "execute_result"
        }
      ],
      "source": [
        "y"
      ]
    },
    {
      "cell_type": "markdown",
      "metadata": {
        "id": "TvnYjtMTtiZY"
      },
      "source": [
        "Determinando um valor para que seja feita a nova previsão:"
      ]
    },
    {
      "cell_type": "code",
      "execution_count": null,
      "metadata": {
        "colab": {
          "base_uri": "https://localhost:8080/"
        },
        "id": "zWqb8P_atlPk",
        "outputId": "44cfea34-351e-40b5-c730-cca9577b7a13"
      },
      "outputs": [
        {
          "name": "stdout",
          "output_type": "stream",
          "text": [
            "Previsão de acessos no site com investimento de 500 em publicidade: [985.50061338]\n"
          ]
        },
        {
          "name": "stderr",
          "output_type": "stream",
          "text": [
            "/usr/local/lib/python3.10/dist-packages/sklearn/base.py:439: UserWarning: X does not have valid feature names, but LinearRegression was fitted with feature names\n",
            "  warnings.warn(\n"
          ]
        }
      ],
      "source": [
        "investimento = [[500]]\n",
        "previsao_acessos = regressao_acessos_site.predict(investimento)\n",
        "print(\"Previsão de acessos no site com investimento de 500 em publicidade:\", previsao_acessos)"
      ]
    },
    {
      "cell_type": "markdown",
      "metadata": {},
      "source": [
        "## **Regressão Linear Multipla**"
      ]
    },
    {
      "cell_type": "code",
      "execution_count": null,
      "metadata": {
        "id": "KVk35FDW414i"
      },
      "outputs": [],
      "source": [
        "dados = {\n",
        "    'Investimento_Publicidade': [100, 140, 160, 390, 380, 245, 250, 140, 360],\n",
        "    'Impressao_Publicidade': [2050, 2500, 3350, 7500, 7120, 3650, 1985, 2150, 2100],\n",
        "    'Alcance_Publicidade': [1500, 2350, 2950, 7200, 6885, 2050, 1185, 1930, 1985 ],\n",
        "    'Curtidas_Publicidade': [200, 20, 100, 120, 125, 125, 90, 50, 55 ],\n",
        "    'Comentarios_Publicidade': [50, 15, 10, 45, 56, 60, 2, 15, 32],\n",
        "    'Acessos_Site': [200, 260, 320, 780, 700, 340, 425, 180, 200]\n",
        "}\n",
        "\n",
        "df = pd.DataFrame(dados)"
      ]
    },
    {
      "cell_type": "markdown",
      "metadata": {
        "id": "g9k0XuBe6-ba"
      },
      "source": [
        "**Passo 1**: Matriz de Correlação"
      ]
    },
    {
      "cell_type": "code",
      "execution_count": null,
      "metadata": {
        "id": "q-xBdIxg8C_E"
      },
      "outputs": [],
      "source": [
        "import pandas as pd\n",
        "import seaborn as sns\n",
        "import matplotlib.pyplot as plt"
      ]
    },
    {
      "cell_type": "code",
      "execution_count": null,
      "metadata": {
        "colab": {
          "base_uri": "https://localhost:8080/",
          "height": 863
        },
        "id": "BEsTRGtp74Of",
        "outputId": "b1448f2a-62df-48ae-9e0c-5a99dccae8d8"
      },
      "outputs": [
        {
          "data": {
            "image/png": "[encoded data removed]",
            "text/plain": [
              "<Figure size 1000x800 with 2 Axes>"
            ]
          },
          "metadata": {},
          "output_type": "display_data"
        }
      ],
      "source": [
        "df = pd.DataFrame(dados)\n",
        "\n",
        "# Calculando a matriz de correlação\n",
        "correlacao = df.corr()\n",
        "\n",
        "# Gráfico:\n",
        "plt.figure(figsize=(10, 8))\n",
        "sns.heatmap(correlacao, annot=True, cmap='coolwarm', fmt=\".2f\")\n",
        "plt.title('Gráfico de Correlação')\n",
        "plt.show()"
      ]
    },
    {
      "cell_type": "markdown",
      "metadata": {
        "id": "NfiiaGNQ9iR5"
      },
      "source": [
        "**PASSO 2:** Separando variável dependente de independentes."
      ]
    },
    {
      "cell_type": "code",
      "execution_count": null,
      "metadata": {
        "id": "fJ25WawG9h-H"
      },
      "outputs": [],
      "source": [
        "# Separar a variáveis independentes da variável dependente\n",
        "X = df[['Investimento_Publicidade', 'Impressao_Publicidade', 'Alcance_Publicidade','Curtidas_Publicidade','Comentarios_Publicidade']] # Variável independente (características)\n",
        "y = df['Acessos_Site']  # Variável dependente (rótulo)"
      ]
    },
    {
      "cell_type": "markdown",
      "metadata": {
        "id": "ylOGYbZ99LKC"
      },
      "source": [
        "**PASSO 3:** Regressão Linear Múltipla"
      ]
    },
    {
      "cell_type": "code",
      "execution_count": null,
      "metadata": {
        "id": "4lojQsdo9WUR"
      },
      "outputs": [],
      "source": [
        "from sklearn.linear_model import LinearRegression"
      ]
    },
    {
      "cell_type": "code",
      "execution_count": null,
      "metadata": {
        "colab": {
          "base_uri": "https://localhost:8080/",
          "height": 74
        },
        "id": "14P3UkAR95jO",
        "outputId": "9379772c-b1b7-4d0a-a780-bf8ad203b22a"
      },
      "outputs": [
        {
          "data": {
            "text/html": [
              "<style>#sk-container-id-2 {color: black;background-color: white;}#sk-container-id-2 pre{padding: 0;}#sk-container-id-2 div.sk-toggleable {background-color: white;}#sk-container-id-2 label.sk-toggleable__label {cursor: pointer;display: block;width: 100%;margin-bottom: 0;padding: 0.3em;box-sizing: border-box;text-align: center;}#sk-container-id-2 label.sk-toggleable__label-arrow:before {content: \"▸\";float: left;margin-right: 0.25em;color: #696969;}#sk-container-id-2 label.sk-toggleable__label-arrow:hover:before {color: black;}#sk-container-id-2 div.sk-estimator:hover label.sk-toggleable__label-arrow:before {color: black;}#sk-container-id-2 div.sk-toggleable__content {max-height: 0;max-width: 0;overflow: hidden;text-align: left;background-color: #f0f8ff;}#sk-container-id-2 div.sk-toggleable__content pre {margin: 0.2em;color: black;border-radius: 0.25em;background-color: #f0f8ff;}#sk-container-id-2 input.sk-toggleable__control:checked~div.sk-toggleable__content {max-height: 200px;max-width: 100%;overflow: auto;}#sk-container-id-2 input.sk-toggleable__control:checked~label.sk-toggleable__label-arrow:before {content: \"▾\";}#sk-container-id-2 div.sk-estimator input.sk-toggleable__control:checked~label.sk-toggleable__label {background-color: #d4ebff;}#sk-container-id-2 div.sk-label input.sk-toggleable__control:checked~label.sk-toggleable__label {background-color: #d4ebff;}#sk-container-id-2 input.sk-hidden--visually {border: 0;clip: rect(1px 1px 1px 1px);clip: rect(1px, 1px, 1px, 1px);height: 1px;margin: -1px;overflow: hidden;padding: 0;position: absolute;width: 1px;}#sk-container-id-2 div.sk-estimator {font-family: monospace;background-color: #f0f8ff;border: 1px dotted black;border-radius: 0.25em;box-sizing: border-box;margin-bottom: 0.5em;}#sk-container-id-2 div.sk-estimator:hover {background-color: #d4ebff;}#sk-container-id-2 div.sk-parallel-item::after {content: \"\";width: 100%;border-bottom: 1px solid gray;flex-grow: 1;}#sk-container-id-2 div.sk-label:hover label.sk-toggleable__label {background-color: #d4ebff;}#sk-container-id-2 div.sk-serial::before {content: \"\";position: absolute;border-left: 1px solid gray;box-sizing: border-box;top: 0;bottom: 0;left: 50%;z-index: 0;}#sk-container-id-2 div.sk-serial {display: flex;flex-direction: column;align-items: center;background-color: white;padding-right: 0.2em;padding-left: 0.2em;position: relative;}#sk-container-id-2 div.sk-item {position: relative;z-index: 1;}#sk-container-id-2 div.sk-parallel {display: flex;align-items: stretch;justify-content: center;background-color: white;position: relative;}#sk-container-id-2 div.sk-item::before, #sk-container-id-2 div.sk-parallel-item::before {content: \"\";position: absolute;border-left: 1px solid gray;box-sizing: border-box;top: 0;bottom: 0;left: 50%;z-index: -1;}#sk-container-id-2 div.sk-parallel-item {display: flex;flex-direction: column;z-index: 1;position: relative;background-color: white;}#sk-container-id-2 div.sk-parallel-item:first-child::after {align-self: flex-end;width: 50%;}#sk-container-id-2 div.sk-parallel-item:last-child::after {align-self: flex-start;width: 50%;}#sk-container-id-2 div.sk-parallel-item:only-child::after {width: 0;}#sk-container-id-2 div.sk-dashed-wrapped {border: 1px dashed gray;margin: 0 0.4em 0.5em 0.4em;box-sizing: border-box;padding-bottom: 0.4em;background-color: white;}#sk-container-id-2 div.sk-label label {font-family: monospace;font-weight: bold;display: inline-block;line-height: 1.2em;}#sk-container-id-2 div.sk-label-container {text-align: center;}#sk-container-id-2 div.sk-container {/* jupyter's `normalize.less` sets `[hidden] { display: none; }` but bootstrap.min.css set `[hidden] { display: none !important; }` so we also need the `!important` here to be able to override the default hidden behavior on the sphinx rendered scikit-learn.org. See: https://github.com/scikit-learn/scikit-learn/issues/21755 */display: inline-block !important;position: relative;}#sk-container-id-2 div.sk-text-repr-fallback {display: none;}</style><div id=\"sk-container-id-2\" class=\"sk-top-container\"><div class=\"sk-text-repr-fallback\"><pre>LinearRegression()</pre><b>In a Jupyter environment, please rerun this cell to show the HTML representation or trust the notebook. <br />On GitHub, the HTML representation is unable to render, please try loading this page with nbviewer.org.</b></div><div class=\"sk-container\" hidden><div class=\"sk-item\"><div class=\"sk-estimator sk-toggleable\"><input class=\"sk-toggleable__control sk-hidden--visually\" id=\"sk-estimator-id-2\" type=\"checkbox\" checked><label for=\"sk-estimator-id-2\" class=\"sk-toggleable__label sk-toggleable__label-arrow\">LinearRegression</label><div class=\"sk-toggleable__content\"><pre>LinearRegression()</pre></div></div></div></div></div>"
            ],
            "text/plain": [
              "LinearRegression()"
            ]
          },
          "execution_count": 20,
          "metadata": {},
          "output_type": "execute_result"
        }
      ],
      "source": [
        "regressao_multipla = LinearRegression()\n",
        "regressao_multipla.fit(X,y)"
      ]
    },
    {
      "cell_type": "code",
      "execution_count": null,
      "metadata": {
        "colab": {
          "base_uri": "https://localhost:8080/"
        },
        "id": "gmw-21oO-E6Q",
        "outputId": "6d404dde-aa92-4074-ac73-d060ce57c347"
      },
      "outputs": [
        {
          "data": {
            "text/plain": [
              "-64.94928139143968"
            ]
          },
          "execution_count": 21,
          "metadata": {},
          "output_type": "execute_result"
        }
      ],
      "source": [
        "regressao_multipla.intercept_"
      ]
    },
    {
      "cell_type": "code",
      "execution_count": null,
      "metadata": {
        "colab": {
          "base_uri": "https://localhost:8080/"
        },
        "id": "yj6Myg5_-Jw6",
        "outputId": "cd8a1e8d-a86a-42b4-a1d8-48e77af8ec99"
      },
      "outputs": [
        {
          "data": {
            "text/plain": [
              "array([ 0.49994145,  0.15807149, -0.06342447,  0.88733161, -4.28884168])"
            ]
          },
          "execution_count": 22,
          "metadata": {},
          "output_type": "execute_result"
        }
      ],
      "source": [
        "regressao_multipla.coef_"
      ]
    },
    {
      "cell_type": "markdown",
      "metadata": {
        "id": "LtM91W-M_R8L"
      },
      "source": [
        "Esses coeficientes indicam o impacto relativo de cada variável independente na variável dependente, assumindo que todas as outras variáveis permaneçam constantes. Coeficientes positivos indicam uma relação positiva (aumento em uma variável está associado a um aumento na variável dependente), enquanto coeficientes negativos indicam uma relação negativa.\n",
        "Em geral, um coeficiente maior em magnitude indica uma maior influência da variável independente na variável dependente, todas as outras variáveis sendo mantidas constantes."
      ]
    },
    {
      "cell_type": "markdown",
      "metadata": {
        "id": "FYHnFepk-PmF"
      },
      "source": [
        "**PASSO 4:** Avaliação do Modelo"
      ]
    },
    {
      "cell_type": "code",
      "execution_count": null,
      "metadata": {
        "colab": {
          "base_uri": "https://localhost:8080/"
        },
        "id": "5CEwJfQ9-SeD",
        "outputId": "ea15f9be-1e61-488b-fd57-db03ff7022b2"
      },
      "outputs": [
        {
          "data": {
            "text/plain": [
              "0.9594366953873273"
            ]
          },
          "execution_count": 23,
          "metadata": {},
          "output_type": "execute_result"
        }
      ],
      "source": [
        "regressao_multipla.score(X,y)"
      ]
    },
    {
      "cell_type": "markdown",
      "metadata": {
        "id": "m5O9y2YL-gKv"
      },
      "source": [
        "Sempre que estivermos na etapa de avaliação do modelo devemos ir além de apenas plotar os valores. Precisamos trazer nem que seja breve, um insight.\n",
        "Um coeficiente de determinação r quadrado de 0.95 indica que aproximadamente 95% da variação na variável dependente é explicada pelas variáveis independentes incluídas no modelo de regressão linear.Isso é geralmente considerado um resultado muito bom e sugere que o modelo se ajusta excepcionalmente bem aos dados."
      ]
    },
    {
      "cell_type": "markdown",
      "metadata": {
        "id": "Rtpjo7jZ-9ZT"
      },
      "source": [
        "No caso da regressão linear múltipla, onde temos mais de uma variavel independente como forma de avaliação podemos ir além do r quadrado e avaliar quais são nossas features (variáveis independentes) de maior valor."
      ]
    },
    {
      "cell_type": "markdown",
      "metadata": {
        "id": "wnrPj4LCIDjn"
      },
      "source": [
        "**Exemplo 1:**\n",
        "Vamos rodar nosso modelo apenas com as variáveis de menor correlação:"
      ]
    },
    {
      "cell_type": "code",
      "execution_count": null,
      "metadata": {
        "id": "vMudTaK8IK65"
      },
      "outputs": [],
      "source": [
        "X = df[['Curtidas_Publicidade','Comentarios_Publicidade']] # Variável independente (características)\n",
        "y = df['Acessos_Site']  # Variável dependente (rótulo)"
      ]
    },
    {
      "cell_type": "code",
      "execution_count": null,
      "metadata": {
        "colab": {
          "base_uri": "https://localhost:8080/",
          "height": 74
        },
        "id": "9OlN2_A0IPZd",
        "outputId": "3e232471-4883-4567-b6cd-4636fd134b40"
      },
      "outputs": [
        {
          "data": {
            "text/html": [
              "<style>#sk-container-id-3 {color: black;background-color: white;}#sk-container-id-3 pre{padding: 0;}#sk-container-id-3 div.sk-toggleable {background-color: white;}#sk-container-id-3 label.sk-toggleable__label {cursor: pointer;display: block;width: 100%;margin-bottom: 0;padding: 0.3em;box-sizing: border-box;text-align: center;}#sk-container-id-3 label.sk-toggleable__label-arrow:before {content: \"▸\";float: left;margin-right: 0.25em;color: #696969;}#sk-container-id-3 label.sk-toggleable__label-arrow:hover:before {color: black;}#sk-container-id-3 div.sk-estimator:hover label.sk-toggleable__label-arrow:before {color: black;}#sk-container-id-3 div.sk-toggleable__content {max-height: 0;max-width: 0;overflow: hidden;text-align: left;background-color: #f0f8ff;}#sk-container-id-3 div.sk-toggleable__content pre {margin: 0.2em;color: black;border-radius: 0.25em;background-color: #f0f8ff;}#sk-container-id-3 input.sk-toggleable__control:checked~div.sk-toggleable__content {max-height: 200px;max-width: 100%;overflow: auto;}#sk-container-id-3 input.sk-toggleable__control:checked~label.sk-toggleable__label-arrow:before {content: \"▾\";}#sk-container-id-3 div.sk-estimator input.sk-toggleable__control:checked~label.sk-toggleable__label {background-color: #d4ebff;}#sk-container-id-3 div.sk-label input.sk-toggleable__control:checked~label.sk-toggleable__label {background-color: #d4ebff;}#sk-container-id-3 input.sk-hidden--visually {border: 0;clip: rect(1px 1px 1px 1px);clip: rect(1px, 1px, 1px, 1px);height: 1px;margin: -1px;overflow: hidden;padding: 0;position: absolute;width: 1px;}#sk-container-id-3 div.sk-estimator {font-family: monospace;background-color: #f0f8ff;border: 1px dotted black;border-radius: 0.25em;box-sizing: border-box;margin-bottom: 0.5em;}#sk-container-id-3 div.sk-estimator:hover {background-color: #d4ebff;}#sk-container-id-3 div.sk-parallel-item::after {content: \"\";width: 100%;border-bottom: 1px solid gray;flex-grow: 1;}#sk-container-id-3 div.sk-label:hover label.sk-toggleable__label {background-color: #d4ebff;}#sk-container-id-3 div.sk-serial::before {content: \"\";position: absolute;border-left: 1px solid gray;box-sizing: border-box;top: 0;bottom: 0;left: 50%;z-index: 0;}#sk-container-id-3 div.sk-serial {display: flex;flex-direction: column;align-items: center;background-color: white;padding-right: 0.2em;padding-left: 0.2em;position: relative;}#sk-container-id-3 div.sk-item {position: relative;z-index: 1;}#sk-container-id-3 div.sk-parallel {display: flex;align-items: stretch;justify-content: center;background-color: white;position: relative;}#sk-container-id-3 div.sk-item::before, #sk-container-id-3 div.sk-parallel-item::before {content: \"\";position: absolute;border-left: 1px solid gray;box-sizing: border-box;top: 0;bottom: 0;left: 50%;z-index: -1;}#sk-container-id-3 div.sk-parallel-item {display: flex;flex-direction: column;z-index: 1;position: relative;background-color: white;}#sk-container-id-3 div.sk-parallel-item:first-child::after {align-self: flex-end;width: 50%;}#sk-container-id-3 div.sk-parallel-item:last-child::after {align-self: flex-start;width: 50%;}#sk-container-id-3 div.sk-parallel-item:only-child::after {width: 0;}#sk-container-id-3 div.sk-dashed-wrapped {border: 1px dashed gray;margin: 0 0.4em 0.5em 0.4em;box-sizing: border-box;padding-bottom: 0.4em;background-color: white;}#sk-container-id-3 div.sk-label label {font-family: monospace;font-weight: bold;display: inline-block;line-height: 1.2em;}#sk-container-id-3 div.sk-label-container {text-align: center;}#sk-container-id-3 div.sk-container {/* jupyter's `normalize.less` sets `[hidden] { display: none; }` but bootstrap.min.css set `[hidden] { display: none !important; }` so we also need the `!important` here to be able to override the default hidden behavior on the sphinx rendered scikit-learn.org. See: https://github.com/scikit-learn/scikit-learn/issues/21755 */display: inline-block !important;position: relative;}#sk-container-id-3 div.sk-text-repr-fallback {display: none;}</style><div id=\"sk-container-id-3\" class=\"sk-top-container\"><div class=\"sk-text-repr-fallback\"><pre>LinearRegression()</pre><b>In a Jupyter environment, please rerun this cell to show the HTML representation or trust the notebook. <br />On GitHub, the HTML representation is unable to render, please try loading this page with nbviewer.org.</b></div><div class=\"sk-container\" hidden><div class=\"sk-item\"><div class=\"sk-estimator sk-toggleable\"><input class=\"sk-toggleable__control sk-hidden--visually\" id=\"sk-estimator-id-3\" type=\"checkbox\" checked><label for=\"sk-estimator-id-3\" class=\"sk-toggleable__label sk-toggleable__label-arrow\">LinearRegression</label><div class=\"sk-toggleable__content\"><pre>LinearRegression()</pre></div></div></div></div></div>"
            ],
            "text/plain": [
              "LinearRegression()"
            ]
          },
          "execution_count": 25,
          "metadata": {},
          "output_type": "execute_result"
        }
      ],
      "source": [
        "regressao_exemplo1 = LinearRegression()\n",
        "regressao_exemplo1.fit(X,y)"
      ]
    },
    {
      "cell_type": "code",
      "execution_count": null,
      "metadata": {
        "colab": {
          "base_uri": "https://localhost:8080/"
        },
        "id": "cZX4ZcRdIP5a",
        "outputId": "e7c1c4fa-2137-4555-8d34-8dc52233998c"
      },
      "outputs": [
        {
          "data": {
            "text/plain": [
              "0.1322543321976144"
            ]
          },
          "execution_count": 26,
          "metadata": {},
          "output_type": "execute_result"
        }
      ],
      "source": [
        "regressao_exemplo1.score(X,y)"
      ]
    },
    {
      "cell_type": "markdown",
      "metadata": {
        "id": "7baVsHlsIXAX"
      },
      "source": [
        "Vemos que se nosso modelo fosse regido apenas por essas variáveis a avaliação seria bem baixa."
      ]
    },
    {
      "cell_type": "markdown",
      "metadata": {
        "id": "PGvBnw7hIfOQ"
      },
      "source": [
        "**Exemplo 2:**\n",
        "Vamos rodar nosso modelo apenas com as variáveis de MAIOR correlação:"
      ]
    },
    {
      "cell_type": "code",
      "execution_count": null,
      "metadata": {
        "id": "wsDcXjLyIetG"
      },
      "outputs": [],
      "source": [
        "X = df[['Investimento_Publicidade', 'Impressao_Publicidade', 'Alcance_Publicidade']] # Variável independente (características)\n",
        "y = df['Acessos_Site']  # Variável dependente (rótulo)"
      ]
    },
    {
      "cell_type": "code",
      "execution_count": null,
      "metadata": {
        "colab": {
          "base_uri": "https://localhost:8080/",
          "height": 74
        },
        "id": "q1qc1UxeImLf",
        "outputId": "f0158976-cec3-4362-e4f6-ce224e50ab01"
      },
      "outputs": [
        {
          "data": {
            "text/html": [
              "<style>#sk-container-id-4 {color: black;background-color: white;}#sk-container-id-4 pre{padding: 0;}#sk-container-id-4 div.sk-toggleable {background-color: white;}#sk-container-id-4 label.sk-toggleable__label {cursor: pointer;display: block;width: 100%;margin-bottom: 0;padding: 0.3em;box-sizing: border-box;text-align: center;}#sk-container-id-4 label.sk-toggleable__label-arrow:before {content: \"▸\";float: left;margin-right: 0.25em;color: #696969;}#sk-container-id-4 label.sk-toggleable__label-arrow:hover:before {color: black;}#sk-container-id-4 div.sk-estimator:hover label.sk-toggleable__label-arrow:before {color: black;}#sk-container-id-4 div.sk-toggleable__content {max-height: 0;max-width: 0;overflow: hidden;text-align: left;background-color: #f0f8ff;}#sk-container-id-4 div.sk-toggleable__content pre {margin: 0.2em;color: black;border-radius: 0.25em;background-color: #f0f8ff;}#sk-container-id-4 input.sk-toggleable__control:checked~div.sk-toggleable__content {max-height: 200px;max-width: 100%;overflow: auto;}#sk-container-id-4 input.sk-toggleable__control:checked~label.sk-toggleable__label-arrow:before {content: \"▾\";}#sk-container-id-4 div.sk-estimator input.sk-toggleable__control:checked~label.sk-toggleable__label {background-color: #d4ebff;}#sk-container-id-4 div.sk-label input.sk-toggleable__control:checked~label.sk-toggleable__label {background-color: #d4ebff;}#sk-container-id-4 input.sk-hidden--visually {border: 0;clip: rect(1px 1px 1px 1px);clip: rect(1px, 1px, 1px, 1px);height: 1px;margin: -1px;overflow: hidden;padding: 0;position: absolute;width: 1px;}#sk-container-id-4 div.sk-estimator {font-family: monospace;background-color: #f0f8ff;border: 1px dotted black;border-radius: 0.25em;box-sizing: border-box;margin-bottom: 0.5em;}#sk-container-id-4 div.sk-estimator:hover {background-color: #d4ebff;}#sk-container-id-4 div.sk-parallel-item::after {content: \"\";width: 100%;border-bottom: 1px solid gray;flex-grow: 1;}#sk-container-id-4 div.sk-label:hover label.sk-toggleable__label {background-color: #d4ebff;}#sk-container-id-4 div.sk-serial::before {content: \"\";position: absolute;border-left: 1px solid gray;box-sizing: border-box;top: 0;bottom: 0;left: 50%;z-index: 0;}#sk-container-id-4 div.sk-serial {display: flex;flex-direction: column;align-items: center;background-color: white;padding-right: 0.2em;padding-left: 0.2em;position: relative;}#sk-container-id-4 div.sk-item {position: relative;z-index: 1;}#sk-container-id-4 div.sk-parallel {display: flex;align-items: stretch;justify-content: center;background-color: white;position: relative;}#sk-container-id-4 div.sk-item::before, #sk-container-id-4 div.sk-parallel-item::before {content: \"\";position: absolute;border-left: 1px solid gray;box-sizing: border-box;top: 0;bottom: 0;left: 50%;z-index: -1;}#sk-container-id-4 div.sk-parallel-item {display: flex;flex-direction: column;z-index: 1;position: relative;background-color: white;}#sk-container-id-4 div.sk-parallel-item:first-child::after {align-self: flex-end;width: 50%;}#sk-container-id-4 div.sk-parallel-item:last-child::after {align-self: flex-start;width: 50%;}#sk-container-id-4 div.sk-parallel-item:only-child::after {width: 0;}#sk-container-id-4 div.sk-dashed-wrapped {border: 1px dashed gray;margin: 0 0.4em 0.5em 0.4em;box-sizing: border-box;padding-bottom: 0.4em;background-color: white;}#sk-container-id-4 div.sk-label label {font-family: monospace;font-weight: bold;display: inline-block;line-height: 1.2em;}#sk-container-id-4 div.sk-label-container {text-align: center;}#sk-container-id-4 div.sk-container {/* jupyter's `normalize.less` sets `[hidden] { display: none; }` but bootstrap.min.css set `[hidden] { display: none !important; }` so we also need the `!important` here to be able to override the default hidden behavior on the sphinx rendered scikit-learn.org. See: https://github.com/scikit-learn/scikit-learn/issues/21755 */display: inline-block !important;position: relative;}#sk-container-id-4 div.sk-text-repr-fallback {display: none;}</style><div id=\"sk-container-id-4\" class=\"sk-top-container\"><div class=\"sk-text-repr-fallback\"><pre>LinearRegression()</pre><b>In a Jupyter environment, please rerun this cell to show the HTML representation or trust the notebook. <br />On GitHub, the HTML representation is unable to render, please try loading this page with nbviewer.org.</b></div><div class=\"sk-container\" hidden><div class=\"sk-item\"><div class=\"sk-estimator sk-toggleable\"><input class=\"sk-toggleable__control sk-hidden--visually\" id=\"sk-estimator-id-4\" type=\"checkbox\" checked><label for=\"sk-estimator-id-4\" class=\"sk-toggleable__label sk-toggleable__label-arrow\">LinearRegression</label><div class=\"sk-toggleable__content\"><pre>LinearRegression()</pre></div></div></div></div></div>"
            ],
            "text/plain": [
              "LinearRegression()"
            ]
          },
          "execution_count": 28,
          "metadata": {},
          "output_type": "execute_result"
        }
      ],
      "source": [
        "regressao_exemplo2 = LinearRegression()\n",
        "regressao_exemplo2.fit(X,y)"
      ]
    },
    {
      "cell_type": "code",
      "execution_count": null,
      "metadata": {
        "colab": {
          "base_uri": "https://localhost:8080/"
        },
        "id": "mGO_zwVcIoNq",
        "outputId": "01957e7f-ec6f-4b6f-8b19-516901acfdc5"
      },
      "outputs": [
        {
          "data": {
            "text/plain": [
              "0.8869418276783738"
            ]
          },
          "execution_count": 29,
          "metadata": {},
          "output_type": "execute_result"
        }
      ],
      "source": [
        "regressao_exemplo2.score(X,y)"
      ]
    },
    {
      "cell_type": "markdown",
      "metadata": {
        "id": "k_v_6JHxKFkO"
      },
      "source": [
        "Nós entendemos que para o exemplo dado, mesmo que tenhamos variáveis com menor correlação, elas contribuiem para um modelo com maior R quadrado. Isso se dá pois:\n",
        "\n",
        "* Mesmo que essas variáveis tenham uma baixa correlação linear com a variável dependente, elas podem contribuir de forma não linear para a previsão.\n",
        "* As variáveis com baixa correlação podem fornecer informações únicas que não são capturadas pelas variáveis altamente correlacionadas.\n",
        "* Variáveis com baixa correlação podem adicionar algum \"ruído\" aos dados, mas esse ruído pode ser útil para prever a variável dependente em certos casos."
      ]
    },
    {
      "cell_type": "markdown",
      "metadata": {
        "id": "HnY1g2Z2Kpgh"
      },
      "source": [
        "Ou seja, cada caso é um caso e necessita ser analisado."
      ]
    },
    {
      "cell_type": "markdown",
      "metadata": {
        "id": "ywkZg_r7LiJT"
      },
      "source": [
        "## Regressão Linear Múltipla - Stats Models"
      ]
    },
    {
      "cell_type": "markdown",
      "metadata": {
        "id": "5LnKS6skKuom"
      },
      "source": [
        "**Stats Model:**\n",
        "Para finalizar nosso modulo de regressão, vamos utilizar a biblioteca Stats Model para fazer o mesmo processo da modelagem.\n",
        "A vantagem nesse caso é que ao rodar nosso modelo essa biblioteca nós traz mais métricas estatísticas que nos ajudam a interpretar os resultados."
      ]
    },
    {
      "cell_type": "code",
      "execution_count": null,
      "metadata": {
        "id": "TG0DWWGIVz2f"
      },
      "outputs": [],
      "source": [
        "dados = {\n",
        "    'Investimento_Publicidade': [100, 140, 160, 390, 380, 245, 250, 140, 360],\n",
        "    'Impressao_Publicidade': [2050, 2500, 3350, 7500, 7120, 3650, 1985, 2150, 2100],\n",
        "    'Alcance_Publicidade': [1500, 2350, 2950, 7200, 6885, 2050, 1185, 1930, 1985 ],\n",
        "    'Curtidas_Publicidade': [200, 20, 100, 120, 125, 125, 90, 50, 55 ],\n",
        "    'Comentarios_Publicidade': [50, 15, 10, 45, 56, 60, 2, 15, 32],\n",
        "    'Acessos_Site': [200, 260, 320, 780, 700, 340, 425, 180, 200]\n",
        "}\n",
        "\n",
        "df = pd.DataFrame(dados)"
      ]
    },
    {
      "cell_type": "code",
      "execution_count": null,
      "metadata": {
        "id": "vGZxXKo4LzfG"
      },
      "outputs": [],
      "source": [
        "# Separar a variáveis independentes da variável dependente\n",
        "X = df[['Investimento_Publicidade', 'Impressao_Publicidade', 'Alcance_Publicidade','Curtidas_Publicidade','Comentarios_Publicidade']] # Variável independente (características)\n",
        "y = df['Acessos_Site']  # Variável dependente (rótulo)"
      ]
    },
    {
      "cell_type": "code",
      "execution_count": null,
      "metadata": {
        "id": "Wr6_VFFpL70V"
      },
      "outputs": [],
      "source": [
        "import statsmodels.api as sm"
      ]
    },
    {
      "cell_type": "code",
      "execution_count": null,
      "metadata": {
        "colab": {
          "base_uri": "https://localhost:8080/"
        },
        "id": "u4c_xwfGL0ee",
        "outputId": "e6f313a2-cbcd-4efb-8ad8-789a7f2d1fa6"
      },
      "outputs": [
        {
          "name": "stdout",
          "output_type": "stream",
          "text": [
            "                            OLS Regression Results                            \n",
            "==============================================================================\n",
            "Dep. Variable:           Acessos_Site   R-squared:                       0.959\n",
            "Model:                            OLS   Adj. R-squared:                  0.892\n",
            "Method:                 Least Squares   F-statistic:                     14.19\n",
            "Date:                Sun, 07 Apr 2024   Prob (F-statistic):             0.0267\n",
            "Time:                        20:54:08   Log-Likelihood:                -46.380\n",
            "No. Observations:                   9   AIC:                             104.8\n",
            "Df Residuals:                       3   BIC:                             105.9\n",
            "Df Model:                           5                                         \n",
            "Covariance Type:            nonrobust                                         \n",
            "============================================================================================\n",
            "                               coef    std err          t      P>|t|      [0.025      0.975]\n",
            "--------------------------------------------------------------------------------------------\n",
            "const                      -64.9493     81.119     -0.801      0.482    -323.106     193.208\n",
            "Investimento_Publicidade     0.4999      0.338      1.481      0.235      -0.574       1.574\n",
            "Impressao_Publicidade        0.1581      0.071      2.234      0.112      -0.067       0.383\n",
            "Alcance_Publicidade         -0.0634      0.063     -1.004      0.389      -0.264       0.138\n",
            "Curtidas_Publicidade         0.8873      0.688      1.290      0.288      -1.302       3.077\n",
            "Comentarios_Publicidade     -4.2888      1.853     -2.315      0.104     -10.185       1.608\n",
            "==============================================================================\n",
            "Omnibus:                        0.622   Durbin-Watson:                   2.614\n",
            "Prob(Omnibus):                  0.733   Jarque-Bera (JB):                0.364\n",
            "Skew:                          -0.420   Prob(JB):                        0.834\n",
            "Kurtosis:                       2.485   Cond. No.                     1.88e+04\n",
            "==============================================================================\n",
            "\n",
            "Notes:\n",
            "[1] Standard Errors assume that the covariance matrix of the errors is correctly specified.\n",
            "[2] The condition number is large, 1.88e+04. This might indicate that there are\n",
            "strong multicollinearity or other numerical problems.\n"
          ]
        },
        {
          "name": "stderr",
          "output_type": "stream",
          "text": [
            "/usr/local/lib/python3.10/dist-packages/scipy/stats/_stats_py.py:1806: UserWarning: kurtosistest only valid for n>=20 ... continuing anyway, n=9\n",
            "  warnings.warn(\"kurtosistest only valid for n>=20 ... continuing \"\n"
          ]
        }
      ],
      "source": [
        "# Adicionando uma constante ao conjunto de dados para estimar o termo de interceptação\n",
        "X = sm.add_constant(X)\n",
        "\n",
        "# Criando o modelo de regressão linear múltipla --- (Ordinary Least Squares, Minimos Quadrados Ordinários)\n",
        "modelo_stats = sm.OLS(y, X)\n",
        "\n",
        "# Ajustando o modelo aos dados\n",
        "resultado_stats = modelo_stats.fit()\n",
        "\n",
        "# Exibir os resultados da regressão\n",
        "print(resultado_stats.summary())"
      ]
    },
    {
      "cell_type": "markdown",
      "metadata": {
        "id": "2d8gcXOPL-Zo"
      },
      "source": [
        "Notem que esse formato de visulização nos traz diversas métricas, algumas delas nos aprofundaremos mais a frente durante o curso mas já podemos retirar novos insights."
      ]
    },
    {
      "cell_type": "markdown",
      "metadata": {
        "id": "NXVTQKwTMSku"
      },
      "source": [
        "* Adj. R-squared: (R quadrado ajustado) versão ajustada do coeficiente de determinação r2que leva em consideração o número de variáveis independentes no modelo. Enquanto o r2 comum mede a proporção de variabilidade na variável dependente explicada pelas variáveis independentes no modelo, o r2 ajustado penaliza o r2 por cada variável independente adicionada ao modelo, levando em conta o grau de liberdade.\n",
        "\n",
        "* Prob (F-statistic): É a probabilidade associada ao valor da estatística F do teste de significância global do modelo. No contexto da regressão linear, o teste F é usado para determinar se pelo menos uma das variáveis independentes no modelo tem um efeito estatisticamente significativo na variável dependente.Em geral, se o valor Prob (F-statistic) for menor que um nível de significância escolhido (por exemplo, 0.05), podemos rejeitar a hipótese nula e concluir que pelo menos uma das variáveis independentes tem um efeito significativo na variável dependente.\n"
      ]
    },
    {
      "cell_type": "code",
      "execution_count": null,
      "metadata": {
        "id": "Zv_xl4JPOr_z"
      },
      "outputs": [],
      "source": [
        "# Separar a variáveis independentes da variável dependente\n",
        "X_1 = df[['Investimento_Publicidade', 'Impressao_Publicidade', 'Alcance_Publicidade']] # Variável independente (características)\n",
        "y = df['Acessos_Site']  # Variável dependente (rótulo)"
      ]
    },
    {
      "cell_type": "code",
      "execution_count": null,
      "metadata": {
        "colab": {
          "base_uri": "https://localhost:8080/"
        },
        "id": "lvYxkwQJOzRf",
        "outputId": "0739200a-57db-42c6-859e-8961a65397c7"
      },
      "outputs": [
        {
          "name": "stdout",
          "output_type": "stream",
          "text": [
            "                            OLS Regression Results                            \n",
            "==============================================================================\n",
            "Dep. Variable:           Acessos_Site   R-squared:                       0.887\n",
            "Model:                            OLS   Adj. R-squared:                  0.819\n",
            "Method:                 Least Squares   F-statistic:                     13.08\n",
            "Date:                Sun, 07 Apr 2024   Prob (F-statistic):            0.00839\n",
            "Time:                        20:54:08   Log-Likelihood:                -50.992\n",
            "No. Observations:                   9   AIC:                             110.0\n",
            "Df Residuals:                       5   BIC:                             110.8\n",
            "Df Model:                           3                                         \n",
            "Covariance Type:            nonrobust                                         \n",
            "============================================================================================\n",
            "                               coef    std err          t      P>|t|      [0.025      0.975]\n",
            "--------------------------------------------------------------------------------------------\n",
            "const                      -10.9520     87.896     -0.125      0.906    -236.897     214.993\n",
            "Investimento_Publicidade     0.3100      0.407      0.762      0.480      -0.735       1.355\n",
            "Impressao_Publicidade        0.1121      0.075      1.496      0.195      -0.080       0.305\n",
            "Alcance_Publicidade         -0.0285      0.071     -0.402      0.704      -0.211       0.154\n",
            "==============================================================================\n",
            "Omnibus:                        8.534   Durbin-Watson:                   2.608\n",
            "Prob(Omnibus):                  0.014   Jarque-Bera (JB):                3.040\n",
            "Skew:                           1.285   Prob(JB):                        0.219\n",
            "Kurtosis:                       4.225   Cond. No.                     1.58e+04\n",
            "==============================================================================\n",
            "\n",
            "Notes:\n",
            "[1] Standard Errors assume that the covariance matrix of the errors is correctly specified.\n",
            "[2] The condition number is large, 1.58e+04. This might indicate that there are\n",
            "strong multicollinearity or other numerical problems.\n"
          ]
        },
        {
          "name": "stderr",
          "output_type": "stream",
          "text": [
            "/usr/local/lib/python3.10/dist-packages/scipy/stats/_stats_py.py:1806: UserWarning: kurtosistest only valid for n>=20 ... continuing anyway, n=9\n",
            "  warnings.warn(\"kurtosistest only valid for n>=20 ... continuing \"\n"
          ]
        }
      ],
      "source": [
        "X_1 = sm.add_constant(X_1)\n",
        "modelo_stats_ex1 = sm.OLS(y_1, X_1)\n",
        "resultado_stats_ex1 = modelo_stats_ex1.fit()\n",
        "print(resultado_stats_ex1.summary())"
      ]
    },
    {
      "cell_type": "markdown",
      "metadata": {
        "id": "Oy3BLf6WPZaN"
      },
      "source": [
        "Notamos que apesar da queda do R2, temos um aumento no Prob (F-statistic) que demonstra que as variáveis parecem ter um efeito estatístico maior na variável independente."
      ]
    }
  ],
  "metadata": {
    "colab": {
      "provenance": []
    },
    "kernelspec": {
      "display_name": "Python 3 (ipykernel)",
      "language": "python",
      "name": "python3"
    },
    "language_info": {
      "codemirror_mode": {
        "name": "ipython",
        "version": 3
      },
      "file_extension": ".py",
      "mimetype": "text/x-python",
      "name": "python",
      "nbconvert_exporter": "python",
      "pygments_lexer": "ipython3",
      "version": "3.11.7"
    }
  },
  "nbformat": 4,
  "nbformat_minor": 0
}
