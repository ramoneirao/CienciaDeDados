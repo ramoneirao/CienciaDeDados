{
 "cells": [
  {
   "cell_type": "markdown",
   "metadata": {
    "id": "1OirkvkeGuGg"
   },
   "source": [
    "# 1) O primeiro exercício é o de salvar a base que criaram na atividade do módulo anterior em csv e abrir ela neste arquivo.\n",
    "Igual fizemos no início do módulo atual no início da primeira aula."
   ]
  },
  {
   "cell_type": "code",
   "execution_count": 74,
   "metadata": {
    "id": "5ejO5WSgnhFs"
   },
   "outputs": [],
   "source": [
    "import seaborn as sns\n",
    "import matplotlib.pyplot as plt\n",
    "import pandas as pd\n",
    "import numpy as np\n",
    "import plotly.express as px\n",
    "import warnings\n",
    "warnings.filterwarnings(\"ignore\")\n"
   ]
  },
  {
   "cell_type": "code",
   "execution_count": 75,
   "metadata": {
    "id": "UD3a_pq7py5G"
   },
   "outputs": [
    {
     "data": {
      "text/html": [
       "<div>\n",
       "<style scoped>\n",
       "    .dataframe tbody tr th:only-of-type {\n",
       "        vertical-align: middle;\n",
       "    }\n",
       "\n",
       "    .dataframe tbody tr th {\n",
       "        vertical-align: top;\n",
       "    }\n",
       "\n",
       "    .dataframe thead th {\n",
       "        text-align: right;\n",
       "    }\n",
       "</style>\n",
       "<table border=\"1\" class=\"dataframe\">\n",
       "  <thead>\n",
       "    <tr style=\"text-align: right;\">\n",
       "      <th></th>\n",
       "      <th>GENERO</th>\n",
       "      <th>IDOSO</th>\n",
       "      <th>CASADO</th>\n",
       "      <th>DEPENDENTES</th>\n",
       "      <th>TEMPO_COMO_CLIENTE</th>\n",
       "      <th>SERVICOTELEFONE</th>\n",
       "      <th>SERVICO_INTERNET</th>\n",
       "      <th>SERVICO_SEGURANCA</th>\n",
       "      <th>SUPORTE_TECNICO</th>\n",
       "      <th>STREAMINGTV</th>\n",
       "      <th>TIPO_CONTRATO</th>\n",
       "      <th>METODOPAGAMENTO</th>\n",
       "      <th>PAGAMENTO_MENSAL</th>\n",
       "      <th>TOTAL_PAGO</th>\n",
       "      <th>CHURN</th>\n",
       "    </tr>\n",
       "  </thead>\n",
       "  <tbody>\n",
       "    <tr>\n",
       "      <th>0</th>\n",
       "      <td>FEMALE</td>\n",
       "      <td>0</td>\n",
       "      <td>YES</td>\n",
       "      <td>NO</td>\n",
       "      <td>1</td>\n",
       "      <td>NO</td>\n",
       "      <td>DSL</td>\n",
       "      <td>NO</td>\n",
       "      <td>NO</td>\n",
       "      <td>NO</td>\n",
       "      <td>MONTH-TO-MONTH</td>\n",
       "      <td>ELECTRONIC CHECK</td>\n",
       "      <td>29.85</td>\n",
       "      <td>29.85</td>\n",
       "      <td>NO</td>\n",
       "    </tr>\n",
       "    <tr>\n",
       "      <th>1</th>\n",
       "      <td>MALE</td>\n",
       "      <td>0</td>\n",
       "      <td>NO</td>\n",
       "      <td>NO</td>\n",
       "      <td>34</td>\n",
       "      <td>YES</td>\n",
       "      <td>DSL</td>\n",
       "      <td>YES</td>\n",
       "      <td>NO</td>\n",
       "      <td>NO</td>\n",
       "      <td>ONE YEAR</td>\n",
       "      <td>MAILED CHECK</td>\n",
       "      <td>56.95</td>\n",
       "      <td>1889.50</td>\n",
       "      <td>NO</td>\n",
       "    </tr>\n",
       "    <tr>\n",
       "      <th>2</th>\n",
       "      <td>MALE</td>\n",
       "      <td>0</td>\n",
       "      <td>NO</td>\n",
       "      <td>NO</td>\n",
       "      <td>2</td>\n",
       "      <td>YES</td>\n",
       "      <td>DSL</td>\n",
       "      <td>YES</td>\n",
       "      <td>NO</td>\n",
       "      <td>NO</td>\n",
       "      <td>MONTH-TO-MONTH</td>\n",
       "      <td>MAILED CHECK</td>\n",
       "      <td>53.85</td>\n",
       "      <td>108.15</td>\n",
       "      <td>YES</td>\n",
       "    </tr>\n",
       "    <tr>\n",
       "      <th>3</th>\n",
       "      <td>MALE</td>\n",
       "      <td>0</td>\n",
       "      <td>NO</td>\n",
       "      <td>NO</td>\n",
       "      <td>45</td>\n",
       "      <td>NO</td>\n",
       "      <td>DSL</td>\n",
       "      <td>YES</td>\n",
       "      <td>YES</td>\n",
       "      <td>NO</td>\n",
       "      <td>ONE YEAR</td>\n",
       "      <td>BANK TRANSFER (AUTOMATIC)</td>\n",
       "      <td>71.45</td>\n",
       "      <td>1840.75</td>\n",
       "      <td>NO</td>\n",
       "    </tr>\n",
       "    <tr>\n",
       "      <th>4</th>\n",
       "      <td>FEMALE</td>\n",
       "      <td>0</td>\n",
       "      <td>NO</td>\n",
       "      <td>NO</td>\n",
       "      <td>52</td>\n",
       "      <td>YES</td>\n",
       "      <td>NO</td>\n",
       "      <td>NO</td>\n",
       "      <td>NO</td>\n",
       "      <td>NO</td>\n",
       "      <td>ONE YEAR</td>\n",
       "      <td>MAILED CHECK</td>\n",
       "      <td>71.45</td>\n",
       "      <td>1022.95</td>\n",
       "      <td>NO</td>\n",
       "    </tr>\n",
       "  </tbody>\n",
       "</table>\n",
       "</div>"
      ],
      "text/plain": [
       "   GENERO  IDOSO CASADO DEPENDENTES  TEMPO_COMO_CLIENTE SERVICOTELEFONE  \\\n",
       "0  FEMALE      0    YES          NO                   1              NO   \n",
       "1    MALE      0     NO          NO                  34             YES   \n",
       "2    MALE      0     NO          NO                   2             YES   \n",
       "3    MALE      0     NO          NO                  45              NO   \n",
       "4  FEMALE      0     NO          NO                  52             YES   \n",
       "\n",
       "  SERVICO_INTERNET SERVICO_SEGURANCA SUPORTE_TECNICO STREAMINGTV  \\\n",
       "0              DSL                NO              NO          NO   \n",
       "1              DSL               YES              NO          NO   \n",
       "2              DSL               YES              NO          NO   \n",
       "3              DSL               YES             YES          NO   \n",
       "4               NO                NO              NO          NO   \n",
       "\n",
       "    TIPO_CONTRATO            METODOPAGAMENTO  PAGAMENTO_MENSAL  TOTAL_PAGO  \\\n",
       "0  MONTH-TO-MONTH           ELECTRONIC CHECK             29.85       29.85   \n",
       "1        ONE YEAR               MAILED CHECK             56.95     1889.50   \n",
       "2  MONTH-TO-MONTH               MAILED CHECK             53.85      108.15   \n",
       "3        ONE YEAR  BANK TRANSFER (AUTOMATIC)             71.45     1840.75   \n",
       "4        ONE YEAR               MAILED CHECK             71.45     1022.95   \n",
       "\n",
       "  CHURN  \n",
       "0    NO  \n",
       "1    NO  \n",
       "2   YES  \n",
       "3    NO  \n",
       "4    NO  "
      ]
     },
     "execution_count": 75,
     "metadata": {},
     "output_type": "execute_result"
    }
   ],
   "source": [
    "#Seu código de importação aqui\n",
    "df = pd.read_csv('CHURN_TELECON_TAREFA.csv', delimiter=';')\n",
    "df = df.replace('NO INTERNET SERVICE', 'NO')\n",
    "df.head()"
   ]
  },
  {
   "cell_type": "markdown",
   "metadata": {
    "id": "3O70nJb2HNP2"
   },
   "source": [
    "# 2) Comece pela análise univariada:"
   ]
  },
  {
   "cell_type": "markdown",
   "metadata": {},
   "source": [
    "### A) Utilize a função describe no seu dataframe, veja os insights que consegue retirar."
   ]
  },
  {
   "cell_type": "code",
   "execution_count": 76,
   "metadata": {},
   "outputs": [
    {
     "data": {
      "text/html": [
       "<div>\n",
       "<style scoped>\n",
       "    .dataframe tbody tr th:only-of-type {\n",
       "        vertical-align: middle;\n",
       "    }\n",
       "\n",
       "    .dataframe tbody tr th {\n",
       "        vertical-align: top;\n",
       "    }\n",
       "\n",
       "    .dataframe thead th {\n",
       "        text-align: right;\n",
       "    }\n",
       "</style>\n",
       "<table border=\"1\" class=\"dataframe\">\n",
       "  <thead>\n",
       "    <tr style=\"text-align: right;\">\n",
       "      <th></th>\n",
       "      <th>IDOSO</th>\n",
       "      <th>TEMPO_COMO_CLIENTE</th>\n",
       "      <th>PAGAMENTO_MENSAL</th>\n",
       "      <th>TOTAL_PAGO</th>\n",
       "    </tr>\n",
       "  </thead>\n",
       "  <tbody>\n",
       "    <tr>\n",
       "      <th>count</th>\n",
       "      <td>2488.000000</td>\n",
       "      <td>2488.000000</td>\n",
       "      <td>2488.000000</td>\n",
       "      <td>2488.000000</td>\n",
       "    </tr>\n",
       "    <tr>\n",
       "      <th>mean</th>\n",
       "      <td>0.161576</td>\n",
       "      <td>32.352090</td>\n",
       "      <td>66.342564</td>\n",
       "      <td>2290.087178</td>\n",
       "    </tr>\n",
       "    <tr>\n",
       "      <th>std</th>\n",
       "      <td>0.368135</td>\n",
       "      <td>24.636885</td>\n",
       "      <td>28.051718</td>\n",
       "      <td>2264.585643</td>\n",
       "    </tr>\n",
       "    <tr>\n",
       "      <th>min</th>\n",
       "      <td>0.000000</td>\n",
       "      <td>0.000000</td>\n",
       "      <td>18.400000</td>\n",
       "      <td>18.800000</td>\n",
       "    </tr>\n",
       "    <tr>\n",
       "      <th>25%</th>\n",
       "      <td>0.000000</td>\n",
       "      <td>8.000000</td>\n",
       "      <td>45.400000</td>\n",
       "      <td>402.337500</td>\n",
       "    </tr>\n",
       "    <tr>\n",
       "      <th>50%</th>\n",
       "      <td>0.000000</td>\n",
       "      <td>29.000000</td>\n",
       "      <td>71.450000</td>\n",
       "      <td>1402.900000</td>\n",
       "    </tr>\n",
       "    <tr>\n",
       "      <th>75%</th>\n",
       "      <td>0.000000</td>\n",
       "      <td>56.000000</td>\n",
       "      <td>87.712500</td>\n",
       "      <td>3867.162500</td>\n",
       "    </tr>\n",
       "    <tr>\n",
       "      <th>max</th>\n",
       "      <td>1.000000</td>\n",
       "      <td>72.000000</td>\n",
       "      <td>118.650000</td>\n",
       "      <td>8564.750000</td>\n",
       "    </tr>\n",
       "  </tbody>\n",
       "</table>\n",
       "</div>"
      ],
      "text/plain": [
       "             IDOSO  TEMPO_COMO_CLIENTE  PAGAMENTO_MENSAL   TOTAL_PAGO\n",
       "count  2488.000000         2488.000000       2488.000000  2488.000000\n",
       "mean      0.161576           32.352090         66.342564  2290.087178\n",
       "std       0.368135           24.636885         28.051718  2264.585643\n",
       "min       0.000000            0.000000         18.400000    18.800000\n",
       "25%       0.000000            8.000000         45.400000   402.337500\n",
       "50%       0.000000           29.000000         71.450000  1402.900000\n",
       "75%       0.000000           56.000000         87.712500  3867.162500\n",
       "max       1.000000           72.000000        118.650000  8564.750000"
      ]
     },
     "execution_count": 76,
     "metadata": {},
     "output_type": "execute_result"
    }
   ],
   "source": [
    "# Panorama das variavies quantitativas\n",
    "df.describe()"
   ]
  },
  {
   "cell_type": "markdown",
   "metadata": {},
   "source": [
    "**Insights**:\n",
    "- Tempo como cliente: mais de 50% de nossos clientes estão a 29 meses conosco e 25% estão a mais de 56 meses\n",
    "- Pagamento Mensal: A media e mediana estão bem proximas podemos concluir que seja uma variavel com distribuição normal.\n",
    "- Total pago: Nessa variavel temos um desvio bem acentuado possivelmente há a outliers, a media e mediana estão disotanado bastante."
   ]
  },
  {
   "cell_type": "markdown",
   "metadata": {},
   "source": [
    "### B) Já é possível identificar variáveis com possíveis outliers? Se sim, quais?\n"
   ]
  },
  {
   "cell_type": "markdown",
   "metadata": {},
   "source": [
    "Sim, 'Tempo_Como_Cliente' e 'Total_Pago'"
   ]
  },
  {
   "cell_type": "markdown",
   "metadata": {},
   "source": [
    "### C) Plot gráficos que considerar importante para completar sua análise univariada. (Lembrando que sua variável preditora é o churn). Não se esqueça de trazer insights de cada gráfico plotado. Utilize pelo menos 4 variáveis distintas.\n"
   ]
  },
  {
   "cell_type": "code",
   "execution_count": 77,
   "metadata": {},
   "outputs": [
    {
     "data": {
      "text/plain": [
       "Index(['GENERO', 'IDOSO', 'CASADO', 'DEPENDENTES', 'TEMPO_COMO_CLIENTE',\n",
       "       'SERVICOTELEFONE', 'SERVICO_INTERNET', 'SERVICO_SEGURANCA',\n",
       "       'SUPORTE_TECNICO', 'STREAMINGTV', 'TIPO_CONTRATO', 'METODOPAGAMENTO',\n",
       "       'PAGAMENTO_MENSAL', 'TOTAL_PAGO', 'CHURN'],\n",
       "      dtype='object')"
      ]
     },
     "execution_count": 77,
     "metadata": {},
     "output_type": "execute_result"
    }
   ],
   "source": [
    "df.columns"
   ]
  },
  {
   "cell_type": "code",
   "execution_count": 78,
   "metadata": {},
   "outputs": [
    {
     "data": {
      "image/png": "[encoded data removed]",
      "text/plain": [
       "<Figure size 1000x600 with 1 Axes>"
      ]
     },
     "metadata": {},
     "output_type": "display_data"
    }
   ],
   "source": [
    "sns.set_style('darkgrid')\n",
    "\n",
    "# histograma do pagamento mensal para analisarmos a distribuição dos dados\n",
    "plt.figure(figsize=(10, 6))\n",
    "sns.histplot(data=df, x='TEMPO_COMO_CLIENTE', bins=40, kde=True, color='skyblue')\n",
    "plt.title('Histograma da Coluna Tempo como Cliente')\n",
    "plt.xlabel('Tempo como Cliente')\n",
    "plt.ylabel('Quantidade de Clientes')\n",
    "plt.show()"
   ]
  },
  {
   "cell_type": "code",
   "execution_count": 79,
   "metadata": {},
   "outputs": [
    {
     "data": {
      "text/plain": [
       "778"
      ]
     },
     "execution_count": 79,
     "metadata": {},
     "output_type": "execute_result"
    }
   ],
   "source": [
    "# Soma de clientes com menos de 12 meses\n",
    "(df['TEMPO_COMO_CLIENTE'] <= 12).sum()"
   ]
  },
  {
   "cell_type": "code",
   "execution_count": 80,
   "metadata": {},
   "outputs": [
    {
     "data": {
      "text/plain": [
       "31.270096463022508"
      ]
     },
     "execution_count": 80,
     "metadata": {},
     "output_type": "execute_result"
    }
   ],
   "source": [
    "(df['TEMPO_COMO_CLIENTE'] <= 12).mean() * 100"
   ]
  },
  {
   "cell_type": "code",
   "execution_count": 81,
   "metadata": {},
   "outputs": [
    {
     "data": {
      "image/png": "[encoded data removed]",
      "text/plain": [
       "<Figure size 640x480 with 1 Axes>"
      ]
     },
     "metadata": {},
     "output_type": "display_data"
    }
   ],
   "source": [
    "df.boxplot(column='TEMPO_COMO_CLIENTE')\n",
    "plt.title('Box Plot de Tempo como Cliente')\n",
    "plt.ylabel('Tempo em meses')\n",
    "plt.show()"
   ]
  },
  {
   "cell_type": "code",
   "execution_count": 82,
   "metadata": {},
   "outputs": [
    {
     "data": {
      "image/png": "[encoded data removed]",
      "text/plain": [
       "<Figure size 640x480 with 1 Axes>"
      ]
     },
     "metadata": {},
     "output_type": "display_data"
    }
   ],
   "source": [
    "df_mais_de_um = df[df['TEMPO_COMO_CLIENTE'] >= 12]\n",
    "df_mais_de_um.boxplot(column='TEMPO_COMO_CLIENTE')\n",
    "plt.title('Box Plot de Tempo como Cliente (Clientes com mais de 1 ano)')\n",
    "plt.ylabel('Tempo em meses')\n",
    "plt.show()"
   ]
  },
  {
   "cell_type": "markdown",
   "metadata": {},
   "source": [
    "Como haviam muitos clientes (31% da base) com menos de 1 ano, verifiquei como seria a distribuição dos dados sem eles, afim de avaliar a existência de outlier"
   ]
  },
  {
   "cell_type": "code",
   "execution_count": 83,
   "metadata": {},
   "outputs": [
    {
     "data": {
      "image/png": "[encoded data removed]",
      "text/plain": [
       "<Figure size 1000x600 with 1 Axes>"
      ]
     },
     "metadata": {},
     "output_type": "display_data"
    }
   ],
   "source": [
    "sns.set_style('darkgrid')\n",
    "\n",
    "# histograma do total pago para analisarmos a distribuição dos dados\n",
    "plt.figure(figsize=(10, 6))\n",
    "sns.histplot(data=df, x='TOTAL_PAGO', bins=50, kde=True, color='skyblue')\n",
    "plt.title('Histograma da Coluna Total Pago')\n",
    "plt.xlabel('Total pago')\n",
    "plt.ylabel('Clientes')\n",
    "plt.show()"
   ]
  },
  {
   "cell_type": "markdown",
   "metadata": {},
   "source": [
    "E é claro que o total pago é diretamente proporcional ao tempo como cliente, aqui podemos ver que novamente quanto menos tempo como cliente menor o valor pago pelo cliente.\n"
   ]
  },
  {
   "cell_type": "code",
   "execution_count": 84,
   "metadata": {},
   "outputs": [
    {
     "data": {
      "text/plain": [
       "<function matplotlib.pyplot.show(close=None, block=None)>"
      ]
     },
     "execution_count": 84,
     "metadata": {},
     "output_type": "execute_result"
    },
    {
     "data": {
      "image/png": "[encoded data removed]",
      "text/plain": [
       "<Figure size 640x480 with 1 Axes>"
      ]
     },
     "metadata": {},
     "output_type": "display_data"
    }
   ],
   "source": [
    "contagem_idoso = df['IDOSO'].value_counts()\n",
    "ax = contagem_idoso.plot(kind='bar')\n",
    "\n",
    "porcentagem_idoso = (contagem_idoso / contagem_idoso.sum()) * 100\n",
    "for i, v in enumerate(contagem_idoso):\n",
    "    ax.text(i, v + 1, f'{porcentagem_idoso[i]:.2f}%', ha='center')\n",
    "plt.title('Gráfico de Barras para a Variável Idoso')\n",
    "plt.xlabel('Idoso (0 = Não, 1 = Sim)', fontsize=12)\n",
    "plt.ylabel('Número de clientes')\n",
    "\n",
    "plt.show"
   ]
  },
  {
   "cell_type": "markdown",
   "metadata": {},
   "source": [
    "A maioria de nossos clientes não são idosos, pode exister alguma relação ao churn.\n"
   ]
  },
  {
   "cell_type": "code",
   "execution_count": 85,
   "metadata": {},
   "outputs": [
    {
     "data": {
      "image/png": "[encoded data removed]",
      "text/plain": [
       "<Figure size 640x480 with 1 Axes>"
      ]
     },
     "metadata": {},
     "output_type": "display_data"
    }
   ],
   "source": [
    "contagem_suporte = df['SUPORTE_TECNICO'].value_counts()\n",
    "ax = contagem_suporte.plot(kind='bar')\n",
    "\n",
    "porcentagem_suporte = (contagem_suporte / contagem_suporte.sum()) * 100\n",
    "for i, v in enumerate(contagem_suporte):\n",
    "    ax.text(i, v + 1, f'{porcentagem_suporte[i]:.2f}%', ha='center')\n",
    "plt.title('Gráfico de Barras para a Variável Suporte Tecnico')\n",
    "plt.xlabel('Já acionou o suporte? ', fontsize=12)\n",
    "plt.ylabel('Número de clientes')\n",
    "\n",
    "plt.show()"
   ]
  },
  {
   "cell_type": "markdown",
   "metadata": {},
   "source": [
    "71% dos nossos clientes nunca acionaram o suporte, clientes que já acionaram o suporte podem serem mais propensos a churn\n"
   ]
  },
  {
   "cell_type": "code",
   "execution_count": 86,
   "metadata": {},
   "outputs": [
    {
     "data": {
      "image/png": "[encoded data removed]",
      "text/plain": [
       "<Figure size 640x480 with 1 Axes>"
      ]
     },
     "metadata": {},
     "output_type": "display_data"
    }
   ],
   "source": [
    "contagem_contrato = df['TIPO_CONTRATO'].value_counts()\n",
    "ax = contagem_contrato.plot(kind='bar')\n",
    "\n",
    "porcentagem_contrato = (contagem_contrato / contagem_contrato.sum()) * 100\n",
    "for i, v in enumerate(contagem_contrato):\n",
    "    ax.text(i, v + 1, f'{porcentagem_contrato[i]:.2f}%', ha='center')\n",
    "plt.title('Gráfico de Barras para a Variável Tipo de contrato')\n",
    "plt.xlabel('Contrato', fontsize=12)\n",
    "plt.ylabel('Número de clientes')\n",
    "\n",
    "plt.show()"
   ]
  },
  {
   "cell_type": "markdown",
   "metadata": {},
   "source": [
    "Aqui vemos que a maioria de nossos clientes possuem contratos mensais, indicando que talvez sejam propensos churn.\n"
   ]
  },
  {
   "cell_type": "code",
   "execution_count": 87,
   "metadata": {},
   "outputs": [
    {
     "data": {
      "image/png": "[encoded data removed]",
      "text/plain": [
       "<Figure size 640x480 with 1 Axes>"
      ]
     },
     "metadata": {},
     "output_type": "display_data"
    }
   ],
   "source": [
    "contagem_servico = df['SERVICO_INTERNET'].value_counts()\n",
    "ax = contagem_servico.plot(kind='bar')\n",
    "\n",
    "porcentagem_servico= (contagem_servico / contagem_servico.sum()) * 100\n",
    "for i, v in enumerate(contagem_servico):\n",
    "    ax.text(i, v + 1, f'{porcentagem_servico[i]:.2f}%', ha='center')\n",
    "plt.title('Gráfico de Barras para a Variável Tipo de Serviço')\n",
    "plt.xlabel('Serviço Contratado', fontsize=12)\n",
    "plt.ylabel('Número de clientes')\n",
    "\n",
    "plt.show()"
   ]
  },
  {
   "cell_type": "markdown",
   "metadata": {},
   "source": [
    "44% da base utiliza fibra ótica que é um serviço mais confiavel que dsl, oque pode nos fazer imaginar que a uma possivel relação entre churn e o serviço dsl"
   ]
  },
  {
   "cell_type": "code",
   "execution_count": 88,
   "metadata": {},
   "outputs": [
    {
     "data": {
      "image/png": "[encoded data removed]",
      "text/plain": [
       "<Figure size 1000x600 with 1 Axes>"
      ]
     },
     "metadata": {},
     "output_type": "display_data"
    }
   ],
   "source": [
    "sns.set_style('darkgrid')\n",
    "\n",
    "# histograma do pagamento mensal para analisarmos a distribuição dos dados\n",
    "plt.figure(figsize=(10, 6))\n",
    "sns.histplot(data=df, x='PAGAMENTO_MENSAL', bins=20, kde=True, color='skyblue')\n",
    "plt.title('Histograma da Coluna de Pagamento Mensal')\n",
    "plt.xlabel('Pagamento Mensal')\n",
    "plt.ylabel('Quantidade de Clientes')\n",
    "plt.show()"
   ]
  },
  {
   "cell_type": "code",
   "execution_count": 89,
   "metadata": {},
   "outputs": [
    {
     "data": {
      "image/png": "[encoded data removed]",
      "text/plain": [
       "<Figure size 800x600 with 1 Axes>"
      ]
     },
     "metadata": {},
     "output_type": "display_data"
    }
   ],
   "source": [
    "sns.set_style('darkgrid')\n",
    "\n",
    "# boxplot da coluna de pagamento\n",
    "plt.figure(figsize=(8, 6))\n",
    "sns.boxplot(data=df, y='PAGAMENTO_MENSAL', color='skyblue')\n",
    "plt.title('Boxplot da Pagamento Mensal')\n",
    "plt.ylabel('Pagamento Mensal')\n",
    "plt.show()"
   ]
  },
  {
   "cell_type": "markdown",
   "metadata": {},
   "source": [
    "Como eu havia imaginado a distribuição do valor de pagamento mensal que remete ao plano do cliente esta bem distribuida."
   ]
  },
  {
   "cell_type": "markdown",
   "metadata": {},
   "source": [
    "### D) Verifique se os dados das variáveis Booleanas são balanceados ou não."
   ]
  },
  {
   "cell_type": "code",
   "execution_count": 90,
   "metadata": {},
   "outputs": [
    {
     "data": {
      "image/png": "[encoded data removed]",
      "text/plain": [
       "<Figure size 640x480 with 1 Axes>"
      ]
     },
     "metadata": {},
     "output_type": "display_data"
    }
   ],
   "source": [
    "contagem_idoso = df['IDOSO'].value_counts()\n",
    "ax = contagem_idoso.plot(kind='bar')\n",
    "\n",
    "porcentagem_idoso = (contagem_idoso / contagem_idoso.sum()) * 100\n",
    "for i, v in enumerate(contagem_idoso):\n",
    "    ax.text(i, v + 1, f'{porcentagem_idoso[i]:.2f}%', ha='center')\n",
    "plt.title('Gráfico de Barras para a Variável Idoso')\n",
    "plt.xlabel('Idoso (0 = Não, 1 = Sim)', fontsize=12)\n",
    "plt.ylabel('Número de clientes')\n",
    "\n",
    "plt.show()"
   ]
  },
  {
   "cell_type": "code",
   "execution_count": 91,
   "metadata": {},
   "outputs": [
    {
     "data": {
      "image/png": "[encoded data removed]",
      "text/plain": [
       "<Figure size 640x480 with 1 Axes>"
      ]
     },
     "metadata": {},
     "output_type": "display_data"
    }
   ],
   "source": [
    "contagem_dependentes = df['DEPENDENTES'].value_counts()\n",
    "ax = contagem_dependentes.plot(kind='bar')\n",
    "\n",
    "porcentagem_dependentes = (contagem_dependentes / contagem_dependentes.sum()) * 100\n",
    "for i, v in enumerate(contagem_dependentes):\n",
    "    ax.text(i, v + 1, f'{porcentagem_dependentes[i]:.2f}%', ha='center')\n",
    "plt.title('Gráfico de Barras para a Variável Dependentes')\n",
    "plt.xlabel('Possui dependentes?', fontsize=12)\n",
    "plt.ylabel('Clientes')\n",
    "\n",
    "plt.show()"
   ]
  },
  {
   "cell_type": "code",
   "execution_count": 92,
   "metadata": {},
   "outputs": [
    {
     "data": {
      "image/png": "[encoded data removed]",
      "text/plain": [
       "<Figure size 640x480 with 1 Axes>"
      ]
     },
     "metadata": {},
     "output_type": "display_data"
    }
   ],
   "source": [
    "contagem_telefonia = df['SERVICOTELEFONE'].value_counts()\n",
    "ax = contagem_telefonia.plot(kind='bar')\n",
    "\n",
    "porcentagem_telefonia = (contagem_telefonia / contagem_telefonia.sum()) * 100\n",
    "for i, v in enumerate(contagem_telefonia):\n",
    "    ax.text(i, v + 1, f'{porcentagem_telefonia[i]:.2f}%', ha='center')\n",
    "plt.title('Gráfico de Barras para a Variável Serviço de Telefonia')\n",
    "plt.xlabel('Possui serviço de Telefonia?', fontsize=12)\n",
    "plt.ylabel('Clientes')\n",
    "\n",
    "plt.show()"
   ]
  },
  {
   "cell_type": "code",
   "execution_count": 93,
   "metadata": {},
   "outputs": [
    {
     "data": {
      "image/png": "[encoded data removed]",
      "text/plain": [
       "<Figure size 640x480 with 1 Axes>"
      ]
     },
     "metadata": {},
     "output_type": "display_data"
    }
   ],
   "source": [
    "contagem_seguranca = df['SERVICO_SEGURANCA'].value_counts()\n",
    "ax = contagem_seguranca.plot(kind='bar')\n",
    "\n",
    "porcentagem_seguranca = (contagem_seguranca / contagem_seguranca.sum()) * 100\n",
    "for i, v in enumerate(contagem_seguranca):\n",
    "    ax.text(i, v + 1, f'{porcentagem_seguranca[i]:.2f}%', ha='center')\n",
    "plt.title('Gráfico de Barras para a Variável Serviço de Segurança')\n",
    "plt.xlabel('Possui serviço de Segurança?', fontsize=12)\n",
    "plt.ylabel('Clientes')\n",
    "\n",
    "plt.show()"
   ]
  },
  {
   "cell_type": "code",
   "execution_count": 94,
   "metadata": {},
   "outputs": [
    {
     "data": {
      "image/png": "[encoded data removed]",
      "text/plain": [
       "<Figure size 640x480 with 1 Axes>"
      ]
     },
     "metadata": {},
     "output_type": "display_data"
    }
   ],
   "source": [
    "contagem_stream = df['STREAMINGTV'].value_counts()\n",
    "ax = contagem_stream.plot(kind='bar')\n",
    "\n",
    "porcentagem_stream = (contagem_stream / contagem_stream.sum()) * 100\n",
    "for i, v in enumerate(contagem_stream):\n",
    "    ax.text(i, v + 1, f'{porcentagem_stream[i]:.2f}%', ha='center')\n",
    "plt.title('Gráfico de Barras para a Variável StreamingTV')\n",
    "plt.xlabel('Possui o serviço de StreamingTV?', fontsize=12)\n",
    "plt.ylabel('Clientes')\n",
    "\n",
    "plt.show()"
   ]
  },
  {
   "cell_type": "code",
   "execution_count": 95,
   "metadata": {},
   "outputs": [
    {
     "data": {
      "image/png": "[encoded data removed]",
      "text/plain": [
       "<Figure size 640x480 with 1 Axes>"
      ]
     },
     "metadata": {},
     "output_type": "display_data"
    }
   ],
   "source": [
    "contagem_churn = df['CHURN'].value_counts()\n",
    "ax = contagem_churn.plot(kind='bar')\n",
    "\n",
    "porcentagem_churn = (contagem_churn / contagem_churn.sum()) * 100\n",
    "for i, v in enumerate(contagem_churn):\n",
    "    ax.text(i, v + 1, f'{porcentagem_churn[i]:.2f}%', ha='center')\n",
    "plt.title('Gráfico de Barras para a Variável Churn')\n",
    "plt.xlabel('Churn', fontsize=12)\n",
    "plt.ylabel('Clientes')\n",
    "\n",
    "plt.show()"
   ]
  },
  {
   "cell_type": "markdown",
   "metadata": {},
   "source": [
    "Nenhuma das variaveis booleanas esta balanceada."
   ]
  },
  {
   "cell_type": "markdown",
   "metadata": {
    "id": "kQ8r3_LVH_EJ"
   },
   "source": [
    "# 3) Identifique e trate as colunas que contém outliers.\n",
    "Caso opte por mante-los ou altera-los justifique sua escolha.\n"
   ]
  },
  {
   "cell_type": "code",
   "execution_count": 96,
   "metadata": {},
   "outputs": [
    {
     "data": {
      "text/html": [
       "<div>\n",
       "<style scoped>\n",
       "    .dataframe tbody tr th:only-of-type {\n",
       "        vertical-align: middle;\n",
       "    }\n",
       "\n",
       "    .dataframe tbody tr th {\n",
       "        vertical-align: top;\n",
       "    }\n",
       "\n",
       "    .dataframe thead th {\n",
       "        text-align: right;\n",
       "    }\n",
       "</style>\n",
       "<table border=\"1\" class=\"dataframe\">\n",
       "  <thead>\n",
       "    <tr style=\"text-align: right;\">\n",
       "      <th></th>\n",
       "      <th>IDOSO</th>\n",
       "      <th>TEMPO_COMO_CLIENTE</th>\n",
       "      <th>PAGAMENTO_MENSAL</th>\n",
       "      <th>TOTAL_PAGO</th>\n",
       "    </tr>\n",
       "  </thead>\n",
       "  <tbody>\n",
       "    <tr>\n",
       "      <th>count</th>\n",
       "      <td>2488.000000</td>\n",
       "      <td>2488.000000</td>\n",
       "      <td>2488.000000</td>\n",
       "      <td>2488.000000</td>\n",
       "    </tr>\n",
       "    <tr>\n",
       "      <th>mean</th>\n",
       "      <td>0.161576</td>\n",
       "      <td>32.352090</td>\n",
       "      <td>66.342564</td>\n",
       "      <td>2290.087178</td>\n",
       "    </tr>\n",
       "    <tr>\n",
       "      <th>std</th>\n",
       "      <td>0.368135</td>\n",
       "      <td>24.636885</td>\n",
       "      <td>28.051718</td>\n",
       "      <td>2264.585643</td>\n",
       "    </tr>\n",
       "    <tr>\n",
       "      <th>min</th>\n",
       "      <td>0.000000</td>\n",
       "      <td>0.000000</td>\n",
       "      <td>18.400000</td>\n",
       "      <td>18.800000</td>\n",
       "    </tr>\n",
       "    <tr>\n",
       "      <th>25%</th>\n",
       "      <td>0.000000</td>\n",
       "      <td>8.000000</td>\n",
       "      <td>45.400000</td>\n",
       "      <td>402.337500</td>\n",
       "    </tr>\n",
       "    <tr>\n",
       "      <th>50%</th>\n",
       "      <td>0.000000</td>\n",
       "      <td>29.000000</td>\n",
       "      <td>71.450000</td>\n",
       "      <td>1402.900000</td>\n",
       "    </tr>\n",
       "    <tr>\n",
       "      <th>75%</th>\n",
       "      <td>0.000000</td>\n",
       "      <td>56.000000</td>\n",
       "      <td>87.712500</td>\n",
       "      <td>3867.162500</td>\n",
       "    </tr>\n",
       "    <tr>\n",
       "      <th>max</th>\n",
       "      <td>1.000000</td>\n",
       "      <td>72.000000</td>\n",
       "      <td>118.650000</td>\n",
       "      <td>8564.750000</td>\n",
       "    </tr>\n",
       "  </tbody>\n",
       "</table>\n",
       "</div>"
      ],
      "text/plain": [
       "             IDOSO  TEMPO_COMO_CLIENTE  PAGAMENTO_MENSAL   TOTAL_PAGO\n",
       "count  2488.000000         2488.000000       2488.000000  2488.000000\n",
       "mean      0.161576           32.352090         66.342564  2290.087178\n",
       "std       0.368135           24.636885         28.051718  2264.585643\n",
       "min       0.000000            0.000000         18.400000    18.800000\n",
       "25%       0.000000            8.000000         45.400000   402.337500\n",
       "50%       0.000000           29.000000         71.450000  1402.900000\n",
       "75%       0.000000           56.000000         87.712500  3867.162500\n",
       "max       1.000000           72.000000        118.650000  8564.750000"
      ]
     },
     "execution_count": 96,
     "metadata": {},
     "output_type": "execute_result"
    }
   ],
   "source": [
    "df.describe()"
   ]
  },
  {
   "cell_type": "code",
   "execution_count": 101,
   "metadata": {},
   "outputs": [
    {
     "data": {
      "application/vnd.plotly.v1+json": {
       "config": {
        "plotlyServerURL": "https://plot.ly"
       },
       "data": [
        {
         "alignmentgroup": "True",
         "hovertemplate": "Tempo como Cliente=%{y}<extra></extra>",
         "legendgroup": "",
         "marker": {
          "color": "#636efa"
         },
         "name": "",
         "notched": false,
         "offsetgroup": "",
         "orientation": "v",
         "showlegend": false,
         "type": "box",
         "x0": " ",
         "xaxis": "x",
         "y": [
          1,
          34,
          2,
          45,
          52,
          71,
          10,
          21,
          1,
          12,
          1,
          58,
          49,
          30,
          47,
          1,
          72,
          17,
          71,
          2,
          27,
          1,
          1,
          72,
          5,
          46,
          34,
          11,
          10,
          70,
          17,
          63,
          13,
          49,
          2,
          2,
          52,
          69,
          43,
          15,
          25,
          8,
          60,
          18,
          63,
          66,
          34,
          72,
          47,
          60,
          72,
          18,
          9,
          3,
          47,
          31,
          50,
          10,
          1,
          52,
          64,
          62,
          3,
          56,
          46,
          8,
          30,
          45,
          1,
          11,
          7,
          42,
          49,
          9,
          35,
          48,
          46,
          29,
          30,
          1,
          66,
          65,
          72,
          12,
          71,
          5,
          52,
          25,
          1,
          1,
          38,
          66,
          68,
          5,
          72,
          32,
          43,
          72,
          55,
          52,
          43,
          37,
          64,
          3,
          36,
          10,
          41,
          27,
          56,
          6,
          3,
          7,
          4,
          33,
          27,
          72,
          1,
          71,
          13,
          25,
          67,
          1,
          2,
          43,
          23,
          64,
          57,
          1,
          72,
          8,
          61,
          64,
          71,
          65,
          3,
          1,
          30,
          15,
          8,
          7,
          70,
          62,
          6,
          14,
          22,
          22,
          16,
          10,
          13,
          20,
          2,
          53,
          11,
          69,
          4,
          72,
          58,
          16,
          43,
          2,
          14,
          53,
          32,
          34,
          15,
          7,
          15,
          61,
          1,
          1,
          8,
          33,
          13,
          1,
          20,
          3,
          13,
          40,
          43,
          6,
          69,
          72,
          59,
          20,
          24,
          59,
          72,
          1,
          27,
          14,
          71,
          13,
          44,
          33,
          72,
          1,
          19,
          64,
          2,
          1,
          61,
          29,
          23,
          57,
          72,
          66,
          65,
          8,
          4,
          71,
          1,
          4,
          12,
          24,
          31,
          1,
          30,
          47,
          54,
          50,
          1,
          72,
          29,
          2,
          10,
          18,
          11,
          16,
          72,
          72,
          41,
          65,
          13,
          4,
          41,
          15,
          1,
          42,
          51,
          2,
          1,
          32,
          10,
          67,
          61,
          50,
          2,
          29,
          3,
          13,
          57,
          31,
          45,
          61,
          50,
          19,
          59,
          71,
          16,
          57,
          1,
          20,
          1,
          5,
          52,
          21,
          14,
          5,
          6,
          10,
          1,
          68,
          18,
          22,
          20,
          1,
          8,
          10,
          24,
          35,
          23,
          6,
          12,
          1,
          71,
          35,
          40,
          1,
          23,
          4,
          4,
          68,
          38,
          52,
          32,
          29,
          38,
          48,
          1,
          22,
          43,
          5,
          5,
          51,
          71,
          38,
          24,
          35,
          54,
          72,
          1,
          9,
          69,
          52,
          11,
          2,
          28,
          17,
          35,
          8,
          46,
          7,
          2,
          68,
          43,
          68,
          36,
          63,
          32,
          71,
          66,
          63,
          41,
          1,
          2,
          70,
          23,
          64,
          37,
          17,
          7,
          4,
          21,
          10,
          16,
          64,
          27,
          42,
          5,
          41,
          58,
          47,
          18,
          5,
          23,
          1,
          71,
          72,
          33,
          2,
          24,
          56,
          37,
          43,
          1,
          25,
          61,
          17,
          41,
          1,
          72,
          1,
          48,
          11,
          55,
          42,
          44,
          1,
          27,
          27,
          2,
          19,
          42,
          66,
          33,
          34,
          33,
          23,
          32,
          11,
          69,
          68,
          20,
          72,
          60,
          32,
          1,
          1,
          3,
          46,
          29,
          51,
          48,
          16,
          70,
          40,
          22,
          1,
          5,
          7,
          29,
          44,
          10,
          55,
          52,
          10,
          18,
          68,
          61,
          72,
          2,
          12,
          41,
          26,
          36,
          72,
          35,
          1,
          16,
          49,
          54,
          18,
          36,
          60,
          1,
          52,
          8,
          72,
          64,
          22,
          60,
          28,
          61,
          24,
          28,
          30,
          2,
          1,
          6,
          24,
          4,
          7,
          72,
          70,
          64,
          72,
          44,
          13,
          17,
          1,
          9,
          24,
          1,
          24,
          35,
          7,
          5,
          15,
          11,
          48,
          20,
          72,
          8,
          72,
          15,
          72,
          0,
          1,
          63,
          2,
          2,
          61,
          1,
          22,
          28,
          70,
          5,
          12,
          34,
          71,
          70,
          52,
          69,
          20,
          11,
          2,
          6,
          1,
          20,
          61,
          5,
          56,
          30,
          40,
          28,
          5,
          27,
          12,
          67,
          29,
          55,
          23,
          34,
          52,
          72,
          58,
          35,
          56,
          24,
          70,
          2,
          68,
          1,
          12,
          63,
          33,
          69,
          60,
          72,
          11,
          1,
          10,
          13,
          34,
          39,
          65,
          50,
          15,
          72,
          72,
          55,
          23,
          32,
          56,
          1,
          38,
          11,
          1,
          56,
          3,
          7,
          59,
          7,
          71,
          15,
          71,
          35,
          11,
          60,
          47,
          11,
          56,
          28,
          61,
          31,
          9,
          35,
          2,
          12,
          1,
          4,
          1,
          3,
          1,
          52,
          5,
          72,
          71,
          72,
          46,
          63,
          30,
          1,
          12,
          16,
          4,
          51,
          65,
          16,
          2,
          66,
          46,
          32,
          72,
          38,
          51,
          72,
          65,
          9,
          9,
          66,
          44,
          50,
          15,
          8,
          66,
          57,
          7,
          10,
          62,
          40,
          20,
          7,
          25,
          23,
          66,
          72,
          49,
          43,
          46,
          72,
          10,
          40,
          65,
          31,
          68,
          56,
          10,
          68,
          43,
          1,
          49,
          15,
          20,
          1,
          50,
          2,
          24,
          3,
          1,
          35,
          17,
          8,
          10,
          68,
          45,
          2,
          37,
          4,
          10,
          1,
          65,
          57,
          3,
          2,
          49,
          4,
          70,
          53,
          53,
          1,
          22,
          52,
          65,
          48,
          2,
          3,
          45,
          1,
          61,
          3,
          40,
          1,
          1,
          51,
          2,
          52,
          51,
          1,
          31,
          47,
          3,
          22,
          1,
          72,
          3,
          47,
          72,
          66,
          35,
          29,
          2,
          4,
          25,
          65,
          27,
          29,
          29,
          1,
          20,
          58,
          14,
          72,
          46,
          71,
          32,
          26,
          68,
          2,
          61,
          4,
          3,
          33,
          9,
          22,
          5,
          30,
          65,
          45,
          5,
          25,
          72,
          27,
          32,
          30,
          70,
          42,
          72,
          47,
          2,
          10,
          61,
          5,
          72,
          72,
          3,
          48,
          63,
          27,
          70,
          7,
          0,
          2,
          20,
          66,
          3,
          15,
          72,
          1,
          22,
          3,
          72,
          65,
          11,
          22,
          14,
          41,
          17,
          11,
          15,
          1,
          5,
          33,
          72,
          3,
          2,
          59,
          2,
          71,
          5,
          27,
          1,
          63,
          46,
          72,
          34,
          24,
          72,
          60,
          68,
          8,
          34,
          6,
          2,
          31,
          20,
          1,
          62,
          70,
          10,
          39,
          46,
          6,
          72,
          18,
          71,
          40,
          1,
          58,
          70,
          42,
          34,
          5,
          25,
          2,
          55,
          21,
          70,
          61,
          43,
          47,
          5,
          62,
          16,
          7,
          14,
          60,
          34,
          50,
          38,
          70,
          37,
          4,
          60,
          62,
          1,
          36,
          44,
          55,
          72,
          12,
          13,
          1,
          15,
          65,
          12,
          72,
          72,
          72,
          52,
          2,
          5,
          68,
          62,
          72,
          1,
          66,
          72,
          26,
          64,
          20,
          3,
          22,
          4,
          62,
          5,
          59,
          3,
          72,
          57,
          66,
          60,
          45,
          3,
          15,
          51,
          60,
          33,
          10,
          26,
          6,
          67,
          49,
          1,
          7,
          27,
          37,
          63,
          31,
          50,
          32,
          1,
          63,
          30,
          71,
          53,
          12,
          50,
          2,
          9,
          17,
          56,
          67,
          9,
          4,
          19,
          8,
          71,
          10,
          15,
          72,
          12,
          72,
          1,
          23,
          72,
          26,
          21,
          60,
          12,
          16,
          63,
          22,
          32,
          3,
          13,
          68,
          30,
          16,
          33,
          72,
          4,
          12,
          4,
          0,
          6,
          65,
          15,
          24,
          13,
          24,
          72,
          54,
          3,
          4,
          32,
          35,
          35,
          2,
          8,
          22,
          15,
          22,
          1,
          71,
          4,
          25,
          32,
          7,
          17,
          8,
          56,
          1,
          8,
          7,
          3,
          71,
          2,
          1,
          49,
          58,
          44,
          59,
          71,
          1,
          11,
          62,
          35,
          20,
          40,
          39,
          1,
          72,
          33,
          12,
          1,
          27,
          34,
          56,
          58,
          22,
          10,
          13,
          35,
          34,
          4,
          72,
          2,
          7,
          27,
          4,
          37,
          21,
          53,
          18,
          2,
          32,
          23,
          3,
          71,
          9,
          1,
          18,
          12,
          71,
          64,
          4,
          23,
          39,
          28,
          5,
          45,
          37,
          60,
          8,
          47,
          26,
          3,
          50,
          27,
          8,
          62,
          71,
          66,
          68,
          13,
          56,
          38,
          14,
          16,
          14,
          32,
          8,
          43,
          52,
          3,
          29,
          1,
          12,
          16,
          40,
          5,
          40,
          36,
          5,
          10,
          2,
          23,
          26,
          72,
          34,
          10,
          14,
          23,
          47,
          24,
          49,
          20,
          2,
          2,
          22,
          7,
          1,
          59,
          58,
          41,
          59,
          3,
          32,
          46,
          0,
          2,
          52,
          13,
          11,
          32,
          17,
          16,
          51,
          29,
          70,
          71,
          41,
          1,
          7,
          25,
          67,
          5,
          15,
          20,
          3,
          54,
          42,
          9,
          63,
          69,
          69,
          40,
          60,
          4,
          71,
          37,
          32,
          39,
          38,
          52,
          48,
          70,
          20,
          50,
          19,
          25,
          12,
          39,
          7,
          23,
          27,
          47,
          26,
          14,
          11,
          2,
          26,
          72,
          63,
          71,
          11,
          14,
          13,
          6,
          11,
          18,
          1,
          32,
          29,
          3,
          2,
          13,
          41,
          1,
          7,
          52,
          45,
          70,
          53,
          62,
          60,
          3,
          23,
          1,
          67,
          12,
          71,
          25,
          5,
          26,
          1,
          70,
          72,
          60,
          32,
          1,
          14,
          13,
          6,
          46,
          15,
          43,
          39,
          21,
          57,
          53,
          18,
          1,
          58,
          71,
          35,
          3,
          38,
          35,
          7,
          47,
          14,
          20,
          66,
          15,
          42,
          17,
          37,
          12,
          53,
          60,
          18,
          1,
          3,
          9,
          1,
          56,
          17,
          11,
          7,
          69,
          19,
          3,
          54,
          62,
          24,
          62,
          17,
          9,
          64,
          2,
          1,
          16,
          72,
          30,
          49,
          61,
          47,
          20,
          34,
          70,
          54,
          61,
          3,
          13,
          16,
          3,
          25,
          30,
          21,
          1,
          15,
          23,
          45,
          24,
          11,
          1,
          56,
          1,
          1,
          7,
          55,
          2,
          72,
          45,
          47,
          46,
          2,
          2,
          12,
          68,
          69,
          56,
          4,
          64,
          59,
          62,
          63,
          53,
          5,
          49,
          62,
          55,
          71,
          72,
          36,
          25,
          72,
          36,
          1,
          72,
          59,
          7,
          1,
          30,
          64,
          63,
          72,
          8,
          62,
          67,
          6,
          70,
          20,
          5,
          24,
          11,
          72,
          66,
          45,
          69,
          15,
          28,
          70,
          36,
          16,
          18,
          34,
          42,
          48,
          47,
          39,
          11,
          7,
          3,
          8,
          1,
          32,
          60,
          10,
          71,
          4,
          1,
          43,
          59,
          23,
          72,
          22,
          1,
          69,
          50,
          1,
          2,
          15,
          31,
          1,
          66,
          0,
          3,
          8,
          64,
          28,
          57,
          14,
          19,
          10,
          51,
          67,
          11,
          72,
          66,
          18,
          9,
          9,
          48,
          10,
          9,
          13,
          4,
          4,
          72,
          51,
          59,
          10,
          61,
          54,
          33,
          27,
          1,
          23,
          1,
          45,
          39,
          5,
          72,
          58,
          70,
          61,
          2,
          46,
          1,
          22,
          48,
          64,
          72,
          12,
          34,
          72,
          29,
          33,
          1,
          62,
          41,
          64,
          4,
          24,
          14,
          3,
          4,
          18,
          8,
          35,
          1,
          66,
          8,
          71,
          43,
          2,
          29,
          15,
          65,
          35,
          64,
          58,
          18,
          67,
          63,
          60,
          9,
          70,
          15,
          48,
          12,
          71,
          44,
          1,
          45,
          23,
          43,
          35,
          9,
          12,
          65,
          2,
          27,
          40,
          5,
          8,
          58,
          52,
          3,
          41,
          20,
          1,
          4,
          23,
          6,
          8,
          18,
          52,
          31,
          29,
          36,
          16,
          42,
          1,
          60,
          5,
          22,
          36,
          4,
          9,
          1,
          12,
          23,
          62,
          37,
          8,
          31,
          13,
          24,
          45,
          69,
          2,
          61,
          41,
          44,
          39,
          72,
          13,
          51,
          71,
          22,
          2,
          56,
          1,
          23,
          66,
          1,
          19,
          11,
          8,
          52,
          3,
          51,
          15,
          64,
          37,
          13,
          49,
          45,
          18,
          1,
          68,
          54,
          23,
          17,
          71,
          67,
          14,
          1,
          63,
          41,
          17,
          56,
          5,
          2,
          3,
          37,
          29,
          8,
          63,
          7,
          3,
          72,
          19,
          59,
          2,
          35,
          14,
          14,
          69,
          7,
          69,
          72,
          8,
          4,
          63,
          72,
          46,
          5,
          30,
          63,
          60,
          63,
          25,
          1,
          6,
          22,
          31,
          39,
          26,
          53,
          1,
          12,
          16,
          2,
          39,
          1,
          7,
          4,
          10,
          55,
          72,
          10,
          11,
          15,
          23,
          1,
          3,
          47,
          15,
          66,
          68,
          17,
          7,
          12,
          21,
          21,
          56,
          6,
          65,
          42,
          68,
          48,
          50,
          7,
          63,
          17,
          42,
          4,
          62,
          2,
          2,
          48,
          27,
          70,
          1,
          46,
          30,
          15,
          69,
          65,
          72,
          13,
          17,
          51,
          51,
          72,
          67,
          34,
          67,
          49,
          53,
          27,
          23,
          69,
          2,
          35,
          46,
          54,
          56,
          9,
          20,
          11,
          30,
          68,
          38,
          17,
          48,
          1,
          63,
          3,
          48,
          66,
          68,
          17,
          7,
          72,
          29,
          37,
          34,
          42,
          59,
          11,
          60,
          27,
          1,
          1,
          17,
          58,
          1,
          3,
          53,
          35,
          50,
          68,
          47,
          65,
          5,
          51,
          46,
          9,
          8,
          14,
          45,
          8,
          1,
          66,
          72,
          41,
          23,
          29,
          4,
          6,
          67,
          7,
          56,
          72,
          72,
          23,
          35,
          27,
          26,
          12,
          40,
          7,
          70,
          60,
          39,
          72,
          1,
          54,
          3,
          63,
          71,
          42,
          47,
          66,
          21,
          11,
          1,
          55,
          69,
          3,
          4,
          30,
          5,
          71,
          29,
          52,
          68,
          46,
          8,
          72,
          17,
          3,
          2,
          9,
          51,
          6,
          3,
          17,
          30,
          31,
          45,
          64,
          1,
          1,
          61,
          1,
          9,
          72,
          1,
          7,
          66,
          1,
          40,
          16,
          2,
          67,
          41,
          56,
          72,
          3,
          54,
          52,
          50,
          14,
          27,
          72,
          62,
          12,
          44,
          54,
          68,
          20,
          50,
          58,
          35,
          2,
          63,
          58,
          27,
          71,
          63,
          71,
          41,
          13,
          2,
          68,
          1,
          65,
          72,
          28,
          72,
          2,
          18,
          60,
          26,
          1,
          4,
          68,
          38,
          42,
          57,
          54,
          12,
          44,
          42,
          72,
          71,
          19,
          23,
          30,
          35,
          10,
          1,
          22,
          7,
          36,
          34,
          72,
          36,
          1,
          23,
          32,
          71,
          23,
          17,
          1,
          12,
          72,
          1,
          72,
          60,
          61,
          6,
          32,
          31,
          19,
          72,
          32,
          65,
          45,
          42,
          8,
          32,
          22,
          57,
          1,
          1,
          1,
          24,
          1,
          54,
          4,
          65,
          56,
          45,
          71,
          59,
          69,
          19,
          55,
          38,
          10,
          47,
          2,
          1,
          1,
          1,
          46,
          38,
          65,
          19,
          52,
          71,
          1,
          52,
          6,
          26,
          48,
          64,
          3,
          1,
          72,
          1,
          51,
          41,
          72,
          43,
          72,
          47,
          72,
          3,
          1,
          2,
          26,
          29,
          35,
          27,
          24,
          67,
          16,
          23,
          14,
          1,
          1,
          4,
          16,
          46,
          68,
          38,
          30,
          5,
          17,
          4,
          12,
          72,
          3,
          56,
          41,
          40,
          7,
          69,
          7,
          5,
          72,
          44,
          65,
          3,
          24,
          44,
          72,
          24,
          1,
          22,
          70,
          25,
          37,
          22,
          59,
          49,
          47,
          31,
          1,
          3,
          53,
          1,
          20,
          3,
          51,
          51,
          13,
          1,
          1,
          63,
          3,
          46,
          1,
          8,
          71,
          55,
          70,
          2,
          67,
          65,
          14,
          20,
          1,
          1,
          49,
          72,
          46,
          24,
          5,
          33,
          42,
          23,
          8,
          66,
          24,
          24,
          69,
          53,
          60,
          7,
          20,
          23,
          72,
          11,
          21,
          1,
          31,
          57,
          45,
          10,
          58,
          14,
          27,
          14,
          12,
          69,
          25,
          58,
          35,
          16,
          45,
          17,
          1,
          22,
          1,
          67,
          67,
          2,
          23,
          9,
          5,
          54,
          57,
          24,
          49,
          5,
          2,
          4,
          70,
          5,
          53,
          47,
          31,
          13,
          28,
          10,
          38,
          1,
          67,
          52,
          62,
          16,
          5,
          12,
          72,
          71,
          24,
          15,
          67,
          2,
          5,
          15,
          1,
          41,
          43,
          1,
          1,
          26,
          22,
          71,
          7,
          28,
          16,
          7,
          69,
          1,
          3,
          21,
          69,
          71,
          69,
          48,
          47,
          2,
          45,
          51,
          22,
          72,
          37,
          71,
          7,
          66,
          51,
          30,
          34,
          64,
          65,
          47,
          1,
          49,
          67,
          39,
          14,
          43,
          56,
          14,
          1,
          16,
          70,
          72,
          23,
          21,
          1,
          1,
          32,
          17,
          4,
          36,
          50,
          48,
          50,
          72,
          10,
          18,
          1,
          1,
          9,
          2,
          40,
          69,
          37,
          18,
          11,
          8,
          3,
          55,
          33,
          46,
          34,
          3,
          30,
          33,
          45,
          40,
          71,
          1,
          72,
          22,
          46,
          55,
          1,
          12,
          31,
          5,
          67,
          1,
          40,
          41,
          1,
          51,
          42,
          23,
          1,
          1,
          56,
          15,
          12,
          54,
          7,
          33,
          16,
          21,
          30,
          3,
          11,
          62,
          18,
          6,
          46,
          21,
          68,
          1,
          25,
          24,
          30,
          2,
          51,
          57,
          15,
          72,
          2,
          28,
          29,
          70,
          13,
          59,
          13,
          7,
          62,
          21,
          2,
          1,
          4,
          19,
          30,
          67,
          72,
          53,
          5,
          71,
          50,
          56,
          2,
          2,
          24,
          46,
          71,
          29,
          69,
          71,
          1,
          56,
          56,
          1,
          28,
          19,
          66,
          17,
          52,
          19,
          36,
          7,
          72,
          67,
          34,
          57,
          7,
          1,
          8,
          69,
          50,
          10,
          12,
          14,
          70,
          64,
          66,
          71,
          20,
          72,
          71,
          38,
          28,
          17,
          33,
          23,
          58,
          70,
          4,
          45,
          10,
          36,
          54,
          23,
          41,
          5,
          27,
          1,
          67,
          72,
          56,
          44,
          66,
          34,
          69,
          1,
          40,
          30,
          11,
          15,
          11,
          64,
          72,
          72,
          1,
          15,
          60,
          56,
          8,
          3,
          49,
          2,
          6,
          70,
          12,
          52,
          72,
          40,
          1,
          3,
          40,
          1,
          30,
          23,
          1,
          44,
          65,
          7,
          72,
          8,
          16,
          66,
          1,
          3,
          53,
          8,
          69,
          5,
          72,
          13,
          4,
          54,
          72,
          12,
          1,
          1,
          54,
          69,
          48,
          48,
          8,
          71,
          2,
          67,
          34,
          3,
          9,
          71,
          57,
          72,
          48,
          18,
          43,
          72,
          35,
          4,
          49,
          71,
          11,
          63,
          65,
          49,
          29,
          15,
          4,
          72,
          26,
          35,
          57,
          28,
          25,
          47,
          57,
          16,
          5,
          17,
          56,
          72,
          21,
          48,
          68,
          30,
          3,
          14,
          4,
          71,
          8,
          61,
          72,
          5,
          49,
          8,
          3,
          9,
          67,
          46,
          67,
          55,
          33,
          62,
          1,
          49,
          1,
          14,
          18,
          1,
          1,
          72,
          64,
          69,
          1,
          71,
          66,
          2,
          71,
          11,
          47,
          35,
          32,
          60,
          11,
          29,
          21,
          48,
          3,
          43,
          5,
          1,
          71,
          8,
          8,
          20,
          33,
          71,
          31,
          38,
          1,
          2,
          12,
          9,
          11,
          6,
          71,
          42,
          8,
          5,
          2,
          45,
          28,
          43,
          60,
          42,
          7,
          25,
          40,
          27,
          10,
          27,
          11,
          4,
          68,
          1,
          18,
          57,
          26,
          17,
          1,
          38,
          59,
          30,
          2,
          50,
          9,
          3,
          14,
          31,
          7,
          8,
          17,
          32,
          2,
          7,
          72,
          31,
          27,
          18,
          7,
          14,
          11,
          72,
          28,
          15,
          4,
          71,
          5,
          47,
          57,
          50,
          8,
          48,
          70,
          1,
          8,
          1,
          1,
          60,
          49,
          4,
          29,
          67,
          53,
          67,
          6,
          47,
          53,
          69,
          3,
          4,
          56,
          59,
          61,
          2,
          46,
          12,
          14,
          28,
          24,
          31,
          68,
          39,
          42,
          13,
          6,
          35,
          38,
          18,
          4,
          27,
          41
         ],
         "y0": " ",
         "yaxis": "y"
        }
       ],
       "layout": {
        "boxmode": "group",
        "legend": {
         "tracegroupgap": 0
        },
        "template": {
         "data": {
          "bar": [
           {
            "error_x": {
             "color": "#2a3f5f"
            },
            "error_y": {
             "color": "#2a3f5f"
            },
            "marker": {
             "line": {
              "color": "#E5ECF6",
              "width": 0.5
             },
             "pattern": {
              "fillmode": "overlay",
              "size": 10,
              "solidity": 0.2
             }
            },
            "type": "bar"
           }
          ],
          "barpolar": [
           {
            "marker": {
             "line": {
              "color": "#E5ECF6",
              "width": 0.5
             },
             "pattern": {
              "fillmode": "overlay",
              "size": 10,
              "solidity": 0.2
             }
            },
            "type": "barpolar"
           }
          ],
          "carpet": [
           {
            "aaxis": {
             "endlinecolor": "#2a3f5f",
             "gridcolor": "white",
             "linecolor": "white",
             "minorgridcolor": "white",
             "startlinecolor": "#2a3f5f"
            },
            "baxis": {
             "endlinecolor": "#2a3f5f",
             "gridcolor": "white",
             "linecolor": "white",
             "minorgridcolor": "white",
             "startlinecolor": "#2a3f5f"
            },
            "type": "carpet"
           }
          ],
          "choropleth": [
           {
            "colorbar": {
             "outlinewidth": 0,
             "ticks": ""
            },
            "type": "choropleth"
           }
          ],
          "contour": [
           {
            "colorbar": {
             "outlinewidth": 0,
             "ticks": ""
            },
            "colorscale": [
             [
              0,
              "#0d0887"
             ],
             [
              0.1111111111111111,
              "#46039f"
             ],
             [
              0.2222222222222222,
              "#7201a8"
             ],
             [
              0.3333333333333333,
              "#9c179e"
             ],
             [
              0.4444444444444444,
              "#bd3786"
             ],
             [
              0.5555555555555556,
              "#d8576b"
             ],
             [
              0.6666666666666666,
              "#ed7953"
             ],
             [
              0.7777777777777778,
              "#fb9f3a"
             ],
             [
              0.8888888888888888,
              "#fdca26"
             ],
             [
              1,
              "#f0f921"
             ]
            ],
            "type": "contour"
           }
          ],
          "contourcarpet": [
           {
            "colorbar": {
             "outlinewidth": 0,
             "ticks": ""
            },
            "type": "contourcarpet"
           }
          ],
          "heatmap": [
           {
            "colorbar": {
             "outlinewidth": 0,
             "ticks": ""
            },
            "colorscale": [
             [
              0,
              "#0d0887"
             ],
             [
              0.1111111111111111,
              "#46039f"
             ],
             [
              0.2222222222222222,
              "#7201a8"
             ],
             [
              0.3333333333333333,
              "#9c179e"
             ],
             [
              0.4444444444444444,
              "#bd3786"
             ],
             [
              0.5555555555555556,
              "#d8576b"
             ],
             [
              0.6666666666666666,
              "#ed7953"
             ],
             [
              0.7777777777777778,
              "#fb9f3a"
             ],
             [
              0.8888888888888888,
              "#fdca26"
             ],
             [
              1,
              "#f0f921"
             ]
            ],
            "type": "heatmap"
           }
          ],
          "heatmapgl": [
           {
            "colorbar": {
             "outlinewidth": 0,
             "ticks": ""
            },
            "colorscale": [
             [
              0,
              "#0d0887"
             ],
             [
              0.1111111111111111,
              "#46039f"
             ],
             [
              0.2222222222222222,
              "#7201a8"
             ],
             [
              0.3333333333333333,
              "#9c179e"
             ],
             [
              0.4444444444444444,
              "#bd3786"
             ],
             [
              0.5555555555555556,
              "#d8576b"
             ],
             [
              0.6666666666666666,
              "#ed7953"
             ],
             [
              0.7777777777777778,
              "#fb9f3a"
             ],
             [
              0.8888888888888888,
              "#fdca26"
             ],
             [
              1,
              "#f0f921"
             ]
            ],
            "type": "heatmapgl"
           }
          ],
          "histogram": [
           {
            "marker": {
             "pattern": {
              "fillmode": "overlay",
              "size": 10,
              "solidity": 0.2
             }
            },
            "type": "histogram"
           }
          ],
          "histogram2d": [
           {
            "colorbar": {
             "outlinewidth": 0,
             "ticks": ""
            },
            "colorscale": [
             [
              0,
              "#0d0887"
             ],
             [
              0.1111111111111111,
              "#46039f"
             ],
             [
              0.2222222222222222,
              "#7201a8"
             ],
             [
              0.3333333333333333,
              "#9c179e"
             ],
             [
              0.4444444444444444,
              "#bd3786"
             ],
             [
              0.5555555555555556,
              "#d8576b"
             ],
             [
              0.6666666666666666,
              "#ed7953"
             ],
             [
              0.7777777777777778,
              "#fb9f3a"
             ],
             [
              0.8888888888888888,
              "#fdca26"
             ],
             [
              1,
              "#f0f921"
             ]
            ],
            "type": "histogram2d"
           }
          ],
          "histogram2dcontour": [
           {
            "colorbar": {
             "outlinewidth": 0,
             "ticks": ""
            },
            "colorscale": [
             [
              0,
              "#0d0887"
             ],
             [
              0.1111111111111111,
              "#46039f"
             ],
             [
              0.2222222222222222,
              "#7201a8"
             ],
             [
              0.3333333333333333,
              "#9c179e"
             ],
             [
              0.4444444444444444,
              "#bd3786"
             ],
             [
              0.5555555555555556,
              "#d8576b"
             ],
             [
              0.6666666666666666,
              "#ed7953"
             ],
             [
              0.7777777777777778,
              "#fb9f3a"
             ],
             [
              0.8888888888888888,
              "#fdca26"
             ],
             [
              1,
              "#f0f921"
             ]
            ],
            "type": "histogram2dcontour"
           }
          ],
          "mesh3d": [
           {
            "colorbar": {
             "outlinewidth": 0,
             "ticks": ""
            },
            "type": "mesh3d"
           }
          ],
          "parcoords": [
           {
            "line": {
             "colorbar": {
              "outlinewidth": 0,
              "ticks": ""
             }
            },
            "type": "parcoords"
           }
          ],
          "pie": [
           {
            "automargin": true,
            "type": "pie"
           }
          ],
          "scatter": [
           {
            "fillpattern": {
             "fillmode": "overlay",
             "size": 10,
             "solidity": 0.2
            },
            "type": "scatter"
           }
          ],
          "scatter3d": [
           {
            "line": {
             "colorbar": {
              "outlinewidth": 0,
              "ticks": ""
             }
            },
            "marker": {
             "colorbar": {
              "outlinewidth": 0,
              "ticks": ""
             }
            },
            "type": "scatter3d"
           }
          ],
          "scattercarpet": [
           {
            "marker": {
             "colorbar": {
              "outlinewidth": 0,
              "ticks": ""
             }
            },
            "type": "scattercarpet"
           }
          ],
          "scattergeo": [
           {
            "marker": {
             "colorbar": {
              "outlinewidth": 0,
              "ticks": ""
             }
            },
            "type": "scattergeo"
           }
          ],
          "scattergl": [
           {
            "marker": {
             "colorbar": {
              "outlinewidth": 0,
              "ticks": ""
             }
            },
            "type": "scattergl"
           }
          ],
          "scattermapbox": [
           {
            "marker": {
             "colorbar": {
              "outlinewidth": 0,
              "ticks": ""
             }
            },
            "type": "scattermapbox"
           }
          ],
          "scatterpolar": [
           {
            "marker": {
             "colorbar": {
              "outlinewidth": 0,
              "ticks": ""
             }
            },
            "type": "scatterpolar"
           }
          ],
          "scatterpolargl": [
           {
            "marker": {
             "colorbar": {
              "outlinewidth": 0,
              "ticks": ""
             }
            },
            "type": "scatterpolargl"
           }
          ],
          "scatterternary": [
           {
            "marker": {
             "colorbar": {
              "outlinewidth": 0,
              "ticks": ""
             }
            },
            "type": "scatterternary"
           }
          ],
          "surface": [
           {
            "colorbar": {
             "outlinewidth": 0,
             "ticks": ""
            },
            "colorscale": [
             [
              0,
              "#0d0887"
             ],
             [
              0.1111111111111111,
              "#46039f"
             ],
             [
              0.2222222222222222,
              "#7201a8"
             ],
             [
              0.3333333333333333,
              "#9c179e"
             ],
             [
              0.4444444444444444,
              "#bd3786"
             ],
             [
              0.5555555555555556,
              "#d8576b"
             ],
             [
              0.6666666666666666,
              "#ed7953"
             ],
             [
              0.7777777777777778,
              "#fb9f3a"
             ],
             [
              0.8888888888888888,
              "#fdca26"
             ],
             [
              1,
              "#f0f921"
             ]
            ],
            "type": "surface"
           }
          ],
          "table": [
           {
            "cells": {
             "fill": {
              "color": "#EBF0F8"
             },
             "line": {
              "color": "white"
             }
            },
            "header": {
             "fill": {
              "color": "#C8D4E3"
             },
             "line": {
              "color": "white"
             }
            },
            "type": "table"
           }
          ]
         },
         "layout": {
          "annotationdefaults": {
           "arrowcolor": "#2a3f5f",
           "arrowhead": 0,
           "arrowwidth": 1
          },
          "autotypenumbers": "strict",
          "coloraxis": {
           "colorbar": {
            "outlinewidth": 0,
            "ticks": ""
           }
          },
          "colorscale": {
           "diverging": [
            [
             0,
             "#8e0152"
            ],
            [
             0.1,
             "#c51b7d"
            ],
            [
             0.2,
             "#de77ae"
            ],
            [
             0.3,
             "#f1b6da"
            ],
            [
             0.4,
             "#fde0ef"
            ],
            [
             0.5,
             "#f7f7f7"
            ],
            [
             0.6,
             "#e6f5d0"
            ],
            [
             0.7,
             "#b8e186"
            ],
            [
             0.8,
             "#7fbc41"
            ],
            [
             0.9,
             "#4d9221"
            ],
            [
             1,
             "#276419"
            ]
           ],
           "sequential": [
            [
             0,
             "#0d0887"
            ],
            [
             0.1111111111111111,
             "#46039f"
            ],
            [
             0.2222222222222222,
             "#7201a8"
            ],
            [
             0.3333333333333333,
             "#9c179e"
            ],
            [
             0.4444444444444444,
             "#bd3786"
            ],
            [
             0.5555555555555556,
             "#d8576b"
            ],
            [
             0.6666666666666666,
             "#ed7953"
            ],
            [
             0.7777777777777778,
             "#fb9f3a"
            ],
            [
             0.8888888888888888,
             "#fdca26"
            ],
            [
             1,
             "#f0f921"
            ]
           ],
           "sequentialminus": [
            [
             0,
             "#0d0887"
            ],
            [
             0.1111111111111111,
             "#46039f"
            ],
            [
             0.2222222222222222,
             "#7201a8"
            ],
            [
             0.3333333333333333,
             "#9c179e"
            ],
            [
             0.4444444444444444,
             "#bd3786"
            ],
            [
             0.5555555555555556,
             "#d8576b"
            ],
            [
             0.6666666666666666,
             "#ed7953"
            ],
            [
             0.7777777777777778,
             "#fb9f3a"
            ],
            [
             0.8888888888888888,
             "#fdca26"
            ],
            [
             1,
             "#f0f921"
            ]
           ]
          },
          "colorway": [
           "#636efa",
           "#EF553B",
           "#00cc96",
           "#ab63fa",
           "#FFA15A",
           "#19d3f3",
           "#FF6692",
           "#B6E880",
           "#FF97FF",
           "#FECB52"
          ],
          "font": {
           "color": "#2a3f5f"
          },
          "geo": {
           "bgcolor": "white",
           "lakecolor": "white",
           "landcolor": "#E5ECF6",
           "showlakes": true,
           "showland": true,
           "subunitcolor": "white"
          },
          "hoverlabel": {
           "align": "left"
          },
          "hovermode": "closest",
          "mapbox": {
           "style": "light"
          },
          "paper_bgcolor": "white",
          "plot_bgcolor": "#E5ECF6",
          "polar": {
           "angularaxis": {
            "gridcolor": "white",
            "linecolor": "white",
            "ticks": ""
           },
           "bgcolor": "#E5ECF6",
           "radialaxis": {
            "gridcolor": "white",
            "linecolor": "white",
            "ticks": ""
           }
          },
          "scene": {
           "xaxis": {
            "backgroundcolor": "#E5ECF6",
            "gridcolor": "white",
            "gridwidth": 2,
            "linecolor": "white",
            "showbackground": true,
            "ticks": "",
            "zerolinecolor": "white"
           },
           "yaxis": {
            "backgroundcolor": "#E5ECF6",
            "gridcolor": "white",
            "gridwidth": 2,
            "linecolor": "white",
            "showbackground": true,
            "ticks": "",
            "zerolinecolor": "white"
           },
           "zaxis": {
            "backgroundcolor": "#E5ECF6",
            "gridcolor": "white",
            "gridwidth": 2,
            "linecolor": "white",
            "showbackground": true,
            "ticks": "",
            "zerolinecolor": "white"
           }
          },
          "shapedefaults": {
           "line": {
            "color": "#2a3f5f"
           }
          },
          "ternary": {
           "aaxis": {
            "gridcolor": "white",
            "linecolor": "white",
            "ticks": ""
           },
           "baxis": {
            "gridcolor": "white",
            "linecolor": "white",
            "ticks": ""
           },
           "bgcolor": "#E5ECF6",
           "caxis": {
            "gridcolor": "white",
            "linecolor": "white",
            "ticks": ""
           }
          },
          "title": {
           "x": 0.05
          },
          "xaxis": {
           "automargin": true,
           "gridcolor": "white",
           "linecolor": "white",
           "ticks": "",
           "title": {
            "standoff": 15
           },
           "zerolinecolor": "white",
           "zerolinewidth": 2
          },
          "yaxis": {
           "automargin": true,
           "gridcolor": "white",
           "linecolor": "white",
           "ticks": "",
           "title": {
            "standoff": 15
           },
           "zerolinecolor": "white",
           "zerolinewidth": 2
          }
         }
        },
        "title": {
         "text": "Box Plot Tempo como Cliente"
        },
        "xaxis": {
         "anchor": "y",
         "domain": [
          0,
          1
         ]
        },
        "yaxis": {
         "anchor": "x",
         "domain": [
          0,
          1
         ],
         "title": {
          "text": "Tempo como Cliente"
         }
        }
       }
      }
     },
     "metadata": {},
     "output_type": "display_data"
    }
   ],
   "source": [
    "fig = px.box(df, y='TEMPO_COMO_CLIENTE', title='Box Plot Tempo como Cliente', labels={'TEMPO_COMO_CLIENTE': 'Tempo como Cliente'})\n",
    "fig.show()"
   ]
  },
  {
   "cell_type": "code",
   "execution_count": 102,
   "metadata": {},
   "outputs": [
    {
     "data": {
      "application/vnd.plotly.v1+json": {
       "config": {
        "plotlyServerURL": "https://plot.ly"
       },
       "data": [
        {
         "alignmentgroup": "True",
         "hovertemplate": "Total pago R$=%{y}<extra></extra>",
         "legendgroup": "",
         "marker": {
          "color": "#636efa"
         },
         "name": "",
         "notched": false,
         "offsetgroup": "",
         "orientation": "v",
         "showlegend": false,
         "type": "box",
         "x0": " ",
         "xaxis": "x",
         "y": [
          29.85,
          1889.5,
          108.15,
          1840.75,
          1022.95,
          7382.25,
          528.35,
          1862.9,
          39.65,
          202.25,
          20.15,
          3505.1,
          2970.3,
          1530.6,
          4749.15,
          30.2,
          6369.45,
          1093.1,
          6766.95,
          181.65,
          1874.45,
          20.2,
          45.25,
          7251.7,
          316.9,
          3548.3,
          3549.25,
          1105.4,
          475.7,
          4872.35,
          418.25,
          4861.45,
          981.45,
          3906.7,
          97,
          144.15,
          4217.8,
          4254.1,
          3838.75,
          1426.4,
          1752.65,
          633.3,
          4456.35,
          1752.55,
          6311.2,
          7076.35,
          894.3,
          7853.7,
          4707.1,
          5450.7,
          2962,
          957.1,
          857.25,
          244.1,
          3650.35,
          2497.2,
          930.9,
          887.35,
          49.05,
          1090.65,
          7099,
          1424.6,
          177.4,
          6139.5,
          2688.85,
          482.25,
          2111.3,
          1216.6,
          79.35,
          565.35,
          496.9,
          4327.5,
          973.35,
          918.75,
          2215.45,
          1057,
          927.1,
          1009.25,
          2570.2,
          74.7,
          5714.25,
          7107,
          7459.05,
          927.35,
          4748.7,
          113.85,
          1107.2,
          2514.5,
          20.2,
          19.45,
          3605.6,
          3027.25,
          7611.85,
          100.2,
          7303.05,
          927.65,
          3921.3,
          1363.25,
          5238.9,
          3042.25,
          3954.1,
          2868.15,
          3423.5,
          248.4,
          1126.35,
          1064.65,
          835.15,
          2151.6,
          5515.45,
          112.75,
          229.55,
          350.35,
          62.9,
          3027.65,
          2135.5,
          1723.95,
          19.75,
          3985.35,
          1215.65,
          1502.65,
          3260.1,
          35.45,
          81.25,
          1188.2,
          1778.5,
          1277.75,
          1170.55,
          70.45,
          6425.65,
          563.65,
          5971.25,
          5289.05,
          1756.2,
          6416.7,
          61.35,
          45.65,
          1929.95,
          1071.4,
          564.35,
          655.5,
          7930.55,
          5215.25,
          113.5,
          1152.8,
          1821.95,
          419.9,
          1024,
          251.6,
          764.55,
          1592.35,
          135.2,
          3958.25,
          233.9,
          1363.45,
          273,
          6254.45,
          2651.2,
          321.4,
          3539.25,
          242.8,
          1181.75,
          5000.2,
          654.55,
          780.2,
          1145.7,
          503.6,
          1559.25,
          1252,
          29.95,
          45.3,
          662.65,
          2453.3,
          1111.65,
          24.8,
          1023.85,
          82.15,
          244.8,
          2379.1,
          3173.35,
          531,
          1375.4,
          8129.3,
          1192.7,
          1901.65,
          587.4,
          6519.75,
          8041.65,
          20.75,
          2681.15,
          1112.3,
          7405.5,
          1033.95,
          2958.95,
          2684.85,
          4179.2,
          79.9,
          1934.45,
          6654.1,
          84.5,
          25.25,
          1124.2,
          540.05,
          1975.85,
          3437.45,
          3139.8,
          3789.2,
          5324.5,
          624.6,
          268.35,
          1836.9,
          20.2,
          179.35,
          219.35,
          1288.75,
          2545.75,
          55.2,
          2723.15,
          4107.25,
          5760.65,
          4747.5,
          84.6,
          1566.9,
          702,
          114.1,
          299.05,
          1305.95,
          1120.3,
          284.35,
          6350.5,
          7878.3,
          3187.65,
          6126.15,
          731.3,
          273.4,
          2531.8,
          1074.3,
          48.55,
          4298.45,
          4619.55,
          147.15,
          40.2,
          2633.3,
          193.05,
          4103.9,
          7008.15,
          5791.1,
          80.55,
          1228.65,
          132.2,
          1364.3,
          4925.35,
          1520.1,
          5032.25,
          5526.75,
          1195.25,
          2007.25,
          1099.6,
          1732.95,
          1511.2,
          3450.15,
          24.8,
          2172.05,
          70.6,
          401.1,
          5624.85,
          1339.8,
          771.95,
          244.75,
          322.9,
          498.25,
          25.4,
          3687.75,
          1779.95,
          1783.6,
          927.15,
          70,
          606.55,
          435.4,
          1712.7,
          2021.2,
          1940.8,
          567.8,
          220.35,
          20.25,
          5436.45,
          3437.5,
          3015.75,
          73.6,
          1509.8,
          396.1,
          356.65,
          4109,
          3141.7,
          1229.1,
          2303.35,
          2054.4,
          3741.85,
          3682.45,
          19.25,
          1886.25,
          4895.1,
          341.6,
          415.55,
          5686.4,
          1355.1,
          3058.65,
          2231.05,
          3236.35,
          4350.1,
          4264,
          44.8,
          422.3,
          4176.7,
          5138.1,
          880.05,
          139.05,
          973.65,
          1470.05,
          739.35,
          161.95,
          4422.95,
          511.25,
          155.8,
          5293.95,
          4759.85,
          6148.45,
          3565.65,
          6603,
          1830.1,
          6223.8,
          4508.65,
          1328.15,
          865,
          72.1,
          168.2,
          1303.5,
          996.85,
          6430.9,
          2278.75,
          681.4,
          574.35,
          371.9,
          840.1,
          846,
          889,
          6823.4,
          805.1,
          4016.75,
          83.75,
          3959.15,
          2878.55,
          945.7,
          1373.05,
          492.55,
          1406,
          19.15,
          6962.85,
          8126.65,
          690.25,
          181.5,
          830.8,
          5608.4,
          3646.8,
          3662.25,
          25.35,
          2566.5,
          5308.7,
          1410.25,
          3339.05,
          50.65,
          4732.35,
          90.85,
          5067.45,
          214.75,
          4874.7,
          2348.45,
          4063,
          44,
          2595.25,
          2309.55,
          89.3,
          367.55,
          3944.5,
          5965.95,
          3694.7,
          2524.45,
          1803.7,
          415.1,
          624.15,
          237.7,
          7007.6,
          3848.8,
          419.4,
          1468.75,
          5812,
          2861.45,
          19.9,
          19.6,
          233.7,
          1066.15,
          2149.05,
          4473,
          3545.05,
          1195.75,
          6858.9,
          1024.7,
          1845.9,
          75.3,
          132.25,
          515.45,
          2830.45,
          1110.5,
          449.3,
          2838.55,
          5376.4,
          858.6,
          1395.05,
          3975.7,
          1182.55,
          4784.45,
          119.5,
          518.9,
          899.45,
          1183.8,
          720.05,
          8468.2,
          3161.2,
          55.05,
          1882.55,
          5070.4,
          6049.5,
          1166.7,
          2937.65,
          6396.45,
          69.55,
          1270.25,
          759.55,
          7611.55,
          1642.75,
          1545.4,
          3582.4,
          2227.1,
          1417.9,
          2494.65,
          2768.35,
          2369.3,
          38,
          75.1,
          100.9,
          1614.05,
          385.9,
          673.25,
          8404.9,
          2799.75,
          6538.45,
          6588.95,
          868.1,
          734.35,
          330.6,
          55,
          564.4,
          1315.35,
          74.7,
          1861.5,
          2747.2,
          554.05,
          453.4,
          994.8,
          225.75,
          2145,
          1671.6,
          8003.8,
          680.05,
          6130.85,
          1415,
          6201.95,
          52.55,
          20.25,
          80.85,
          25.75,
          56.05,
          3902.6,
          20.4,
          903.6,
          1785.65,
          1397.65,
          131.05,
          1238.45,
          3899.05,
          5676,
          4543.15,
          4326.8,
          5502.55,
          1782.4,
          851.8,
          167.5,
          502.85,
          19.85,
          1818.3,
          6300.15,
          334.8,
          5916.95,
          2852.4,
          4131.95,
          1546.3,
          302.6,
          1929.35,
          265.45,
          6989.45,
          1442,
          4713.4,
          1758.6,
          3480,
          4738.3,
          8399.15,
          5430.35,
          686.95,
          5706.3,
          490.65,
          1360.25,
          174.45,
          7379.8,
          85,
          1021.75,
          5029.05,
          1955.4,
          6744.2,
          4946.7,
          8248.5,
          601.6,
          19.55,
          834.1,
          597,
          2647.2,
          3266,
          6744.25,
          5265.5,
          311.6,
          7966.9,
          8220.4,
          1153.25,
          514.75,
          2596.15,
          3808,
          19.9,
          2708.2,
          760.05,
          49.3,
          6033.3,
          89.05,
          516.15,
          5861.75,
          445.95,
          4973.4,
          1667.25,
          5357.75,
          3527.6,
          422.6,
          1103.25,
          2754,
          697.25,
          5614.45,
          3204.4,
          4747.65,
          3082.1,
          597.9,
          3365.4,
          38.8,
          233.55,
          75.3,
          346.2,
          19,
          61.7,
          85.7,
          3342.45,
          85.1,
          7422.1,
          6668.05,
          8071.05,
          1174.8,
          5435,
          2438.6,
          45.6,
          713.75,
          916.15,
          237.2,
          4614.55,
          1414.45,
          1170.5,
          47.7,
          4859.25,
          4903.2,
          3608,
          6094.25,
          3084.9,
          2356.75,
          8306.05,
          6786.4,
          248.95,
          663.05,
          1357.1,
          4860.35,
          3418.2,
          631.4,
          186.3,
          6976.75,
          4884.85,
          522.95,
          362.6,
          5755.8,
          3355.65,
          406.95,
          137.6,
          2395.7,
          1968.1,
          6819.45,
          7943.45,
          4547.25,
          4687.9,
          2473.95,
          6562.9,
          176.3,
          2236.2,
          6985.65,
          3109.9,
          4911.35,
          5794.65,
          855.3,
          1620.2,
          2499.3,
          89.55,
          4287.2,
          394.85,
          1899.65,
          45.7,
          3442.15,
          161.5,
          1732.6,
          222.3,
          74.6,
          655.3,
          475.25,
          164.3,
          865.1,
          6132.7,
          3597.5,
          35.9,
          697.65,
          96.05,
          428.7,
          20.05,
          4459.15,
          1167.6,
          238.1,
          145.15,
          1453.1,
          191.05,
          4039.3,
          1039.45,
          1336.1,
          75.05,
          493.4,
          2550.9,
          7246.15,
          1203.95,
          62.25,
          313.6,
          3775.85,
          80,
          4616.05,
          195.65,
          4188.4,
          71.1,
          49.9,
          1266.4,
          91.1,
          1623.4,
          4149.45,
          20.45,
          2344.5,
          1013.05,
          270.7,
          417,
          20.65,
          6316.2,
          168.15,
          4018.05,
          4811.6,
          4189.7,
          2848.45,
          2516.2,
          33.6,
          208.45,
          2015.35,
          3739.8,
          2964,
          2263.4,
          2211.8,
          19.55,
          1683.7,
          1519,
          1164.05,
          1710.9,
          4245.55,
          4145.9,
          2664.3,
          1277.5,
          5589.3,
          34.75,
          1305.95,
          381.3,
          141.5,
          3105.55,
          204.55,
          605.9,
          356.1,
          2758.15,
          4805.65,
          3941.7,
          92.75,
          1901.05,
          5730.7,
          2423.4,
          1653.45,
          3327.05,
          7085.5,
          3344.1,
          6697.35,
          2879.9,
          137.1,
          1008.55,
          1551.6,
          202.15,
          7882.25,
          8196.4,
          202.9,
          855.1,
          5817,
          1652.95,
          5600.15,
          515.75,
          40.5,
          190.5,
          1842.8,
          1253.8,
          57.2,
          1269.55,
          6563.4,
          20.8,
          1907.85,
          208.85,
          4758.8,
          1292.6,
          363.15,
          1600.25,
          275.7,
          3089.1,
          1175.6,
          237.3,
          1444.65,
          19.9,
          454.15,
          3036.75,
          8065.65,
          92.5,
          184.65,
          6152.3,
          89.5,
          5154.5,
          220.45,
          1510.3,
          52.2,
          2588.95,
          4874.8,
          3983.6,
          2003.6,
          1832.4,
          4908.25,
          3590.2,
          5023,
          146.6,
          2339.3,
          298.7,
          143.65,
          2548.65,
          507.4,
          20,
          6125.4,
          5411.4,
          1058.25,
          903.8,
          3009.5,
          489.45,
          5468.45,
          1058.1,
          7616,
          4113.1,
          69.55,
          6017.65,
          7250.15,
          1108.2,
          938.65,
          94.15,
          2088.05,
          178.7,
          5656.75,
          2317.1,
          5986.45,
          6751.35,
          3566.6,
          4889.3,
          318.1,
          1563.95,
          1430.25,
          644.35,
          372.45,
          5453.4,
          1442.6,
          5610.7,
          963.95,
          5222.3,
          3340.55,
          292.8,
          5774.55,
          4487.3,
          44.4,
          2854.95,
          905.55,
          5509.3,
          7589.8,
          229.6,
          394.1,
          89.9,
          295.95,
          5459.2,
          444.75,
          6782.15,
          6510.45,
          8476.5,
          4461.85,
          62,
          352.65,
          1424.9,
          6413.65,
          6309.65,
          50.8,
          5898.6,
          4719.75,
          457.3,
          5822.3,
          1463.5,
          307.4,
          2104.55,
          319.15,
          2337.45,
          104.3,
          5084.65,
          121.25,
          7015.9,
          5598,
          1269.1,
          3027.4,
          4634.35,
          113.95,
          1582.75,
          3077,
          4039.5,
          1665.2,
          1043.3,
          504.2,
          497.55,
          7511.65,
          1782,
          20.05,
          609.65,
          2857.6,
          3247.55,
          6215.35,
          2823,
          5017.9,
          2619.25,
          24.6,
          4965.1,
          2679.7,
          8310.55,
          5682.25,
          1120.95,
          4914.9,
          27.55,
          923.5,
          1625.65,
          6068.65,
          5398.6,
          918.6,
          234.85,
          1231.85,
          170.9,
          7984.15,
          688.65,
          1288.3,
          7848.5,
          267,
          1798.9,
          73.55,
          1643.55,
          4807.45,
          2193,
          2239.4,
          1505.9,
          255.35,
          1189.4,
          4786.15,
          1820.9,
          2404.15,
          205.05,
          952.3,
          7039.45,
          2538.05,
          1212.85,
          2651.1,
          1304.8,
          360.1,
          435.45,
          308.05,
          80.85,
          434.5,
          7118.9,
          320.45,
          531.55,
          382.2,
          2001,
          4919.7,
          5645.8,
          215.8,
          77.6,
          2896.55,
          3395.8,
          759.35,
          85.15,
          535.55,
          1253.15,
          955.15,
          2162.6,
          44.7,
          1813.35,
          245.15,
          2028.8,
          2723.75,
          220.45,
          365.8,
          551.95,
          4054.2,
          45.7,
          832.35,
          112.3,
          60.65,
          5550.1,
          174.8,
          90.55,
          4733.1,
          4048.95,
          1359.7,
          4542.35,
          7532.15,
          69.9,
          888.65,
          6383.35,
          1916,
          413,
          808.95,
          1886.4,
          86.6,
          1679.25,
          2656.5,
          540.95,
          19.75,
          537.35,
          678.8,
          4513.65,
          1423.85,
          555.4,
          225.55,
          268.45,
          2917.5,
          2416.1,
          424.45,
          1492.1,
          132.4,
          660.9,
          1893.95,
          284.9,
          784.25,
          417.7,
          5016.25,
          1612.75,
          119.75,
          3204.65,
          485.2,
          160.85,
          4145.25,
          827.45,
          49.5,
          990.85,
          696.35,
          5585.4,
          1601.2,
          162.45,
          470.2,
          2066,
          1426.45,
          392.5,
          3861.45,
          2552.9,
          6668.35,
          819.4,
          4615.25,
          2070.6,
          273.75,
          3557.7,
          1957.1,
          729.95,
          1416.75,
          5924.4,
          1697.7,
          7849.85,
          649.4,
          4557.5,
          3013.05,
          1266.1,
          360.35,
          1046.5,
          2347.9,
          447.75,
          4209.95,
          3877.65,
          152.3,
          572.2,
          19.65,
          526.95,
          552.7,
          3208.65,
          210.75,
          3706.95,
          620.75,
          412.5,
          832.05,
          185.55,
          1943.2,
          505.9,
          8046.85,
          1815.3,
          612.95,
          795.15,
          2169.8,
          973.1,
          2210.2,
          4853.75,
          1055.9,
          144.55,
          91.1,
          1304.85,
          713,
          21.1,
          5580.8,
          1497.9,
          4527.45,
          4590.35,
          200.2,
          614.45,
          4564.9,
          25.75,
          171.15,
          1012.4,
          940.35,
          1047.7,
          2766.4,
          1622.45,
          1129.35,
          5680.9,
          2243.9,
          4523.25,
          7159.7,
          2839.95,
          80.55,
          580.1,
          2178.6,
          6038.55,
          259.4,
          324.15,
          417.65,
          168.15,
          5637.85,
          839.4,
          769.1,
          6253,
          1641.8,
          1678.05,
          2058.5,
          2424.5,
          387.2,
          6293.45,
          2839.65,
          3145.9,
          2200.7,
          914.4,
          4577.75,
          4997.5,
          4144.8,
          1493.55,
          4179.1,
          893.55,
          1611,
          593.05,
          4284.8,
          544.55,
          1533.8,
          529.8,
          3865.6,
          515.75,
          941,
          1133.65,
          48.35,
          2070.05,
          8333.95,
          1209.25,
          1396.25,
          723.35,
          228.65,
          1161.75,
          98.35,
          775.3,
          1074.65,
          35.55,
          2324.7,
          1072.6,
          170.5,
          196.9,
          1162.85,
          1677.85,
          18.85,
          370.4,
          3410.6,
          1138.8,
          5264.25,
          1005.7,
          5936.55,
          5475.9,
          224.05,
          2326.05,
          31.35,
          4991.5,
          1052.4,
          5831.2,
          510.8,
          283.95,
          1295.4,
          19.65,
          3011.65,
          8093.15,
          5610.25,
          3217.65,
          19.85,
          773.2,
          1029.35,
          669.45,
          3593.8,
          1553.95,
          3953.15,
          1971.15,
          1236.15,
          3196,
          4872.2,
          1500.5,
          60.15,
          3478.75,
          7413.55,
          3532,
          256.75,
          3887.25,
          2490.15,
          593.45,
          3510.3,
          765.45,
          1259.35,
          5538.35,
          340.85,
          844.45,
          1348.95,
          3778,
          611.65,
          4867.95,
          1505.05,
          467.85,
          74.9,
          194.2,
          571.45,
          80.25,
          5253.95,
          1149.65,
          740.8,
          521.35,
          1412.65,
          1532.45,
          250.05,
          1090.6,
          1446.8,
          2282.55,
          4300.45,
          1111.2,
          190.1,
          4447.75,
          143.35,
          45.85,
          810.2,
          1830.05,
          2820.65,
          4847.35,
          4729.3,
          4017.45,
          1398.6,
          2564.3,
          1685.9,
          5826.65,
          6066.55,
          228.4,
          270.2,
          1529.2,
          168.6,
          536.35,
          1888.45,
          629.35,
          45.3,
          289.3,
          2117.25,
          4730.9,
          2033.05,
          987.95,
          45.05,
          5744.35,
          75.8,
          19.45,
          523.15,
          4805.3,
          59.05,
          6110.75,
          1596.6,
          1046.2,
          4424.2,
          92.75,
          194.55,
          612.1,
          6127.6,
          6671.7,
          5264.3,
          303.7,
          4818.8,
          6448.05,
          7159.05,
          1574.5,
          2879.2,
          86.05,
          4159.45,
          6638.35,
          3112.05,
          7168.25,
          1326.25,
          2234.55,
          495.15,
          8317.95,
          679.8,
          62.8,
          7544,
          1188.25,
          676.7,
          74.1,
          3242.5,
          1240.15,
          4111.35,
          5899.85,
          632.95,
          5193.2,
          7530.8,
          270.95,
          5460.2,
          1614.2,
          402.5,
          1367.75,
          483.7,
          7962.2,
          3810.8,
          3533.6,
          1396.9,
          1345.55,
          1646.45,
          8127.6,
          2680.15,
          1281,
          1553.9,
          3207.55,
          2049.05,
          3629.2,
          5124.55,
          3474.45,
          202.3,
          147.5,
          86.35,
          579,
          19.45,
          3131.55,
          3928.3,
          187.75,
          1710.15,
          76.35,
          69.25,
          2151.6,
          5961.1,
          1221.55,
          1496.45,
          1292.2,
          25.15,
          1713.1,
          1748.9,
          25.2,
          96.45,
          1114.55,
          609.1,
          20.15,
          7133.25,
          56.05,
          169.45,
          141.6,
          4688.65,
          563.05,
          5985,
          1258.6,
          373.5,
          857.2,
          2553.35,
          4322.85,
          250.8,
          4549.05,
          1359.5,
          1639.3,
          178.85,
          633.85,
          5315.1,
          735.5,
          889.9,
          1290,
          330.05,
          237.95,
          6474.4,
          4421.95,
          2452.7,
          813.85,
          4904.85,
          4484.05,
          2033.85,
          538.2,
          79.2,
          2192.9,
          19.85,
          3858.05,
          854.8,
          347.4,
          5815.15,
          3970.4,
          3058.15,
          6145.2,
          129.2,
          1165.9,
          49.95,
          1554,
          4904.25,
          5632.55,
          1643.25,
          740.55,
          3217.55,
          4888.2,
          2440.25,
          620.55,
          20.35,
          6840.95,
          3001.2,
          6254.2,
          319.6,
          1938.05,
          294.5,
          58.3,
          442.85,
          553,
          546.45,
          797.1,
          76,
          1673.8,
          343.45,
          7412.25,
          4039,
          170.85,
          2948.6,
          1308.4,
          6078.75,
          3418.2,
          6603.8,
          3166.9,
          865.75,
          6373.1,
          1177.05,
          5985.75,
          732.5,
          7869.05,
          1504.05,
          936.7,
          741.4,
          6585.2,
          3122.4,
          50.45,
          1088.25,
          615.35,
          2908.2,
          739.9,
          593.85,
          1132.75,
          7227.45,
          193.6,
          1291.35,
          2023.55,
          349.65,
          153.95,
          5458.8,
          5244.45,
          154.55,
          4507.15,
          2031.95,
          50.05,
          332.45,
          473.9,
          106.8,
          152.6,
          1199.4,
          2555.05,
          2979.2,
          654.85,
          3834.4,
          1534.75,
          4586.15,
          20.55,
          5941.05,
          424.15,
          2234.95,
          666.75,
          281,
          547.8,
          74.6,
          571.15,
          1756.6,
          5731.45,
          3475.55,
          156.85,
          2683.2,
          896.75,
          2407.3,
          4456.65,
          6998.95,
          36.8,
          6547.7,
          4346.4,
          2265,
          1309.15,
          4754.3,
          1235.55,
          3562.5,
          7213.75,
          2082.95,
          102.75,
          5914.4,
          51.25,
          1282.85,
          4738.85,
          19.55,
          1775.8,
          795.65,
          145,
          4993.4,
          61.45,
          4018.55,
          1146.65,
          6081.4,
          1478.85,
          243.65,
          2633.95,
          4735.35,
          1247.75,
          74.7,
          3794.5,
          1008.7,
          2130.55,
          1313.55,
          5727.15,
          1372.9,
          1203.9,
          25.8,
          1215.1,
          2877.05,
          1579.7,
          5514.95,
          96.1,
          72.4,
          55.25,
          2443.3,
          1970.5,
          335.4,
          7002.95,
          158.95,
          293.15,
          1493.75,
          1093.4,
          1057.85,
          190.05,
          882.55,
          300.4,
          1025.95,
          1436.95,
          475,
          5388.15,
          5730.15,
          819.55,
          217.1,
          4896.35,
          1434.1,
          937.1,
          330.15,
          1474.9,
          6536.5,
          1128.1,
          6873.75,
          2199.05,
          45.85,
          457.1,
          566.5,
          2471.6,
          3107.3,
          518.3,
          5769.75,
          91.7,
          832.3,
          1555.65,
          45.3,
          1790.6,
          74.95,
          246.6,
          261.65,
          898.35,
          4509.5,
          5480.25,
          653.15,
          1183.05,
          639.45,
          478.75,
          20.05,
          127.1,
          4391.45,
          270.6,
          6710.5,
          3975.9,
          1704.95,
          415.95,
          950.2,
          1497.05,
          780.15,
          3512.15,
          273.25,
          3517.9,
          3375.9,
          7508.55,
          1245.05,
          5347.95,
          493.65,
          1263.85,
          385.55,
          3384,
          84.2,
          1638.7,
          165.4,
          120.25,
          4473.45,
          520.55,
          5717.85,
          88.8,
          4312.5,
          2755.35,
          994.55,
          6511.25,
          1218.65,
          7447.7,
          1169.35,
          279.5,
          5720.35,
          3121.45,
          6468.6,
          5918.8,
          675.6,
          3521.7,
          923.1,
          1110.35,
          1611.65,
          2293.6,
          5553.25,
          44.75,
          3029.1,
          3231.05,
          5129.45,
          5508.35,
          655.9,
          1191.2,
          866.4,
          2627.2,
          4741.45,
          4009.2,
          1463.45,
          5082.8,
          43.8,
          3707.6,
          220.45,
          1133.7,
          1983.15,
          5746.75,
          770.6,
          134.05,
          6230.1,
          573.05,
          3419.3,
          3587.25,
          3541.35,
          3801.3,
          868.5,
          4859.1,
          1439.35,
          85.8,
          79.1,
          592.75,
          1185.95,
          18.8,
          134.5,
          4921.2,
          901.25,
          5341.8,
          4859.95,
          1139.2,
          7082.45,
          324.6,
          4812.75,
          4399.5,
          663.55,
          174.65,
          321.7,
          5125.5,
          548.9,
          50.15,
          7031.3,
          5016.65,
          4594.95,
          611.45,
          2384.15,
          319.85,
          153.3,
          7035.6,
          344.2,
          1431.65,
          1849.2,
          6083.1,
          426.65,
          1655.35,
          1943.9,
          1616.15,
          314.95,
          804.85,
          465.7,
          6669.05,
          1161.75,
          947.75,
          8375.05,
          34.7,
          3770,
          264.8,
          4707.85,
          6152.4,
          958.1,
          943,
          6615.15,
          2200.25,
          425.1,
          99.75,
          5044.8,
          6743.55,
          196.4,
          299.7,
          2093.9,
          417.75,
          1725.4,
          1620.2,
          3169.55,
          5233.25,
          967.85,
          438.05,
          1421.9,
          323.15,
          318.6,
          163.7,
          639.65,
          2928.5,
          100.35,
          273.2,
          1608.15,
          1441.95,
          2168.15,
          3618.7,
          5692.65,
          59.85,
          69.6,
          5969.3,
          19.05,
          418.8,
          8100.55,
          19.5,
          313.45,
          6130.95,
          69.9,
          745.3,
          1212.1,
          183.75,
          1583.5,
          4162.05,
          1119.9,
          8013.55,
          264.85,
          1102.4,
          5832,
          4304.5,
          1178.4,
          1421.75,
          6827.5,
          4698.05,
          654.5,
          3268.05,
          4362.05,
          1386.9,
          415.4,
          2614.1,
          1513.6,
          3161.6,
          80.95,
          4676.7,
          6526.65,
          583.3,
          8078.1,
          3503.5,
          6669.45,
          4689.5,
          1201.15,
          143.65,
          1292.65,
          48.75,
          7108.2,
          1802.55,
          1505.15,
          1859.1,
          168.5,
          390.85,
          6339.45,
          1652.4,
          71.65,
          77.5,
          6392.85,
          3264.5,
          4599.15,
          1134.25,
          1621.35,
          947.3,
          2722.2,
          3058.3,
          1769.6,
          6293.75,
          1761.05,
          1642.75,
          578.5,
          954.9,
          973.25,
          43.85,
          1490.4,
          280,
          1901.25,
          716.4,
          4720,
          930.95,
          76.35,
          1676.95,
          2642.05,
          6770.85,
          1835.3,
          1588.25,
          75.5,
          258.35,
          1502.25,
          19.2,
          6929.4,
          4453.3,
          3244.4,
          323.45,
          2661.1,
          2697.4,
          1424.5,
          1401.15,
          1739.6,
          5931,
          2333.85,
          949.85,
          572.45,
          696.8,
          1381.8,
          2572.95,
          47.95,
          45.1,
          45,
          2122.45,
          20.05,
          4931.8,
          116.95,
          6937.95,
          1261.7,
          3273.8,
          1415.85,
          3958.2,
          2492.25,
          279.2,
          1083,
          755.5,
          402.6,
          3252,
          68.75,
          46.2,
          45.15,
          43.3,
          936.85,
          2250.65,
          3857.1,
          1441.1,
          4338.6,
          1378.45,
          45.95,
          2566.3,
          171,
          1597.4,
          4744.35,
          6721.6,
          247.25,
          44.05,
          1734.65,
          45.55,
          4539.35,
          804.25,
          5011.15,
          3574.5,
          8086.4,
          4563,
          6362.35,
          67.1,
          70.05,
          165.45,
          1156.55,
          1834.15,
          3653.35,
          1477.65,
          1706.45,
          3953.7,
          1194.3,
          1327.85,
          419.7,
          21,
          45.1,
          207.35,
          1083.7,
          2007.85,
          5882.75,
          2657.55,
          1527.5,
          378.4,
          1612.2,
          76.65,
          260.7,
          6441.85,
          266.8,
          5124.6,
          962.25,
          1382.9,
          571.05,
          1399.35,
          150,
          167.2,
          7657.4,
          865.05,
          6153.85,
          174.2,
          1269.6,
          3862.55,
          6352.4,
          1348.5,
          50.9,
          471.55,
          5931.75,
          1404.65,
          726.1,
          1961.6,
          4194.85,
          4872.45,
          5118.95,
          658.95,
          81.05,
          76.95,
          5809.75,
          20.2,
          415.9,
          246.5,
          996.95,
          3145.15,
          265.3,
          20.9,
          21.05,
          4576.3,
          189.1,
          908.15,
          49.8,
          215.2,
          1500.95,
          5099.15,
          6385.95,
          159.45,
          6885.75,
          5940.85,
          668.85,
          1916.2,
          75.35,
          75.45,
          4613.95,
          7261.25,
          2459.8,
          2048.8,
          163.55,
          2888.7,
          2421.6,
          2292.75,
          553.4,
          3465.7,
          1210.4,
          1291.3,
          5356.45,
          5200.8,
          3237.05,
          576.65,
          433.75,
          1868.4,
          5728.55,
          825.7,
          390.4,
          93.55,
          2845.15,
          3894.4,
          886.4,
          1021.55,
          5885.4,
          268.4,
          2204.35,
          1259,
          309.1,
          6398.05,
          2257.75,
          6287.25,
          1662.05,
          1350.15,
          3600.65,
          1329.15,
          45.7,
          422.5,
          69.95,
          4627.65,
          6717.9,
          97.1,
          1710.45,
          637.4,
          117.95,
          2460.55,
          5464.65,
          2165.05,
          4941.8,
          223.15,
          181.1,
          341.45,
          5731.85,
          357.75,
          4616.1,
          4533.7,
          589.25,
          750.1,
          1410.25,
          830.85,
          743.5,
          45.3,
          7040.85,
          3865.45,
          6825.65,
          1340.1,
          371.65,
          1184,
          8477.7,
          7382.85,
          456.85,
          331.6,
          6056.15,
          134.6,
          125.5,
          1390.6,
          20.2,
          2511.3,
          2737.05,
          74.3,
          70.6,
          2361.8,
          1730.35,
          6404,
          165.35,
          1867.6,
          1043.3,
          128.6,
          7455.45,
          24.7,
          206.15,
          2030.3,
          5869.4,
          3377.8,
          1346.2,
          4946.05,
          4065,
          106.55,
          4964.7,
          4085.75,
          1742.75,
          6224.8,
          3415.25,
          6325.25,
          340.25,
          1683.6,
          3966.3,
          608.5,
          2896.6,
          1514.85,
          6792.45,
          4669.2,
          95.6,
          2934.3,
          6302.8,
          779.2,
          283.75,
          4600.7,
          5594,
          772.85,
          71.35,
          857.8,
          7554.05,
          5981.65,
          1702.9,
          467.15,
          20.15,
          69.75,
          2931,
          1400.85,
          137.85,
          1941.5,
          1932.75,
          1423.05,
          970.85,
          5810.9,
          223.9,
          391.7,
          79.95,
          19.3,
          811.65,
          174.75,
          3126.85,
          6841.45,
          3754.6,
          1406.65,
          834.7,
          627.4,
          242,
          3157,
          3092,
          2168.9,
          980.35,
          65.95,
          711.9,
          1952.8,
          4368.85,
          2647.1,
          8477.6,
          54.35,
          4528,
          1790.65,
          845.6,
          1210.3,
          20.45,
          854.45,
          2429.1,
          100.4,
          5229.45,
          44.45,
          1716.45,
          3023.55,
          75.3,
          4837.6,
          2032.3,
          436.9,
          70.55,
          20.15,
          5893.95,
          1430.05,
          313,
          3871.85,
          458.1,
          2745.7,
          341.35,
          1336.8,
          2181.75,
          147.75,
          818.45,
          7133.45,
          348.8,
          128.6,
          4674.4,
          1737.45,
          1498.85,
          50.1,
          1797.75,
          498.1,
          2624.25,
          184.1,
          5498.8,
          4845.4,
          369.1,
          6096.9,
          160.75,
          2684.35,
          3004.15,
          6994.8,
          273.25,
          5483.9,
          1233.65,
          527.9,
          4985.9,
          1258.35,
          111.4,
          43.95,
          308.1,
          383.65,
          2555.9,
          1284.2,
          7550.3,
          1110.05,
          99.6,
          6707.15,
          4164.4,
          5873.75,
          109.25,
          179.25,
          1338.15,
          862.4,
          8564.75,
          926.2,
          1718.2,
          5956.85,
          91.3,
          4824.45,
          1238.65,
          79.5,
          672.2,
          382.2,
          4264.6,
          1070.7,
          1345.85,
          1045.25,
          3003.55,
          467.55,
          7537.5,
          7482.1,
          3343.15,
          5427.05,
          587.1,
          100.8,
          161.15,
          7028.5,
          5232.9,
          225.85,
          274.7,
          1180.95,
          3370.2,
          7111.3,
          5958.85,
          5999.85,
          1648.45,
          5753.25,
          4492.9,
          3956.7,
          2625.55,
          1233.4,
          1309,
          813.45,
          1108.8,
          7349.35,
          294.2,
          929.2,
          740,
          754.5,
          3883.3,
          1414.2,
          3211.2,
          371.6,
          1246.4,
          95.85,
          2545.7,
          6448.85,
          1468.9,
          1013.6,
          6690.75,
          2088.75,
          7240.65,
          102.45,
          830.25,
          1588.7,
          829.3,
          302.45,
          712.25,
          1336.65,
          5360.75,
          6735.05,
          51.2,
          1010,
          4847.05,
          3019.7,
          161.65,
          217.55,
          2583.75,
          146.05,
          567.45,
          7711.25,
          1384.75,
          5481.25,
          8124.2,
          827.3,
          70.9,
          220.95,
          3673.6,
          49.85,
          576.65,
          2331.3,
          74.5,
          4495.65,
          6941.2,
          340.35,
          1789.9,
          908.55,
          1043.35,
          6822.15,
          71.55,
          157.55,
          5029.2,
          581.7,
          7318.2,
          420.45,
          7576.7,
          633.4,
          321.65,
          4965,
          6151.9,
          1253.9,
          25.15,
          45.2,
          5893.15,
          5420.65,
          2627.35,
          5037.55,
          743.75,
          6589.6,
          92.45,
          6733.15,
          3410,
          199.85,
          593.3,
          7288.4,
          5229.8,
          4464.8,
          5068.05,
          401.85,
          4451.85,
          6688.95,
          2661.1,
          73.05,
          1211.65,
          7030.65,
          1020.2,
          5597.65,
          6223.3,
          1024.65,
          2933.2,
          1258.3,
          82.9,
          7789.6,
          2067,
          3452.55,
          5468.95,
          1802.15,
          733.55,
          3021.45,
          3687.85,
          1391.15,
          274.35,
          1214.05,
          5510.65,
          1322.85,
          1973.75,
          2196.3,
          7843.55,
          3211.9,
          130.15,
          692.35,
          85.5,
          6849.4,
          203.95,
          2117.2,
          6565.85,
          424.75,
          3306.85,
          168.9,
          253.8,
          197.4,
          3838.2,
          2065.15,
          5064.45,
          1140.05,
          2447.45,
          1263.9,
          45.95,
          1838.15,
          44.75,
          1185,
          1743.9,
          70.15,
          85.55,
          8529.5,
          6549.45,
          7806.5,
          25.7,
          6287.3,
          3251.85,
          50.6,
          7904.25,
          729.95,
          2654.05,
          2416.55,
          3520.75,
          5969.95,
          226.8,
          1082.75,
          565.75,
          4370.75,
          90.05,
          2169.4,
          550.6,
          55.45,
          6300.85,
          160.05,
          436.6,
          1781.35,
          3467,
          5552.5,
          2835.5,
          3591.25,
          88.35,
          63.75,
          617.15,
          870.25,
          601.25,
          111.65,
          6046.1,
          3923.8,
          777.3,
          512.45,
          141.45,
          892.15,
          1682.05,
          3398.9,
          4984.85,
          1445.3,
          305.55,
          507.9,
          3640.45,
          2673.45,
          389.8,
          2401.05,
          651.55,
          156.1,
          2796.35,
          70.05,
          407.05,
          6465,
          511.25,
          646.05,
          35.9,
          3777.15,
          4903.15,
          1653.85,
          47.5,
          1306.3,
          463.6,
          60.65,
          824.85,
          2094.65,
          438.9,
          847.3,
          329.75,
          674.55,
          162.55,
          546.95,
          7887.25,
          3186.65,
          1972.35,
          1527.35,
          490.55,
          1531.4,
          683.25,
          8058.85,
          2847.4,
          1133.9,
          294.45,
          1719.15,
          461.7,
          1160.45,
          5199.8,
          5163.3,
          162.3,
          883.35,
          1341.5,
          70.45,
          659.45,
          77.15,
          35.25,
          1205.05,
          4917.9,
          201,
          599.3,
          1733.15,
          5149.5,
          4677.1,
          119.3,
          4849.1,
          5424.25,
          5878.9,
          244.85,
          220.75,
          4261.2,
          5574.75,
          1501.75,
          89.75,
          4541.2,
          255.5,
          1072,
          2509.25,
          1440.75,
          1715.65,
          5333.35,
          3895.35,
          869.9,
          706.85,
          512.25,
          2636.05,
          814.75,
          388.6,
          93.45,
          1389.85,
          2894.55
         ],
         "y0": " ",
         "yaxis": "y"
        }
       ],
       "layout": {
        "boxmode": "group",
        "legend": {
         "tracegroupgap": 0
        },
        "template": {
         "data": {
          "bar": [
           {
            "error_x": {
             "color": "#2a3f5f"
            },
            "error_y": {
             "color": "#2a3f5f"
            },
            "marker": {
             "line": {
              "color": "#E5ECF6",
              "width": 0.5
             },
             "pattern": {
              "fillmode": "overlay",
              "size": 10,
              "solidity": 0.2
             }
            },
            "type": "bar"
           }
          ],
          "barpolar": [
           {
            "marker": {
             "line": {
              "color": "#E5ECF6",
              "width": 0.5
             },
             "pattern": {
              "fillmode": "overlay",
              "size": 10,
              "solidity": 0.2
             }
            },
            "type": "barpolar"
           }
          ],
          "carpet": [
           {
            "aaxis": {
             "endlinecolor": "#2a3f5f",
             "gridcolor": "white",
             "linecolor": "white",
             "minorgridcolor": "white",
             "startlinecolor": "#2a3f5f"
            },
            "baxis": {
             "endlinecolor": "#2a3f5f",
             "gridcolor": "white",
             "linecolor": "white",
             "minorgridcolor": "white",
             "startlinecolor": "#2a3f5f"
            },
            "type": "carpet"
           }
          ],
          "choropleth": [
           {
            "colorbar": {
             "outlinewidth": 0,
             "ticks": ""
            },
            "type": "choropleth"
           }
          ],
          "contour": [
           {
            "colorbar": {
             "outlinewidth": 0,
             "ticks": ""
            },
            "colorscale": [
             [
              0,
              "#0d0887"
             ],
             [
              0.1111111111111111,
              "#46039f"
             ],
             [
              0.2222222222222222,
              "#7201a8"
             ],
             [
              0.3333333333333333,
              "#9c179e"
             ],
             [
              0.4444444444444444,
              "#bd3786"
             ],
             [
              0.5555555555555556,
              "#d8576b"
             ],
             [
              0.6666666666666666,
              "#ed7953"
             ],
             [
              0.7777777777777778,
              "#fb9f3a"
             ],
             [
              0.8888888888888888,
              "#fdca26"
             ],
             [
              1,
              "#f0f921"
             ]
            ],
            "type": "contour"
           }
          ],
          "contourcarpet": [
           {
            "colorbar": {
             "outlinewidth": 0,
             "ticks": ""
            },
            "type": "contourcarpet"
           }
          ],
          "heatmap": [
           {
            "colorbar": {
             "outlinewidth": 0,
             "ticks": ""
            },
            "colorscale": [
             [
              0,
              "#0d0887"
             ],
             [
              0.1111111111111111,
              "#46039f"
             ],
             [
              0.2222222222222222,
              "#7201a8"
             ],
             [
              0.3333333333333333,
              "#9c179e"
             ],
             [
              0.4444444444444444,
              "#bd3786"
             ],
             [
              0.5555555555555556,
              "#d8576b"
             ],
             [
              0.6666666666666666,
              "#ed7953"
             ],
             [
              0.7777777777777778,
              "#fb9f3a"
             ],
             [
              0.8888888888888888,
              "#fdca26"
             ],
             [
              1,
              "#f0f921"
             ]
            ],
            "type": "heatmap"
           }
          ],
          "heatmapgl": [
           {
            "colorbar": {
             "outlinewidth": 0,
             "ticks": ""
            },
            "colorscale": [
             [
              0,
              "#0d0887"
             ],
             [
              0.1111111111111111,
              "#46039f"
             ],
             [
              0.2222222222222222,
              "#7201a8"
             ],
             [
              0.3333333333333333,
              "#9c179e"
             ],
             [
              0.4444444444444444,
              "#bd3786"
             ],
             [
              0.5555555555555556,
              "#d8576b"
             ],
             [
              0.6666666666666666,
              "#ed7953"
             ],
             [
              0.7777777777777778,
              "#fb9f3a"
             ],
             [
              0.8888888888888888,
              "#fdca26"
             ],
             [
              1,
              "#f0f921"
             ]
            ],
            "type": "heatmapgl"
           }
          ],
          "histogram": [
           {
            "marker": {
             "pattern": {
              "fillmode": "overlay",
              "size": 10,
              "solidity": 0.2
             }
            },
            "type": "histogram"
           }
          ],
          "histogram2d": [
           {
            "colorbar": {
             "outlinewidth": 0,
             "ticks": ""
            },
            "colorscale": [
             [
              0,
              "#0d0887"
             ],
             [
              0.1111111111111111,
              "#46039f"
             ],
             [
              0.2222222222222222,
              "#7201a8"
             ],
             [
              0.3333333333333333,
              "#9c179e"
             ],
             [
              0.4444444444444444,
              "#bd3786"
             ],
             [
              0.5555555555555556,
              "#d8576b"
             ],
             [
              0.6666666666666666,
              "#ed7953"
             ],
             [
              0.7777777777777778,
              "#fb9f3a"
             ],
             [
              0.8888888888888888,
              "#fdca26"
             ],
             [
              1,
              "#f0f921"
             ]
            ],
            "type": "histogram2d"
           }
          ],
          "histogram2dcontour": [
           {
            "colorbar": {
             "outlinewidth": 0,
             "ticks": ""
            },
            "colorscale": [
             [
              0,
              "#0d0887"
             ],
             [
              0.1111111111111111,
              "#46039f"
             ],
             [
              0.2222222222222222,
              "#7201a8"
             ],
             [
              0.3333333333333333,
              "#9c179e"
             ],
             [
              0.4444444444444444,
              "#bd3786"
             ],
             [
              0.5555555555555556,
              "#d8576b"
             ],
             [
              0.6666666666666666,
              "#ed7953"
             ],
             [
              0.7777777777777778,
              "#fb9f3a"
             ],
             [
              0.8888888888888888,
              "#fdca26"
             ],
             [
              1,
              "#f0f921"
             ]
            ],
            "type": "histogram2dcontour"
           }
          ],
          "mesh3d": [
           {
            "colorbar": {
             "outlinewidth": 0,
             "ticks": ""
            },
            "type": "mesh3d"
           }
          ],
          "parcoords": [
           {
            "line": {
             "colorbar": {
              "outlinewidth": 0,
              "ticks": ""
             }
            },
            "type": "parcoords"
           }
          ],
          "pie": [
           {
            "automargin": true,
            "type": "pie"
           }
          ],
          "scatter": [
           {
            "fillpattern": {
             "fillmode": "overlay",
             "size": 10,
             "solidity": 0.2
            },
            "type": "scatter"
           }
          ],
          "scatter3d": [
           {
            "line": {
             "colorbar": {
              "outlinewidth": 0,
              "ticks": ""
             }
            },
            "marker": {
             "colorbar": {
              "outlinewidth": 0,
              "ticks": ""
             }
            },
            "type": "scatter3d"
           }
          ],
          "scattercarpet": [
           {
            "marker": {
             "colorbar": {
              "outlinewidth": 0,
              "ticks": ""
             }
            },
            "type": "scattercarpet"
           }
          ],
          "scattergeo": [
           {
            "marker": {
             "colorbar": {
              "outlinewidth": 0,
              "ticks": ""
             }
            },
            "type": "scattergeo"
           }
          ],
          "scattergl": [
           {
            "marker": {
             "colorbar": {
              "outlinewidth": 0,
              "ticks": ""
             }
            },
            "type": "scattergl"
           }
          ],
          "scattermapbox": [
           {
            "marker": {
             "colorbar": {
              "outlinewidth": 0,
              "ticks": ""
             }
            },
            "type": "scattermapbox"
           }
          ],
          "scatterpolar": [
           {
            "marker": {
             "colorbar": {
              "outlinewidth": 0,
              "ticks": ""
             }
            },
            "type": "scatterpolar"
           }
          ],
          "scatterpolargl": [
           {
            "marker": {
             "colorbar": {
              "outlinewidth": 0,
              "ticks": ""
             }
            },
            "type": "scatterpolargl"
           }
          ],
          "scatterternary": [
           {
            "marker": {
             "colorbar": {
              "outlinewidth": 0,
              "ticks": ""
             }
            },
            "type": "scatterternary"
           }
          ],
          "surface": [
           {
            "colorbar": {
             "outlinewidth": 0,
             "ticks": ""
            },
            "colorscale": [
             [
              0,
              "#0d0887"
             ],
             [
              0.1111111111111111,
              "#46039f"
             ],
             [
              0.2222222222222222,
              "#7201a8"
             ],
             [
              0.3333333333333333,
              "#9c179e"
             ],
             [
              0.4444444444444444,
              "#bd3786"
             ],
             [
              0.5555555555555556,
              "#d8576b"
             ],
             [
              0.6666666666666666,
              "#ed7953"
             ],
             [
              0.7777777777777778,
              "#fb9f3a"
             ],
             [
              0.8888888888888888,
              "#fdca26"
             ],
             [
              1,
              "#f0f921"
             ]
            ],
            "type": "surface"
           }
          ],
          "table": [
           {
            "cells": {
             "fill": {
              "color": "#EBF0F8"
             },
             "line": {
              "color": "white"
             }
            },
            "header": {
             "fill": {
              "color": "#C8D4E3"
             },
             "line": {
              "color": "white"
             }
            },
            "type": "table"
           }
          ]
         },
         "layout": {
          "annotationdefaults": {
           "arrowcolor": "#2a3f5f",
           "arrowhead": 0,
           "arrowwidth": 1
          },
          "autotypenumbers": "strict",
          "coloraxis": {
           "colorbar": {
            "outlinewidth": 0,
            "ticks": ""
           }
          },
          "colorscale": {
           "diverging": [
            [
             0,
             "#8e0152"
            ],
            [
             0.1,
             "#c51b7d"
            ],
            [
             0.2,
             "#de77ae"
            ],
            [
             0.3,
             "#f1b6da"
            ],
            [
             0.4,
             "#fde0ef"
            ],
            [
             0.5,
             "#f7f7f7"
            ],
            [
             0.6,
             "#e6f5d0"
            ],
            [
             0.7,
             "#b8e186"
            ],
            [
             0.8,
             "#7fbc41"
            ],
            [
             0.9,
             "#4d9221"
            ],
            [
             1,
             "#276419"
            ]
           ],
           "sequential": [
            [
             0,
             "#0d0887"
            ],
            [
             0.1111111111111111,
             "#46039f"
            ],
            [
             0.2222222222222222,
             "#7201a8"
            ],
            [
             0.3333333333333333,
             "#9c179e"
            ],
            [
             0.4444444444444444,
             "#bd3786"
            ],
            [
             0.5555555555555556,
             "#d8576b"
            ],
            [
             0.6666666666666666,
             "#ed7953"
            ],
            [
             0.7777777777777778,
             "#fb9f3a"
            ],
            [
             0.8888888888888888,
             "#fdca26"
            ],
            [
             1,
             "#f0f921"
            ]
           ],
           "sequentialminus": [
            [
             0,
             "#0d0887"
            ],
            [
             0.1111111111111111,
             "#46039f"
            ],
            [
             0.2222222222222222,
             "#7201a8"
            ],
            [
             0.3333333333333333,
             "#9c179e"
            ],
            [
             0.4444444444444444,
             "#bd3786"
            ],
            [
             0.5555555555555556,
             "#d8576b"
            ],
            [
             0.6666666666666666,
             "#ed7953"
            ],
            [
             0.7777777777777778,
             "#fb9f3a"
            ],
            [
             0.8888888888888888,
             "#fdca26"
            ],
            [
             1,
             "#f0f921"
            ]
           ]
          },
          "colorway": [
           "#636efa",
           "#EF553B",
           "#00cc96",
           "#ab63fa",
           "#FFA15A",
           "#19d3f3",
           "#FF6692",
           "#B6E880",
           "#FF97FF",
           "#FECB52"
          ],
          "font": {
           "color": "#2a3f5f"
          },
          "geo": {
           "bgcolor": "white",
           "lakecolor": "white",
           "landcolor": "#E5ECF6",
           "showlakes": true,
           "showland": true,
           "subunitcolor": "white"
          },
          "hoverlabel": {
           "align": "left"
          },
          "hovermode": "closest",
          "mapbox": {
           "style": "light"
          },
          "paper_bgcolor": "white",
          "plot_bgcolor": "#E5ECF6",
          "polar": {
           "angularaxis": {
            "gridcolor": "white",
            "linecolor": "white",
            "ticks": ""
           },
           "bgcolor": "#E5ECF6",
           "radialaxis": {
            "gridcolor": "white",
            "linecolor": "white",
            "ticks": ""
           }
          },
          "scene": {
           "xaxis": {
            "backgroundcolor": "#E5ECF6",
            "gridcolor": "white",
            "gridwidth": 2,
            "linecolor": "white",
            "showbackground": true,
            "ticks": "",
            "zerolinecolor": "white"
           },
           "yaxis": {
            "backgroundcolor": "#E5ECF6",
            "gridcolor": "white",
            "gridwidth": 2,
            "linecolor": "white",
            "showbackground": true,
            "ticks": "",
            "zerolinecolor": "white"
           },
           "zaxis": {
            "backgroundcolor": "#E5ECF6",
            "gridcolor": "white",
            "gridwidth": 2,
            "linecolor": "white",
            "showbackground": true,
            "ticks": "",
            "zerolinecolor": "white"
           }
          },
          "shapedefaults": {
           "line": {
            "color": "#2a3f5f"
           }
          },
          "ternary": {
           "aaxis": {
            "gridcolor": "white",
            "linecolor": "white",
            "ticks": ""
           },
           "baxis": {
            "gridcolor": "white",
            "linecolor": "white",
            "ticks": ""
           },
           "bgcolor": "#E5ECF6",
           "caxis": {
            "gridcolor": "white",
            "linecolor": "white",
            "ticks": ""
           }
          },
          "title": {
           "x": 0.05
          },
          "xaxis": {
           "automargin": true,
           "gridcolor": "white",
           "linecolor": "white",
           "ticks": "",
           "title": {
            "standoff": 15
           },
           "zerolinecolor": "white",
           "zerolinewidth": 2
          },
          "yaxis": {
           "automargin": true,
           "gridcolor": "white",
           "linecolor": "white",
           "ticks": "",
           "title": {
            "standoff": 15
           },
           "zerolinecolor": "white",
           "zerolinewidth": 2
          }
         }
        },
        "title": {
         "text": "Box Plot Total Pago"
        },
        "xaxis": {
         "anchor": "y",
         "domain": [
          0,
          1
         ]
        },
        "yaxis": {
         "anchor": "x",
         "domain": [
          0,
          1
         ],
         "title": {
          "text": "Total pago R$"
         }
        }
       }
      }
     },
     "metadata": {},
     "output_type": "display_data"
    }
   ],
   "source": [
    "fig = px.box(df, y='TOTAL_PAGO', title='Box Plot Total Pago', labels={'TOTAL_PAGO': 'Total pago R$'})\n",
    "fig.show()"
   ]
  },
  {
   "cell_type": "markdown",
   "metadata": {},
   "source": [
    "Apesar de inicialmente me parecer que haviam outliers, conforme minhas análises anteriores cheguei a conclusão que a dostrbuição dos dados aparenta ser real dessa maneira optei por não modificar/remover os dados."
   ]
  },
  {
   "cell_type": "markdown",
   "metadata": {
    "id": "l7XwsuFpIWKB"
   },
   "source": [
    "# 4) Realize a etapa da análise bivariada:"
   ]
  },
  {
   "cell_type": "markdown",
   "metadata": {},
   "source": [
    "### A) Questione pelo menos 5 informações e traga as respostas utilizando visuais gráficos e insights."
   ]
  },
  {
   "cell_type": "code",
   "execution_count": 103,
   "metadata": {
    "id": "7APnjGTNGHYb"
   },
   "outputs": [
    {
     "data": {
      "application/vnd.plotly.v1+json": {
       "config": {
        "plotlyServerURL": "https://plot.ly"
       },
       "data": [
        {
         "alignmentgroup": "True",
         "bingroup": "x",
         "hovertemplate": "IDOSO=0<br>CHURN=%{x}<br>count=%{y}<extra></extra>",
         "legendgroup": "0",
         "marker": {
          "color": "#636efa",
          "pattern": {
           "shape": ""
          }
         },
         "name": "0",
         "offsetgroup": "0",
         "orientation": "v",
         "showlegend": true,
         "type": "histogram",
         "x": [
          "NO",
          "NO",
          "YES",
          "NO",
          "NO",
          "NO",
          "YES",
          "NO",
          "NO",
          "YES",
          "NO",
          "NO",
          "NO",
          "YES",
          "YES",
          "NO",
          "YES",
          "NO",
          "NO",
          "NO",
          "YES",
          "NO",
          "YES",
          "YES",
          "NO",
          "NO",
          "NO",
          "NO",
          "NO",
          "NO",
          "NO",
          "YES",
          "NO",
          "NO",
          "YES",
          "NO",
          "NO",
          "NO",
          "NO",
          "NO",
          "NO",
          "NO",
          "YES",
          "NO",
          "NO",
          "NO",
          "NO",
          "NO",
          "NO",
          "NO",
          "NO",
          "NO",
          "NO",
          "NO",
          "NO",
          "YES",
          "NO",
          "YES",
          "NO",
          "NO",
          "NO",
          "NO",
          "NO",
          "NO",
          "NO",
          "NO",
          "NO",
          "NO",
          "NO",
          "YES",
          "NO",
          "YES",
          "NO",
          "NO",
          "NO",
          "NO",
          "YES",
          "NO",
          "NO",
          "NO",
          "NO",
          "NO",
          "YES",
          "NO",
          "NO",
          "NO",
          "NO",
          "NO",
          "YES",
          "NO",
          "NO",
          "NO",
          "NO",
          "YES",
          "NO",
          "NO",
          "NO",
          "NO",
          "NO",
          "NO",
          "YES",
          "NO",
          "YES",
          "YES",
          "NO",
          "NO",
          "NO",
          "NO",
          "YES",
          "NO",
          "NO",
          "NO",
          "NO",
          "YES",
          "NO",
          "NO",
          "NO",
          "YES",
          "NO",
          "NO",
          "NO",
          "NO",
          "NO",
          "NO",
          "NO",
          "NO",
          "NO",
          "YES",
          "NO",
          "NO",
          "NO",
          "NO",
          "YES",
          "NO",
          "NO",
          "NO",
          "YES",
          "NO",
          "YES",
          "NO",
          "NO",
          "NO",
          "NO",
          "YES",
          "NO",
          "YES",
          "NO",
          "YES",
          "YES",
          "NO",
          "NO",
          "NO",
          "NO",
          "NO",
          "YES",
          "NO",
          "NO",
          "NO",
          "NO",
          "NO",
          "NO",
          "NO",
          "NO",
          "NO",
          "NO",
          "NO",
          "NO",
          "NO",
          "NO",
          "NO",
          "YES",
          "YES",
          "NO",
          "YES",
          "NO",
          "NO",
          "NO",
          "NO",
          "NO",
          "NO",
          "NO",
          "NO",
          "YES",
          "NO",
          "NO",
          "YES",
          "NO",
          "NO",
          "NO",
          "YES",
          "NO",
          "NO",
          "NO",
          "NO",
          "YES",
          "NO",
          "NO",
          "YES",
          "NO",
          "NO",
          "NO",
          "NO",
          "NO",
          "NO",
          "NO",
          "YES",
          "NO",
          "NO",
          "YES",
          "NO",
          "NO",
          "NO",
          "NO",
          "NO",
          "YES",
          "NO",
          "NO",
          "NO",
          "NO",
          "YES",
          "NO",
          "NO",
          "YES",
          "YES",
          "YES",
          "YES",
          "NO",
          "NO",
          "NO",
          "NO",
          "NO",
          "NO",
          "YES",
          "NO",
          "NO",
          "YES",
          "YES",
          "NO",
          "NO",
          "NO",
          "NO",
          "NO",
          "NO",
          "YES",
          "NO",
          "NO",
          "NO",
          "NO",
          "NO",
          "NO",
          "NO",
          "NO",
          "NO",
          "NO",
          "YES",
          "NO",
          "NO",
          "YES",
          "NO",
          "NO",
          "NO",
          "NO",
          "NO",
          "NO",
          "NO",
          "NO",
          "NO",
          "YES",
          "YES",
          "YES",
          "YES",
          "NO",
          "NO",
          "YES",
          "NO",
          "NO",
          "NO",
          "NO",
          "YES",
          "NO",
          "NO",
          "NO",
          "NO",
          "YES",
          "YES",
          "NO",
          "NO",
          "NO",
          "NO",
          "NO",
          "NO",
          "NO",
          "YES",
          "NO",
          "NO",
          "NO",
          "NO",
          "NO",
          "YES",
          "NO",
          "NO",
          "NO",
          "NO",
          "NO",
          "YES",
          "NO",
          "NO",
          "NO",
          "YES",
          "YES",
          "NO",
          "NO",
          "NO",
          "NO",
          "NO",
          "NO",
          "NO",
          "YES",
          "NO",
          "NO",
          "NO",
          "YES",
          "NO",
          "NO",
          "NO",
          "NO",
          "YES",
          "YES",
          "NO",
          "NO",
          "NO",
          "NO",
          "NO",
          "NO",
          "YES",
          "NO",
          "NO",
          "NO",
          "NO",
          "NO",
          "NO",
          "NO",
          "NO",
          "YES",
          "NO",
          "NO",
          "YES",
          "NO",
          "NO",
          "NO",
          "NO",
          "NO",
          "NO",
          "NO",
          "NO",
          "NO",
          "NO",
          "YES",
          "YES",
          "NO",
          "NO",
          "NO",
          "NO",
          "NO",
          "YES",
          "NO",
          "NO",
          "NO",
          "NO",
          "NO",
          "NO",
          "NO",
          "NO",
          "YES",
          "YES",
          "NO",
          "NO",
          "NO",
          "YES",
          "YES",
          "NO",
          "NO",
          "YES",
          "YES",
          "NO",
          "YES",
          "YES",
          "NO",
          "YES",
          "NO",
          "YES",
          "NO",
          "NO",
          "NO",
          "NO",
          "YES",
          "NO",
          "NO",
          "YES",
          "NO",
          "YES",
          "NO",
          "NO",
          "YES",
          "NO",
          "NO",
          "NO",
          "NO",
          "NO",
          "YES",
          "YES",
          "NO",
          "NO",
          "NO",
          "NO",
          "YES",
          "NO",
          "NO",
          "NO",
          "NO",
          "YES",
          "YES",
          "NO",
          "NO",
          "NO",
          "NO",
          "NO",
          "NO",
          "YES",
          "NO",
          "NO",
          "NO",
          "NO",
          "NO",
          "NO",
          "NO",
          "NO",
          "YES",
          "YES",
          "NO",
          "YES",
          "NO",
          "NO",
          "NO",
          "NO",
          "NO",
          "NO",
          "YES",
          "NO",
          "NO",
          "NO",
          "NO",
          "NO",
          "NO",
          "NO",
          "NO",
          "NO",
          "NO",
          "NO",
          "NO",
          "NO",
          "YES",
          "NO",
          "NO",
          "NO",
          "YES",
          "NO",
          "NO",
          "NO",
          "NO",
          "YES",
          "YES",
          "NO",
          "NO",
          "NO",
          "NO",
          "NO",
          "NO",
          "NO",
          "NO",
          "NO",
          "NO",
          "NO",
          "YES",
          "NO",
          "NO",
          "NO",
          "NO",
          "NO",
          "NO",
          "NO",
          "NO",
          "NO",
          "NO",
          "NO",
          "NO",
          "NO",
          "YES",
          "YES",
          "NO",
          "NO",
          "NO",
          "NO",
          "NO",
          "NO",
          "NO",
          "NO",
          "NO",
          "YES",
          "NO",
          "NO",
          "NO",
          "NO",
          "NO",
          "NO",
          "YES",
          "NO",
          "NO",
          "YES",
          "NO",
          "YES",
          "YES",
          "NO",
          "YES",
          "NO",
          "YES",
          "YES",
          "NO",
          "NO",
          "NO",
          "NO",
          "NO",
          "YES",
          "NO",
          "YES",
          "NO",
          "NO",
          "NO",
          "NO",
          "NO",
          "YES",
          "NO",
          "YES",
          "NO",
          "NO",
          "NO",
          "YES",
          "NO",
          "NO",
          "YES",
          "NO",
          "NO",
          "YES",
          "NO",
          "NO",
          "NO",
          "NO",
          "NO",
          "NO",
          "NO",
          "NO",
          "NO",
          "NO",
          "YES",
          "NO",
          "NO",
          "YES",
          "NO",
          "NO",
          "NO",
          "NO",
          "NO",
          "NO",
          "YES",
          "NO",
          "NO",
          "NO",
          "YES",
          "NO",
          "NO",
          "NO",
          "NO",
          "NO",
          "NO",
          "NO",
          "NO",
          "NO",
          "NO",
          "YES",
          "YES",
          "NO",
          "NO",
          "NO",
          "YES",
          "NO",
          "NO",
          "NO",
          "NO",
          "NO",
          "NO",
          "NO",
          "NO",
          "NO",
          "YES",
          "NO",
          "NO",
          "NO",
          "NO",
          "NO",
          "NO",
          "NO",
          "NO",
          "NO",
          "NO",
          "NO",
          "YES",
          "NO",
          "NO",
          "YES",
          "YES",
          "NO",
          "NO",
          "NO",
          "NO",
          "NO",
          "NO",
          "NO",
          "NO",
          "YES",
          "YES",
          "YES",
          "YES",
          "NO",
          "NO",
          "YES",
          "NO",
          "YES",
          "NO",
          "NO",
          "NO",
          "YES",
          "NO",
          "NO",
          "NO",
          "NO",
          "NO",
          "NO",
          "NO",
          "NO",
          "NO",
          "NO",
          "NO",
          "NO",
          "NO",
          "NO",
          "YES",
          "YES",
          "NO",
          "NO",
          "YES",
          "NO",
          "NO",
          "NO",
          "YES",
          "YES",
          "YES",
          "YES",
          "NO",
          "NO",
          "NO",
          "YES",
          "NO",
          "YES",
          "NO",
          "NO",
          "NO",
          "NO",
          "NO",
          "NO",
          "YES",
          "NO",
          "YES",
          "NO",
          "YES",
          "NO",
          "NO",
          "NO",
          "NO",
          "YES",
          "NO",
          "NO",
          "NO",
          "YES",
          "NO",
          "YES",
          "NO",
          "NO",
          "NO",
          "NO",
          "NO",
          "NO",
          "NO",
          "NO",
          "NO",
          "NO",
          "YES",
          "NO",
          "YES",
          "NO",
          "NO",
          "NO",
          "NO",
          "YES",
          "YES",
          "YES",
          "NO",
          "NO",
          "YES",
          "NO",
          "NO",
          "NO",
          "NO",
          "YES",
          "NO",
          "NO",
          "YES",
          "NO",
          "NO",
          "NO",
          "YES",
          "YES",
          "NO",
          "NO",
          "NO",
          "NO",
          "YES",
          "NO",
          "YES",
          "YES",
          "NO",
          "NO",
          "NO",
          "NO",
          "YES",
          "NO",
          "NO",
          "YES",
          "YES",
          "NO",
          "NO",
          "NO",
          "NO",
          "NO",
          "NO",
          "NO",
          "NO",
          "NO",
          "NO",
          "NO",
          "NO",
          "NO",
          "NO",
          "NO",
          "NO",
          "NO",
          "YES",
          "NO",
          "NO",
          "NO",
          "NO",
          "NO",
          "NO",
          "NO",
          "YES",
          "NO",
          "NO",
          "NO",
          "NO",
          "NO",
          "NO",
          "NO",
          "YES",
          "NO",
          "NO",
          "NO",
          "NO",
          "NO",
          "NO",
          "YES",
          "NO",
          "NO",
          "NO",
          "NO",
          "NO",
          "YES",
          "YES",
          "NO",
          "NO",
          "YES",
          "YES",
          "NO",
          "NO",
          "NO",
          "YES",
          "YES",
          "NO",
          "NO",
          "NO",
          "NO",
          "NO",
          "YES",
          "NO",
          "NO",
          "NO",
          "NO",
          "NO",
          "NO",
          "NO",
          "NO",
          "NO",
          "NO",
          "YES",
          "YES",
          "NO",
          "NO",
          "YES",
          "NO",
          "NO",
          "NO",
          "YES",
          "YES",
          "YES",
          "NO",
          "NO",
          "NO",
          "NO",
          "YES",
          "YES",
          "NO",
          "NO",
          "NO",
          "NO",
          "NO",
          "NO",
          "NO",
          "NO",
          "YES",
          "NO",
          "NO",
          "NO",
          "NO",
          "NO",
          "NO",
          "NO",
          "NO",
          "YES",
          "NO",
          "NO",
          "YES",
          "NO",
          "NO",
          "NO",
          "NO",
          "NO",
          "YES",
          "NO",
          "NO",
          "YES",
          "YES",
          "NO",
          "YES",
          "YES",
          "YES",
          "YES",
          "NO",
          "NO",
          "NO",
          "NO",
          "YES",
          "NO",
          "NO",
          "YES",
          "YES",
          "YES",
          "NO",
          "YES",
          "NO",
          "NO",
          "NO",
          "YES",
          "NO",
          "NO",
          "NO",
          "YES",
          "NO",
          "NO",
          "NO",
          "NO",
          "NO",
          "NO",
          "NO",
          "NO",
          "NO",
          "NO",
          "YES",
          "NO",
          "NO",
          "NO",
          "NO",
          "YES",
          "NO",
          "NO",
          "NO",
          "NO",
          "NO",
          "NO",
          "NO",
          "NO",
          "YES",
          "YES",
          "NO",
          "NO",
          "NO",
          "NO",
          "NO",
          "NO",
          "NO",
          "NO",
          "YES",
          "NO",
          "NO",
          "YES",
          "NO",
          "NO",
          "NO",
          "YES",
          "NO",
          "NO",
          "NO",
          "NO",
          "NO",
          "NO",
          "NO",
          "NO",
          "YES",
          "NO",
          "NO",
          "NO",
          "YES",
          "YES",
          "NO",
          "NO",
          "NO",
          "NO",
          "NO",
          "NO",
          "NO",
          "NO",
          "YES",
          "NO",
          "YES",
          "NO",
          "NO",
          "NO",
          "NO",
          "NO",
          "YES",
          "YES",
          "NO",
          "NO",
          "YES",
          "NO",
          "YES",
          "NO",
          "NO",
          "NO",
          "NO",
          "YES",
          "NO",
          "NO",
          "NO",
          "NO",
          "NO",
          "YES",
          "NO",
          "NO",
          "NO",
          "NO",
          "NO",
          "NO",
          "NO",
          "NO",
          "YES",
          "NO",
          "NO",
          "YES",
          "NO",
          "NO",
          "YES",
          "NO",
          "YES",
          "YES",
          "NO",
          "NO",
          "YES",
          "YES",
          "NO",
          "NO",
          "YES",
          "NO",
          "NO",
          "NO",
          "NO",
          "YES",
          "YES",
          "YES",
          "NO",
          "NO",
          "NO",
          "NO",
          "NO",
          "NO",
          "YES",
          "NO",
          "NO",
          "YES",
          "NO",
          "NO",
          "NO",
          "NO",
          "NO",
          "YES",
          "YES",
          "NO",
          "NO",
          "YES",
          "YES",
          "NO",
          "YES",
          "NO",
          "YES",
          "YES",
          "NO",
          "NO",
          "NO",
          "NO",
          "NO",
          "NO",
          "NO",
          "YES",
          "NO",
          "NO",
          "NO",
          "NO",
          "NO",
          "NO",
          "NO",
          "NO",
          "NO",
          "NO",
          "NO",
          "NO",
          "NO",
          "NO",
          "NO",
          "NO",
          "NO",
          "YES",
          "NO",
          "NO",
          "YES",
          "NO",
          "NO",
          "NO",
          "YES",
          "NO",
          "NO",
          "NO",
          "NO",
          "NO",
          "YES",
          "NO",
          "YES",
          "YES",
          "NO",
          "NO",
          "YES",
          "YES",
          "NO",
          "NO",
          "NO",
          "NO",
          "YES",
          "NO",
          "NO",
          "NO",
          "NO",
          "YES",
          "NO",
          "YES",
          "NO",
          "NO",
          "NO",
          "NO",
          "NO",
          "NO",
          "YES",
          "NO",
          "NO",
          "YES",
          "YES",
          "NO",
          "YES",
          "NO",
          "NO",
          "NO",
          "NO",
          "YES",
          "NO",
          "YES",
          "NO",
          "NO",
          "NO",
          "NO",
          "NO",
          "YES",
          "NO",
          "NO",
          "NO",
          "NO",
          "YES",
          "YES",
          "YES",
          "NO",
          "NO",
          "YES",
          "YES",
          "NO",
          "NO",
          "NO",
          "NO",
          "NO",
          "NO",
          "NO",
          "YES",
          "NO",
          "NO",
          "NO",
          "NO",
          "NO",
          "NO",
          "YES",
          "YES",
          "NO",
          "NO",
          "NO",
          "NO",
          "NO",
          "NO",
          "NO",
          "NO",
          "NO",
          "YES",
          "YES",
          "NO",
          "NO",
          "NO",
          "NO",
          "YES",
          "NO",
          "NO",
          "YES",
          "NO",
          "NO",
          "NO",
          "NO",
          "YES",
          "NO",
          "NO",
          "NO",
          "NO",
          "NO",
          "NO",
          "NO",
          "NO",
          "YES",
          "NO",
          "NO",
          "YES",
          "NO",
          "NO",
          "NO",
          "NO",
          "NO",
          "YES",
          "YES",
          "NO",
          "NO",
          "NO",
          "NO",
          "NO",
          "NO",
          "NO",
          "NO",
          "YES",
          "NO",
          "NO",
          "NO",
          "NO",
          "NO",
          "NO",
          "YES",
          "NO",
          "YES",
          "NO",
          "YES",
          "NO",
          "NO",
          "YES",
          "NO",
          "NO",
          "NO",
          "NO",
          "NO",
          "YES",
          "NO",
          "NO",
          "YES",
          "YES",
          "NO",
          "NO",
          "YES",
          "YES",
          "NO",
          "NO",
          "NO",
          "NO",
          "YES",
          "NO",
          "NO",
          "NO",
          "NO",
          "NO",
          "YES",
          "NO",
          "NO",
          "NO",
          "NO",
          "NO",
          "NO",
          "NO",
          "NO",
          "NO",
          "YES",
          "NO",
          "NO",
          "NO",
          "NO",
          "NO",
          "NO",
          "NO",
          "NO",
          "YES",
          "NO",
          "NO",
          "YES",
          "NO",
          "NO",
          "NO",
          "NO",
          "NO",
          "NO",
          "NO",
          "YES",
          "NO",
          "NO",
          "YES",
          "NO",
          "NO",
          "NO",
          "YES",
          "NO",
          "NO",
          "NO",
          "NO",
          "YES",
          "NO",
          "NO",
          "NO",
          "YES",
          "NO",
          "YES",
          "NO",
          "NO",
          "NO",
          "NO",
          "YES",
          "YES",
          "NO",
          "YES",
          "NO",
          "NO",
          "YES",
          "NO",
          "NO",
          "NO",
          "NO",
          "NO",
          "NO",
          "NO",
          "NO",
          "NO",
          "YES",
          "YES",
          "YES",
          "NO",
          "NO",
          "NO",
          "NO",
          "NO",
          "NO",
          "NO",
          "NO",
          "YES",
          "NO",
          "NO",
          "NO",
          "NO",
          "NO",
          "NO",
          "NO",
          "YES",
          "YES",
          "NO",
          "NO",
          "NO",
          "NO",
          "NO",
          "NO",
          "YES",
          "NO",
          "NO",
          "NO",
          "NO",
          "NO",
          "NO",
          "NO",
          "YES",
          "NO",
          "NO",
          "YES",
          "YES",
          "NO",
          "NO",
          "NO",
          "YES",
          "NO",
          "NO",
          "NO",
          "NO",
          "NO",
          "NO",
          "NO",
          "NO",
          "NO",
          "NO",
          "YES",
          "NO",
          "YES",
          "NO",
          "YES",
          "NO",
          "NO",
          "NO",
          "YES",
          "NO",
          "NO",
          "YES",
          "NO",
          "NO",
          "YES",
          "YES",
          "YES",
          "NO",
          "NO",
          "NO",
          "NO",
          "NO",
          "NO",
          "NO",
          "YES",
          "NO",
          "YES",
          "NO",
          "NO",
          "NO",
          "NO",
          "NO",
          "NO",
          "NO",
          "YES",
          "NO",
          "NO",
          "NO",
          "NO",
          "NO",
          "NO",
          "NO",
          "YES",
          "NO",
          "YES",
          "NO",
          "NO",
          "NO",
          "NO",
          "YES",
          "YES",
          "NO",
          "YES",
          "NO",
          "YES",
          "NO",
          "NO",
          "NO",
          "NO",
          "NO",
          "NO",
          "NO",
          "NO",
          "NO",
          "NO",
          "YES",
          "NO",
          "NO",
          "NO",
          "NO",
          "NO",
          "NO",
          "NO",
          "YES",
          "NO",
          "YES",
          "NO",
          "YES",
          "NO",
          "NO",
          "YES",
          "NO",
          "NO",
          "YES",
          "NO",
          "NO",
          "NO",
          "NO",
          "YES",
          "NO",
          "NO",
          "YES",
          "NO",
          "NO",
          "NO",
          "NO",
          "NO",
          "NO",
          "NO",
          "NO",
          "NO",
          "NO",
          "NO",
          "NO",
          "NO",
          "NO",
          "NO",
          "NO",
          "YES",
          "NO",
          "NO",
          "NO",
          "NO",
          "NO",
          "YES",
          "YES",
          "YES",
          "NO",
          "YES",
          "NO",
          "NO",
          "YES",
          "NO",
          "NO",
          "NO",
          "NO",
          "YES",
          "NO",
          "NO",
          "NO",
          "YES",
          "NO",
          "NO",
          "NO",
          "NO",
          "NO",
          "NO",
          "NO",
          "YES",
          "YES",
          "NO",
          "NO",
          "NO",
          "NO",
          "NO",
          "NO",
          "NO",
          "NO",
          "NO",
          "YES",
          "YES",
          "NO",
          "NO",
          "NO",
          "NO",
          "NO",
          "NO",
          "NO",
          "NO",
          "NO",
          "YES",
          "YES",
          "NO",
          "YES",
          "NO",
          "NO",
          "NO",
          "NO",
          "NO",
          "NO",
          "NO",
          "NO",
          "YES",
          "YES",
          "YES",
          "YES",
          "NO",
          "NO",
          "YES",
          "YES",
          "NO",
          "YES",
          "NO",
          "NO",
          "YES",
          "NO",
          "NO",
          "NO",
          "NO",
          "NO",
          "NO",
          "NO",
          "NO",
          "NO",
          "NO",
          "NO",
          "YES",
          "YES",
          "NO",
          "NO",
          "NO",
          "NO",
          "NO",
          "YES",
          "NO",
          "NO",
          "YES",
          "NO",
          "NO",
          "NO",
          "NO",
          "NO",
          "NO",
          "NO",
          "NO",
          "NO",
          "YES",
          "NO",
          "NO",
          "NO",
          "NO",
          "NO",
          "NO",
          "NO",
          "NO",
          "NO",
          "NO",
          "NO",
          "YES",
          "NO",
          "YES",
          "NO",
          "NO",
          "NO",
          "NO",
          "NO",
          "YES",
          "YES",
          "YES",
          "NO",
          "NO",
          "NO",
          "NO",
          "NO",
          "YES",
          "NO",
          "NO",
          "NO",
          "NO",
          "NO",
          "NO",
          "NO",
          "NO",
          "NO",
          "YES",
          "NO",
          "NO",
          "NO",
          "YES",
          "NO",
          "YES",
          "NO",
          "NO",
          "YES",
          "YES",
          "NO",
          "NO",
          "NO",
          "NO",
          "NO",
          "NO",
          "NO",
          "NO",
          "NO",
          "NO",
          "YES",
          "YES",
          "NO",
          "NO",
          "YES",
          "NO",
          "NO",
          "NO",
          "YES",
          "NO",
          "NO",
          "NO",
          "NO",
          "YES",
          "NO",
          "NO",
          "YES",
          "YES",
          "NO",
          "YES",
          "NO",
          "NO",
          "NO",
          "YES",
          "NO",
          "NO",
          "NO",
          "YES",
          "YES",
          "NO",
          "NO",
          "YES",
          "YES",
          "YES",
          "YES",
          "YES",
          "YES",
          "NO",
          "YES",
          "NO",
          "YES",
          "NO",
          "NO",
          "NO",
          "YES",
          "NO",
          "YES",
          "YES",
          "NO",
          "NO",
          "NO",
          "NO",
          "NO",
          "NO",
          "NO",
          "YES",
          "NO",
          "NO",
          "YES",
          "YES",
          "NO",
          "NO",
          "YES",
          "YES",
          "NO",
          "NO",
          "NO",
          "NO",
          "NO",
          "NO",
          "NO",
          "NO",
          "NO",
          "NO",
          "YES",
          "YES",
          "NO",
          "NO",
          "YES",
          "NO",
          "NO",
          "NO",
          "YES",
          "NO",
          "NO",
          "NO",
          "NO",
          "NO",
          "NO",
          "YES",
          "YES",
          "NO",
          "NO",
          "NO",
          "NO",
          "YES",
          "NO",
          "NO",
          "NO",
          "NO",
          "YES",
          "YES",
          "YES",
          "YES",
          "NO",
          "NO",
          "NO",
          "NO",
          "NO",
          "NO",
          "NO",
          "YES",
          "YES",
          "NO",
          "NO",
          "NO",
          "NO",
          "YES",
          "NO",
          "YES",
          "YES",
          "NO",
          "NO",
          "NO",
          "NO",
          "NO",
          "NO",
          "NO",
          "NO",
          "NO",
          "NO",
          "YES",
          "NO",
          "NO",
          "NO",
          "NO",
          "NO",
          "NO",
          "NO",
          "YES",
          "NO",
          "NO",
          "YES",
          "NO",
          "YES",
          "YES",
          "NO",
          "NO",
          "NO",
          "NO",
          "NO",
          "NO",
          "NO",
          "NO",
          "YES",
          "NO",
          "NO",
          "NO",
          "NO",
          "NO",
          "NO",
          "NO",
          "NO",
          "NO",
          "NO",
          "NO",
          "NO",
          "NO",
          "YES",
          "YES",
          "NO",
          "NO",
          "NO",
          "NO",
          "YES",
          "NO",
          "NO",
          "NO",
          "NO",
          "NO",
          "NO",
          "NO",
          "NO",
          "NO",
          "YES",
          "NO",
          "NO",
          "NO",
          "NO",
          "NO",
          "NO",
          "YES",
          "NO",
          "NO",
          "NO",
          "NO",
          "NO",
          "NO",
          "YES",
          "NO",
          "NO",
          "NO",
          "NO",
          "NO",
          "NO",
          "NO",
          "NO",
          "YES",
          "YES",
          "NO",
          "NO",
          "NO",
          "NO",
          "NO",
          "YES",
          "NO",
          "NO",
          "NO",
          "NO",
          "NO",
          "NO",
          "YES",
          "NO",
          "NO",
          "NO",
          "NO",
          "NO",
          "YES",
          "NO",
          "NO",
          "NO",
          "NO",
          "NO",
          "NO",
          "NO",
          "NO",
          "NO",
          "YES",
          "NO",
          "YES",
          "NO",
          "NO",
          "NO",
          "NO",
          "NO",
          "NO",
          "NO",
          "NO",
          "NO",
          "NO",
          "NO",
          "YES",
          "NO",
          "YES",
          "YES",
          "NO",
          "YES",
          "NO",
          "NO",
          "YES",
          "NO",
          "NO",
          "YES",
          "YES",
          "YES",
          "YES",
          "YES",
          "NO",
          "YES",
          "NO",
          "NO",
          "YES",
          "YES",
          "NO",
          "NO",
          "YES",
          "YES",
          "YES",
          "NO",
          "NO",
          "YES",
          "NO",
          "NO",
          "YES",
          "NO",
          "NO",
          "NO",
          "NO",
          "NO",
          "NO",
          "NO",
          "NO",
          "NO",
          "NO",
          "NO",
          "NO",
          "NO",
          "NO",
          "NO",
          "NO",
          "NO",
          "YES",
          "NO",
          "NO",
          "NO",
          "NO",
          "NO",
          "NO",
          "NO",
          "NO",
          "YES",
          "NO",
          "NO",
          "NO",
          "NO",
          "NO",
          "NO",
          "NO",
          "NO",
          "NO",
          "NO",
          "NO",
          "NO",
          "NO",
          "NO",
          "NO",
          "NO",
          "NO",
          "NO",
          "NO",
          "NO",
          "NO",
          "YES",
          "NO",
          "NO",
          "NO",
          "YES",
          "NO",
          "NO",
          "NO",
          "NO",
          "NO",
          "NO",
          "NO",
          "NO",
          "NO",
          "YES",
          "NO",
          "NO",
          "NO",
          "NO",
          "NO",
          "NO",
          "NO",
          "NO",
          "NO",
          "NO",
          "NO",
          "NO",
          "YES",
          "NO",
          "YES",
          "NO",
          "NO",
          "NO",
          "NO",
          "NO",
          "NO",
          "YES",
          "YES",
          "YES",
          "NO",
          "NO",
          "NO",
          "NO",
          "YES",
          "NO",
          "NO",
          "NO",
          "NO",
          "NO",
          "NO",
          "NO",
          "NO",
          "YES",
          "NO",
          "NO",
          "YES",
          "YES",
          "NO",
          "NO",
          "NO",
          "NO",
          "NO",
          "YES",
          "NO",
          "NO",
          "NO",
          "NO",
          "YES",
          "NO",
          "NO",
          "NO",
          "YES",
          "NO",
          "YES",
          "NO",
          "NO",
          "NO",
          "NO",
          "NO",
          "NO",
          "YES",
          "YES",
          "NO",
          "NO",
          "YES",
          "NO",
          "NO",
          "YES",
          "NO",
          "NO",
          "NO",
          "NO",
          "NO",
          "NO",
          "NO",
          "NO",
          "NO",
          "NO",
          "YES",
          "NO",
          "NO",
          "YES",
          "NO",
          "NO",
          "NO",
          "YES",
          "NO",
          "YES",
          "NO",
          "NO",
          "NO",
          "NO",
          "NO"
         ],
         "xaxis": "x",
         "yaxis": "y"
        },
        {
         "alignmentgroup": "True",
         "bingroup": "x",
         "hovertemplate": "IDOSO=1<br>CHURN=%{x}<br>count=%{y}<extra></extra>",
         "legendgroup": "1",
         "marker": {
          "color": "#EF553B",
          "pattern": {
           "shape": ""
          }
         },
         "name": "1",
         "offsetgroup": "1",
         "orientation": "v",
         "showlegend": true,
         "type": "histogram",
         "x": [
          "YES",
          "NO",
          "NO",
          "NO",
          "NO",
          "NO",
          "YES",
          "NO",
          "YES",
          "NO",
          "NO",
          "NO",
          "NO",
          "NO",
          "YES",
          "NO",
          "YES",
          "YES",
          "NO",
          "YES",
          "NO",
          "NO",
          "YES",
          "YES",
          "YES",
          "NO",
          "YES",
          "NO",
          "NO",
          "NO",
          "YES",
          "YES",
          "NO",
          "YES",
          "YES",
          "NO",
          "NO",
          "YES",
          "NO",
          "NO",
          "YES",
          "YES",
          "NO",
          "NO",
          "YES",
          "YES",
          "NO",
          "NO",
          "YES",
          "YES",
          "NO",
          "YES",
          "NO",
          "NO",
          "NO",
          "NO",
          "NO",
          "NO",
          "YES",
          "NO",
          "YES",
          "NO",
          "YES",
          "YES",
          "NO",
          "NO",
          "NO",
          "NO",
          "NO",
          "NO",
          "YES",
          "NO",
          "YES",
          "NO",
          "NO",
          "NO",
          "NO",
          "NO",
          "NO",
          "NO",
          "NO",
          "NO",
          "NO",
          "YES",
          "NO",
          "YES",
          "NO",
          "YES",
          "NO",
          "YES",
          "NO",
          "NO",
          "NO",
          "NO",
          "NO",
          "NO",
          "NO",
          "NO",
          "YES",
          "YES",
          "YES",
          "NO",
          "NO",
          "NO",
          "NO",
          "NO",
          "YES",
          "YES",
          "YES",
          "NO",
          "YES",
          "YES",
          "NO",
          "YES",
          "YES",
          "NO",
          "NO",
          "YES",
          "NO",
          "NO",
          "NO",
          "NO",
          "YES",
          "NO",
          "YES",
          "NO",
          "NO",
          "NO",
          "NO",
          "NO",
          "YES",
          "YES",
          "NO",
          "NO",
          "YES",
          "YES",
          "NO",
          "YES",
          "YES",
          "NO",
          "NO",
          "NO",
          "NO",
          "YES",
          "YES",
          "NO",
          "YES",
          "NO",
          "NO",
          "YES",
          "YES",
          "NO",
          "NO",
          "YES",
          "YES",
          "NO",
          "NO",
          "NO",
          "YES",
          "YES",
          "YES",
          "YES",
          "YES",
          "YES",
          "NO",
          "NO",
          "NO",
          "NO",
          "NO",
          "YES",
          "YES",
          "YES",
          "YES",
          "YES",
          "NO",
          "NO",
          "NO",
          "NO",
          "YES",
          "YES",
          "YES",
          "NO",
          "YES",
          "NO",
          "YES",
          "NO",
          "NO",
          "NO",
          "NO",
          "YES",
          "NO",
          "NO",
          "NO",
          "NO",
          "NO",
          "YES",
          "NO",
          "NO",
          "NO",
          "YES",
          "NO",
          "NO",
          "NO",
          "YES",
          "YES",
          "NO",
          "NO",
          "NO",
          "NO",
          "NO",
          "YES",
          "NO",
          "NO",
          "YES",
          "YES",
          "YES",
          "YES",
          "YES",
          "NO",
          "YES",
          "YES",
          "YES",
          "YES",
          "NO",
          "NO",
          "YES",
          "NO",
          "NO",
          "NO",
          "YES",
          "NO",
          "NO",
          "NO",
          "NO",
          "NO",
          "NO",
          "YES",
          "NO",
          "YES",
          "YES",
          "NO",
          "NO",
          "YES",
          "NO",
          "YES",
          "NO",
          "NO",
          "NO",
          "YES",
          "NO",
          "YES",
          "NO",
          "YES",
          "NO",
          "NO",
          "NO",
          "NO",
          "YES",
          "YES",
          "NO",
          "YES",
          "YES",
          "NO",
          "NO",
          "YES",
          "YES",
          "YES",
          "NO",
          "YES",
          "NO",
          "YES",
          "NO",
          "NO",
          "NO",
          "NO",
          "NO",
          "NO",
          "NO",
          "NO",
          "YES",
          "NO",
          "NO",
          "NO",
          "NO",
          "YES",
          "YES",
          "NO",
          "NO",
          "NO",
          "NO",
          "NO",
          "YES",
          "NO",
          "NO",
          "YES",
          "NO",
          "YES",
          "YES",
          "NO",
          "NO",
          "YES",
          "YES",
          "NO",
          "NO",
          "NO",
          "YES",
          "YES",
          "NO",
          "YES",
          "YES",
          "NO",
          "NO",
          "NO",
          "YES",
          "NO",
          "YES",
          "YES",
          "YES",
          "NO",
          "YES",
          "NO",
          "NO",
          "NO",
          "NO",
          "NO",
          "YES",
          "NO",
          "YES",
          "NO",
          "NO",
          "YES",
          "NO",
          "YES",
          "NO",
          "YES",
          "NO",
          "YES",
          "YES",
          "NO",
          "NO",
          "YES",
          "YES",
          "NO",
          "YES",
          "NO",
          "YES",
          "YES",
          "NO",
          "NO",
          "YES",
          "NO",
          "NO",
          "NO",
          "NO",
          "NO",
          "NO",
          "NO",
          "YES",
          "NO",
          "NO",
          "NO",
          "NO",
          "NO",
          "YES",
          "NO",
          "YES",
          "NO",
          "NO",
          "NO",
          "YES",
          "NO",
          "NO",
          "NO",
          "YES",
          "YES",
          "NO",
          "NO",
          "YES",
          "NO",
          "YES",
          "NO",
          "NO",
          "NO",
          "NO",
          "YES",
          "NO",
          "NO",
          "NO",
          "YES",
          "NO",
          "NO",
          "NO",
          "YES",
          "YES",
          "YES",
          "YES",
          "NO",
          "NO",
          "NO",
          "YES",
          "NO",
          "YES"
         ],
         "xaxis": "x",
         "yaxis": "y"
        }
       ],
       "layout": {
        "barmode": "stack",
        "legend": {
         "title": {
          "text": "Idoso"
         },
         "tracegroupgap": 0
        },
        "margin": {
         "t": 60
        },
        "template": {
         "data": {
          "bar": [
           {
            "error_x": {
             "color": "#2a3f5f"
            },
            "error_y": {
             "color": "#2a3f5f"
            },
            "marker": {
             "line": {
              "color": "#E5ECF6",
              "width": 0.5
             },
             "pattern": {
              "fillmode": "overlay",
              "size": 10,
              "solidity": 0.2
             }
            },
            "type": "bar"
           }
          ],
          "barpolar": [
           {
            "marker": {
             "line": {
              "color": "#E5ECF6",
              "width": 0.5
             },
             "pattern": {
              "fillmode": "overlay",
              "size": 10,
              "solidity": 0.2
             }
            },
            "type": "barpolar"
           }
          ],
          "carpet": [
           {
            "aaxis": {
             "endlinecolor": "#2a3f5f",
             "gridcolor": "white",
             "linecolor": "white",
             "minorgridcolor": "white",
             "startlinecolor": "#2a3f5f"
            },
            "baxis": {
             "endlinecolor": "#2a3f5f",
             "gridcolor": "white",
             "linecolor": "white",
             "minorgridcolor": "white",
             "startlinecolor": "#2a3f5f"
            },
            "type": "carpet"
           }
          ],
          "choropleth": [
           {
            "colorbar": {
             "outlinewidth": 0,
             "ticks": ""
            },
            "type": "choropleth"
           }
          ],
          "contour": [
           {
            "colorbar": {
             "outlinewidth": 0,
             "ticks": ""
            },
            "colorscale": [
             [
              0,
              "#0d0887"
             ],
             [
              0.1111111111111111,
              "#46039f"
             ],
             [
              0.2222222222222222,
              "#7201a8"
             ],
             [
              0.3333333333333333,
              "#9c179e"
             ],
             [
              0.4444444444444444,
              "#bd3786"
             ],
             [
              0.5555555555555556,
              "#d8576b"
             ],
             [
              0.6666666666666666,
              "#ed7953"
             ],
             [
              0.7777777777777778,
              "#fb9f3a"
             ],
             [
              0.8888888888888888,
              "#fdca26"
             ],
             [
              1,
              "#f0f921"
             ]
            ],
            "type": "contour"
           }
          ],
          "contourcarpet": [
           {
            "colorbar": {
             "outlinewidth": 0,
             "ticks": ""
            },
            "type": "contourcarpet"
           }
          ],
          "heatmap": [
           {
            "colorbar": {
             "outlinewidth": 0,
             "ticks": ""
            },
            "colorscale": [
             [
              0,
              "#0d0887"
             ],
             [
              0.1111111111111111,
              "#46039f"
             ],
             [
              0.2222222222222222,
              "#7201a8"
             ],
             [
              0.3333333333333333,
              "#9c179e"
             ],
             [
              0.4444444444444444,
              "#bd3786"
             ],
             [
              0.5555555555555556,
              "#d8576b"
             ],
             [
              0.6666666666666666,
              "#ed7953"
             ],
             [
              0.7777777777777778,
              "#fb9f3a"
             ],
             [
              0.8888888888888888,
              "#fdca26"
             ],
             [
              1,
              "#f0f921"
             ]
            ],
            "type": "heatmap"
           }
          ],
          "heatmapgl": [
           {
            "colorbar": {
             "outlinewidth": 0,
             "ticks": ""
            },
            "colorscale": [
             [
              0,
              "#0d0887"
             ],
             [
              0.1111111111111111,
              "#46039f"
             ],
             [
              0.2222222222222222,
              "#7201a8"
             ],
             [
              0.3333333333333333,
              "#9c179e"
             ],
             [
              0.4444444444444444,
              "#bd3786"
             ],
             [
              0.5555555555555556,
              "#d8576b"
             ],
             [
              0.6666666666666666,
              "#ed7953"
             ],
             [
              0.7777777777777778,
              "#fb9f3a"
             ],
             [
              0.8888888888888888,
              "#fdca26"
             ],
             [
              1,
              "#f0f921"
             ]
            ],
            "type": "heatmapgl"
           }
          ],
          "histogram": [
           {
            "marker": {
             "pattern": {
              "fillmode": "overlay",
              "size": 10,
              "solidity": 0.2
             }
            },
            "type": "histogram"
           }
          ],
          "histogram2d": [
           {
            "colorbar": {
             "outlinewidth": 0,
             "ticks": ""
            },
            "colorscale": [
             [
              0,
              "#0d0887"
             ],
             [
              0.1111111111111111,
              "#46039f"
             ],
             [
              0.2222222222222222,
              "#7201a8"
             ],
             [
              0.3333333333333333,
              "#9c179e"
             ],
             [
              0.4444444444444444,
              "#bd3786"
             ],
             [
              0.5555555555555556,
              "#d8576b"
             ],
             [
              0.6666666666666666,
              "#ed7953"
             ],
             [
              0.7777777777777778,
              "#fb9f3a"
             ],
             [
              0.8888888888888888,
              "#fdca26"
             ],
             [
              1,
              "#f0f921"
             ]
            ],
            "type": "histogram2d"
           }
          ],
          "histogram2dcontour": [
           {
            "colorbar": {
             "outlinewidth": 0,
             "ticks": ""
            },
            "colorscale": [
             [
              0,
              "#0d0887"
             ],
             [
              0.1111111111111111,
              "#46039f"
             ],
             [
              0.2222222222222222,
              "#7201a8"
             ],
             [
              0.3333333333333333,
              "#9c179e"
             ],
             [
              0.4444444444444444,
              "#bd3786"
             ],
             [
              0.5555555555555556,
              "#d8576b"
             ],
             [
              0.6666666666666666,
              "#ed7953"
             ],
             [
              0.7777777777777778,
              "#fb9f3a"
             ],
             [
              0.8888888888888888,
              "#fdca26"
             ],
             [
              1,
              "#f0f921"
             ]
            ],
            "type": "histogram2dcontour"
           }
          ],
          "mesh3d": [
           {
            "colorbar": {
             "outlinewidth": 0,
             "ticks": ""
            },
            "type": "mesh3d"
           }
          ],
          "parcoords": [
           {
            "line": {
             "colorbar": {
              "outlinewidth": 0,
              "ticks": ""
             }
            },
            "type": "parcoords"
           }
          ],
          "pie": [
           {
            "automargin": true,
            "type": "pie"
           }
          ],
          "scatter": [
           {
            "fillpattern": {
             "fillmode": "overlay",
             "size": 10,
             "solidity": 0.2
            },
            "type": "scatter"
           }
          ],
          "scatter3d": [
           {
            "line": {
             "colorbar": {
              "outlinewidth": 0,
              "ticks": ""
             }
            },
            "marker": {
             "colorbar": {
              "outlinewidth": 0,
              "ticks": ""
             }
            },
            "type": "scatter3d"
           }
          ],
          "scattercarpet": [
           {
            "marker": {
             "colorbar": {
              "outlinewidth": 0,
              "ticks": ""
             }
            },
            "type": "scattercarpet"
           }
          ],
          "scattergeo": [
           {
            "marker": {
             "colorbar": {
              "outlinewidth": 0,
              "ticks": ""
             }
            },
            "type": "scattergeo"
           }
          ],
          "scattergl": [
           {
            "marker": {
             "colorbar": {
              "outlinewidth": 0,
              "ticks": ""
             }
            },
            "type": "scattergl"
           }
          ],
          "scattermapbox": [
           {
            "marker": {
             "colorbar": {
              "outlinewidth": 0,
              "ticks": ""
             }
            },
            "type": "scattermapbox"
           }
          ],
          "scatterpolar": [
           {
            "marker": {
             "colorbar": {
              "outlinewidth": 0,
              "ticks": ""
             }
            },
            "type": "scatterpolar"
           }
          ],
          "scatterpolargl": [
           {
            "marker": {
             "colorbar": {
              "outlinewidth": 0,
              "ticks": ""
             }
            },
            "type": "scatterpolargl"
           }
          ],
          "scatterternary": [
           {
            "marker": {
             "colorbar": {
              "outlinewidth": 0,
              "ticks": ""
             }
            },
            "type": "scatterternary"
           }
          ],
          "surface": [
           {
            "colorbar": {
             "outlinewidth": 0,
             "ticks": ""
            },
            "colorscale": [
             [
              0,
              "#0d0887"
             ],
             [
              0.1111111111111111,
              "#46039f"
             ],
             [
              0.2222222222222222,
              "#7201a8"
             ],
             [
              0.3333333333333333,
              "#9c179e"
             ],
             [
              0.4444444444444444,
              "#bd3786"
             ],
             [
              0.5555555555555556,
              "#d8576b"
             ],
             [
              0.6666666666666666,
              "#ed7953"
             ],
             [
              0.7777777777777778,
              "#fb9f3a"
             ],
             [
              0.8888888888888888,
              "#fdca26"
             ],
             [
              1,
              "#f0f921"
             ]
            ],
            "type": "surface"
           }
          ],
          "table": [
           {
            "cells": {
             "fill": {
              "color": "#EBF0F8"
             },
             "line": {
              "color": "white"
             }
            },
            "header": {
             "fill": {
              "color": "#C8D4E3"
             },
             "line": {
              "color": "white"
             }
            },
            "type": "table"
           }
          ]
         },
         "layout": {
          "annotationdefaults": {
           "arrowcolor": "#2a3f5f",
           "arrowhead": 0,
           "arrowwidth": 1
          },
          "autotypenumbers": "strict",
          "coloraxis": {
           "colorbar": {
            "outlinewidth": 0,
            "ticks": ""
           }
          },
          "colorscale": {
           "diverging": [
            [
             0,
             "#8e0152"
            ],
            [
             0.1,
             "#c51b7d"
            ],
            [
             0.2,
             "#de77ae"
            ],
            [
             0.3,
             "#f1b6da"
            ],
            [
             0.4,
             "#fde0ef"
            ],
            [
             0.5,
             "#f7f7f7"
            ],
            [
             0.6,
             "#e6f5d0"
            ],
            [
             0.7,
             "#b8e186"
            ],
            [
             0.8,
             "#7fbc41"
            ],
            [
             0.9,
             "#4d9221"
            ],
            [
             1,
             "#276419"
            ]
           ],
           "sequential": [
            [
             0,
             "#0d0887"
            ],
            [
             0.1111111111111111,
             "#46039f"
            ],
            [
             0.2222222222222222,
             "#7201a8"
            ],
            [
             0.3333333333333333,
             "#9c179e"
            ],
            [
             0.4444444444444444,
             "#bd3786"
            ],
            [
             0.5555555555555556,
             "#d8576b"
            ],
            [
             0.6666666666666666,
             "#ed7953"
            ],
            [
             0.7777777777777778,
             "#fb9f3a"
            ],
            [
             0.8888888888888888,
             "#fdca26"
            ],
            [
             1,
             "#f0f921"
            ]
           ],
           "sequentialminus": [
            [
             0,
             "#0d0887"
            ],
            [
             0.1111111111111111,
             "#46039f"
            ],
            [
             0.2222222222222222,
             "#7201a8"
            ],
            [
             0.3333333333333333,
             "#9c179e"
            ],
            [
             0.4444444444444444,
             "#bd3786"
            ],
            [
             0.5555555555555556,
             "#d8576b"
            ],
            [
             0.6666666666666666,
             "#ed7953"
            ],
            [
             0.7777777777777778,
             "#fb9f3a"
            ],
            [
             0.8888888888888888,
             "#fdca26"
            ],
            [
             1,
             "#f0f921"
            ]
           ]
          },
          "colorway": [
           "#636efa",
           "#EF553B",
           "#00cc96",
           "#ab63fa",
           "#FFA15A",
           "#19d3f3",
           "#FF6692",
           "#B6E880",
           "#FF97FF",
           "#FECB52"
          ],
          "font": {
           "color": "#2a3f5f"
          },
          "geo": {
           "bgcolor": "white",
           "lakecolor": "white",
           "landcolor": "#E5ECF6",
           "showlakes": true,
           "showland": true,
           "subunitcolor": "white"
          },
          "hoverlabel": {
           "align": "left"
          },
          "hovermode": "closest",
          "mapbox": {
           "style": "light"
          },
          "paper_bgcolor": "white",
          "plot_bgcolor": "#E5ECF6",
          "polar": {
           "angularaxis": {
            "gridcolor": "white",
            "linecolor": "white",
            "ticks": ""
           },
           "bgcolor": "#E5ECF6",
           "radialaxis": {
            "gridcolor": "white",
            "linecolor": "white",
            "ticks": ""
           }
          },
          "scene": {
           "xaxis": {
            "backgroundcolor": "#E5ECF6",
            "gridcolor": "white",
            "gridwidth": 2,
            "linecolor": "white",
            "showbackground": true,
            "ticks": "",
            "zerolinecolor": "white"
           },
           "yaxis": {
            "backgroundcolor": "#E5ECF6",
            "gridcolor": "white",
            "gridwidth": 2,
            "linecolor": "white",
            "showbackground": true,
            "ticks": "",
            "zerolinecolor": "white"
           },
           "zaxis": {
            "backgroundcolor": "#E5ECF6",
            "gridcolor": "white",
            "gridwidth": 2,
            "linecolor": "white",
            "showbackground": true,
            "ticks": "",
            "zerolinecolor": "white"
           }
          },
          "shapedefaults": {
           "line": {
            "color": "#2a3f5f"
           }
          },
          "ternary": {
           "aaxis": {
            "gridcolor": "white",
            "linecolor": "white",
            "ticks": ""
           },
           "baxis": {
            "gridcolor": "white",
            "linecolor": "white",
            "ticks": ""
           },
           "bgcolor": "#E5ECF6",
           "caxis": {
            "gridcolor": "white",
            "linecolor": "white",
            "ticks": ""
           }
          },
          "title": {
           "x": 0.05
          },
          "xaxis": {
           "automargin": true,
           "gridcolor": "white",
           "linecolor": "white",
           "ticks": "",
           "title": {
            "standoff": 15
           },
           "zerolinecolor": "white",
           "zerolinewidth": 2
          },
          "yaxis": {
           "automargin": true,
           "gridcolor": "white",
           "linecolor": "white",
           "ticks": "",
           "title": {
            "standoff": 15
           },
           "zerolinecolor": "white",
           "zerolinewidth": 2
          }
         }
        },
        "title": {
         "text": "Relação entre Churn e Clientes Idosos"
        },
        "xaxis": {
         "anchor": "y",
         "domain": [
          0,
          1
         ],
         "title": {
          "text": "Churn"
         }
        },
        "yaxis": {
         "anchor": "x",
         "domain": [
          0,
          1
         ],
         "title": {
          "text": "Contagem"
         }
        }
       }
      }
     },
     "metadata": {},
     "output_type": "display_data"
    }
   ],
   "source": [
    "fig = px.histogram(df, x='CHURN', color='IDOSO', barmode='stack')\n",
    "\n",
    "fig.update_layout(title='Relação entre Churn e Clientes Idosos',\n",
    "                  xaxis_title='Churn',\n",
    "                  yaxis_title='Contagem',\n",
    "                  legend_title='Idoso')"
   ]
  },
  {
   "cell_type": "code",
   "execution_count": 104,
   "metadata": {},
   "outputs": [
    {
     "name": "stdout",
     "output_type": "stream",
     "text": [
      "Porcentagem de churn entre clientes idosos: 0.00%\n",
      "Porcentagem de não churn entre clientes idosos: 0.00%\n"
     ]
    }
   ],
   "source": [
    "idosos = df[df['IDOSO'] == 1]\n",
    "\n",
    "porcentagem_churn_idosos = (idosos['CHURN'] == 1).mean() * 100\n",
    "\n",
    "porcentagem_n_churn_idosos = (idosos['CHURN'] == 0).mean() * 100\n",
    "\n",
    "print(f\"Porcentagem de churn entre clientes idosos: {porcentagem_churn_idosos:.2f}%\")\n",
    "print(f\"Porcentagem de não churn entre clientes idosos: {porcentagem_n_churn_idosos:.2f}%\")"
   ]
  },
  {
   "cell_type": "markdown",
   "metadata": {},
   "source": [
    "Proporcionalmente é uma taxa de churn bem alta para idosos, mas não é bem o que buscamos ainda.\n"
   ]
  },
  {
   "cell_type": "code",
   "execution_count": 106,
   "metadata": {},
   "outputs": [
    {
     "data": {
      "application/vnd.plotly.v1+json": {
       "config": {
        "plotlyServerURL": "https://plot.ly"
       },
       "data": [
        {
         "alignmentgroup": "True",
         "hovertemplate": "Serviço de Internet=DSL<br>CHURN=%{x}<br>Porcentagem=%{y}<extra></extra>",
         "legendgroup": "DSL",
         "marker": {
          "color": "#636efa",
          "pattern": {
           "shape": ""
          }
         },
         "name": "DSL",
         "offsetgroup": "DSL",
         "orientation": "v",
         "showlegend": true,
         "textposition": "auto",
         "type": "bar",
         "x": [
          "NO",
          "YES"
         ],
         "xaxis": "x",
         "y": [
          37.859858772406305,
          22.411128284389488
         ],
         "yaxis": "y"
        },
        {
         "alignmentgroup": "True",
         "hovertemplate": "Serviço de Internet=FIBER OPTIC<br>CHURN=%{x}<br>Porcentagem=%{y}<extra></extra>",
         "legendgroup": "FIBER OPTIC",
         "marker": {
          "color": "#EF553B",
          "pattern": {
           "shape": ""
          }
         },
         "name": "FIBER OPTIC",
         "offsetgroup": "FIBER OPTIC",
         "orientation": "v",
         "showlegend": true,
         "textposition": "auto",
         "type": "bar",
         "x": [
          "NO",
          "YES"
         ],
         "xaxis": "x",
         "y": [
          35.25258011950027,
          72.64296754250387
         ],
         "yaxis": "y"
        },
        {
         "alignmentgroup": "True",
         "hovertemplate": "Serviço de Internet=NO<br>CHURN=%{x}<br>Porcentagem=%{y}<extra></extra>",
         "legendgroup": "NO",
         "marker": {
          "color": "#00cc96",
          "pattern": {
           "shape": ""
          }
         },
         "name": "NO",
         "offsetgroup": "NO",
         "orientation": "v",
         "showlegend": true,
         "textposition": "auto",
         "type": "bar",
         "x": [
          "NO",
          "YES"
         ],
         "xaxis": "x",
         "y": [
          26.88756110809343,
          4.945904173106646
         ],
         "yaxis": "y"
        }
       ],
       "layout": {
        "barmode": "stack",
        "legend": {
         "title": {
          "text": "Serviço de Internet"
         },
         "tracegroupgap": 0
        },
        "margin": {
         "t": 60
        },
        "template": {
         "data": {
          "bar": [
           {
            "error_x": {
             "color": "#2a3f5f"
            },
            "error_y": {
             "color": "#2a3f5f"
            },
            "marker": {
             "line": {
              "color": "#E5ECF6",
              "width": 0.5
             },
             "pattern": {
              "fillmode": "overlay",
              "size": 10,
              "solidity": 0.2
             }
            },
            "type": "bar"
           }
          ],
          "barpolar": [
           {
            "marker": {
             "line": {
              "color": "#E5ECF6",
              "width": 0.5
             },
             "pattern": {
              "fillmode": "overlay",
              "size": 10,
              "solidity": 0.2
             }
            },
            "type": "barpolar"
           }
          ],
          "carpet": [
           {
            "aaxis": {
             "endlinecolor": "#2a3f5f",
             "gridcolor": "white",
             "linecolor": "white",
             "minorgridcolor": "white",
             "startlinecolor": "#2a3f5f"
            },
            "baxis": {
             "endlinecolor": "#2a3f5f",
             "gridcolor": "white",
             "linecolor": "white",
             "minorgridcolor": "white",
             "startlinecolor": "#2a3f5f"
            },
            "type": "carpet"
           }
          ],
          "choropleth": [
           {
            "colorbar": {
             "outlinewidth": 0,
             "ticks": ""
            },
            "type": "choropleth"
           }
          ],
          "contour": [
           {
            "colorbar": {
             "outlinewidth": 0,
             "ticks": ""
            },
            "colorscale": [
             [
              0,
              "#0d0887"
             ],
             [
              0.1111111111111111,
              "#46039f"
             ],
             [
              0.2222222222222222,
              "#7201a8"
             ],
             [
              0.3333333333333333,
              "#9c179e"
             ],
             [
              0.4444444444444444,
              "#bd3786"
             ],
             [
              0.5555555555555556,
              "#d8576b"
             ],
             [
              0.6666666666666666,
              "#ed7953"
             ],
             [
              0.7777777777777778,
              "#fb9f3a"
             ],
             [
              0.8888888888888888,
              "#fdca26"
             ],
             [
              1,
              "#f0f921"
             ]
            ],
            "type": "contour"
           }
          ],
          "contourcarpet": [
           {
            "colorbar": {
             "outlinewidth": 0,
             "ticks": ""
            },
            "type": "contourcarpet"
           }
          ],
          "heatmap": [
           {
            "colorbar": {
             "outlinewidth": 0,
             "ticks": ""
            },
            "colorscale": [
             [
              0,
              "#0d0887"
             ],
             [
              0.1111111111111111,
              "#46039f"
             ],
             [
              0.2222222222222222,
              "#7201a8"
             ],
             [
              0.3333333333333333,
              "#9c179e"
             ],
             [
              0.4444444444444444,
              "#bd3786"
             ],
             [
              0.5555555555555556,
              "#d8576b"
             ],
             [
              0.6666666666666666,
              "#ed7953"
             ],
             [
              0.7777777777777778,
              "#fb9f3a"
             ],
             [
              0.8888888888888888,
              "#fdca26"
             ],
             [
              1,
              "#f0f921"
             ]
            ],
            "type": "heatmap"
           }
          ],
          "heatmapgl": [
           {
            "colorbar": {
             "outlinewidth": 0,
             "ticks": ""
            },
            "colorscale": [
             [
              0,
              "#0d0887"
             ],
             [
              0.1111111111111111,
              "#46039f"
             ],
             [
              0.2222222222222222,
              "#7201a8"
             ],
             [
              0.3333333333333333,
              "#9c179e"
             ],
             [
              0.4444444444444444,
              "#bd3786"
             ],
             [
              0.5555555555555556,
              "#d8576b"
             ],
             [
              0.6666666666666666,
              "#ed7953"
             ],
             [
              0.7777777777777778,
              "#fb9f3a"
             ],
             [
              0.8888888888888888,
              "#fdca26"
             ],
             [
              1,
              "#f0f921"
             ]
            ],
            "type": "heatmapgl"
           }
          ],
          "histogram": [
           {
            "marker": {
             "pattern": {
              "fillmode": "overlay",
              "size": 10,
              "solidity": 0.2
             }
            },
            "type": "histogram"
           }
          ],
          "histogram2d": [
           {
            "colorbar": {
             "outlinewidth": 0,
             "ticks": ""
            },
            "colorscale": [
             [
              0,
              "#0d0887"
             ],
             [
              0.1111111111111111,
              "#46039f"
             ],
             [
              0.2222222222222222,
              "#7201a8"
             ],
             [
              0.3333333333333333,
              "#9c179e"
             ],
             [
              0.4444444444444444,
              "#bd3786"
             ],
             [
              0.5555555555555556,
              "#d8576b"
             ],
             [
              0.6666666666666666,
              "#ed7953"
             ],
             [
              0.7777777777777778,
              "#fb9f3a"
             ],
             [
              0.8888888888888888,
              "#fdca26"
             ],
             [
              1,
              "#f0f921"
             ]
            ],
            "type": "histogram2d"
           }
          ],
          "histogram2dcontour": [
           {
            "colorbar": {
             "outlinewidth": 0,
             "ticks": ""
            },
            "colorscale": [
             [
              0,
              "#0d0887"
             ],
             [
              0.1111111111111111,
              "#46039f"
             ],
             [
              0.2222222222222222,
              "#7201a8"
             ],
             [
              0.3333333333333333,
              "#9c179e"
             ],
             [
              0.4444444444444444,
              "#bd3786"
             ],
             [
              0.5555555555555556,
              "#d8576b"
             ],
             [
              0.6666666666666666,
              "#ed7953"
             ],
             [
              0.7777777777777778,
              "#fb9f3a"
             ],
             [
              0.8888888888888888,
              "#fdca26"
             ],
             [
              1,
              "#f0f921"
             ]
            ],
            "type": "histogram2dcontour"
           }
          ],
          "mesh3d": [
           {
            "colorbar": {
             "outlinewidth": 0,
             "ticks": ""
            },
            "type": "mesh3d"
           }
          ],
          "parcoords": [
           {
            "line": {
             "colorbar": {
              "outlinewidth": 0,
              "ticks": ""
             }
            },
            "type": "parcoords"
           }
          ],
          "pie": [
           {
            "automargin": true,
            "type": "pie"
           }
          ],
          "scatter": [
           {
            "fillpattern": {
             "fillmode": "overlay",
             "size": 10,
             "solidity": 0.2
            },
            "type": "scatter"
           }
          ],
          "scatter3d": [
           {
            "line": {
             "colorbar": {
              "outlinewidth": 0,
              "ticks": ""
             }
            },
            "marker": {
             "colorbar": {
              "outlinewidth": 0,
              "ticks": ""
             }
            },
            "type": "scatter3d"
           }
          ],
          "scattercarpet": [
           {
            "marker": {
             "colorbar": {
              "outlinewidth": 0,
              "ticks": ""
             }
            },
            "type": "scattercarpet"
           }
          ],
          "scattergeo": [
           {
            "marker": {
             "colorbar": {
              "outlinewidth": 0,
              "ticks": ""
             }
            },
            "type": "scattergeo"
           }
          ],
          "scattergl": [
           {
            "marker": {
             "colorbar": {
              "outlinewidth": 0,
              "ticks": ""
             }
            },
            "type": "scattergl"
           }
          ],
          "scattermapbox": [
           {
            "marker": {
             "colorbar": {
              "outlinewidth": 0,
              "ticks": ""
             }
            },
            "type": "scattermapbox"
           }
          ],
          "scatterpolar": [
           {
            "marker": {
             "colorbar": {
              "outlinewidth": 0,
              "ticks": ""
             }
            },
            "type": "scatterpolar"
           }
          ],
          "scatterpolargl": [
           {
            "marker": {
             "colorbar": {
              "outlinewidth": 0,
              "ticks": ""
             }
            },
            "type": "scatterpolargl"
           }
          ],
          "scatterternary": [
           {
            "marker": {
             "colorbar": {
              "outlinewidth": 0,
              "ticks": ""
             }
            },
            "type": "scatterternary"
           }
          ],
          "surface": [
           {
            "colorbar": {
             "outlinewidth": 0,
             "ticks": ""
            },
            "colorscale": [
             [
              0,
              "#0d0887"
             ],
             [
              0.1111111111111111,
              "#46039f"
             ],
             [
              0.2222222222222222,
              "#7201a8"
             ],
             [
              0.3333333333333333,
              "#9c179e"
             ],
             [
              0.4444444444444444,
              "#bd3786"
             ],
             [
              0.5555555555555556,
              "#d8576b"
             ],
             [
              0.6666666666666666,
              "#ed7953"
             ],
             [
              0.7777777777777778,
              "#fb9f3a"
             ],
             [
              0.8888888888888888,
              "#fdca26"
             ],
             [
              1,
              "#f0f921"
             ]
            ],
            "type": "surface"
           }
          ],
          "table": [
           {
            "cells": {
             "fill": {
              "color": "#EBF0F8"
             },
             "line": {
              "color": "white"
             }
            },
            "header": {
             "fill": {
              "color": "#C8D4E3"
             },
             "line": {
              "color": "white"
             }
            },
            "type": "table"
           }
          ]
         },
         "layout": {
          "annotationdefaults": {
           "arrowcolor": "#2a3f5f",
           "arrowhead": 0,
           "arrowwidth": 1
          },
          "autotypenumbers": "strict",
          "coloraxis": {
           "colorbar": {
            "outlinewidth": 0,
            "ticks": ""
           }
          },
          "colorscale": {
           "diverging": [
            [
             0,
             "#8e0152"
            ],
            [
             0.1,
             "#c51b7d"
            ],
            [
             0.2,
             "#de77ae"
            ],
            [
             0.3,
             "#f1b6da"
            ],
            [
             0.4,
             "#fde0ef"
            ],
            [
             0.5,
             "#f7f7f7"
            ],
            [
             0.6,
             "#e6f5d0"
            ],
            [
             0.7,
             "#b8e186"
            ],
            [
             0.8,
             "#7fbc41"
            ],
            [
             0.9,
             "#4d9221"
            ],
            [
             1,
             "#276419"
            ]
           ],
           "sequential": [
            [
             0,
             "#0d0887"
            ],
            [
             0.1111111111111111,
             "#46039f"
            ],
            [
             0.2222222222222222,
             "#7201a8"
            ],
            [
             0.3333333333333333,
             "#9c179e"
            ],
            [
             0.4444444444444444,
             "#bd3786"
            ],
            [
             0.5555555555555556,
             "#d8576b"
            ],
            [
             0.6666666666666666,
             "#ed7953"
            ],
            [
             0.7777777777777778,
             "#fb9f3a"
            ],
            [
             0.8888888888888888,
             "#fdca26"
            ],
            [
             1,
             "#f0f921"
            ]
           ],
           "sequentialminus": [
            [
             0,
             "#0d0887"
            ],
            [
             0.1111111111111111,
             "#46039f"
            ],
            [
             0.2222222222222222,
             "#7201a8"
            ],
            [
             0.3333333333333333,
             "#9c179e"
            ],
            [
             0.4444444444444444,
             "#bd3786"
            ],
            [
             0.5555555555555556,
             "#d8576b"
            ],
            [
             0.6666666666666666,
             "#ed7953"
            ],
            [
             0.7777777777777778,
             "#fb9f3a"
            ],
            [
             0.8888888888888888,
             "#fdca26"
            ],
            [
             1,
             "#f0f921"
            ]
           ]
          },
          "colorway": [
           "#636efa",
           "#EF553B",
           "#00cc96",
           "#ab63fa",
           "#FFA15A",
           "#19d3f3",
           "#FF6692",
           "#B6E880",
           "#FF97FF",
           "#FECB52"
          ],
          "font": {
           "color": "#2a3f5f"
          },
          "geo": {
           "bgcolor": "white",
           "lakecolor": "white",
           "landcolor": "#E5ECF6",
           "showlakes": true,
           "showland": true,
           "subunitcolor": "white"
          },
          "hoverlabel": {
           "align": "left"
          },
          "hovermode": "closest",
          "mapbox": {
           "style": "light"
          },
          "paper_bgcolor": "white",
          "plot_bgcolor": "#E5ECF6",
          "polar": {
           "angularaxis": {
            "gridcolor": "white",
            "linecolor": "white",
            "ticks": ""
           },
           "bgcolor": "#E5ECF6",
           "radialaxis": {
            "gridcolor": "white",
            "linecolor": "white",
            "ticks": ""
           }
          },
          "scene": {
           "xaxis": {
            "backgroundcolor": "#E5ECF6",
            "gridcolor": "white",
            "gridwidth": 2,
            "linecolor": "white",
            "showbackground": true,
            "ticks": "",
            "zerolinecolor": "white"
           },
           "yaxis": {
            "backgroundcolor": "#E5ECF6",
            "gridcolor": "white",
            "gridwidth": 2,
            "linecolor": "white",
            "showbackground": true,
            "ticks": "",
            "zerolinecolor": "white"
           },
           "zaxis": {
            "backgroundcolor": "#E5ECF6",
            "gridcolor": "white",
            "gridwidth": 2,
            "linecolor": "white",
            "showbackground": true,
            "ticks": "",
            "zerolinecolor": "white"
           }
          },
          "shapedefaults": {
           "line": {
            "color": "#2a3f5f"
           }
          },
          "ternary": {
           "aaxis": {
            "gridcolor": "white",
            "linecolor": "white",
            "ticks": ""
           },
           "baxis": {
            "gridcolor": "white",
            "linecolor": "white",
            "ticks": ""
           },
           "bgcolor": "#E5ECF6",
           "caxis": {
            "gridcolor": "white",
            "linecolor": "white",
            "ticks": ""
           }
          },
          "title": {
           "x": 0.05
          },
          "xaxis": {
           "automargin": true,
           "gridcolor": "white",
           "linecolor": "white",
           "ticks": "",
           "title": {
            "standoff": 15
           },
           "zerolinecolor": "white",
           "zerolinewidth": 2
          },
          "yaxis": {
           "automargin": true,
           "gridcolor": "white",
           "linecolor": "white",
           "ticks": "",
           "title": {
            "standoff": 15
           },
           "zerolinecolor": "white",
           "zerolinewidth": 2
          }
         }
        },
        "title": {
         "text": "Relação entre CHURN e Tipo de serviço de Internet"
        },
        "xaxis": {
         "anchor": "y",
         "domain": [
          0,
          1
         ],
         "title": {
          "text": "CHURN"
         }
        },
        "yaxis": {
         "anchor": "x",
         "domain": [
          0,
          1
         ],
         "title": {
          "text": "Porcentagem"
         }
        }
       }
      }
     },
     "metadata": {},
     "output_type": "display_data"
    }
   ],
   "source": [
    "# CHURN x Tipo de serviço de internet\n",
    "df_grouped = df.groupby(['CHURN', 'SERVICO_INTERNET']).size().reset_index(name='count')\n",
    "total_por_CHURN = df_grouped.groupby('CHURN')['count'].transform('sum')\n",
    "df_grouped['percent'] = (df_grouped['count'] / total_por_CHURN ) * 100\n",
    "\n",
    "fig = px.bar(df_grouped, x='CHURN', y='percent', color='SERVICO_INTERNET', barmode='stack',\n",
    "             labels={'CHURN': 'CHURN', 'percent': 'Porcentagem', 'SERVICO_INTERNET': 'Serviço de Internet'})\n",
    "\n",
    "fig.update_layout(title='Relação entre CHURN e Tipo de serviço de Internet',\n",
    "                  yaxis_title='Porcentagem',\n",
    "                  legend_title='Serviço de Internet')\n",
    "\n",
    "fig.show()"
   ]
  },
  {
   "cell_type": "markdown",
   "metadata": {},
   "source": [
    "Aqui podemos concluir que precisamos fazer algo urgente em relação ao clientes que utilizam fibra ótica, a teoria nos diz que é uma conexão mais estavel mas na prática podemos ver que os clientes que utilizam esse serviço tem uma chance de 70% de nos abandonar.\n"
   ]
  },
  {
   "cell_type": "code",
   "execution_count": null,
   "metadata": {},
   "outputs": [
    {
     "data": {
      "application/vnd.plotly.v1+json": {
       "config": {
        "plotlyServerURL": "https://plot.ly"
       },
       "data": [
        {
         "alignmentgroup": "True",
         "hovertemplate": "Tipo de Contrato=MONTH-TO-MONTH<br>CHURN=%{x}<br>Porcentagem=%{y}<extra></extra>",
         "legendgroup": "MONTH-TO-MONTH",
         "marker": {
          "color": "#636efa",
          "pattern": {
           "shape": ""
          }
         },
         "name": "MONTH-TO-MONTH",
         "offsetgroup": "MONTH-TO-MONTH",
         "orientation": "v",
         "showlegend": true,
         "textposition": "auto",
         "type": "bar",
         "x": [
          "NO",
          "YES"
         ],
         "xaxis": "x",
         "y": [
          42.857142857142854,
          89.64451313755795
         ],
         "yaxis": "y"
        },
        {
         "alignmentgroup": "True",
         "hovertemplate": "Tipo de Contrato=ONE YEAR<br>CHURN=%{x}<br>Porcentagem=%{y}<extra></extra>",
         "legendgroup": "ONE YEAR",
         "marker": {
          "color": "#EF553B",
          "pattern": {
           "shape": ""
          }
         },
         "name": "ONE YEAR",
         "offsetgroup": "ONE YEAR",
         "orientation": "v",
         "showlegend": true,
         "textposition": "auto",
         "type": "bar",
         "x": [
          "NO",
          "YES"
         ],
         "xaxis": "x",
         "y": [
          24.932102118413905,
          8.964451313755797
         ],
         "yaxis": "y"
        },
        {
         "alignmentgroup": "True",
         "hovertemplate": "Tipo de Contrato=TWO YEAR<br>CHURN=%{x}<br>Porcentagem=%{y}<extra></extra>",
         "legendgroup": "TWO YEAR",
         "marker": {
          "color": "#00cc96",
          "pattern": {
           "shape": ""
          }
         },
         "name": "TWO YEAR",
         "offsetgroup": "TWO YEAR",
         "orientation": "v",
         "showlegend": true,
         "textposition": "auto",
         "type": "bar",
         "x": [
          "NO",
          "YES"
         ],
         "xaxis": "x",
         "y": [
          32.21075502444324,
          1.3910355486862442
         ],
         "yaxis": "y"
        }
       ],
       "layout": {
        "barmode": "stack",
        "legend": {
         "title": {
          "text": "Tipo de Contrato"
         },
         "tracegroupgap": 0
        },
        "margin": {
         "t": 60
        },
        "template": {
         "data": {
          "bar": [
           {
            "error_x": {
             "color": "#2a3f5f"
            },
            "error_y": {
             "color": "#2a3f5f"
            },
            "marker": {
             "line": {
              "color": "#E5ECF6",
              "width": 0.5
             },
             "pattern": {
              "fillmode": "overlay",
              "size": 10,
              "solidity": 0.2
             }
            },
            "type": "bar"
           }
          ],
          "barpolar": [
           {
            "marker": {
             "line": {
              "color": "#E5ECF6",
              "width": 0.5
             },
             "pattern": {
              "fillmode": "overlay",
              "size": 10,
              "solidity": 0.2
             }
            },
            "type": "barpolar"
           }
          ],
          "carpet": [
           {
            "aaxis": {
             "endlinecolor": "#2a3f5f",
             "gridcolor": "white",
             "linecolor": "white",
             "minorgridcolor": "white",
             "startlinecolor": "#2a3f5f"
            },
            "baxis": {
             "endlinecolor": "#2a3f5f",
             "gridcolor": "white",
             "linecolor": "white",
             "minorgridcolor": "white",
             "startlinecolor": "#2a3f5f"
            },
            "type": "carpet"
           }
          ],
          "choropleth": [
           {
            "colorbar": {
             "outlinewidth": 0,
             "ticks": ""
            },
            "type": "choropleth"
           }
          ],
          "contour": [
           {
            "colorbar": {
             "outlinewidth": 0,
             "ticks": ""
            },
            "colorscale": [
             [
              0,
              "#0d0887"
             ],
             [
              0.1111111111111111,
              "#46039f"
             ],
             [
              0.2222222222222222,
              "#7201a8"
             ],
             [
              0.3333333333333333,
              "#9c179e"
             ],
             [
              0.4444444444444444,
              "#bd3786"
             ],
             [
              0.5555555555555556,
              "#d8576b"
             ],
             [
              0.6666666666666666,
              "#ed7953"
             ],
             [
              0.7777777777777778,
              "#fb9f3a"
             ],
             [
              0.8888888888888888,
              "#fdca26"
             ],
             [
              1,
              "#f0f921"
             ]
            ],
            "type": "contour"
           }
          ],
          "contourcarpet": [
           {
            "colorbar": {
             "outlinewidth": 0,
             "ticks": ""
            },
            "type": "contourcarpet"
           }
          ],
          "heatmap": [
           {
            "colorbar": {
             "outlinewidth": 0,
             "ticks": ""
            },
            "colorscale": [
             [
              0,
              "#0d0887"
             ],
             [
              0.1111111111111111,
              "#46039f"
             ],
             [
              0.2222222222222222,
              "#7201a8"
             ],
             [
              0.3333333333333333,
              "#9c179e"
             ],
             [
              0.4444444444444444,
              "#bd3786"
             ],
             [
              0.5555555555555556,
              "#d8576b"
             ],
             [
              0.6666666666666666,
              "#ed7953"
             ],
             [
              0.7777777777777778,
              "#fb9f3a"
             ],
             [
              0.8888888888888888,
              "#fdca26"
             ],
             [
              1,
              "#f0f921"
             ]
            ],
            "type": "heatmap"
           }
          ],
          "heatmapgl": [
           {
            "colorbar": {
             "outlinewidth": 0,
             "ticks": ""
            },
            "colorscale": [
             [
              0,
              "#0d0887"
             ],
             [
              0.1111111111111111,
              "#46039f"
             ],
             [
              0.2222222222222222,
              "#7201a8"
             ],
             [
              0.3333333333333333,
              "#9c179e"
             ],
             [
              0.4444444444444444,
              "#bd3786"
             ],
             [
              0.5555555555555556,
              "#d8576b"
             ],
             [
              0.6666666666666666,
              "#ed7953"
             ],
             [
              0.7777777777777778,
              "#fb9f3a"
             ],
             [
              0.8888888888888888,
              "#fdca26"
             ],
             [
              1,
              "#f0f921"
             ]
            ],
            "type": "heatmapgl"
           }
          ],
          "histogram": [
           {
            "marker": {
             "pattern": {
              "fillmode": "overlay",
              "size": 10,
              "solidity": 0.2
             }
            },
            "type": "histogram"
           }
          ],
          "histogram2d": [
           {
            "colorbar": {
             "outlinewidth": 0,
             "ticks": ""
            },
            "colorscale": [
             [
              0,
              "#0d0887"
             ],
             [
              0.1111111111111111,
              "#46039f"
             ],
             [
              0.2222222222222222,
              "#7201a8"
             ],
             [
              0.3333333333333333,
              "#9c179e"
             ],
             [
              0.4444444444444444,
              "#bd3786"
             ],
             [
              0.5555555555555556,
              "#d8576b"
             ],
             [
              0.6666666666666666,
              "#ed7953"
             ],
             [
              0.7777777777777778,
              "#fb9f3a"
             ],
             [
              0.8888888888888888,
              "#fdca26"
             ],
             [
              1,
              "#f0f921"
             ]
            ],
            "type": "histogram2d"
           }
          ],
          "histogram2dcontour": [
           {
            "colorbar": {
             "outlinewidth": 0,
             "ticks": ""
            },
            "colorscale": [
             [
              0,
              "#0d0887"
             ],
             [
              0.1111111111111111,
              "#46039f"
             ],
             [
              0.2222222222222222,
              "#7201a8"
             ],
             [
              0.3333333333333333,
              "#9c179e"
             ],
             [
              0.4444444444444444,
              "#bd3786"
             ],
             [
              0.5555555555555556,
              "#d8576b"
             ],
             [
              0.6666666666666666,
              "#ed7953"
             ],
             [
              0.7777777777777778,
              "#fb9f3a"
             ],
             [
              0.8888888888888888,
              "#fdca26"
             ],
             [
              1,
              "#f0f921"
             ]
            ],
            "type": "histogram2dcontour"
           }
          ],
          "mesh3d": [
           {
            "colorbar": {
             "outlinewidth": 0,
             "ticks": ""
            },
            "type": "mesh3d"
           }
          ],
          "parcoords": [
           {
            "line": {
             "colorbar": {
              "outlinewidth": 0,
              "ticks": ""
             }
            },
            "type": "parcoords"
           }
          ],
          "pie": [
           {
            "automargin": true,
            "type": "pie"
           }
          ],
          "scatter": [
           {
            "fillpattern": {
             "fillmode": "overlay",
             "size": 10,
             "solidity": 0.2
            },
            "type": "scatter"
           }
          ],
          "scatter3d": [
           {
            "line": {
             "colorbar": {
              "outlinewidth": 0,
              "ticks": ""
             }
            },
            "marker": {
             "colorbar": {
              "outlinewidth": 0,
              "ticks": ""
             }
            },
            "type": "scatter3d"
           }
          ],
          "scattercarpet": [
           {
            "marker": {
             "colorbar": {
              "outlinewidth": 0,
              "ticks": ""
             }
            },
            "type": "scattercarpet"
           }
          ],
          "scattergeo": [
           {
            "marker": {
             "colorbar": {
              "outlinewidth": 0,
              "ticks": ""
             }
            },
            "type": "scattergeo"
           }
          ],
          "scattergl": [
           {
            "marker": {
             "colorbar": {
              "outlinewidth": 0,
              "ticks": ""
             }
            },
            "type": "scattergl"
           }
          ],
          "scattermapbox": [
           {
            "marker": {
             "colorbar": {
              "outlinewidth": 0,
              "ticks": ""
             }
            },
            "type": "scattermapbox"
           }
          ],
          "scatterpolar": [
           {
            "marker": {
             "colorbar": {
              "outlinewidth": 0,
              "ticks": ""
             }
            },
            "type": "scatterpolar"
           }
          ],
          "scatterpolargl": [
           {
            "marker": {
             "colorbar": {
              "outlinewidth": 0,
              "ticks": ""
             }
            },
            "type": "scatterpolargl"
           }
          ],
          "scatterternary": [
           {
            "marker": {
             "colorbar": {
              "outlinewidth": 0,
              "ticks": ""
             }
            },
            "type": "scatterternary"
           }
          ],
          "surface": [
           {
            "colorbar": {
             "outlinewidth": 0,
             "ticks": ""
            },
            "colorscale": [
             [
              0,
              "#0d0887"
             ],
             [
              0.1111111111111111,
              "#46039f"
             ],
             [
              0.2222222222222222,
              "#7201a8"
             ],
             [
              0.3333333333333333,
              "#9c179e"
             ],
             [
              0.4444444444444444,
              "#bd3786"
             ],
             [
              0.5555555555555556,
              "#d8576b"
             ],
             [
              0.6666666666666666,
              "#ed7953"
             ],
             [
              0.7777777777777778,
              "#fb9f3a"
             ],
             [
              0.8888888888888888,
              "#fdca26"
             ],
             [
              1,
              "#f0f921"
             ]
            ],
            "type": "surface"
           }
          ],
          "table": [
           {
            "cells": {
             "fill": {
              "color": "#EBF0F8"
             },
             "line": {
              "color": "white"
             }
            },
            "header": {
             "fill": {
              "color": "#C8D4E3"
             },
             "line": {
              "color": "white"
             }
            },
            "type": "table"
           }
          ]
         },
         "layout": {
          "annotationdefaults": {
           "arrowcolor": "#2a3f5f",
           "arrowhead": 0,
           "arrowwidth": 1
          },
          "autotypenumbers": "strict",
          "coloraxis": {
           "colorbar": {
            "outlinewidth": 0,
            "ticks": ""
           }
          },
          "colorscale": {
           "diverging": [
            [
             0,
             "#8e0152"
            ],
            [
             0.1,
             "#c51b7d"
            ],
            [
             0.2,
             "#de77ae"
            ],
            [
             0.3,
             "#f1b6da"
            ],
            [
             0.4,
             "#fde0ef"
            ],
            [
             0.5,
             "#f7f7f7"
            ],
            [
             0.6,
             "#e6f5d0"
            ],
            [
             0.7,
             "#b8e186"
            ],
            [
             0.8,
             "#7fbc41"
            ],
            [
             0.9,
             "#4d9221"
            ],
            [
             1,
             "#276419"
            ]
           ],
           "sequential": [
            [
             0,
             "#0d0887"
            ],
            [
             0.1111111111111111,
             "#46039f"
            ],
            [
             0.2222222222222222,
             "#7201a8"
            ],
            [
             0.3333333333333333,
             "#9c179e"
            ],
            [
             0.4444444444444444,
             "#bd3786"
            ],
            [
             0.5555555555555556,
             "#d8576b"
            ],
            [
             0.6666666666666666,
             "#ed7953"
            ],
            [
             0.7777777777777778,
             "#fb9f3a"
            ],
            [
             0.8888888888888888,
             "#fdca26"
            ],
            [
             1,
             "#f0f921"
            ]
           ],
           "sequentialminus": [
            [
             0,
             "#0d0887"
            ],
            [
             0.1111111111111111,
             "#46039f"
            ],
            [
             0.2222222222222222,
             "#7201a8"
            ],
            [
             0.3333333333333333,
             "#9c179e"
            ],
            [
             0.4444444444444444,
             "#bd3786"
            ],
            [
             0.5555555555555556,
             "#d8576b"
            ],
            [
             0.6666666666666666,
             "#ed7953"
            ],
            [
             0.7777777777777778,
             "#fb9f3a"
            ],
            [
             0.8888888888888888,
             "#fdca26"
            ],
            [
             1,
             "#f0f921"
            ]
           ]
          },
          "colorway": [
           "#636efa",
           "#EF553B",
           "#00cc96",
           "#ab63fa",
           "#FFA15A",
           "#19d3f3",
           "#FF6692",
           "#B6E880",
           "#FF97FF",
           "#FECB52"
          ],
          "font": {
           "color": "#2a3f5f"
          },
          "geo": {
           "bgcolor": "white",
           "lakecolor": "white",
           "landcolor": "#E5ECF6",
           "showlakes": true,
           "showland": true,
           "subunitcolor": "white"
          },
          "hoverlabel": {
           "align": "left"
          },
          "hovermode": "closest",
          "mapbox": {
           "style": "light"
          },
          "paper_bgcolor": "white",
          "plot_bgcolor": "#E5ECF6",
          "polar": {
           "angularaxis": {
            "gridcolor": "white",
            "linecolor": "white",
            "ticks": ""
           },
           "bgcolor": "#E5ECF6",
           "radialaxis": {
            "gridcolor": "white",
            "linecolor": "white",
            "ticks": ""
           }
          },
          "scene": {
           "xaxis": {
            "backgroundcolor": "#E5ECF6",
            "gridcolor": "white",
            "gridwidth": 2,
            "linecolor": "white",
            "showbackground": true,
            "ticks": "",
            "zerolinecolor": "white"
           },
           "yaxis": {
            "backgroundcolor": "#E5ECF6",
            "gridcolor": "white",
            "gridwidth": 2,
            "linecolor": "white",
            "showbackground": true,
            "ticks": "",
            "zerolinecolor": "white"
           },
           "zaxis": {
            "backgroundcolor": "#E5ECF6",
            "gridcolor": "white",
            "gridwidth": 2,
            "linecolor": "white",
            "showbackground": true,
            "ticks": "",
            "zerolinecolor": "white"
           }
          },
          "shapedefaults": {
           "line": {
            "color": "#2a3f5f"
           }
          },
          "ternary": {
           "aaxis": {
            "gridcolor": "white",
            "linecolor": "white",
            "ticks": ""
           },
           "baxis": {
            "gridcolor": "white",
            "linecolor": "white",
            "ticks": ""
           },
           "bgcolor": "#E5ECF6",
           "caxis": {
            "gridcolor": "white",
            "linecolor": "white",
            "ticks": ""
           }
          },
          "title": {
           "x": 0.05
          },
          "xaxis": {
           "automargin": true,
           "gridcolor": "white",
           "linecolor": "white",
           "ticks": "",
           "title": {
            "standoff": 15
           },
           "zerolinecolor": "white",
           "zerolinewidth": 2
          },
          "yaxis": {
           "automargin": true,
           "gridcolor": "white",
           "linecolor": "white",
           "ticks": "",
           "title": {
            "standoff": 15
           },
           "zerolinecolor": "white",
           "zerolinewidth": 2
          }
         }
        },
        "title": {
         "text": "Relação entre CHURN e Tipo de Contrato"
        },
        "xaxis": {
         "anchor": "y",
         "domain": [
          0,
          1
         ],
         "title": {
          "text": "CHURN"
         }
        },
        "yaxis": {
         "anchor": "x",
         "domain": [
          0,
          1
         ],
         "title": {
          "text": "Porcentagem"
         }
        }
       }
      }
     },
     "metadata": {},
     "output_type": "display_data"
    }
   ],
   "source": [
    "# CHURN x Tipo de contrato\n",
    "df_grouped = df.groupby(['CHURN', 'TIPO_CONTRATO']).size().reset_index(name='count')\n",
    "total_por_CHURN = df_grouped.groupby('CHURN')['count'].transform('sum')\n",
    "df_grouped['percent'] = (df_grouped['count'] / total_por_CHURN) * 100\n",
    "\n",
    "fig = px.bar(df_grouped, x='CHURN', y='percent', color='TIPO_CONTRATO',barmode='stack',\n",
    "             labels={'CHURN': 'CHURN', 'percent': 'Porcentagem', 'TIPO_CONTRATO': 'Tipo de Contrato'})\n",
    "\n",
    "fig.update_layout(title='Relação entre CHURN e Tipo de Contrato',\n",
    "                  yaxis_title='Porcentagem',\n",
    "                  legend_title='Tipo de Contrato')\n",
    "\n",
    "fig.show()"
   ]
  },
  {
   "cell_type": "markdown",
   "metadata": {},
   "source": [
    "Aqui temos certeza de que o churn ocorre praticamente em clientes que utilizam o contrato mensal comparando a clientes com contrato anual e bienal"
   ]
  },
  {
   "cell_type": "code",
   "execution_count": null,
   "metadata": {},
   "outputs": [
    {
     "data": {
      "application/vnd.plotly.v1+json": {
       "config": {
        "plotlyServerURL": "https://plot.ly"
       },
       "data": [
        {
         "alignmentgroup": "True",
         "hovertemplate": "Suporte Tecnico=NO<br>CHURN=%{x}<br>Porcentagem=%{y}<extra></extra>",
         "legendgroup": "NO",
         "marker": {
          "color": "#636efa",
          "pattern": {
           "shape": ""
          }
         },
         "name": "NO",
         "offsetgroup": "NO",
         "orientation": "v",
         "showlegend": true,
         "textposition": "auto",
         "type": "bar",
         "x": [
          "NO",
          "YES"
         ],
         "xaxis": "x",
         "y": [
          66.26833242802824,
          86.08964451313756
         ],
         "yaxis": "y"
        },
        {
         "alignmentgroup": "True",
         "hovertemplate": "Suporte Tecnico=YES<br>CHURN=%{x}<br>Porcentagem=%{y}<extra></extra>",
         "legendgroup": "YES",
         "marker": {
          "color": "#EF553B",
          "pattern": {
           "shape": ""
          }
         },
         "name": "YES",
         "offsetgroup": "YES",
         "orientation": "v",
         "showlegend": true,
         "textposition": "auto",
         "type": "bar",
         "x": [
          "NO",
          "YES"
         ],
         "xaxis": "x",
         "y": [
          33.731667571971755,
          13.910355486862441
         ],
         "yaxis": "y"
        }
       ],
       "layout": {
        "barmode": "stack",
        "legend": {
         "title": {
          "text": "Suporte Tecnico"
         },
         "tracegroupgap": 0
        },
        "margin": {
         "t": 60
        },
        "template": {
         "data": {
          "bar": [
           {
            "error_x": {
             "color": "#2a3f5f"
            },
            "error_y": {
             "color": "#2a3f5f"
            },
            "marker": {
             "line": {
              "color": "#E5ECF6",
              "width": 0.5
             },
             "pattern": {
              "fillmode": "overlay",
              "size": 10,
              "solidity": 0.2
             }
            },
            "type": "bar"
           }
          ],
          "barpolar": [
           {
            "marker": {
             "line": {
              "color": "#E5ECF6",
              "width": 0.5
             },
             "pattern": {
              "fillmode": "overlay",
              "size": 10,
              "solidity": 0.2
             }
            },
            "type": "barpolar"
           }
          ],
          "carpet": [
           {
            "aaxis": {
             "endlinecolor": "#2a3f5f",
             "gridcolor": "white",
             "linecolor": "white",
             "minorgridcolor": "white",
             "startlinecolor": "#2a3f5f"
            },
            "baxis": {
             "endlinecolor": "#2a3f5f",
             "gridcolor": "white",
             "linecolor": "white",
             "minorgridcolor": "white",
             "startlinecolor": "#2a3f5f"
            },
            "type": "carpet"
           }
          ],
          "choropleth": [
           {
            "colorbar": {
             "outlinewidth": 0,
             "ticks": ""
            },
            "type": "choropleth"
           }
          ],
          "contour": [
           {
            "colorbar": {
             "outlinewidth": 0,
             "ticks": ""
            },
            "colorscale": [
             [
              0,
              "#0d0887"
             ],
             [
              0.1111111111111111,
              "#46039f"
             ],
             [
              0.2222222222222222,
              "#7201a8"
             ],
             [
              0.3333333333333333,
              "#9c179e"
             ],
             [
              0.4444444444444444,
              "#bd3786"
             ],
             [
              0.5555555555555556,
              "#d8576b"
             ],
             [
              0.6666666666666666,
              "#ed7953"
             ],
             [
              0.7777777777777778,
              "#fb9f3a"
             ],
             [
              0.8888888888888888,
              "#fdca26"
             ],
             [
              1,
              "#f0f921"
             ]
            ],
            "type": "contour"
           }
          ],
          "contourcarpet": [
           {
            "colorbar": {
             "outlinewidth": 0,
             "ticks": ""
            },
            "type": "contourcarpet"
           }
          ],
          "heatmap": [
           {
            "colorbar": {
             "outlinewidth": 0,
             "ticks": ""
            },
            "colorscale": [
             [
              0,
              "#0d0887"
             ],
             [
              0.1111111111111111,
              "#46039f"
             ],
             [
              0.2222222222222222,
              "#7201a8"
             ],
             [
              0.3333333333333333,
              "#9c179e"
             ],
             [
              0.4444444444444444,
              "#bd3786"
             ],
             [
              0.5555555555555556,
              "#d8576b"
             ],
             [
              0.6666666666666666,
              "#ed7953"
             ],
             [
              0.7777777777777778,
              "#fb9f3a"
             ],
             [
              0.8888888888888888,
              "#fdca26"
             ],
             [
              1,
              "#f0f921"
             ]
            ],
            "type": "heatmap"
           }
          ],
          "heatmapgl": [
           {
            "colorbar": {
             "outlinewidth": 0,
             "ticks": ""
            },
            "colorscale": [
             [
              0,
              "#0d0887"
             ],
             [
              0.1111111111111111,
              "#46039f"
             ],
             [
              0.2222222222222222,
              "#7201a8"
             ],
             [
              0.3333333333333333,
              "#9c179e"
             ],
             [
              0.4444444444444444,
              "#bd3786"
             ],
             [
              0.5555555555555556,
              "#d8576b"
             ],
             [
              0.6666666666666666,
              "#ed7953"
             ],
             [
              0.7777777777777778,
              "#fb9f3a"
             ],
             [
              0.8888888888888888,
              "#fdca26"
             ],
             [
              1,
              "#f0f921"
             ]
            ],
            "type": "heatmapgl"
           }
          ],
          "histogram": [
           {
            "marker": {
             "pattern": {
              "fillmode": "overlay",
              "size": 10,
              "solidity": 0.2
             }
            },
            "type": "histogram"
           }
          ],
          "histogram2d": [
           {
            "colorbar": {
             "outlinewidth": 0,
             "ticks": ""
            },
            "colorscale": [
             [
              0,
              "#0d0887"
             ],
             [
              0.1111111111111111,
              "#46039f"
             ],
             [
              0.2222222222222222,
              "#7201a8"
             ],
             [
              0.3333333333333333,
              "#9c179e"
             ],
             [
              0.4444444444444444,
              "#bd3786"
             ],
             [
              0.5555555555555556,
              "#d8576b"
             ],
             [
              0.6666666666666666,
              "#ed7953"
             ],
             [
              0.7777777777777778,
              "#fb9f3a"
             ],
             [
              0.8888888888888888,
              "#fdca26"
             ],
             [
              1,
              "#f0f921"
             ]
            ],
            "type": "histogram2d"
           }
          ],
          "histogram2dcontour": [
           {
            "colorbar": {
             "outlinewidth": 0,
             "ticks": ""
            },
            "colorscale": [
             [
              0,
              "#0d0887"
             ],
             [
              0.1111111111111111,
              "#46039f"
             ],
             [
              0.2222222222222222,
              "#7201a8"
             ],
             [
              0.3333333333333333,
              "#9c179e"
             ],
             [
              0.4444444444444444,
              "#bd3786"
             ],
             [
              0.5555555555555556,
              "#d8576b"
             ],
             [
              0.6666666666666666,
              "#ed7953"
             ],
             [
              0.7777777777777778,
              "#fb9f3a"
             ],
             [
              0.8888888888888888,
              "#fdca26"
             ],
             [
              1,
              "#f0f921"
             ]
            ],
            "type": "histogram2dcontour"
           }
          ],
          "mesh3d": [
           {
            "colorbar": {
             "outlinewidth": 0,
             "ticks": ""
            },
            "type": "mesh3d"
           }
          ],
          "parcoords": [
           {
            "line": {
             "colorbar": {
              "outlinewidth": 0,
              "ticks": ""
             }
            },
            "type": "parcoords"
           }
          ],
          "pie": [
           {
            "automargin": true,
            "type": "pie"
           }
          ],
          "scatter": [
           {
            "fillpattern": {
             "fillmode": "overlay",
             "size": 10,
             "solidity": 0.2
            },
            "type": "scatter"
           }
          ],
          "scatter3d": [
           {
            "line": {
             "colorbar": {
              "outlinewidth": 0,
              "ticks": ""
             }
            },
            "marker": {
             "colorbar": {
              "outlinewidth": 0,
              "ticks": ""
             }
            },
            "type": "scatter3d"
           }
          ],
          "scattercarpet": [
           {
            "marker": {
             "colorbar": {
              "outlinewidth": 0,
              "ticks": ""
             }
            },
            "type": "scattercarpet"
           }
          ],
          "scattergeo": [
           {
            "marker": {
             "colorbar": {
              "outlinewidth": 0,
              "ticks": ""
             }
            },
            "type": "scattergeo"
           }
          ],
          "scattergl": [
           {
            "marker": {
             "colorbar": {
              "outlinewidth": 0,
              "ticks": ""
             }
            },
            "type": "scattergl"
           }
          ],
          "scattermapbox": [
           {
            "marker": {
             "colorbar": {
              "outlinewidth": 0,
              "ticks": ""
             }
            },
            "type": "scattermapbox"
           }
          ],
          "scatterpolar": [
           {
            "marker": {
             "colorbar": {
              "outlinewidth": 0,
              "ticks": ""
             }
            },
            "type": "scatterpolar"
           }
          ],
          "scatterpolargl": [
           {
            "marker": {
             "colorbar": {
              "outlinewidth": 0,
              "ticks": ""
             }
            },
            "type": "scatterpolargl"
           }
          ],
          "scatterternary": [
           {
            "marker": {
             "colorbar": {
              "outlinewidth": 0,
              "ticks": ""
             }
            },
            "type": "scatterternary"
           }
          ],
          "surface": [
           {
            "colorbar": {
             "outlinewidth": 0,
             "ticks": ""
            },
            "colorscale": [
             [
              0,
              "#0d0887"
             ],
             [
              0.1111111111111111,
              "#46039f"
             ],
             [
              0.2222222222222222,
              "#7201a8"
             ],
             [
              0.3333333333333333,
              "#9c179e"
             ],
             [
              0.4444444444444444,
              "#bd3786"
             ],
             [
              0.5555555555555556,
              "#d8576b"
             ],
             [
              0.6666666666666666,
              "#ed7953"
             ],
             [
              0.7777777777777778,
              "#fb9f3a"
             ],
             [
              0.8888888888888888,
              "#fdca26"
             ],
             [
              1,
              "#f0f921"
             ]
            ],
            "type": "surface"
           }
          ],
          "table": [
           {
            "cells": {
             "fill": {
              "color": "#EBF0F8"
             },
             "line": {
              "color": "white"
             }
            },
            "header": {
             "fill": {
              "color": "#C8D4E3"
             },
             "line": {
              "color": "white"
             }
            },
            "type": "table"
           }
          ]
         },
         "layout": {
          "annotationdefaults": {
           "arrowcolor": "#2a3f5f",
           "arrowhead": 0,
           "arrowwidth": 1
          },
          "autotypenumbers": "strict",
          "coloraxis": {
           "colorbar": {
            "outlinewidth": 0,
            "ticks": ""
           }
          },
          "colorscale": {
           "diverging": [
            [
             0,
             "#8e0152"
            ],
            [
             0.1,
             "#c51b7d"
            ],
            [
             0.2,
             "#de77ae"
            ],
            [
             0.3,
             "#f1b6da"
            ],
            [
             0.4,
             "#fde0ef"
            ],
            [
             0.5,
             "#f7f7f7"
            ],
            [
             0.6,
             "#e6f5d0"
            ],
            [
             0.7,
             "#b8e186"
            ],
            [
             0.8,
             "#7fbc41"
            ],
            [
             0.9,
             "#4d9221"
            ],
            [
             1,
             "#276419"
            ]
           ],
           "sequential": [
            [
             0,
             "#0d0887"
            ],
            [
             0.1111111111111111,
             "#46039f"
            ],
            [
             0.2222222222222222,
             "#7201a8"
            ],
            [
             0.3333333333333333,
             "#9c179e"
            ],
            [
             0.4444444444444444,
             "#bd3786"
            ],
            [
             0.5555555555555556,
             "#d8576b"
            ],
            [
             0.6666666666666666,
             "#ed7953"
            ],
            [
             0.7777777777777778,
             "#fb9f3a"
            ],
            [
             0.8888888888888888,
             "#fdca26"
            ],
            [
             1,
             "#f0f921"
            ]
           ],
           "sequentialminus": [
            [
             0,
             "#0d0887"
            ],
            [
             0.1111111111111111,
             "#46039f"
            ],
            [
             0.2222222222222222,
             "#7201a8"
            ],
            [
             0.3333333333333333,
             "#9c179e"
            ],
            [
             0.4444444444444444,
             "#bd3786"
            ],
            [
             0.5555555555555556,
             "#d8576b"
            ],
            [
             0.6666666666666666,
             "#ed7953"
            ],
            [
             0.7777777777777778,
             "#fb9f3a"
            ],
            [
             0.8888888888888888,
             "#fdca26"
            ],
            [
             1,
             "#f0f921"
            ]
           ]
          },
          "colorway": [
           "#636efa",
           "#EF553B",
           "#00cc96",
           "#ab63fa",
           "#FFA15A",
           "#19d3f3",
           "#FF6692",
           "#B6E880",
           "#FF97FF",
           "#FECB52"
          ],
          "font": {
           "color": "#2a3f5f"
          },
          "geo": {
           "bgcolor": "white",
           "lakecolor": "white",
           "landcolor": "#E5ECF6",
           "showlakes": true,
           "showland": true,
           "subunitcolor": "white"
          },
          "hoverlabel": {
           "align": "left"
          },
          "hovermode": "closest",
          "mapbox": {
           "style": "light"
          },
          "paper_bgcolor": "white",
          "plot_bgcolor": "#E5ECF6",
          "polar": {
           "angularaxis": {
            "gridcolor": "white",
            "linecolor": "white",
            "ticks": ""
           },
           "bgcolor": "#E5ECF6",
           "radialaxis": {
            "gridcolor": "white",
            "linecolor": "white",
            "ticks": ""
           }
          },
          "scene": {
           "xaxis": {
            "backgroundcolor": "#E5ECF6",
            "gridcolor": "white",
            "gridwidth": 2,
            "linecolor": "white",
            "showbackground": true,
            "ticks": "",
            "zerolinecolor": "white"
           },
           "yaxis": {
            "backgroundcolor": "#E5ECF6",
            "gridcolor": "white",
            "gridwidth": 2,
            "linecolor": "white",
            "showbackground": true,
            "ticks": "",
            "zerolinecolor": "white"
           },
           "zaxis": {
            "backgroundcolor": "#E5ECF6",
            "gridcolor": "white",
            "gridwidth": 2,
            "linecolor": "white",
            "showbackground": true,
            "ticks": "",
            "zerolinecolor": "white"
           }
          },
          "shapedefaults": {
           "line": {
            "color": "#2a3f5f"
           }
          },
          "ternary": {
           "aaxis": {
            "gridcolor": "white",
            "linecolor": "white",
            "ticks": ""
           },
           "baxis": {
            "gridcolor": "white",
            "linecolor": "white",
            "ticks": ""
           },
           "bgcolor": "#E5ECF6",
           "caxis": {
            "gridcolor": "white",
            "linecolor": "white",
            "ticks": ""
           }
          },
          "title": {
           "x": 0.05
          },
          "xaxis": {
           "automargin": true,
           "gridcolor": "white",
           "linecolor": "white",
           "ticks": "",
           "title": {
            "standoff": 15
           },
           "zerolinecolor": "white",
           "zerolinewidth": 2
          },
          "yaxis": {
           "automargin": true,
           "gridcolor": "white",
           "linecolor": "white",
           "ticks": "",
           "title": {
            "standoff": 15
           },
           "zerolinecolor": "white",
           "zerolinewidth": 2
          }
         }
        },
        "title": {
         "text": "Relação entre CHURN e Suporte Tecnico"
        },
        "xaxis": {
         "anchor": "y",
         "domain": [
          0,
          1
         ],
         "title": {
          "text": "CHURN"
         }
        },
        "yaxis": {
         "anchor": "x",
         "domain": [
          0,
          1
         ],
         "title": {
          "text": "Porcentagem"
         }
        }
       }
      }
     },
     "metadata": {},
     "output_type": "display_data"
    }
   ],
   "source": [
    "# CHURN x Suporte Tecnico\n",
    "\n",
    "df_grouped = df.groupby(['CHURN', 'SUPORTE_TECNICO']).size().reset_index(name='count')\n",
    "total_por_CHURN = df_grouped.groupby('CHURN')['count'].transform('sum')\n",
    "df_grouped['percent'] = (df_grouped['count'] / total_por_CHURN ) * 100\n",
    "\n",
    "fig = px.bar(df_grouped, x='CHURN', y='percent', color='SUPORTE_TECNICO', barmode='stack',\n",
    "             labels={'CHURN': 'CHURN', 'percent': 'Porcentagem', 'SUPORTE_TECNICO': 'Suporte Tecnico'})\n",
    "\n",
    "fig.update_layout(title='Relação entre CHURN e Suporte Tecnico',\n",
    "                  yaxis_title='Porcentagem',\n",
    "                  legend_title='Suporte Tecnico')\n",
    "\n",
    "fig.show()"
   ]
  },
  {
   "cell_type": "markdown",
   "metadata": {},
   "source": [
    "Caso curioso, clientes que não entraram em contato com nosso suporte nos abandonaram então por aqui podemos concluir que precisa de uma investigação para entender o motivo disso, pois a logica é para ser o oposto pois quem tem problema reclama.\n"
   ]
  },
  {
   "cell_type": "code",
   "execution_count": 112,
   "metadata": {},
   "outputs": [
    {
     "data": {
      "application/vnd.plotly.v1+json": {
       "config": {
        "plotlyServerURL": "https://plot.ly"
       },
       "data": [
        {
         "alignmentgroup": "True",
         "hovertemplate": "CHURN=%{x}<br>Pagamento Mensal=%{y}<extra></extra>",
         "legendgroup": "",
         "marker": {
          "color": "#636efa",
          "pattern": {
           "shape": ""
          }
         },
         "name": "",
         "offsetgroup": "",
         "orientation": "v",
         "showlegend": false,
         "textposition": "auto",
         "type": "bar",
         "x": [
          "NO",
          "YES"
         ],
         "xaxis": "x",
         "y": [
          62.96371537208039,
          75.95687789799072
         ],
         "yaxis": "y"
        }
       ],
       "layout": {
        "barmode": "relative",
        "legend": {
         "tracegroupgap": 0
        },
        "template": {
         "data": {
          "bar": [
           {
            "error_x": {
             "color": "#2a3f5f"
            },
            "error_y": {
             "color": "#2a3f5f"
            },
            "marker": {
             "line": {
              "color": "#E5ECF6",
              "width": 0.5
             },
             "pattern": {
              "fillmode": "overlay",
              "size": 10,
              "solidity": 0.2
             }
            },
            "type": "bar"
           }
          ],
          "barpolar": [
           {
            "marker": {
             "line": {
              "color": "#E5ECF6",
              "width": 0.5
             },
             "pattern": {
              "fillmode": "overlay",
              "size": 10,
              "solidity": 0.2
             }
            },
            "type": "barpolar"
           }
          ],
          "carpet": [
           {
            "aaxis": {
             "endlinecolor": "#2a3f5f",
             "gridcolor": "white",
             "linecolor": "white",
             "minorgridcolor": "white",
             "startlinecolor": "#2a3f5f"
            },
            "baxis": {
             "endlinecolor": "#2a3f5f",
             "gridcolor": "white",
             "linecolor": "white",
             "minorgridcolor": "white",
             "startlinecolor": "#2a3f5f"
            },
            "type": "carpet"
           }
          ],
          "choropleth": [
           {
            "colorbar": {
             "outlinewidth": 0,
             "ticks": ""
            },
            "type": "choropleth"
           }
          ],
          "contour": [
           {
            "colorbar": {
             "outlinewidth": 0,
             "ticks": ""
            },
            "colorscale": [
             [
              0,
              "#0d0887"
             ],
             [
              0.1111111111111111,
              "#46039f"
             ],
             [
              0.2222222222222222,
              "#7201a8"
             ],
             [
              0.3333333333333333,
              "#9c179e"
             ],
             [
              0.4444444444444444,
              "#bd3786"
             ],
             [
              0.5555555555555556,
              "#d8576b"
             ],
             [
              0.6666666666666666,
              "#ed7953"
             ],
             [
              0.7777777777777778,
              "#fb9f3a"
             ],
             [
              0.8888888888888888,
              "#fdca26"
             ],
             [
              1,
              "#f0f921"
             ]
            ],
            "type": "contour"
           }
          ],
          "contourcarpet": [
           {
            "colorbar": {
             "outlinewidth": 0,
             "ticks": ""
            },
            "type": "contourcarpet"
           }
          ],
          "heatmap": [
           {
            "colorbar": {
             "outlinewidth": 0,
             "ticks": ""
            },
            "colorscale": [
             [
              0,
              "#0d0887"
             ],
             [
              0.1111111111111111,
              "#46039f"
             ],
             [
              0.2222222222222222,
              "#7201a8"
             ],
             [
              0.3333333333333333,
              "#9c179e"
             ],
             [
              0.4444444444444444,
              "#bd3786"
             ],
             [
              0.5555555555555556,
              "#d8576b"
             ],
             [
              0.6666666666666666,
              "#ed7953"
             ],
             [
              0.7777777777777778,
              "#fb9f3a"
             ],
             [
              0.8888888888888888,
              "#fdca26"
             ],
             [
              1,
              "#f0f921"
             ]
            ],
            "type": "heatmap"
           }
          ],
          "heatmapgl": [
           {
            "colorbar": {
             "outlinewidth": 0,
             "ticks": ""
            },
            "colorscale": [
             [
              0,
              "#0d0887"
             ],
             [
              0.1111111111111111,
              "#46039f"
             ],
             [
              0.2222222222222222,
              "#7201a8"
             ],
             [
              0.3333333333333333,
              "#9c179e"
             ],
             [
              0.4444444444444444,
              "#bd3786"
             ],
             [
              0.5555555555555556,
              "#d8576b"
             ],
             [
              0.6666666666666666,
              "#ed7953"
             ],
             [
              0.7777777777777778,
              "#fb9f3a"
             ],
             [
              0.8888888888888888,
              "#fdca26"
             ],
             [
              1,
              "#f0f921"
             ]
            ],
            "type": "heatmapgl"
           }
          ],
          "histogram": [
           {
            "marker": {
             "pattern": {
              "fillmode": "overlay",
              "size": 10,
              "solidity": 0.2
             }
            },
            "type": "histogram"
           }
          ],
          "histogram2d": [
           {
            "colorbar": {
             "outlinewidth": 0,
             "ticks": ""
            },
            "colorscale": [
             [
              0,
              "#0d0887"
             ],
             [
              0.1111111111111111,
              "#46039f"
             ],
             [
              0.2222222222222222,
              "#7201a8"
             ],
             [
              0.3333333333333333,
              "#9c179e"
             ],
             [
              0.4444444444444444,
              "#bd3786"
             ],
             [
              0.5555555555555556,
              "#d8576b"
             ],
             [
              0.6666666666666666,
              "#ed7953"
             ],
             [
              0.7777777777777778,
              "#fb9f3a"
             ],
             [
              0.8888888888888888,
              "#fdca26"
             ],
             [
              1,
              "#f0f921"
             ]
            ],
            "type": "histogram2d"
           }
          ],
          "histogram2dcontour": [
           {
            "colorbar": {
             "outlinewidth": 0,
             "ticks": ""
            },
            "colorscale": [
             [
              0,
              "#0d0887"
             ],
             [
              0.1111111111111111,
              "#46039f"
             ],
             [
              0.2222222222222222,
              "#7201a8"
             ],
             [
              0.3333333333333333,
              "#9c179e"
             ],
             [
              0.4444444444444444,
              "#bd3786"
             ],
             [
              0.5555555555555556,
              "#d8576b"
             ],
             [
              0.6666666666666666,
              "#ed7953"
             ],
             [
              0.7777777777777778,
              "#fb9f3a"
             ],
             [
              0.8888888888888888,
              "#fdca26"
             ],
             [
              1,
              "#f0f921"
             ]
            ],
            "type": "histogram2dcontour"
           }
          ],
          "mesh3d": [
           {
            "colorbar": {
             "outlinewidth": 0,
             "ticks": ""
            },
            "type": "mesh3d"
           }
          ],
          "parcoords": [
           {
            "line": {
             "colorbar": {
              "outlinewidth": 0,
              "ticks": ""
             }
            },
            "type": "parcoords"
           }
          ],
          "pie": [
           {
            "automargin": true,
            "type": "pie"
           }
          ],
          "scatter": [
           {
            "fillpattern": {
             "fillmode": "overlay",
             "size": 10,
             "solidity": 0.2
            },
            "type": "scatter"
           }
          ],
          "scatter3d": [
           {
            "line": {
             "colorbar": {
              "outlinewidth": 0,
              "ticks": ""
             }
            },
            "marker": {
             "colorbar": {
              "outlinewidth": 0,
              "ticks": ""
             }
            },
            "type": "scatter3d"
           }
          ],
          "scattercarpet": [
           {
            "marker": {
             "colorbar": {
              "outlinewidth": 0,
              "ticks": ""
             }
            },
            "type": "scattercarpet"
           }
          ],
          "scattergeo": [
           {
            "marker": {
             "colorbar": {
              "outlinewidth": 0,
              "ticks": ""
             }
            },
            "type": "scattergeo"
           }
          ],
          "scattergl": [
           {
            "marker": {
             "colorbar": {
              "outlinewidth": 0,
              "ticks": ""
             }
            },
            "type": "scattergl"
           }
          ],
          "scattermapbox": [
           {
            "marker": {
             "colorbar": {
              "outlinewidth": 0,
              "ticks": ""
             }
            },
            "type": "scattermapbox"
           }
          ],
          "scatterpolar": [
           {
            "marker": {
             "colorbar": {
              "outlinewidth": 0,
              "ticks": ""
             }
            },
            "type": "scatterpolar"
           }
          ],
          "scatterpolargl": [
           {
            "marker": {
             "colorbar": {
              "outlinewidth": 0,
              "ticks": ""
             }
            },
            "type": "scatterpolargl"
           }
          ],
          "scatterternary": [
           {
            "marker": {
             "colorbar": {
              "outlinewidth": 0,
              "ticks": ""
             }
            },
            "type": "scatterternary"
           }
          ],
          "surface": [
           {
            "colorbar": {
             "outlinewidth": 0,
             "ticks": ""
            },
            "colorscale": [
             [
              0,
              "#0d0887"
             ],
             [
              0.1111111111111111,
              "#46039f"
             ],
             [
              0.2222222222222222,
              "#7201a8"
             ],
             [
              0.3333333333333333,
              "#9c179e"
             ],
             [
              0.4444444444444444,
              "#bd3786"
             ],
             [
              0.5555555555555556,
              "#d8576b"
             ],
             [
              0.6666666666666666,
              "#ed7953"
             ],
             [
              0.7777777777777778,
              "#fb9f3a"
             ],
             [
              0.8888888888888888,
              "#fdca26"
             ],
             [
              1,
              "#f0f921"
             ]
            ],
            "type": "surface"
           }
          ],
          "table": [
           {
            "cells": {
             "fill": {
              "color": "#EBF0F8"
             },
             "line": {
              "color": "white"
             }
            },
            "header": {
             "fill": {
              "color": "#C8D4E3"
             },
             "line": {
              "color": "white"
             }
            },
            "type": "table"
           }
          ]
         },
         "layout": {
          "annotationdefaults": {
           "arrowcolor": "#2a3f5f",
           "arrowhead": 0,
           "arrowwidth": 1
          },
          "autotypenumbers": "strict",
          "coloraxis": {
           "colorbar": {
            "outlinewidth": 0,
            "ticks": ""
           }
          },
          "colorscale": {
           "diverging": [
            [
             0,
             "#8e0152"
            ],
            [
             0.1,
             "#c51b7d"
            ],
            [
             0.2,
             "#de77ae"
            ],
            [
             0.3,
             "#f1b6da"
            ],
            [
             0.4,
             "#fde0ef"
            ],
            [
             0.5,
             "#f7f7f7"
            ],
            [
             0.6,
             "#e6f5d0"
            ],
            [
             0.7,
             "#b8e186"
            ],
            [
             0.8,
             "#7fbc41"
            ],
            [
             0.9,
             "#4d9221"
            ],
            [
             1,
             "#276419"
            ]
           ],
           "sequential": [
            [
             0,
             "#0d0887"
            ],
            [
             0.1111111111111111,
             "#46039f"
            ],
            [
             0.2222222222222222,
             "#7201a8"
            ],
            [
             0.3333333333333333,
             "#9c179e"
            ],
            [
             0.4444444444444444,
             "#bd3786"
            ],
            [
             0.5555555555555556,
             "#d8576b"
            ],
            [
             0.6666666666666666,
             "#ed7953"
            ],
            [
             0.7777777777777778,
             "#fb9f3a"
            ],
            [
             0.8888888888888888,
             "#fdca26"
            ],
            [
             1,
             "#f0f921"
            ]
           ],
           "sequentialminus": [
            [
             0,
             "#0d0887"
            ],
            [
             0.1111111111111111,
             "#46039f"
            ],
            [
             0.2222222222222222,
             "#7201a8"
            ],
            [
             0.3333333333333333,
             "#9c179e"
            ],
            [
             0.4444444444444444,
             "#bd3786"
            ],
            [
             0.5555555555555556,
             "#d8576b"
            ],
            [
             0.6666666666666666,
             "#ed7953"
            ],
            [
             0.7777777777777778,
             "#fb9f3a"
            ],
            [
             0.8888888888888888,
             "#fdca26"
            ],
            [
             1,
             "#f0f921"
            ]
           ]
          },
          "colorway": [
           "#636efa",
           "#EF553B",
           "#00cc96",
           "#ab63fa",
           "#FFA15A",
           "#19d3f3",
           "#FF6692",
           "#B6E880",
           "#FF97FF",
           "#FECB52"
          ],
          "font": {
           "color": "#2a3f5f"
          },
          "geo": {
           "bgcolor": "white",
           "lakecolor": "white",
           "landcolor": "#E5ECF6",
           "showlakes": true,
           "showland": true,
           "subunitcolor": "white"
          },
          "hoverlabel": {
           "align": "left"
          },
          "hovermode": "closest",
          "mapbox": {
           "style": "light"
          },
          "paper_bgcolor": "white",
          "plot_bgcolor": "#E5ECF6",
          "polar": {
           "angularaxis": {
            "gridcolor": "white",
            "linecolor": "white",
            "ticks": ""
           },
           "bgcolor": "#E5ECF6",
           "radialaxis": {
            "gridcolor": "white",
            "linecolor": "white",
            "ticks": ""
           }
          },
          "scene": {
           "xaxis": {
            "backgroundcolor": "#E5ECF6",
            "gridcolor": "white",
            "gridwidth": 2,
            "linecolor": "white",
            "showbackground": true,
            "ticks": "",
            "zerolinecolor": "white"
           },
           "yaxis": {
            "backgroundcolor": "#E5ECF6",
            "gridcolor": "white",
            "gridwidth": 2,
            "linecolor": "white",
            "showbackground": true,
            "ticks": "",
            "zerolinecolor": "white"
           },
           "zaxis": {
            "backgroundcolor": "#E5ECF6",
            "gridcolor": "white",
            "gridwidth": 2,
            "linecolor": "white",
            "showbackground": true,
            "ticks": "",
            "zerolinecolor": "white"
           }
          },
          "shapedefaults": {
           "line": {
            "color": "#2a3f5f"
           }
          },
          "ternary": {
           "aaxis": {
            "gridcolor": "white",
            "linecolor": "white",
            "ticks": ""
           },
           "baxis": {
            "gridcolor": "white",
            "linecolor": "white",
            "ticks": ""
           },
           "bgcolor": "#E5ECF6",
           "caxis": {
            "gridcolor": "white",
            "linecolor": "white",
            "ticks": ""
           }
          },
          "title": {
           "x": 0.05
          },
          "xaxis": {
           "automargin": true,
           "gridcolor": "white",
           "linecolor": "white",
           "ticks": "",
           "title": {
            "standoff": 15
           },
           "zerolinecolor": "white",
           "zerolinewidth": 2
          },
          "yaxis": {
           "automargin": true,
           "gridcolor": "white",
           "linecolor": "white",
           "ticks": "",
           "title": {
            "standoff": 15
           },
           "zerolinecolor": "white",
           "zerolinewidth": 2
          }
         }
        },
        "title": {
         "text": "Média Pagamento Mensal x CHURN"
        },
        "xaxis": {
         "anchor": "y",
         "domain": [
          0,
          1
         ],
         "title": {
          "text": "CHURN"
         }
        },
        "yaxis": {
         "anchor": "x",
         "domain": [
          0,
          1
         ],
         "title": {
          "text": "Pagamento Mensal"
         }
        }
       }
      }
     },
     "metadata": {},
     "output_type": "display_data"
    }
   ],
   "source": [
    "# CHURN x Pagamento Mensal\n",
    "mediana = df.groupby('CHURN')['PAGAMENTO_MENSAL'].mean().reset_index()\n",
    "fig = px.bar(mediana, x='CHURN', y='PAGAMENTO_MENSAL',\n",
    "             title='Média Pagamento Mensal x CHURN',\n",
    "             labels={'CHURN': 'CHURN', 'PAGAMENTO_MENSAL': 'Pagamento Mensal'})\n",
    "\n",
    "fig.show()"
   ]
  },
  {
   "cell_type": "markdown",
   "metadata": {},
   "source": [
    "Clientes com a média maior para o valor do plano tendem a nos abandonar mais.\n"
   ]
  },
  {
   "cell_type": "code",
   "execution_count": 113,
   "metadata": {},
   "outputs": [
    {
     "data": {
      "application/vnd.plotly.v1+json": {
       "config": {
        "plotlyServerURL": "https://plot.ly"
       },
       "data": [
        {
         "hovertemplate": "Tempo como Cliente=%{x}<br>Média Total Pago=%{y}<extra></extra>",
         "legendgroup": "",
         "line": {
          "color": "#636efa",
          "dash": "solid"
         },
         "marker": {
          "symbol": "circle"
         },
         "mode": "lines",
         "name": "",
         "orientation": "v",
         "showlegend": false,
         "type": "scatter",
         "x": [
          0,
          1,
          2,
          3,
          4,
          5,
          6,
          7,
          8,
          9,
          10,
          11,
          12,
          13,
          14,
          15,
          16,
          17,
          18,
          19,
          20,
          21,
          22,
          23,
          24,
          25,
          26,
          27,
          28,
          29,
          30,
          31,
          32,
          33,
          34,
          35,
          36,
          37,
          38,
          39,
          40,
          41,
          42,
          43,
          44,
          45,
          46,
          47,
          48,
          49,
          50,
          51,
          52,
          53,
          54,
          55,
          56,
          57,
          58,
          59,
          60,
          61,
          62,
          63,
          64,
          65,
          66,
          67,
          68,
          69,
          70,
          71,
          72
         ],
         "xaxis": "x",
         "y": [
          51.14,
          49.99112149532711,
          120.55329670329671,
          180.08783783783784,
          244.99732142857144,
          283.68636363636364,
          309.04423076923075,
          439.87452830188676,
          459.4794117647059,
          606.8533333333332,
          634.1615384615385,
          678.6158536585366,
          623.2186046511629,
          809.0296875,
          836.0484848484848,
          971.2315789473685,
          1087.93,
          1052.240909090909,
          1089.3178571428573,
          1120.421875,
          1286.6399999999999,
          1322.1000000000001,
          1392.085483870968,
          1450.9939024390244,
          1551.8671875,
          1649.89,
          1308.575,
          1735.1109375,
          1881.4394736842105,
          1696.5666666666668,
          2128.798387096774,
          2292.4886363636365,
          2287.3066666666664,
          2380.095238095238,
          2230.223076923077,
          2293.1621212121213,
          1903.3,
          2632.188235294118,
          2697.0150000000003,
          2182.496666666667,
          2419.413043478261,
          2889.0416666666665,
          2707.2413043478264,
          3560.0108695652175,
          2516.0433333333335,
          3193.5557692307693,
          2746.741666666667,
          3374.2283333333335,
          3222.822,
          3307.7687499999997,
          3747.7673913043477,
          3922.2208333333333,
          3414.451666666667,
          3989.925,
          4092.2400000000002,
          3696.625,
          4626.25909090909,
          4160.2525000000005,
          3555.528947368421,
          4282.4175000000005,
          4221.406451612904,
          4133.045833333334,
          4621.497916666666,
          4238.086206896552,
          4851.848,
          5587.505172413793,
          4523.2181818181825,
          5036.299999999999,
          4876.9140625,
          4621.779411764706,
          5130.394285714286,
          5540.048507462687,
          5737.358695652174
         ],
         "yaxis": "y"
        }
       ],
       "layout": {
        "legend": {
         "tracegroupgap": 0
        },
        "template": {
         "data": {
          "bar": [
           {
            "error_x": {
             "color": "#2a3f5f"
            },
            "error_y": {
             "color": "#2a3f5f"
            },
            "marker": {
             "line": {
              "color": "#E5ECF6",
              "width": 0.5
             },
             "pattern": {
              "fillmode": "overlay",
              "size": 10,
              "solidity": 0.2
             }
            },
            "type": "bar"
           }
          ],
          "barpolar": [
           {
            "marker": {
             "line": {
              "color": "#E5ECF6",
              "width": 0.5
             },
             "pattern": {
              "fillmode": "overlay",
              "size": 10,
              "solidity": 0.2
             }
            },
            "type": "barpolar"
           }
          ],
          "carpet": [
           {
            "aaxis": {
             "endlinecolor": "#2a3f5f",
             "gridcolor": "white",
             "linecolor": "white",
             "minorgridcolor": "white",
             "startlinecolor": "#2a3f5f"
            },
            "baxis": {
             "endlinecolor": "#2a3f5f",
             "gridcolor": "white",
             "linecolor": "white",
             "minorgridcolor": "white",
             "startlinecolor": "#2a3f5f"
            },
            "type": "carpet"
           }
          ],
          "choropleth": [
           {
            "colorbar": {
             "outlinewidth": 0,
             "ticks": ""
            },
            "type": "choropleth"
           }
          ],
          "contour": [
           {
            "colorbar": {
             "outlinewidth": 0,
             "ticks": ""
            },
            "colorscale": [
             [
              0,
              "#0d0887"
             ],
             [
              0.1111111111111111,
              "#46039f"
             ],
             [
              0.2222222222222222,
              "#7201a8"
             ],
             [
              0.3333333333333333,
              "#9c179e"
             ],
             [
              0.4444444444444444,
              "#bd3786"
             ],
             [
              0.5555555555555556,
              "#d8576b"
             ],
             [
              0.6666666666666666,
              "#ed7953"
             ],
             [
              0.7777777777777778,
              "#fb9f3a"
             ],
             [
              0.8888888888888888,
              "#fdca26"
             ],
             [
              1,
              "#f0f921"
             ]
            ],
            "type": "contour"
           }
          ],
          "contourcarpet": [
           {
            "colorbar": {
             "outlinewidth": 0,
             "ticks": ""
            },
            "type": "contourcarpet"
           }
          ],
          "heatmap": [
           {
            "colorbar": {
             "outlinewidth": 0,
             "ticks": ""
            },
            "colorscale": [
             [
              0,
              "#0d0887"
             ],
             [
              0.1111111111111111,
              "#46039f"
             ],
             [
              0.2222222222222222,
              "#7201a8"
             ],
             [
              0.3333333333333333,
              "#9c179e"
             ],
             [
              0.4444444444444444,
              "#bd3786"
             ],
             [
              0.5555555555555556,
              "#d8576b"
             ],
             [
              0.6666666666666666,
              "#ed7953"
             ],
             [
              0.7777777777777778,
              "#fb9f3a"
             ],
             [
              0.8888888888888888,
              "#fdca26"
             ],
             [
              1,
              "#f0f921"
             ]
            ],
            "type": "heatmap"
           }
          ],
          "heatmapgl": [
           {
            "colorbar": {
             "outlinewidth": 0,
             "ticks": ""
            },
            "colorscale": [
             [
              0,
              "#0d0887"
             ],
             [
              0.1111111111111111,
              "#46039f"
             ],
             [
              0.2222222222222222,
              "#7201a8"
             ],
             [
              0.3333333333333333,
              "#9c179e"
             ],
             [
              0.4444444444444444,
              "#bd3786"
             ],
             [
              0.5555555555555556,
              "#d8576b"
             ],
             [
              0.6666666666666666,
              "#ed7953"
             ],
             [
              0.7777777777777778,
              "#fb9f3a"
             ],
             [
              0.8888888888888888,
              "#fdca26"
             ],
             [
              1,
              "#f0f921"
             ]
            ],
            "type": "heatmapgl"
           }
          ],
          "histogram": [
           {
            "marker": {
             "pattern": {
              "fillmode": "overlay",
              "size": 10,
              "solidity": 0.2
             }
            },
            "type": "histogram"
           }
          ],
          "histogram2d": [
           {
            "colorbar": {
             "outlinewidth": 0,
             "ticks": ""
            },
            "colorscale": [
             [
              0,
              "#0d0887"
             ],
             [
              0.1111111111111111,
              "#46039f"
             ],
             [
              0.2222222222222222,
              "#7201a8"
             ],
             [
              0.3333333333333333,
              "#9c179e"
             ],
             [
              0.4444444444444444,
              "#bd3786"
             ],
             [
              0.5555555555555556,
              "#d8576b"
             ],
             [
              0.6666666666666666,
              "#ed7953"
             ],
             [
              0.7777777777777778,
              "#fb9f3a"
             ],
             [
              0.8888888888888888,
              "#fdca26"
             ],
             [
              1,
              "#f0f921"
             ]
            ],
            "type": "histogram2d"
           }
          ],
          "histogram2dcontour": [
           {
            "colorbar": {
             "outlinewidth": 0,
             "ticks": ""
            },
            "colorscale": [
             [
              0,
              "#0d0887"
             ],
             [
              0.1111111111111111,
              "#46039f"
             ],
             [
              0.2222222222222222,
              "#7201a8"
             ],
             [
              0.3333333333333333,
              "#9c179e"
             ],
             [
              0.4444444444444444,
              "#bd3786"
             ],
             [
              0.5555555555555556,
              "#d8576b"
             ],
             [
              0.6666666666666666,
              "#ed7953"
             ],
             [
              0.7777777777777778,
              "#fb9f3a"
             ],
             [
              0.8888888888888888,
              "#fdca26"
             ],
             [
              1,
              "#f0f921"
             ]
            ],
            "type": "histogram2dcontour"
           }
          ],
          "mesh3d": [
           {
            "colorbar": {
             "outlinewidth": 0,
             "ticks": ""
            },
            "type": "mesh3d"
           }
          ],
          "parcoords": [
           {
            "line": {
             "colorbar": {
              "outlinewidth": 0,
              "ticks": ""
             }
            },
            "type": "parcoords"
           }
          ],
          "pie": [
           {
            "automargin": true,
            "type": "pie"
           }
          ],
          "scatter": [
           {
            "fillpattern": {
             "fillmode": "overlay",
             "size": 10,
             "solidity": 0.2
            },
            "type": "scatter"
           }
          ],
          "scatter3d": [
           {
            "line": {
             "colorbar": {
              "outlinewidth": 0,
              "ticks": ""
             }
            },
            "marker": {
             "colorbar": {
              "outlinewidth": 0,
              "ticks": ""
             }
            },
            "type": "scatter3d"
           }
          ],
          "scattercarpet": [
           {
            "marker": {
             "colorbar": {
              "outlinewidth": 0,
              "ticks": ""
             }
            },
            "type": "scattercarpet"
           }
          ],
          "scattergeo": [
           {
            "marker": {
             "colorbar": {
              "outlinewidth": 0,
              "ticks": ""
             }
            },
            "type": "scattergeo"
           }
          ],
          "scattergl": [
           {
            "marker": {
             "colorbar": {
              "outlinewidth": 0,
              "ticks": ""
             }
            },
            "type": "scattergl"
           }
          ],
          "scattermapbox": [
           {
            "marker": {
             "colorbar": {
              "outlinewidth": 0,
              "ticks": ""
             }
            },
            "type": "scattermapbox"
           }
          ],
          "scatterpolar": [
           {
            "marker": {
             "colorbar": {
              "outlinewidth": 0,
              "ticks": ""
             }
            },
            "type": "scatterpolar"
           }
          ],
          "scatterpolargl": [
           {
            "marker": {
             "colorbar": {
              "outlinewidth": 0,
              "ticks": ""
             }
            },
            "type": "scatterpolargl"
           }
          ],
          "scatterternary": [
           {
            "marker": {
             "colorbar": {
              "outlinewidth": 0,
              "ticks": ""
             }
            },
            "type": "scatterternary"
           }
          ],
          "surface": [
           {
            "colorbar": {
             "outlinewidth": 0,
             "ticks": ""
            },
            "colorscale": [
             [
              0,
              "#0d0887"
             ],
             [
              0.1111111111111111,
              "#46039f"
             ],
             [
              0.2222222222222222,
              "#7201a8"
             ],
             [
              0.3333333333333333,
              "#9c179e"
             ],
             [
              0.4444444444444444,
              "#bd3786"
             ],
             [
              0.5555555555555556,
              "#d8576b"
             ],
             [
              0.6666666666666666,
              "#ed7953"
             ],
             [
              0.7777777777777778,
              "#fb9f3a"
             ],
             [
              0.8888888888888888,
              "#fdca26"
             ],
             [
              1,
              "#f0f921"
             ]
            ],
            "type": "surface"
           }
          ],
          "table": [
           {
            "cells": {
             "fill": {
              "color": "#EBF0F8"
             },
             "line": {
              "color": "white"
             }
            },
            "header": {
             "fill": {
              "color": "#C8D4E3"
             },
             "line": {
              "color": "white"
             }
            },
            "type": "table"
           }
          ]
         },
         "layout": {
          "annotationdefaults": {
           "arrowcolor": "#2a3f5f",
           "arrowhead": 0,
           "arrowwidth": 1
          },
          "autotypenumbers": "strict",
          "coloraxis": {
           "colorbar": {
            "outlinewidth": 0,
            "ticks": ""
           }
          },
          "colorscale": {
           "diverging": [
            [
             0,
             "#8e0152"
            ],
            [
             0.1,
             "#c51b7d"
            ],
            [
             0.2,
             "#de77ae"
            ],
            [
             0.3,
             "#f1b6da"
            ],
            [
             0.4,
             "#fde0ef"
            ],
            [
             0.5,
             "#f7f7f7"
            ],
            [
             0.6,
             "#e6f5d0"
            ],
            [
             0.7,
             "#b8e186"
            ],
            [
             0.8,
             "#7fbc41"
            ],
            [
             0.9,
             "#4d9221"
            ],
            [
             1,
             "#276419"
            ]
           ],
           "sequential": [
            [
             0,
             "#0d0887"
            ],
            [
             0.1111111111111111,
             "#46039f"
            ],
            [
             0.2222222222222222,
             "#7201a8"
            ],
            [
             0.3333333333333333,
             "#9c179e"
            ],
            [
             0.4444444444444444,
             "#bd3786"
            ],
            [
             0.5555555555555556,
             "#d8576b"
            ],
            [
             0.6666666666666666,
             "#ed7953"
            ],
            [
             0.7777777777777778,
             "#fb9f3a"
            ],
            [
             0.8888888888888888,
             "#fdca26"
            ],
            [
             1,
             "#f0f921"
            ]
           ],
           "sequentialminus": [
            [
             0,
             "#0d0887"
            ],
            [
             0.1111111111111111,
             "#46039f"
            ],
            [
             0.2222222222222222,
             "#7201a8"
            ],
            [
             0.3333333333333333,
             "#9c179e"
            ],
            [
             0.4444444444444444,
             "#bd3786"
            ],
            [
             0.5555555555555556,
             "#d8576b"
            ],
            [
             0.6666666666666666,
             "#ed7953"
            ],
            [
             0.7777777777777778,
             "#fb9f3a"
            ],
            [
             0.8888888888888888,
             "#fdca26"
            ],
            [
             1,
             "#f0f921"
            ]
           ]
          },
          "colorway": [
           "#636efa",
           "#EF553B",
           "#00cc96",
           "#ab63fa",
           "#FFA15A",
           "#19d3f3",
           "#FF6692",
           "#B6E880",
           "#FF97FF",
           "#FECB52"
          ],
          "font": {
           "color": "#2a3f5f"
          },
          "geo": {
           "bgcolor": "white",
           "lakecolor": "white",
           "landcolor": "#E5ECF6",
           "showlakes": true,
           "showland": true,
           "subunitcolor": "white"
          },
          "hoverlabel": {
           "align": "left"
          },
          "hovermode": "closest",
          "mapbox": {
           "style": "light"
          },
          "paper_bgcolor": "white",
          "plot_bgcolor": "#E5ECF6",
          "polar": {
           "angularaxis": {
            "gridcolor": "white",
            "linecolor": "white",
            "ticks": ""
           },
           "bgcolor": "#E5ECF6",
           "radialaxis": {
            "gridcolor": "white",
            "linecolor": "white",
            "ticks": ""
           }
          },
          "scene": {
           "xaxis": {
            "backgroundcolor": "#E5ECF6",
            "gridcolor": "white",
            "gridwidth": 2,
            "linecolor": "white",
            "showbackground": true,
            "ticks": "",
            "zerolinecolor": "white"
           },
           "yaxis": {
            "backgroundcolor": "#E5ECF6",
            "gridcolor": "white",
            "gridwidth": 2,
            "linecolor": "white",
            "showbackground": true,
            "ticks": "",
            "zerolinecolor": "white"
           },
           "zaxis": {
            "backgroundcolor": "#E5ECF6",
            "gridcolor": "white",
            "gridwidth": 2,
            "linecolor": "white",
            "showbackground": true,
            "ticks": "",
            "zerolinecolor": "white"
           }
          },
          "shapedefaults": {
           "line": {
            "color": "#2a3f5f"
           }
          },
          "ternary": {
           "aaxis": {
            "gridcolor": "white",
            "linecolor": "white",
            "ticks": ""
           },
           "baxis": {
            "gridcolor": "white",
            "linecolor": "white",
            "ticks": ""
           },
           "bgcolor": "#E5ECF6",
           "caxis": {
            "gridcolor": "white",
            "linecolor": "white",
            "ticks": ""
           }
          },
          "title": {
           "x": 0.05
          },
          "xaxis": {
           "automargin": true,
           "gridcolor": "white",
           "linecolor": "white",
           "ticks": "",
           "title": {
            "standoff": 15
           },
           "zerolinecolor": "white",
           "zerolinewidth": 2
          },
          "yaxis": {
           "automargin": true,
           "gridcolor": "white",
           "linecolor": "white",
           "ticks": "",
           "title": {
            "standoff": 15
           },
           "zerolinecolor": "white",
           "zerolinewidth": 2
          }
         }
        },
        "title": {
         "text": "Relação entre Tempo como Cliente e Total Pago"
        },
        "xaxis": {
         "anchor": "y",
         "domain": [
          0,
          1
         ],
         "title": {
          "text": "Tempo como Cliente"
         }
        },
        "yaxis": {
         "anchor": "x",
         "domain": [
          0,
          1
         ],
         "title": {
          "text": "Média Total Pago"
         }
        }
       }
      }
     },
     "metadata": {},
     "output_type": "display_data"
    }
   ],
   "source": [
    "# Tempo como Cliente x Toral Pago\n",
    "media_totalpago_por_tempo = df.groupby('TEMPO_COMO_CLIENTE')['TOTAL_PAGO'].mean().reset_index()\n",
    "\n",
    "fig = px.line(media_totalpago_por_tempo, x='TEMPO_COMO_CLIENTE', y='TOTAL_PAGO',\n",
    "              title='Relação entre Tempo como Cliente e Total Pago',\n",
    "              labels={'TEMPO_COMO_CLIENTE': 'Tempo como Cliente', 'TOTAL_PAGO': 'Média Total Pago'})\n",
    "\n",
    "fig.show()"
   ]
  },
  {
   "cell_type": "markdown",
   "metadata": {},
   "source": [
    "Quantos mais tempo o cliente fica na base maior é o total pago pelo mesmo"
   ]
  },
  {
   "cell_type": "code",
   "execution_count": 115,
   "metadata": {},
   "outputs": [
    {
     "data": {
      "application/vnd.plotly.v1+json": {
       "config": {
        "plotlyServerURL": "https://plot.ly"
       },
       "data": [
        {
         "hovertemplate": "Tempo como Cliente=%{x}<br>Média Pagamento Mensal=%{y}<extra></extra>",
         "legendgroup": "",
         "line": {
          "color": "#636efa",
          "dash": "solid"
         },
         "marker": {
          "symbol": "circle"
         },
         "mode": "lines",
         "name": "",
         "orientation": "v",
         "showlegend": false,
         "type": "scatter",
         "x": [
          0,
          1,
          2,
          3,
          4,
          5,
          6,
          7,
          8,
          9,
          10,
          11,
          12,
          13,
          14,
          15,
          16,
          17,
          18,
          19,
          20,
          21,
          22,
          23,
          24,
          25,
          26,
          27,
          28,
          29,
          30,
          31,
          32,
          33,
          34,
          35,
          36,
          37,
          38,
          39,
          40,
          41,
          42,
          43,
          44,
          45,
          46,
          47,
          48,
          49,
          50,
          51,
          52,
          53,
          54,
          55,
          56,
          57,
          58,
          59,
          60,
          61,
          62,
          63,
          64,
          65,
          66,
          67,
          68,
          69,
          70,
          71,
          72
         ],
         "xaxis": "x",
         "y": [
          47.089999999999996,
          54.48691588785047,
          62.34065934065934,
          61.78648648648648,
          62.324107142857144,
          59.86454545454546,
          55.348076923076924,
          63.410377358490564,
          57.55392156862745,
          66.50833333333334,
          70.57307692307693,
          61.646341463414636,
          55.745348837209306,
          62.7984375,
          59.07121212121212,
          62.61184210526316,
          71.11166666666666,
          63.63333333333333,
          59.199999999999996,
          54.84375,
          65.10166666666666,
          62.72631578947368,
          64.15161290322581,
          61.890243902439025,
          66.6015625,
          64.1225,
          51.12222222222223,
          63.0015625,
          66.97894736842105,
          64.37962962962963,
          71.09193548387097,
          74.09318181818182,
          74.305,
          70.86190476190475,
          68.37692307692308,
          65.11515151515152,
          55.44375,
          71.35882352941177,
          69.4625,
          55.663333333333334,
          59.65217391304348,
          73.06666666666666,
          61.22173913043478,
          79.82391304347826,
          57.43666666666666,
          71.80961538461538,
          62.35166666666667,
          69.28500000000001,
          69.32,
          69.09791666666666,
          76.40434782608695,
          77.90833333333333,
          71.29333333333334,
          73.775,
          74.16,
          65.290625,
          80.9030303030303,
          74.5975,
          63.27894736842105,
          76.1,
          69.64354838709677,
          68.07916666666667,
          74.82708333333333,
          69.99137931034483,
          74.794,
          81.46896551724137,
          65.8030303030303,
          75.89032258064516,
          70.675,
          70.40441176470588,
          72.55571428571427,
          78.84626865671642,
          78.56920289855071
         ],
         "yaxis": "y"
        }
       ],
       "layout": {
        "legend": {
         "tracegroupgap": 0
        },
        "template": {
         "data": {
          "bar": [
           {
            "error_x": {
             "color": "#2a3f5f"
            },
            "error_y": {
             "color": "#2a3f5f"
            },
            "marker": {
             "line": {
              "color": "#E5ECF6",
              "width": 0.5
             },
             "pattern": {
              "fillmode": "overlay",
              "size": 10,
              "solidity": 0.2
             }
            },
            "type": "bar"
           }
          ],
          "barpolar": [
           {
            "marker": {
             "line": {
              "color": "#E5ECF6",
              "width": 0.5
             },
             "pattern": {
              "fillmode": "overlay",
              "size": 10,
              "solidity": 0.2
             }
            },
            "type": "barpolar"
           }
          ],
          "carpet": [
           {
            "aaxis": {
             "endlinecolor": "#2a3f5f",
             "gridcolor": "white",
             "linecolor": "white",
             "minorgridcolor": "white",
             "startlinecolor": "#2a3f5f"
            },
            "baxis": {
             "endlinecolor": "#2a3f5f",
             "gridcolor": "white",
             "linecolor": "white",
             "minorgridcolor": "white",
             "startlinecolor": "#2a3f5f"
            },
            "type": "carpet"
           }
          ],
          "choropleth": [
           {
            "colorbar": {
             "outlinewidth": 0,
             "ticks": ""
            },
            "type": "choropleth"
           }
          ],
          "contour": [
           {
            "colorbar": {
             "outlinewidth": 0,
             "ticks": ""
            },
            "colorscale": [
             [
              0,
              "#0d0887"
             ],
             [
              0.1111111111111111,
              "#46039f"
             ],
             [
              0.2222222222222222,
              "#7201a8"
             ],
             [
              0.3333333333333333,
              "#9c179e"
             ],
             [
              0.4444444444444444,
              "#bd3786"
             ],
             [
              0.5555555555555556,
              "#d8576b"
             ],
             [
              0.6666666666666666,
              "#ed7953"
             ],
             [
              0.7777777777777778,
              "#fb9f3a"
             ],
             [
              0.8888888888888888,
              "#fdca26"
             ],
             [
              1,
              "#f0f921"
             ]
            ],
            "type": "contour"
           }
          ],
          "contourcarpet": [
           {
            "colorbar": {
             "outlinewidth": 0,
             "ticks": ""
            },
            "type": "contourcarpet"
           }
          ],
          "heatmap": [
           {
            "colorbar": {
             "outlinewidth": 0,
             "ticks": ""
            },
            "colorscale": [
             [
              0,
              "#0d0887"
             ],
             [
              0.1111111111111111,
              "#46039f"
             ],
             [
              0.2222222222222222,
              "#7201a8"
             ],
             [
              0.3333333333333333,
              "#9c179e"
             ],
             [
              0.4444444444444444,
              "#bd3786"
             ],
             [
              0.5555555555555556,
              "#d8576b"
             ],
             [
              0.6666666666666666,
              "#ed7953"
             ],
             [
              0.7777777777777778,
              "#fb9f3a"
             ],
             [
              0.8888888888888888,
              "#fdca26"
             ],
             [
              1,
              "#f0f921"
             ]
            ],
            "type": "heatmap"
           }
          ],
          "heatmapgl": [
           {
            "colorbar": {
             "outlinewidth": 0,
             "ticks": ""
            },
            "colorscale": [
             [
              0,
              "#0d0887"
             ],
             [
              0.1111111111111111,
              "#46039f"
             ],
             [
              0.2222222222222222,
              "#7201a8"
             ],
             [
              0.3333333333333333,
              "#9c179e"
             ],
             [
              0.4444444444444444,
              "#bd3786"
             ],
             [
              0.5555555555555556,
              "#d8576b"
             ],
             [
              0.6666666666666666,
              "#ed7953"
             ],
             [
              0.7777777777777778,
              "#fb9f3a"
             ],
             [
              0.8888888888888888,
              "#fdca26"
             ],
             [
              1,
              "#f0f921"
             ]
            ],
            "type": "heatmapgl"
           }
          ],
          "histogram": [
           {
            "marker": {
             "pattern": {
              "fillmode": "overlay",
              "size": 10,
              "solidity": 0.2
             }
            },
            "type": "histogram"
           }
          ],
          "histogram2d": [
           {
            "colorbar": {
             "outlinewidth": 0,
             "ticks": ""
            },
            "colorscale": [
             [
              0,
              "#0d0887"
             ],
             [
              0.1111111111111111,
              "#46039f"
             ],
             [
              0.2222222222222222,
              "#7201a8"
             ],
             [
              0.3333333333333333,
              "#9c179e"
             ],
             [
              0.4444444444444444,
              "#bd3786"
             ],
             [
              0.5555555555555556,
              "#d8576b"
             ],
             [
              0.6666666666666666,
              "#ed7953"
             ],
             [
              0.7777777777777778,
              "#fb9f3a"
             ],
             [
              0.8888888888888888,
              "#fdca26"
             ],
             [
              1,
              "#f0f921"
             ]
            ],
            "type": "histogram2d"
           }
          ],
          "histogram2dcontour": [
           {
            "colorbar": {
             "outlinewidth": 0,
             "ticks": ""
            },
            "colorscale": [
             [
              0,
              "#0d0887"
             ],
             [
              0.1111111111111111,
              "#46039f"
             ],
             [
              0.2222222222222222,
              "#7201a8"
             ],
             [
              0.3333333333333333,
              "#9c179e"
             ],
             [
              0.4444444444444444,
              "#bd3786"
             ],
             [
              0.5555555555555556,
              "#d8576b"
             ],
             [
              0.6666666666666666,
              "#ed7953"
             ],
             [
              0.7777777777777778,
              "#fb9f3a"
             ],
             [
              0.8888888888888888,
              "#fdca26"
             ],
             [
              1,
              "#f0f921"
             ]
            ],
            "type": "histogram2dcontour"
           }
          ],
          "mesh3d": [
           {
            "colorbar": {
             "outlinewidth": 0,
             "ticks": ""
            },
            "type": "mesh3d"
           }
          ],
          "parcoords": [
           {
            "line": {
             "colorbar": {
              "outlinewidth": 0,
              "ticks": ""
             }
            },
            "type": "parcoords"
           }
          ],
          "pie": [
           {
            "automargin": true,
            "type": "pie"
           }
          ],
          "scatter": [
           {
            "fillpattern": {
             "fillmode": "overlay",
             "size": 10,
             "solidity": 0.2
            },
            "type": "scatter"
           }
          ],
          "scatter3d": [
           {
            "line": {
             "colorbar": {
              "outlinewidth": 0,
              "ticks": ""
             }
            },
            "marker": {
             "colorbar": {
              "outlinewidth": 0,
              "ticks": ""
             }
            },
            "type": "scatter3d"
           }
          ],
          "scattercarpet": [
           {
            "marker": {
             "colorbar": {
              "outlinewidth": 0,
              "ticks": ""
             }
            },
            "type": "scattercarpet"
           }
          ],
          "scattergeo": [
           {
            "marker": {
             "colorbar": {
              "outlinewidth": 0,
              "ticks": ""
             }
            },
            "type": "scattergeo"
           }
          ],
          "scattergl": [
           {
            "marker": {
             "colorbar": {
              "outlinewidth": 0,
              "ticks": ""
             }
            },
            "type": "scattergl"
           }
          ],
          "scattermapbox": [
           {
            "marker": {
             "colorbar": {
              "outlinewidth": 0,
              "ticks": ""
             }
            },
            "type": "scattermapbox"
           }
          ],
          "scatterpolar": [
           {
            "marker": {
             "colorbar": {
              "outlinewidth": 0,
              "ticks": ""
             }
            },
            "type": "scatterpolar"
           }
          ],
          "scatterpolargl": [
           {
            "marker": {
             "colorbar": {
              "outlinewidth": 0,
              "ticks": ""
             }
            },
            "type": "scatterpolargl"
           }
          ],
          "scatterternary": [
           {
            "marker": {
             "colorbar": {
              "outlinewidth": 0,
              "ticks": ""
             }
            },
            "type": "scatterternary"
           }
          ],
          "surface": [
           {
            "colorbar": {
             "outlinewidth": 0,
             "ticks": ""
            },
            "colorscale": [
             [
              0,
              "#0d0887"
             ],
             [
              0.1111111111111111,
              "#46039f"
             ],
             [
              0.2222222222222222,
              "#7201a8"
             ],
             [
              0.3333333333333333,
              "#9c179e"
             ],
             [
              0.4444444444444444,
              "#bd3786"
             ],
             [
              0.5555555555555556,
              "#d8576b"
             ],
             [
              0.6666666666666666,
              "#ed7953"
             ],
             [
              0.7777777777777778,
              "#fb9f3a"
             ],
             [
              0.8888888888888888,
              "#fdca26"
             ],
             [
              1,
              "#f0f921"
             ]
            ],
            "type": "surface"
           }
          ],
          "table": [
           {
            "cells": {
             "fill": {
              "color": "#EBF0F8"
             },
             "line": {
              "color": "white"
             }
            },
            "header": {
             "fill": {
              "color": "#C8D4E3"
             },
             "line": {
              "color": "white"
             }
            },
            "type": "table"
           }
          ]
         },
         "layout": {
          "annotationdefaults": {
           "arrowcolor": "#2a3f5f",
           "arrowhead": 0,
           "arrowwidth": 1
          },
          "autotypenumbers": "strict",
          "coloraxis": {
           "colorbar": {
            "outlinewidth": 0,
            "ticks": ""
           }
          },
          "colorscale": {
           "diverging": [
            [
             0,
             "#8e0152"
            ],
            [
             0.1,
             "#c51b7d"
            ],
            [
             0.2,
             "#de77ae"
            ],
            [
             0.3,
             "#f1b6da"
            ],
            [
             0.4,
             "#fde0ef"
            ],
            [
             0.5,
             "#f7f7f7"
            ],
            [
             0.6,
             "#e6f5d0"
            ],
            [
             0.7,
             "#b8e186"
            ],
            [
             0.8,
             "#7fbc41"
            ],
            [
             0.9,
             "#4d9221"
            ],
            [
             1,
             "#276419"
            ]
           ],
           "sequential": [
            [
             0,
             "#0d0887"
            ],
            [
             0.1111111111111111,
             "#46039f"
            ],
            [
             0.2222222222222222,
             "#7201a8"
            ],
            [
             0.3333333333333333,
             "#9c179e"
            ],
            [
             0.4444444444444444,
             "#bd3786"
            ],
            [
             0.5555555555555556,
             "#d8576b"
            ],
            [
             0.6666666666666666,
             "#ed7953"
            ],
            [
             0.7777777777777778,
             "#fb9f3a"
            ],
            [
             0.8888888888888888,
             "#fdca26"
            ],
            [
             1,
             "#f0f921"
            ]
           ],
           "sequentialminus": [
            [
             0,
             "#0d0887"
            ],
            [
             0.1111111111111111,
             "#46039f"
            ],
            [
             0.2222222222222222,
             "#7201a8"
            ],
            [
             0.3333333333333333,
             "#9c179e"
            ],
            [
             0.4444444444444444,
             "#bd3786"
            ],
            [
             0.5555555555555556,
             "#d8576b"
            ],
            [
             0.6666666666666666,
             "#ed7953"
            ],
            [
             0.7777777777777778,
             "#fb9f3a"
            ],
            [
             0.8888888888888888,
             "#fdca26"
            ],
            [
             1,
             "#f0f921"
            ]
           ]
          },
          "colorway": [
           "#636efa",
           "#EF553B",
           "#00cc96",
           "#ab63fa",
           "#FFA15A",
           "#19d3f3",
           "#FF6692",
           "#B6E880",
           "#FF97FF",
           "#FECB52"
          ],
          "font": {
           "color": "#2a3f5f"
          },
          "geo": {
           "bgcolor": "white",
           "lakecolor": "white",
           "landcolor": "#E5ECF6",
           "showlakes": true,
           "showland": true,
           "subunitcolor": "white"
          },
          "hoverlabel": {
           "align": "left"
          },
          "hovermode": "closest",
          "mapbox": {
           "style": "light"
          },
          "paper_bgcolor": "white",
          "plot_bgcolor": "#E5ECF6",
          "polar": {
           "angularaxis": {
            "gridcolor": "white",
            "linecolor": "white",
            "ticks": ""
           },
           "bgcolor": "#E5ECF6",
           "radialaxis": {
            "gridcolor": "white",
            "linecolor": "white",
            "ticks": ""
           }
          },
          "scene": {
           "xaxis": {
            "backgroundcolor": "#E5ECF6",
            "gridcolor": "white",
            "gridwidth": 2,
            "linecolor": "white",
            "showbackground": true,
            "ticks": "",
            "zerolinecolor": "white"
           },
           "yaxis": {
            "backgroundcolor": "#E5ECF6",
            "gridcolor": "white",
            "gridwidth": 2,
            "linecolor": "white",
            "showbackground": true,
            "ticks": "",
            "zerolinecolor": "white"
           },
           "zaxis": {
            "backgroundcolor": "#E5ECF6",
            "gridcolor": "white",
            "gridwidth": 2,
            "linecolor": "white",
            "showbackground": true,
            "ticks": "",
            "zerolinecolor": "white"
           }
          },
          "shapedefaults": {
           "line": {
            "color": "#2a3f5f"
           }
          },
          "ternary": {
           "aaxis": {
            "gridcolor": "white",
            "linecolor": "white",
            "ticks": ""
           },
           "baxis": {
            "gridcolor": "white",
            "linecolor": "white",
            "ticks": ""
           },
           "bgcolor": "#E5ECF6",
           "caxis": {
            "gridcolor": "white",
            "linecolor": "white",
            "ticks": ""
           }
          },
          "title": {
           "x": 0.05
          },
          "xaxis": {
           "automargin": true,
           "gridcolor": "white",
           "linecolor": "white",
           "ticks": "",
           "title": {
            "standoff": 15
           },
           "zerolinecolor": "white",
           "zerolinewidth": 2
          },
          "yaxis": {
           "automargin": true,
           "gridcolor": "white",
           "linecolor": "white",
           "ticks": "",
           "title": {
            "standoff": 15
           },
           "zerolinecolor": "white",
           "zerolinewidth": 2
          }
         }
        },
        "title": {
         "text": "Relação entre Tempo como Cliente e Pagamento Mensal"
        },
        "xaxis": {
         "anchor": "y",
         "domain": [
          0,
          1
         ],
         "title": {
          "text": "Tempo como Cliente"
         }
        },
        "yaxis": {
         "anchor": "x",
         "domain": [
          0,
          1
         ],
         "title": {
          "text": "Média Pagamento Mensal"
         }
        }
       }
      }
     },
     "metadata": {},
     "output_type": "display_data"
    }
   ],
   "source": [
    "# Tempo Cliente x Pagamento Mensal\n",
    "media_pagamentomes_por_tempo = df.groupby('TEMPO_COMO_CLIENTE')['PAGAMENTO_MENSAL'].mean().reset_index()\n",
    "\n",
    "fig = px.line(media_pagamentomes_por_tempo, x='TEMPO_COMO_CLIENTE', y='PAGAMENTO_MENSAL',\n",
    "              title='Relação entre Tempo como Cliente e Pagamento Mensal',\n",
    "              labels={'TEMPO_COMO_CLIENTE': 'Tempo como Cliente', 'PAGAMENTO_MENSAL': 'Média Pagamento Mensal'})\n",
    "\n",
    "fig.show()"
   ]
  },
  {
   "cell_type": "markdown",
   "metadata": {},
   "source": [
    "Podemos ver que há uma variação na média do valor pago, contudo a um aumento no valor pago mensalmente ao decorrer de tempo como cliente."
   ]
  },
  {
   "cell_type": "code",
   "execution_count": 116,
   "metadata": {},
   "outputs": [
    {
     "data": {
      "image/png": "[encoded data removed]",
      "text/plain": [
       "<Figure size 1000x600 with 1 Axes>"
      ]
     },
     "metadata": {},
     "output_type": "display_data"
    }
   ],
   "source": [
    "# CHURN x Tempo como Cliente\n",
    "sns.set_style(\"whitegrid\")\n",
    "\n",
    "plt.figure(figsize=(10, 6))\n",
    "sns.boxplot(data=df, x='CHURN', y='TEMPO_COMO_CLIENTE')\n",
    "plt.title(\"Distribuição do Tempo como Cliente por Churn\")\n",
    "plt.xlabel(\"Churn\")\n",
    "plt.ylabel(\"Tempo como Cliente (meses)\")\n",
    "plt.show()"
   ]
  },
  {
   "cell_type": "markdown",
   "metadata": {},
   "source": [
    "Aqui podemos concluir que de fato os clientes com menos tempo na base nos abandonam mais vezes, sendo assim talvez seria uma boa ideia oferecer descontos maiores para clientes com menos de 1 ano em troca de fidelidade.\n"
   ]
  },
  {
   "cell_type": "markdown",
   "metadata": {},
   "source": [
    "### B) Quais variáveis você acredita serem as mais importantes para esse projetos relacionadas a variável Churn?"
   ]
  },
  {
   "cell_type": "markdown",
   "metadata": {},
   "source": [
    "Tipo de serviço de Internet, Suporte Tecnico, Tempo como cliente e Tipo de Contrato."
   ]
  }
 ],
 "metadata": {
  "colab": {
   "provenance": []
  },
  "kernelspec": {
   "display_name": "base",
   "language": "python",
   "name": "python3"
  },
  "language_info": {
   "codemirror_mode": {
    "name": "ipython",
    "version": 3
   },
   "file_extension": ".py",
   "mimetype": "text/x-python",
   "name": "python",
   "nbconvert_exporter": "python",
   "pygments_lexer": "ipython3",
   "version": "3.12.4"
  }
 },
 "nbformat": 4,
 "nbformat_minor": 0
}
