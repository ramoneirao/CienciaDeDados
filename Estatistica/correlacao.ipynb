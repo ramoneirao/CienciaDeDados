{
 "cells": [
  {
   "cell_type": "markdown",
   "metadata": {
    "id": "iuhb1tYFFuu_"
   },
   "source": [
    "## **Correlação**"
   ]
  },
  {
   "cell_type": "code",
   "execution_count": 5,
   "metadata": {
    "id": "4bmmZPd9ElTE"
   },
   "outputs": [],
   "source": [
    "import seaborn as sns\n",
    "import matplotlib.pyplot as plt\n",
    "import pandas as pd\n",
    "import numpy as np\n",
    "import sklearn\n"
   ]
  },
  {
   "cell_type": "code",
   "execution_count": 6,
   "metadata": {
    "colab": {
     "base_uri": "https://localhost:8080/",
     "height": 383
    },
    "id": "ftyPnWW3ep4D",
    "outputId": "6b898ad5-91dd-41aa-94b6-a2cba539ff9d"
   },
   "outputs": [
    {
     "data": {
      "text/html": [
       "<div>\n",
       "<style scoped>\n",
       "    .dataframe tbody tr th:only-of-type {\n",
       "        vertical-align: middle;\n",
       "    }\n",
       "\n",
       "    .dataframe tbody tr th {\n",
       "        vertical-align: top;\n",
       "    }\n",
       "\n",
       "    .dataframe thead th {\n",
       "        text-align: right;\n",
       "    }\n",
       "</style>\n",
       "<table border=\"1\" class=\"dataframe\">\n",
       "  <thead>\n",
       "    <tr style=\"text-align: right;\">\n",
       "      <th></th>\n",
       "      <th>Credit_Score</th>\n",
       "      <th>Pais</th>\n",
       "      <th>Genero</th>\n",
       "      <th>Idade</th>\n",
       "      <th>Tempo_Credito</th>\n",
       "      <th>Balanco</th>\n",
       "      <th>Qtd_Produtos</th>\n",
       "      <th>Possui_Cartao</th>\n",
       "      <th>Membro_Ativo</th>\n",
       "      <th>Salario_Anual</th>\n",
       "      <th>Churn</th>\n",
       "    </tr>\n",
       "  </thead>\n",
       "  <tbody>\n",
       "    <tr>\n",
       "      <th>0</th>\n",
       "      <td>677</td>\n",
       "      <td>SPAIN</td>\n",
       "      <td>Male</td>\n",
       "      <td>18.0</td>\n",
       "      <td>5</td>\n",
       "      <td>134796.87</td>\n",
       "      <td>2</td>\n",
       "      <td>1.0</td>\n",
       "      <td>0.0</td>\n",
       "      <td>1011687.0</td>\n",
       "      <td>0.0</td>\n",
       "    </tr>\n",
       "    <tr>\n",
       "      <th>1</th>\n",
       "      <td>644</td>\n",
       "      <td>SPAIN</td>\n",
       "      <td>Female</td>\n",
       "      <td>18.0</td>\n",
       "      <td>7</td>\n",
       "      <td>0.00</td>\n",
       "      <td>1</td>\n",
       "      <td>0.0</td>\n",
       "      <td>1.0</td>\n",
       "      <td>1011687.0</td>\n",
       "      <td>0.0</td>\n",
       "    </tr>\n",
       "    <tr>\n",
       "      <th>2</th>\n",
       "      <td>641</td>\n",
       "      <td>SPAIN</td>\n",
       "      <td>Male</td>\n",
       "      <td>18.0</td>\n",
       "      <td>1</td>\n",
       "      <td>0.00</td>\n",
       "      <td>2</td>\n",
       "      <td>0.0</td>\n",
       "      <td>1.0</td>\n",
       "      <td>1011687.0</td>\n",
       "      <td>0.0</td>\n",
       "    </tr>\n",
       "    <tr>\n",
       "      <th>3</th>\n",
       "      <td>826</td>\n",
       "      <td>SPAIN</td>\n",
       "      <td>Male</td>\n",
       "      <td>18.0</td>\n",
       "      <td>2</td>\n",
       "      <td>0.00</td>\n",
       "      <td>2</td>\n",
       "      <td>0.0</td>\n",
       "      <td>1.0</td>\n",
       "      <td>1011687.0</td>\n",
       "      <td>0.0</td>\n",
       "    </tr>\n",
       "    <tr>\n",
       "      <th>4</th>\n",
       "      <td>774</td>\n",
       "      <td>SPAIN</td>\n",
       "      <td>Female</td>\n",
       "      <td>18.0</td>\n",
       "      <td>1</td>\n",
       "      <td>185891.54</td>\n",
       "      <td>1</td>\n",
       "      <td>1.0</td>\n",
       "      <td>0.0</td>\n",
       "      <td>1011687.0</td>\n",
       "      <td>0.0</td>\n",
       "    </tr>\n",
       "    <tr>\n",
       "      <th>5</th>\n",
       "      <td>688</td>\n",
       "      <td>SPAIN</td>\n",
       "      <td>Female</td>\n",
       "      <td>18.0</td>\n",
       "      <td>2</td>\n",
       "      <td>0.00</td>\n",
       "      <td>2</td>\n",
       "      <td>1.0</td>\n",
       "      <td>0.0</td>\n",
       "      <td>1011687.0</td>\n",
       "      <td>0.0</td>\n",
       "    </tr>\n",
       "    <tr>\n",
       "      <th>6</th>\n",
       "      <td>803</td>\n",
       "      <td>SPAIN</td>\n",
       "      <td>Male</td>\n",
       "      <td>18.0</td>\n",
       "      <td>6</td>\n",
       "      <td>0.00</td>\n",
       "      <td>1</td>\n",
       "      <td>0.0</td>\n",
       "      <td>0.0</td>\n",
       "      <td>1011687.0</td>\n",
       "      <td>1.0</td>\n",
       "    </tr>\n",
       "    <tr>\n",
       "      <th>7</th>\n",
       "      <td>578</td>\n",
       "      <td>SPAIN</td>\n",
       "      <td>Female</td>\n",
       "      <td>18.0</td>\n",
       "      <td>8</td>\n",
       "      <td>71843.15</td>\n",
       "      <td>2</td>\n",
       "      <td>0.0</td>\n",
       "      <td>1.0</td>\n",
       "      <td>1011687.0</td>\n",
       "      <td>0.0</td>\n",
       "    </tr>\n",
       "    <tr>\n",
       "      <th>8</th>\n",
       "      <td>598</td>\n",
       "      <td>SPAIN</td>\n",
       "      <td>Male</td>\n",
       "      <td>18.0</td>\n",
       "      <td>6</td>\n",
       "      <td>0.00</td>\n",
       "      <td>2</td>\n",
       "      <td>0.0</td>\n",
       "      <td>1.0</td>\n",
       "      <td>1011687.0</td>\n",
       "      <td>0.0</td>\n",
       "    </tr>\n",
       "    <tr>\n",
       "      <th>9</th>\n",
       "      <td>624</td>\n",
       "      <td>SPAIN</td>\n",
       "      <td>Female</td>\n",
       "      <td>18.0</td>\n",
       "      <td>6</td>\n",
       "      <td>0.00</td>\n",
       "      <td>2</td>\n",
       "      <td>0.0</td>\n",
       "      <td>1.0</td>\n",
       "      <td>1011687.0</td>\n",
       "      <td>0.0</td>\n",
       "    </tr>\n",
       "  </tbody>\n",
       "</table>\n",
       "</div>"
      ],
      "text/plain": [
       "   Credit_Score   Pais  Genero  Idade  Tempo_Credito    Balanco  Qtd_Produtos  \\\n",
       "0           677  SPAIN    Male   18.0              5  134796.87             2   \n",
       "1           644  SPAIN  Female   18.0              7       0.00             1   \n",
       "2           641  SPAIN    Male   18.0              1       0.00             2   \n",
       "3           826  SPAIN    Male   18.0              2       0.00             2   \n",
       "4           774  SPAIN  Female   18.0              1  185891.54             1   \n",
       "5           688  SPAIN  Female   18.0              2       0.00             2   \n",
       "6           803  SPAIN    Male   18.0              6       0.00             1   \n",
       "7           578  SPAIN  Female   18.0              8   71843.15             2   \n",
       "8           598  SPAIN    Male   18.0              6       0.00             2   \n",
       "9           624  SPAIN  Female   18.0              6       0.00             2   \n",
       "\n",
       "   Possui_Cartao  Membro_Ativo  Salario_Anual  Churn  \n",
       "0            1.0           0.0      1011687.0    0.0  \n",
       "1            0.0           1.0      1011687.0    0.0  \n",
       "2            0.0           1.0      1011687.0    0.0  \n",
       "3            0.0           1.0      1011687.0    0.0  \n",
       "4            1.0           0.0      1011687.0    0.0  \n",
       "5            1.0           0.0      1011687.0    0.0  \n",
       "6            0.0           0.0      1011687.0    1.0  \n",
       "7            0.0           1.0      1011687.0    0.0  \n",
       "8            0.0           1.0      1011687.0    0.0  \n",
       "9            0.0           1.0      1011687.0    0.0  "
      ]
     },
     "execution_count": 6,
     "metadata": {},
     "output_type": "execute_result"
    }
   ],
   "source": [
    "df = pd.read_csv(\"CHURN_CREDIT_MOD08_PART3.csv\", delimiter=',')\n",
    "\n",
    "df.head(10)"
   ]
  },
  {
   "cell_type": "markdown",
   "metadata": {
    "id": "pUD0ej5uKpev"
   },
   "source": [
    "Existem algumas técnicas principais para analisar a correlação entre variáveis.\n",
    "A correlação de maior interesse é a das variáveis preditivas com a variável preditora.\n",
    "Entretando a alta correlação (seja ela positiva ou negativa) entre as demais variáveis também tem valor para o modelo."
   ]
  },
  {
   "cell_type": "markdown",
   "metadata": {
    "id": "HIkotrGcN_WY"
   },
   "source": [
    "### **1 - Matriz Correlação:**"
   ]
  },
  {
   "cell_type": "code",
   "execution_count": 7,
   "metadata": {
    "colab": {
     "base_uri": "https://localhost:8080/",
     "height": 351
    },
    "id": "VTwPOrwPODEh",
    "outputId": "84e1eafc-3fe7-476f-c3ca-8a1087dbaae7"
   },
   "outputs": [
    {
     "data": {
      "text/html": [
       "<div>\n",
       "<style scoped>\n",
       "    .dataframe tbody tr th:only-of-type {\n",
       "        vertical-align: middle;\n",
       "    }\n",
       "\n",
       "    .dataframe tbody tr th {\n",
       "        vertical-align: top;\n",
       "    }\n",
       "\n",
       "    .dataframe thead th {\n",
       "        text-align: right;\n",
       "    }\n",
       "</style>\n",
       "<table border=\"1\" class=\"dataframe\">\n",
       "  <thead>\n",
       "    <tr style=\"text-align: right;\">\n",
       "      <th></th>\n",
       "      <th>Credit_Score</th>\n",
       "      <th>Idade</th>\n",
       "      <th>Tempo_Credito</th>\n",
       "      <th>Balanco</th>\n",
       "      <th>Qtd_Produtos</th>\n",
       "      <th>Possui_Cartao</th>\n",
       "      <th>Membro_Ativo</th>\n",
       "      <th>Salario_Anual</th>\n",
       "      <th>Churn</th>\n",
       "    </tr>\n",
       "  </thead>\n",
       "  <tbody>\n",
       "    <tr>\n",
       "      <th>Credit_Score</th>\n",
       "      <td>1.000000</td>\n",
       "      <td>-0.005099</td>\n",
       "      <td>-0.000574</td>\n",
       "      <td>0.006731</td>\n",
       "      <td>0.012509</td>\n",
       "      <td>-0.000922</td>\n",
       "      <td>0.011416</td>\n",
       "      <td>-0.011707</td>\n",
       "      <td>-0.024580</td>\n",
       "    </tr>\n",
       "    <tr>\n",
       "      <th>Idade</th>\n",
       "      <td>-0.005099</td>\n",
       "      <td>1.000000</td>\n",
       "      <td>-0.013734</td>\n",
       "      <td>0.063713</td>\n",
       "      <td>-0.103867</td>\n",
       "      <td>-0.012933</td>\n",
       "      <td>0.000577</td>\n",
       "      <td>0.283716</td>\n",
       "      <td>0.345462</td>\n",
       "    </tr>\n",
       "    <tr>\n",
       "      <th>Tempo_Credito</th>\n",
       "      <td>-0.000574</td>\n",
       "      <td>-0.013734</td>\n",
       "      <td>1.000000</td>\n",
       "      <td>-0.010009</td>\n",
       "      <td>0.006161</td>\n",
       "      <td>0.003356</td>\n",
       "      <td>-0.003640</td>\n",
       "      <td>0.001665</td>\n",
       "      <td>-0.018667</td>\n",
       "    </tr>\n",
       "    <tr>\n",
       "      <th>Balanco</th>\n",
       "      <td>0.006731</td>\n",
       "      <td>0.063713</td>\n",
       "      <td>-0.010009</td>\n",
       "      <td>1.000000</td>\n",
       "      <td>-0.359141</td>\n",
       "      <td>-0.017978</td>\n",
       "      <td>-0.013325</td>\n",
       "      <td>-0.163486</td>\n",
       "      <td>0.129540</td>\n",
       "    </tr>\n",
       "    <tr>\n",
       "      <th>Qtd_Produtos</th>\n",
       "      <td>0.012509</td>\n",
       "      <td>-0.103867</td>\n",
       "      <td>0.006161</td>\n",
       "      <td>-0.359141</td>\n",
       "      <td>1.000000</td>\n",
       "      <td>0.002109</td>\n",
       "      <td>0.039489</td>\n",
       "      <td>-0.000220</td>\n",
       "      <td>-0.211684</td>\n",
       "    </tr>\n",
       "    <tr>\n",
       "      <th>Possui_Cartao</th>\n",
       "      <td>-0.000922</td>\n",
       "      <td>-0.012933</td>\n",
       "      <td>0.003356</td>\n",
       "      <td>-0.017978</td>\n",
       "      <td>0.002109</td>\n",
       "      <td>1.000000</td>\n",
       "      <td>-0.024726</td>\n",
       "      <td>0.006150</td>\n",
       "      <td>-0.021483</td>\n",
       "    </tr>\n",
       "    <tr>\n",
       "      <th>Membro_Ativo</th>\n",
       "      <td>0.011416</td>\n",
       "      <td>0.000577</td>\n",
       "      <td>-0.003640</td>\n",
       "      <td>-0.013325</td>\n",
       "      <td>0.039489</td>\n",
       "      <td>-0.024726</td>\n",
       "      <td>1.000000</td>\n",
       "      <td>-0.000160</td>\n",
       "      <td>-0.211063</td>\n",
       "    </tr>\n",
       "    <tr>\n",
       "      <th>Salario_Anual</th>\n",
       "      <td>-0.011707</td>\n",
       "      <td>0.283716</td>\n",
       "      <td>0.001665</td>\n",
       "      <td>-0.163486</td>\n",
       "      <td>-0.000220</td>\n",
       "      <td>0.006150</td>\n",
       "      <td>-0.000160</td>\n",
       "      <td>1.000000</td>\n",
       "      <td>0.031500</td>\n",
       "    </tr>\n",
       "    <tr>\n",
       "      <th>Churn</th>\n",
       "      <td>-0.024580</td>\n",
       "      <td>0.345462</td>\n",
       "      <td>-0.018667</td>\n",
       "      <td>0.129540</td>\n",
       "      <td>-0.211684</td>\n",
       "      <td>-0.021483</td>\n",
       "      <td>-0.211063</td>\n",
       "      <td>0.031500</td>\n",
       "      <td>1.000000</td>\n",
       "    </tr>\n",
       "  </tbody>\n",
       "</table>\n",
       "</div>"
      ],
      "text/plain": [
       "               Credit_Score     Idade  Tempo_Credito   Balanco  Qtd_Produtos  \\\n",
       "Credit_Score       1.000000 -0.005099      -0.000574  0.006731      0.012509   \n",
       "Idade             -0.005099  1.000000      -0.013734  0.063713     -0.103867   \n",
       "Tempo_Credito     -0.000574 -0.013734       1.000000 -0.010009      0.006161   \n",
       "Balanco            0.006731  0.063713      -0.010009  1.000000     -0.359141   \n",
       "Qtd_Produtos       0.012509 -0.103867       0.006161 -0.359141      1.000000   \n",
       "Possui_Cartao     -0.000922 -0.012933       0.003356 -0.017978      0.002109   \n",
       "Membro_Ativo       0.011416  0.000577      -0.003640 -0.013325      0.039489   \n",
       "Salario_Anual     -0.011707  0.283716       0.001665 -0.163486     -0.000220   \n",
       "Churn             -0.024580  0.345462      -0.018667  0.129540     -0.211684   \n",
       "\n",
       "               Possui_Cartao  Membro_Ativo  Salario_Anual     Churn  \n",
       "Credit_Score       -0.000922      0.011416      -0.011707 -0.024580  \n",
       "Idade              -0.012933      0.000577       0.283716  0.345462  \n",
       "Tempo_Credito       0.003356     -0.003640       0.001665 -0.018667  \n",
       "Balanco            -0.017978     -0.013325      -0.163486  0.129540  \n",
       "Qtd_Produtos        0.002109      0.039489      -0.000220 -0.211684  \n",
       "Possui_Cartao       1.000000     -0.024726       0.006150 -0.021483  \n",
       "Membro_Ativo       -0.024726      1.000000      -0.000160 -0.211063  \n",
       "Salario_Anual       0.006150     -0.000160       1.000000  0.031500  \n",
       "Churn              -0.021483     -0.211063       0.031500  1.000000  "
      ]
     },
     "execution_count": 7,
     "metadata": {},
     "output_type": "execute_result"
    }
   ],
   "source": [
    "df.select_dtypes(include=['number']).corr()"
   ]
  },
  {
   "cell_type": "markdown",
   "metadata": {
    "id": "3KEKHd3VO7eI"
   },
   "source": [
    "A correlação de Pearson, que é comumente usada para calcular a matriz de correlação linear, é mais apropriada para medir a relação linear entre variáveis numéricas contínuas."
   ]
  },
  {
   "cell_type": "markdown",
   "metadata": {
    "id": "k8e5SshaPWP3"
   },
   "source": [
    "**As variáveis categóricas (Sexo) não tem correlação calculada, por lógica não tem como calcularmos a correlação de uma variável numérica com uma palavra.**"
   ]
  },
  {
   "cell_type": "markdown",
   "metadata": {
    "id": "nDy4UxdePxkD"
   },
   "source": [
    "### **2 - Cluster Map:**"
   ]
  },
  {
   "cell_type": "code",
   "execution_count": 8,
   "metadata": {
    "colab": {
     "base_uri": "https://localhost:8080/",
     "height": 647
    },
    "id": "nVR4C-6RSiiS",
    "outputId": "17559534-b740-4323-9227-895fc7ea4990"
   },
   "outputs": [
    {
     "data": {
      "image/png": "[encoded data removed]",
      "text/plain": [
       "<Figure size 1000x800 with 2 Axes>"
      ]
     },
     "metadata": {},
     "output_type": "display_data"
    }
   ],
   "source": [
    "correlation_matrix = df.select_dtypes(include=['number']).corr()\n",
    "\n",
    "# Plotar o mapa de calor da matriz de correlação\n",
    "plt.figure(figsize=(10, 8))\n",
    "sns.heatmap(correlation_matrix, annot=True, cmap='coolwarm', fmt=\".2f\", annot_kws={\"size\": 10})\n",
    "plt.title('Matriz de Correlação')\n",
    "plt.show()"
   ]
  },
  {
   "cell_type": "markdown",
   "metadata": {
    "id": "l8CrZ0YnvRd6"
   },
   "source": [
    "## **Atributos Categóricos**"
   ]
  },
  {
   "cell_type": "markdown",
   "metadata": {
    "id": "dTAkcMcyDAeI"
   },
   "source": [
    "Para variáveis categóricas como \"Pais\", onde não há uma relação de ordem natural entre as categorias, é geralmente melhor usar One-Hot Encoding para evitar confusão no modelo."
   ]
  },
  {
   "cell_type": "markdown",
   "metadata": {
    "id": "wGdjBIUMDAeJ"
   },
   "source": [
    "Para variáveis como \"Sexo\" ou \"Gênero\", onde normalmente existem apenas duas categorias (\"Masculino\" e \"Feminino\"), a escolha entre Label Encoding e One-Hot Encoding pode depender de alguns fatores."
   ]
  },
  {
   "cell_type": "markdown",
   "metadata": {
    "id": "r9hvQijqDAeJ"
   },
   "source": [
    "Label Encoding\n",
    "Prós:\n",
    "\n",
    "Simples de implementar.\n",
    "Economiza memória, pois usa apenas uma coluna para representar a variável."
   ]
  },
  {
   "cell_type": "markdown",
   "metadata": {
    "id": "1kahq7o0DAeJ"
   },
   "source": [
    "One-Hot Encoding\n",
    "Prós:\n",
    "\n",
    "Evita qualquer suposição de ordem entre os valores.\n",
    "Pode ser interpretado de maneira mais neutra pelo modelo, sem implicações de ordem."
   ]
  },
  {
   "cell_type": "code",
   "execution_count": 9,
   "metadata": {
    "colab": {
     "base_uri": "https://localhost:8080/"
    },
    "id": "mCFdOVcjz5st",
    "outputId": "6a738d9e-52c9-47e7-963f-2873453acc90"
   },
   "outputs": [
    {
     "name": "stdout",
     "output_type": "stream",
     "text": [
      "       Credit_Score  Genero  Idade  Tempo_Credito    Balanco  Qtd_Produtos  \\\n",
      "0               677    Male   18.0              5  134796.87             2   \n",
      "1               644  Female   18.0              7       0.00             1   \n",
      "2               641    Male   18.0              1       0.00             2   \n",
      "3               826    Male   18.0              2       0.00             2   \n",
      "4               774  Female   18.0              1  185891.54             1   \n",
      "...             ...     ...    ...            ...        ...           ...   \n",
      "99703           628    Male   83.0              8   56214.85             2   \n",
      "99704           543    Male   92.0              6       0.00             2   \n",
      "99705           752    Male   92.0              1  126076.24             2   \n",
      "99706           820    Male   92.0              0       0.00             2   \n",
      "99707           696    Male   92.0              9       0.00             1   \n",
      "\n",
      "       Possui_Cartao  Membro_Ativo  Salario_Anual  Churn  Genero_encoded  \\\n",
      "0                1.0           0.0      1011687.0    0.0               1   \n",
      "1                0.0           1.0      1011687.0    0.0               0   \n",
      "2                0.0           1.0      1011687.0    0.0               1   \n",
      "3                0.0           1.0      1011687.0    0.0               1   \n",
      "4                1.0           0.0      1011687.0    0.0               0   \n",
      "...              ...           ...            ...    ...             ...   \n",
      "99703            1.0           1.0      9298261.0    0.0               1   \n",
      "99704            1.0           1.0      6129099.0    0.0               1   \n",
      "99705            1.0           1.0      3443683.0    0.0               1   \n",
      "99706            1.0           1.0      2306797.0    0.0               1   \n",
      "99707            0.0           1.0     16356307.0    1.0               1   \n",
      "\n",
      "       Pais_GERMANY  Pais_SPAIN  \n",
      "0             False        True  \n",
      "1             False        True  \n",
      "2             False        True  \n",
      "3             False        True  \n",
      "4             False        True  \n",
      "...             ...         ...  \n",
      "99703         False       False  \n",
      "99704         False       False  \n",
      "99705         False       False  \n",
      "99706         False       False  \n",
      "99707         False       False  \n",
      "\n",
      "[99708 rows x 13 columns]\n"
     ]
    }
   ],
   "source": [
    "from sklearn.preprocessing import LabelEncoder\n",
    "\n",
    "# Criando uma instância do Label Encoder\n",
    "label_encoder = LabelEncoder()\n",
    "\n",
    "# Aplicando o Label Encoder para a coluna \"Genero\" - ideal\n",
    "df['Genero_encoded'] = label_encoder.fit_transform(df['Genero'])\n",
    "\n",
    "# Aplicar o One Hot para a coluna \"Pais\" - Nesse caso não criamos instância\n",
    "df = pd.get_dummies(df, columns=['Pais'], prefix='Pais', drop_first=True)\n",
    "#pd.get_dummies(df, columns=['Pais'], prefix='Pais'): Esta função transforma a coluna \"Pais\" em várias colunas binárias (one-hot encoded)\n",
    "\n",
    "print(df)"
   ]
  },
  {
   "cell_type": "markdown",
   "metadata": {
    "id": "o27y4uu-DAeJ"
   },
   "source": [
    "Se você quiser evitar multicolinearidade, pode usar o argumento drop_first=True, que elimina uma das colunas resultantes. Isso é útil para modelos lineares que podem ser afetados pela multicolinearidade."
   ]
  },
  {
   "cell_type": "code",
   "execution_count": 10,
   "metadata": {
    "id": "qHCUSjThDAeK",
    "outputId": "955a5fcf-89b0-484b-a3cb-38ccb2e0b9ff"
   },
   "outputs": [
    {
     "data": {
      "text/plain": [
       "Credit_Score        int64\n",
       "Genero             object\n",
       "Idade             float64\n",
       "Tempo_Credito       int64\n",
       "Balanco           float64\n",
       "Qtd_Produtos        int64\n",
       "Possui_Cartao     float64\n",
       "Membro_Ativo      float64\n",
       "Salario_Anual     float64\n",
       "Churn             float64\n",
       "Genero_encoded      int32\n",
       "Pais_GERMANY         bool\n",
       "Pais_SPAIN           bool\n",
       "dtype: object"
      ]
     },
     "execution_count": 10,
     "metadata": {},
     "output_type": "execute_result"
    }
   ],
   "source": [
    "df.dtypes"
   ]
  },
  {
   "cell_type": "code",
   "execution_count": 11,
   "metadata": {
    "id": "X8rIbiElDAeK",
    "outputId": "5d7a090d-dfad-45bf-e6d9-a49c3dff8cea"
   },
   "outputs": [
    {
     "name": "stdout",
     "output_type": "stream",
     "text": [
      "       Credit_Score  Genero  Idade  Tempo_Credito    Balanco  Qtd_Produtos  \\\n",
      "0               677    Male   18.0              5  134796.87             2   \n",
      "1               644  Female   18.0              7       0.00             1   \n",
      "2               641    Male   18.0              1       0.00             2   \n",
      "3               826    Male   18.0              2       0.00             2   \n",
      "4               774  Female   18.0              1  185891.54             1   \n",
      "...             ...     ...    ...            ...        ...           ...   \n",
      "99703           628    Male   83.0              8   56214.85             2   \n",
      "99704           543    Male   92.0              6       0.00             2   \n",
      "99705           752    Male   92.0              1  126076.24             2   \n",
      "99706           820    Male   92.0              0       0.00             2   \n",
      "99707           696    Male   92.0              9       0.00             1   \n",
      "\n",
      "       Possui_Cartao  Membro_Ativo  Salario_Anual  Churn  Genero_encoded  \\\n",
      "0                1.0           0.0      1011687.0    0.0               1   \n",
      "1                0.0           1.0      1011687.0    0.0               0   \n",
      "2                0.0           1.0      1011687.0    0.0               1   \n",
      "3                0.0           1.0      1011687.0    0.0               1   \n",
      "4                1.0           0.0      1011687.0    0.0               0   \n",
      "...              ...           ...            ...    ...             ...   \n",
      "99703            1.0           1.0      9298261.0    0.0               1   \n",
      "99704            1.0           1.0      6129099.0    0.0               1   \n",
      "99705            1.0           1.0      3443683.0    0.0               1   \n",
      "99706            1.0           1.0      2306797.0    0.0               1   \n",
      "99707            0.0           1.0     16356307.0    1.0               1   \n",
      "\n",
      "       Pais_GERMANY  Pais_SPAIN  \n",
      "0                 0           1  \n",
      "1                 0           1  \n",
      "2                 0           1  \n",
      "3                 0           1  \n",
      "4                 0           1  \n",
      "...             ...         ...  \n",
      "99703             0           0  \n",
      "99704             0           0  \n",
      "99705             0           0  \n",
      "99706             0           0  \n",
      "99707             0           0  \n",
      "\n",
      "[99708 rows x 13 columns]\n"
     ]
    }
   ],
   "source": [
    "for column in df.columns:\n",
    "    if df[column].dtype == 'bool':\n",
    "        df[column] = df[column].astype(int)\n",
    "print(df)"
   ]
  },
  {
   "cell_type": "code",
   "execution_count": 12,
   "metadata": {
    "colab": {
     "base_uri": "https://localhost:8080/"
    },
    "id": "K086BeyL1Qb0",
    "outputId": "d81e324f-5f91-4f0d-b655-8acb7da0778f"
   },
   "outputs": [
    {
     "name": "stdout",
     "output_type": "stream",
     "text": [
      "       Credit_Score  Idade  Tempo_Credito    Balanco  Qtd_Produtos  \\\n",
      "0               677   18.0              5  134796.87             2   \n",
      "1               644   18.0              7       0.00             1   \n",
      "2               641   18.0              1       0.00             2   \n",
      "3               826   18.0              2       0.00             2   \n",
      "4               774   18.0              1  185891.54             1   \n",
      "...             ...    ...            ...        ...           ...   \n",
      "99703           628   83.0              8   56214.85             2   \n",
      "99704           543   92.0              6       0.00             2   \n",
      "99705           752   92.0              1  126076.24             2   \n",
      "99706           820   92.0              0       0.00             2   \n",
      "99707           696   92.0              9       0.00             1   \n",
      "\n",
      "       Possui_Cartao  Membro_Ativo  Salario_Anual  Churn  Genero_encoded  \\\n",
      "0                1.0           0.0      1011687.0    0.0               1   \n",
      "1                0.0           1.0      1011687.0    0.0               0   \n",
      "2                0.0           1.0      1011687.0    0.0               1   \n",
      "3                0.0           1.0      1011687.0    0.0               1   \n",
      "4                1.0           0.0      1011687.0    0.0               0   \n",
      "...              ...           ...            ...    ...             ...   \n",
      "99703            1.0           1.0      9298261.0    0.0               1   \n",
      "99704            1.0           1.0      6129099.0    0.0               1   \n",
      "99705            1.0           1.0      3443683.0    0.0               1   \n",
      "99706            1.0           1.0      2306797.0    0.0               1   \n",
      "99707            0.0           1.0     16356307.0    1.0               1   \n",
      "\n",
      "       Pais_GERMANY  Pais_SPAIN  \n",
      "0                 0           1  \n",
      "1                 0           1  \n",
      "2                 0           1  \n",
      "3                 0           1  \n",
      "4                 0           1  \n",
      "...             ...         ...  \n",
      "99703             0           0  \n",
      "99704             0           0  \n",
      "99705             0           0  \n",
      "99706             0           0  \n",
      "99707             0           0  \n",
      "\n",
      "[99708 rows x 12 columns]\n"
     ]
    }
   ],
   "source": [
    "# Vamos dropar as colunas com os atributos categóricos\n",
    "df = df.drop(['Genero'], axis=1)\n",
    "print(df)"
   ]
  },
  {
   "cell_type": "markdown",
   "metadata": {
    "id": "lgVruzzP1mOL"
   },
   "source": [
    "Podemos inclusive trazer a correlação dessas duas colunas, agora que não são mais atributos categóricos"
   ]
  },
  {
   "cell_type": "code",
   "execution_count": 13,
   "metadata": {
    "colab": {
     "base_uri": "https://localhost:8080/",
     "height": 414
    },
    "id": "vX8Wk_k-1sAk",
    "outputId": "639102df-c897-4fdd-c1b0-c61d8a4e0b41"
   },
   "outputs": [
    {
     "data": {
      "text/html": [
       "<div>\n",
       "<style scoped>\n",
       "    .dataframe tbody tr th:only-of-type {\n",
       "        vertical-align: middle;\n",
       "    }\n",
       "\n",
       "    .dataframe tbody tr th {\n",
       "        vertical-align: top;\n",
       "    }\n",
       "\n",
       "    .dataframe thead th {\n",
       "        text-align: right;\n",
       "    }\n",
       "</style>\n",
       "<table border=\"1\" class=\"dataframe\">\n",
       "  <thead>\n",
       "    <tr style=\"text-align: right;\">\n",
       "      <th></th>\n",
       "      <th>Credit_Score</th>\n",
       "      <th>Idade</th>\n",
       "      <th>Tempo_Credito</th>\n",
       "      <th>Balanco</th>\n",
       "      <th>Qtd_Produtos</th>\n",
       "      <th>Possui_Cartao</th>\n",
       "      <th>Membro_Ativo</th>\n",
       "      <th>Salario_Anual</th>\n",
       "      <th>Churn</th>\n",
       "      <th>Genero_encoded</th>\n",
       "      <th>Pais_GERMANY</th>\n",
       "      <th>Pais_SPAIN</th>\n",
       "    </tr>\n",
       "  </thead>\n",
       "  <tbody>\n",
       "    <tr>\n",
       "      <th>Credit_Score</th>\n",
       "      <td>1.000000</td>\n",
       "      <td>-0.005099</td>\n",
       "      <td>-0.000574</td>\n",
       "      <td>0.006731</td>\n",
       "      <td>0.012509</td>\n",
       "      <td>-0.000922</td>\n",
       "      <td>0.011416</td>\n",
       "      <td>-0.011707</td>\n",
       "      <td>-0.024580</td>\n",
       "      <td>0.002087</td>\n",
       "      <td>0.002644</td>\n",
       "      <td>0.007817</td>\n",
       "    </tr>\n",
       "    <tr>\n",
       "      <th>Idade</th>\n",
       "      <td>-0.005099</td>\n",
       "      <td>1.000000</td>\n",
       "      <td>-0.013734</td>\n",
       "      <td>0.063713</td>\n",
       "      <td>-0.103867</td>\n",
       "      <td>-0.012933</td>\n",
       "      <td>0.000577</td>\n",
       "      <td>0.283716</td>\n",
       "      <td>0.345462</td>\n",
       "      <td>-0.062781</td>\n",
       "      <td>0.094204</td>\n",
       "      <td>-0.006409</td>\n",
       "    </tr>\n",
       "    <tr>\n",
       "      <th>Tempo_Credito</th>\n",
       "      <td>-0.000574</td>\n",
       "      <td>-0.013734</td>\n",
       "      <td>1.000000</td>\n",
       "      <td>-0.010009</td>\n",
       "      <td>0.006161</td>\n",
       "      <td>0.003356</td>\n",
       "      <td>-0.003640</td>\n",
       "      <td>0.001665</td>\n",
       "      <td>-0.018667</td>\n",
       "      <td>0.008811</td>\n",
       "      <td>-0.007652</td>\n",
       "      <td>0.005808</td>\n",
       "    </tr>\n",
       "    <tr>\n",
       "      <th>Balanco</th>\n",
       "      <td>0.006731</td>\n",
       "      <td>0.063713</td>\n",
       "      <td>-0.010009</td>\n",
       "      <td>1.000000</td>\n",
       "      <td>-0.359141</td>\n",
       "      <td>-0.017978</td>\n",
       "      <td>-0.013325</td>\n",
       "      <td>-0.163486</td>\n",
       "      <td>0.129540</td>\n",
       "      <td>-0.015781</td>\n",
       "      <td>0.538309</td>\n",
       "      <td>-0.131893</td>\n",
       "    </tr>\n",
       "    <tr>\n",
       "      <th>Qtd_Produtos</th>\n",
       "      <td>0.012509</td>\n",
       "      <td>-0.103867</td>\n",
       "      <td>0.006161</td>\n",
       "      <td>-0.359141</td>\n",
       "      <td>1.000000</td>\n",
       "      <td>0.002109</td>\n",
       "      <td>0.039489</td>\n",
       "      <td>-0.000220</td>\n",
       "      <td>-0.211684</td>\n",
       "      <td>0.023714</td>\n",
       "      <td>-0.102636</td>\n",
       "      <td>0.027736</td>\n",
       "    </tr>\n",
       "    <tr>\n",
       "      <th>Possui_Cartao</th>\n",
       "      <td>-0.000922</td>\n",
       "      <td>-0.012933</td>\n",
       "      <td>0.003356</td>\n",
       "      <td>-0.017978</td>\n",
       "      <td>0.002109</td>\n",
       "      <td>1.000000</td>\n",
       "      <td>-0.024726</td>\n",
       "      <td>0.006150</td>\n",
       "      <td>-0.021483</td>\n",
       "      <td>0.006208</td>\n",
       "      <td>-0.008175</td>\n",
       "      <td>-0.015017</td>\n",
       "    </tr>\n",
       "    <tr>\n",
       "      <th>Membro_Ativo</th>\n",
       "      <td>0.011416</td>\n",
       "      <td>0.000577</td>\n",
       "      <td>-0.003640</td>\n",
       "      <td>-0.013325</td>\n",
       "      <td>0.039489</td>\n",
       "      <td>-0.024726</td>\n",
       "      <td>1.000000</td>\n",
       "      <td>-0.000160</td>\n",
       "      <td>-0.211063</td>\n",
       "      <td>0.035486</td>\n",
       "      <td>-0.034223</td>\n",
       "      <td>0.017031</td>\n",
       "    </tr>\n",
       "    <tr>\n",
       "      <th>Salario_Anual</th>\n",
       "      <td>-0.011707</td>\n",
       "      <td>0.283716</td>\n",
       "      <td>0.001665</td>\n",
       "      <td>-0.163486</td>\n",
       "      <td>-0.000220</td>\n",
       "      <td>0.006150</td>\n",
       "      <td>-0.000160</td>\n",
       "      <td>1.000000</td>\n",
       "      <td>0.031500</td>\n",
       "      <td>-0.008264</td>\n",
       "      <td>-0.298592</td>\n",
       "      <td>-0.305591</td>\n",
       "    </tr>\n",
       "    <tr>\n",
       "      <th>Churn</th>\n",
       "      <td>-0.024580</td>\n",
       "      <td>0.345462</td>\n",
       "      <td>-0.018667</td>\n",
       "      <td>0.129540</td>\n",
       "      <td>-0.211684</td>\n",
       "      <td>-0.021483</td>\n",
       "      <td>-0.211063</td>\n",
       "      <td>0.031500</td>\n",
       "      <td>1.000000</td>\n",
       "      <td>-0.146529</td>\n",
       "      <td>0.214270</td>\n",
       "      <td>-0.050841</td>\n",
       "    </tr>\n",
       "    <tr>\n",
       "      <th>Genero_encoded</th>\n",
       "      <td>0.002087</td>\n",
       "      <td>-0.062781</td>\n",
       "      <td>0.008811</td>\n",
       "      <td>-0.015781</td>\n",
       "      <td>0.023714</td>\n",
       "      <td>0.006208</td>\n",
       "      <td>0.035486</td>\n",
       "      <td>-0.008264</td>\n",
       "      <td>-0.146529</td>\n",
       "      <td>1.000000</td>\n",
       "      <td>-0.044477</td>\n",
       "      <td>0.009903</td>\n",
       "    </tr>\n",
       "    <tr>\n",
       "      <th>Pais_GERMANY</th>\n",
       "      <td>0.002644</td>\n",
       "      <td>0.094204</td>\n",
       "      <td>-0.007652</td>\n",
       "      <td>0.538309</td>\n",
       "      <td>-0.102636</td>\n",
       "      <td>-0.008175</td>\n",
       "      <td>-0.034223</td>\n",
       "      <td>-0.298592</td>\n",
       "      <td>0.214270</td>\n",
       "      <td>-0.044477</td>\n",
       "      <td>1.000000</td>\n",
       "      <td>-0.272174</td>\n",
       "    </tr>\n",
       "    <tr>\n",
       "      <th>Pais_SPAIN</th>\n",
       "      <td>0.007817</td>\n",
       "      <td>-0.006409</td>\n",
       "      <td>0.005808</td>\n",
       "      <td>-0.131893</td>\n",
       "      <td>0.027736</td>\n",
       "      <td>-0.015017</td>\n",
       "      <td>0.017031</td>\n",
       "      <td>-0.305591</td>\n",
       "      <td>-0.050841</td>\n",
       "      <td>0.009903</td>\n",
       "      <td>-0.272174</td>\n",
       "      <td>1.000000</td>\n",
       "    </tr>\n",
       "  </tbody>\n",
       "</table>\n",
       "</div>"
      ],
      "text/plain": [
       "                Credit_Score     Idade  Tempo_Credito   Balanco  Qtd_Produtos  \\\n",
       "Credit_Score        1.000000 -0.005099      -0.000574  0.006731      0.012509   \n",
       "Idade              -0.005099  1.000000      -0.013734  0.063713     -0.103867   \n",
       "Tempo_Credito      -0.000574 -0.013734       1.000000 -0.010009      0.006161   \n",
       "Balanco             0.006731  0.063713      -0.010009  1.000000     -0.359141   \n",
       "Qtd_Produtos        0.012509 -0.103867       0.006161 -0.359141      1.000000   \n",
       "Possui_Cartao      -0.000922 -0.012933       0.003356 -0.017978      0.002109   \n",
       "Membro_Ativo        0.011416  0.000577      -0.003640 -0.013325      0.039489   \n",
       "Salario_Anual      -0.011707  0.283716       0.001665 -0.163486     -0.000220   \n",
       "Churn              -0.024580  0.345462      -0.018667  0.129540     -0.211684   \n",
       "Genero_encoded      0.002087 -0.062781       0.008811 -0.015781      0.023714   \n",
       "Pais_GERMANY        0.002644  0.094204      -0.007652  0.538309     -0.102636   \n",
       "Pais_SPAIN          0.007817 -0.006409       0.005808 -0.131893      0.027736   \n",
       "\n",
       "                Possui_Cartao  Membro_Ativo  Salario_Anual     Churn  \\\n",
       "Credit_Score        -0.000922      0.011416      -0.011707 -0.024580   \n",
       "Idade               -0.012933      0.000577       0.283716  0.345462   \n",
       "Tempo_Credito        0.003356     -0.003640       0.001665 -0.018667   \n",
       "Balanco             -0.017978     -0.013325      -0.163486  0.129540   \n",
       "Qtd_Produtos         0.002109      0.039489      -0.000220 -0.211684   \n",
       "Possui_Cartao        1.000000     -0.024726       0.006150 -0.021483   \n",
       "Membro_Ativo        -0.024726      1.000000      -0.000160 -0.211063   \n",
       "Salario_Anual        0.006150     -0.000160       1.000000  0.031500   \n",
       "Churn               -0.021483     -0.211063       0.031500  1.000000   \n",
       "Genero_encoded       0.006208      0.035486      -0.008264 -0.146529   \n",
       "Pais_GERMANY        -0.008175     -0.034223      -0.298592  0.214270   \n",
       "Pais_SPAIN          -0.015017      0.017031      -0.305591 -0.050841   \n",
       "\n",
       "                Genero_encoded  Pais_GERMANY  Pais_SPAIN  \n",
       "Credit_Score          0.002087      0.002644    0.007817  \n",
       "Idade                -0.062781      0.094204   -0.006409  \n",
       "Tempo_Credito         0.008811     -0.007652    0.005808  \n",
       "Balanco              -0.015781      0.538309   -0.131893  \n",
       "Qtd_Produtos          0.023714     -0.102636    0.027736  \n",
       "Possui_Cartao         0.006208     -0.008175   -0.015017  \n",
       "Membro_Ativo          0.035486     -0.034223    0.017031  \n",
       "Salario_Anual        -0.008264     -0.298592   -0.305591  \n",
       "Churn                -0.146529      0.214270   -0.050841  \n",
       "Genero_encoded        1.000000     -0.044477    0.009903  \n",
       "Pais_GERMANY         -0.044477      1.000000   -0.272174  \n",
       "Pais_SPAIN            0.009903     -0.272174    1.000000  "
      ]
     },
     "execution_count": 13,
     "metadata": {},
     "output_type": "execute_result"
    }
   ],
   "source": [
    "df.corr()"
   ]
  },
  {
   "cell_type": "markdown",
   "metadata": {
    "id": "UfZ90oOXlSuQ"
   },
   "source": [
    "## **Separação entre base treino e teste**"
   ]
  },
  {
   "cell_type": "markdown",
   "metadata": {
    "id": "zh3JFUmCoE-v"
   },
   "source": [
    "\n",
    "Separar a base de dados em conjuntos de treino e teste é importante para avaliar o desempenho de um modelo de aprendizado de máquina de forma justa e confiável. Aqui estão algumas razões pelas quais essa separação é crucial:\n",
    "\n",
    "**Avaliação do desempenho do modelo:** Ao separar os dados em treino e teste, podemos treinar o modelo nos dados de treinamento e avaliar seu desempenho nos dados de teste. Isso nos permite entender como o modelo generaliza para novos dados não vistos durante o treinamento.\n",
    "\n",
    "**Prevenção de overfitting:** A separação dos dados ajuda a evitar o overfitting, que ocorre quando o modelo se ajusta muito bem aos dados de treinamento, mas não consegue generalizar para novos dados. Avaliar o modelo em um conjunto de dados de teste separado pode revelar se ele está sobreajustado aos dados de treinamento."
   ]
  },
  {
   "cell_type": "markdown",
   "metadata": {
    "id": "ip9FV99VoN17"
   },
   "source": [
    "Overfitting é um fenômeno comum em modelos de aprendizado de máquina, onde o modelo se ajusta muito bem aos dados de treinamento, mas não consegue generalizar bem para novos dados que não foram vistos durante o treinamento. Isso significa que o modelo \"decora\" os dados de treinamento em vez de aprender os padrões subjacentes que podem ser aplicados a novos dados."
   ]
  },
  {
   "cell_type": "code",
   "execution_count": 14,
   "metadata": {
    "id": "z-EzhzhhokHv"
   },
   "outputs": [],
   "source": [
    "# Separar os dados em features (X) e o alvo (y)\n",
    "X = df.drop('Churn', axis=1)  # Considerando que 'Churn' é a coluna a ser predita\n",
    "y = df['Churn']"
   ]
  },
  {
   "cell_type": "code",
   "execution_count": 15,
   "metadata": {
    "id": "Mec7Eq0msAJb"
   },
   "outputs": [],
   "source": [
    "from sklearn.model_selection import train_test_split"
   ]
  },
  {
   "cell_type": "code",
   "execution_count": 16,
   "metadata": {
    "id": "YifG0vndonGb"
   },
   "outputs": [],
   "source": [
    "# Separar os dados em conjuntos de treino e teste\n",
    "X_train, X_test, y_train, y_test = train_test_split(X, y, test_size=0.25, random_state=42)\n",
    "# O parâmetro 'test_size' determina a proporção dos dados que serão separados para teste (25% neste exemplo)\n",
    "# O parâmetro 'random_state' é usado para garantir que a divisão seja reproduzível"
   ]
  },
  {
   "cell_type": "code",
   "execution_count": 17,
   "metadata": {
    "colab": {
     "base_uri": "https://localhost:8080/",
     "height": 443
    },
    "id": "_B0o1DKTrKdg",
    "outputId": "b080057e-068e-4432-a142-9f9b8e915ee8"
   },
   "outputs": [
    {
     "data": {
      "text/html": [
       "<div>\n",
       "<style scoped>\n",
       "    .dataframe tbody tr th:only-of-type {\n",
       "        vertical-align: middle;\n",
       "    }\n",
       "\n",
       "    .dataframe tbody tr th {\n",
       "        vertical-align: top;\n",
       "    }\n",
       "\n",
       "    .dataframe thead th {\n",
       "        text-align: right;\n",
       "    }\n",
       "</style>\n",
       "<table border=\"1\" class=\"dataframe\">\n",
       "  <thead>\n",
       "    <tr style=\"text-align: right;\">\n",
       "      <th></th>\n",
       "      <th>Credit_Score</th>\n",
       "      <th>Idade</th>\n",
       "      <th>Tempo_Credito</th>\n",
       "      <th>Balanco</th>\n",
       "      <th>Qtd_Produtos</th>\n",
       "      <th>Possui_Cartao</th>\n",
       "      <th>Membro_Ativo</th>\n",
       "      <th>Salario_Anual</th>\n",
       "      <th>Genero_encoded</th>\n",
       "      <th>Pais_GERMANY</th>\n",
       "      <th>Pais_SPAIN</th>\n",
       "    </tr>\n",
       "  </thead>\n",
       "  <tbody>\n",
       "    <tr>\n",
       "      <th>66440</th>\n",
       "      <td>711</td>\n",
       "      <td>35.0</td>\n",
       "      <td>10</td>\n",
       "      <td>0.00</td>\n",
       "      <td>2</td>\n",
       "      <td>1.0</td>\n",
       "      <td>0.0</td>\n",
       "      <td>5331178.0</td>\n",
       "      <td>1</td>\n",
       "      <td>0</td>\n",
       "      <td>0</td>\n",
       "    </tr>\n",
       "    <tr>\n",
       "      <th>59205</th>\n",
       "      <td>619</td>\n",
       "      <td>33.0</td>\n",
       "      <td>7</td>\n",
       "      <td>0.00</td>\n",
       "      <td>2</td>\n",
       "      <td>0.0</td>\n",
       "      <td>1.0</td>\n",
       "      <td>1011687.0</td>\n",
       "      <td>1</td>\n",
       "      <td>0</td>\n",
       "      <td>0</td>\n",
       "    </tr>\n",
       "    <tr>\n",
       "      <th>40951</th>\n",
       "      <td>841</td>\n",
       "      <td>54.0</td>\n",
       "      <td>4</td>\n",
       "      <td>102721.49</td>\n",
       "      <td>1</td>\n",
       "      <td>1.0</td>\n",
       "      <td>1.0</td>\n",
       "      <td>1011687.0</td>\n",
       "      <td>1</td>\n",
       "      <td>1</td>\n",
       "      <td>0</td>\n",
       "    </tr>\n",
       "    <tr>\n",
       "      <th>93972</th>\n",
       "      <td>679</td>\n",
       "      <td>48.0</td>\n",
       "      <td>6</td>\n",
       "      <td>125161.24</td>\n",
       "      <td>1</td>\n",
       "      <td>1.0</td>\n",
       "      <td>0.0</td>\n",
       "      <td>579659.0</td>\n",
       "      <td>1</td>\n",
       "      <td>0</td>\n",
       "      <td>0</td>\n",
       "    </tr>\n",
       "    <tr>\n",
       "      <th>86078</th>\n",
       "      <td>656</td>\n",
       "      <td>42.0</td>\n",
       "      <td>6</td>\n",
       "      <td>0.00</td>\n",
       "      <td>3</td>\n",
       "      <td>0.0</td>\n",
       "      <td>0.0</td>\n",
       "      <td>14233155.0</td>\n",
       "      <td>0</td>\n",
       "      <td>0</td>\n",
       "      <td>0</td>\n",
       "    </tr>\n",
       "    <tr>\n",
       "      <th>...</th>\n",
       "      <td>...</td>\n",
       "      <td>...</td>\n",
       "      <td>...</td>\n",
       "      <td>...</td>\n",
       "      <td>...</td>\n",
       "      <td>...</td>\n",
       "      <td>...</td>\n",
       "      <td>...</td>\n",
       "      <td>...</td>\n",
       "      <td>...</td>\n",
       "      <td>...</td>\n",
       "    </tr>\n",
       "    <tr>\n",
       "      <th>6265</th>\n",
       "      <td>563</td>\n",
       "      <td>33.0</td>\n",
       "      <td>4</td>\n",
       "      <td>90727.79</td>\n",
       "      <td>2</td>\n",
       "      <td>0.0</td>\n",
       "      <td>0.0</td>\n",
       "      <td>1011687.0</td>\n",
       "      <td>1</td>\n",
       "      <td>0</td>\n",
       "      <td>1</td>\n",
       "    </tr>\n",
       "    <tr>\n",
       "      <th>54886</th>\n",
       "      <td>512</td>\n",
       "      <td>31.0</td>\n",
       "      <td>1</td>\n",
       "      <td>145150.28</td>\n",
       "      <td>2</td>\n",
       "      <td>1.0</td>\n",
       "      <td>0.0</td>\n",
       "      <td>1011687.0</td>\n",
       "      <td>0</td>\n",
       "      <td>0</td>\n",
       "      <td>0</td>\n",
       "    </tr>\n",
       "    <tr>\n",
       "      <th>76820</th>\n",
       "      <td>537</td>\n",
       "      <td>38.0</td>\n",
       "      <td>4</td>\n",
       "      <td>0.00</td>\n",
       "      <td>2</td>\n",
       "      <td>0.0</td>\n",
       "      <td>0.0</td>\n",
       "      <td>11389922.0</td>\n",
       "      <td>0</td>\n",
       "      <td>0</td>\n",
       "      <td>0</td>\n",
       "    </tr>\n",
       "    <tr>\n",
       "      <th>860</th>\n",
       "      <td>730</td>\n",
       "      <td>25.0</td>\n",
       "      <td>0</td>\n",
       "      <td>0.00</td>\n",
       "      <td>2</td>\n",
       "      <td>1.0</td>\n",
       "      <td>1.0</td>\n",
       "      <td>1011687.0</td>\n",
       "      <td>1</td>\n",
       "      <td>0</td>\n",
       "      <td>1</td>\n",
       "    </tr>\n",
       "    <tr>\n",
       "      <th>15795</th>\n",
       "      <td>635</td>\n",
       "      <td>41.0</td>\n",
       "      <td>5</td>\n",
       "      <td>0.00</td>\n",
       "      <td>1</td>\n",
       "      <td>1.0</td>\n",
       "      <td>1.0</td>\n",
       "      <td>1011687.0</td>\n",
       "      <td>0</td>\n",
       "      <td>0</td>\n",
       "      <td>1</td>\n",
       "    </tr>\n",
       "  </tbody>\n",
       "</table>\n",
       "<p>74781 rows × 11 columns</p>\n",
       "</div>"
      ],
      "text/plain": [
       "       Credit_Score  Idade  Tempo_Credito    Balanco  Qtd_Produtos  \\\n",
       "66440           711   35.0             10       0.00             2   \n",
       "59205           619   33.0              7       0.00             2   \n",
       "40951           841   54.0              4  102721.49             1   \n",
       "93972           679   48.0              6  125161.24             1   \n",
       "86078           656   42.0              6       0.00             3   \n",
       "...             ...    ...            ...        ...           ...   \n",
       "6265            563   33.0              4   90727.79             2   \n",
       "54886           512   31.0              1  145150.28             2   \n",
       "76820           537   38.0              4       0.00             2   \n",
       "860             730   25.0              0       0.00             2   \n",
       "15795           635   41.0              5       0.00             1   \n",
       "\n",
       "       Possui_Cartao  Membro_Ativo  Salario_Anual  Genero_encoded  \\\n",
       "66440            1.0           0.0      5331178.0               1   \n",
       "59205            0.0           1.0      1011687.0               1   \n",
       "40951            1.0           1.0      1011687.0               1   \n",
       "93972            1.0           0.0       579659.0               1   \n",
       "86078            0.0           0.0     14233155.0               0   \n",
       "...              ...           ...            ...             ...   \n",
       "6265             0.0           0.0      1011687.0               1   \n",
       "54886            1.0           0.0      1011687.0               0   \n",
       "76820            0.0           0.0     11389922.0               0   \n",
       "860              1.0           1.0      1011687.0               1   \n",
       "15795            1.0           1.0      1011687.0               0   \n",
       "\n",
       "       Pais_GERMANY  Pais_SPAIN  \n",
       "66440             0           0  \n",
       "59205             0           0  \n",
       "40951             1           0  \n",
       "93972             0           0  \n",
       "86078             0           0  \n",
       "...             ...         ...  \n",
       "6265              0           1  \n",
       "54886             0           0  \n",
       "76820             0           0  \n",
       "860               0           1  \n",
       "15795             0           1  \n",
       "\n",
       "[74781 rows x 11 columns]"
      ]
     },
     "execution_count": 17,
     "metadata": {},
     "output_type": "execute_result"
    }
   ],
   "source": [
    "X_train"
   ]
  },
  {
   "cell_type": "code",
   "execution_count": 18,
   "metadata": {
    "colab": {
     "base_uri": "https://localhost:8080/",
     "height": 443
    },
    "id": "alh59oCB2By8",
    "outputId": "ab5143f5-871a-4a00-a2aa-f65cf4e3c0a0"
   },
   "outputs": [
    {
     "data": {
      "text/html": [
       "<div>\n",
       "<style scoped>\n",
       "    .dataframe tbody tr th:only-of-type {\n",
       "        vertical-align: middle;\n",
       "    }\n",
       "\n",
       "    .dataframe tbody tr th {\n",
       "        vertical-align: top;\n",
       "    }\n",
       "\n",
       "    .dataframe thead th {\n",
       "        text-align: right;\n",
       "    }\n",
       "</style>\n",
       "<table border=\"1\" class=\"dataframe\">\n",
       "  <thead>\n",
       "    <tr style=\"text-align: right;\">\n",
       "      <th></th>\n",
       "      <th>Credit_Score</th>\n",
       "      <th>Idade</th>\n",
       "      <th>Tempo_Credito</th>\n",
       "      <th>Balanco</th>\n",
       "      <th>Qtd_Produtos</th>\n",
       "      <th>Possui_Cartao</th>\n",
       "      <th>Membro_Ativo</th>\n",
       "      <th>Salario_Anual</th>\n",
       "      <th>Genero_encoded</th>\n",
       "      <th>Pais_GERMANY</th>\n",
       "      <th>Pais_SPAIN</th>\n",
       "    </tr>\n",
       "  </thead>\n",
       "  <tbody>\n",
       "    <tr>\n",
       "      <th>69750</th>\n",
       "      <td>686</td>\n",
       "      <td>36.0</td>\n",
       "      <td>3</td>\n",
       "      <td>95848.58</td>\n",
       "      <td>2</td>\n",
       "      <td>0.0</td>\n",
       "      <td>1.0</td>\n",
       "      <td>7144694.0</td>\n",
       "      <td>1</td>\n",
       "      <td>0</td>\n",
       "      <td>0</td>\n",
       "    </tr>\n",
       "    <tr>\n",
       "      <th>67722</th>\n",
       "      <td>703</td>\n",
       "      <td>35.0</td>\n",
       "      <td>1</td>\n",
       "      <td>0.00</td>\n",
       "      <td>1</td>\n",
       "      <td>1.0</td>\n",
       "      <td>1.0</td>\n",
       "      <td>14136462.0</td>\n",
       "      <td>1</td>\n",
       "      <td>0</td>\n",
       "      <td>0</td>\n",
       "    </tr>\n",
       "    <tr>\n",
       "      <th>928</th>\n",
       "      <td>730</td>\n",
       "      <td>26.0</td>\n",
       "      <td>6</td>\n",
       "      <td>0.00</td>\n",
       "      <td>1</td>\n",
       "      <td>1.0</td>\n",
       "      <td>1.0</td>\n",
       "      <td>1011687.0</td>\n",
       "      <td>1</td>\n",
       "      <td>0</td>\n",
       "      <td>1</td>\n",
       "    </tr>\n",
       "    <tr>\n",
       "      <th>59899</th>\n",
       "      <td>675</td>\n",
       "      <td>33.0</td>\n",
       "      <td>6</td>\n",
       "      <td>0.00</td>\n",
       "      <td>2</td>\n",
       "      <td>0.0</td>\n",
       "      <td>1.0</td>\n",
       "      <td>1011687.0</td>\n",
       "      <td>0</td>\n",
       "      <td>0</td>\n",
       "      <td>0</td>\n",
       "    </tr>\n",
       "    <tr>\n",
       "      <th>22189</th>\n",
       "      <td>754</td>\n",
       "      <td>24.0</td>\n",
       "      <td>3</td>\n",
       "      <td>121513.31</td>\n",
       "      <td>2</td>\n",
       "      <td>0.0</td>\n",
       "      <td>1.0</td>\n",
       "      <td>1011687.0</td>\n",
       "      <td>0</td>\n",
       "      <td>1</td>\n",
       "      <td>0</td>\n",
       "    </tr>\n",
       "    <tr>\n",
       "      <th>...</th>\n",
       "      <td>...</td>\n",
       "      <td>...</td>\n",
       "      <td>...</td>\n",
       "      <td>...</td>\n",
       "      <td>...</td>\n",
       "      <td>...</td>\n",
       "      <td>...</td>\n",
       "      <td>...</td>\n",
       "      <td>...</td>\n",
       "      <td>...</td>\n",
       "      <td>...</td>\n",
       "    </tr>\n",
       "    <tr>\n",
       "      <th>11617</th>\n",
       "      <td>786</td>\n",
       "      <td>37.0</td>\n",
       "      <td>4</td>\n",
       "      <td>0.00</td>\n",
       "      <td>2</td>\n",
       "      <td>0.0</td>\n",
       "      <td>1.0</td>\n",
       "      <td>1011687.0</td>\n",
       "      <td>0</td>\n",
       "      <td>0</td>\n",
       "      <td>1</td>\n",
       "    </tr>\n",
       "    <tr>\n",
       "      <th>67934</th>\n",
       "      <td>592</td>\n",
       "      <td>35.0</td>\n",
       "      <td>7</td>\n",
       "      <td>122724.50</td>\n",
       "      <td>1</td>\n",
       "      <td>1.0</td>\n",
       "      <td>1.0</td>\n",
       "      <td>17773874.0</td>\n",
       "      <td>1</td>\n",
       "      <td>0</td>\n",
       "      <td>0</td>\n",
       "    </tr>\n",
       "    <tr>\n",
       "      <th>90891</th>\n",
       "      <td>645</td>\n",
       "      <td>45.0</td>\n",
       "      <td>7</td>\n",
       "      <td>121286.32</td>\n",
       "      <td>1</td>\n",
       "      <td>1.0</td>\n",
       "      <td>1.0</td>\n",
       "      <td>869372.0</td>\n",
       "      <td>1</td>\n",
       "      <td>0</td>\n",
       "      <td>0</td>\n",
       "    </tr>\n",
       "    <tr>\n",
       "      <th>38238</th>\n",
       "      <td>567</td>\n",
       "      <td>47.0</td>\n",
       "      <td>1</td>\n",
       "      <td>126447.40</td>\n",
       "      <td>1</td>\n",
       "      <td>1.0</td>\n",
       "      <td>0.0</td>\n",
       "      <td>1011687.0</td>\n",
       "      <td>0</td>\n",
       "      <td>1</td>\n",
       "      <td>0</td>\n",
       "    </tr>\n",
       "    <tr>\n",
       "      <th>5252</th>\n",
       "      <td>725</td>\n",
       "      <td>32.0</td>\n",
       "      <td>1</td>\n",
       "      <td>0.00</td>\n",
       "      <td>2</td>\n",
       "      <td>1.0</td>\n",
       "      <td>1.0</td>\n",
       "      <td>1011687.0</td>\n",
       "      <td>1</td>\n",
       "      <td>0</td>\n",
       "      <td>1</td>\n",
       "    </tr>\n",
       "  </tbody>\n",
       "</table>\n",
       "<p>24927 rows × 11 columns</p>\n",
       "</div>"
      ],
      "text/plain": [
       "       Credit_Score  Idade  Tempo_Credito    Balanco  Qtd_Produtos  \\\n",
       "69750           686   36.0              3   95848.58             2   \n",
       "67722           703   35.0              1       0.00             1   \n",
       "928             730   26.0              6       0.00             1   \n",
       "59899           675   33.0              6       0.00             2   \n",
       "22189           754   24.0              3  121513.31             2   \n",
       "...             ...    ...            ...        ...           ...   \n",
       "11617           786   37.0              4       0.00             2   \n",
       "67934           592   35.0              7  122724.50             1   \n",
       "90891           645   45.0              7  121286.32             1   \n",
       "38238           567   47.0              1  126447.40             1   \n",
       "5252            725   32.0              1       0.00             2   \n",
       "\n",
       "       Possui_Cartao  Membro_Ativo  Salario_Anual  Genero_encoded  \\\n",
       "69750            0.0           1.0      7144694.0               1   \n",
       "67722            1.0           1.0     14136462.0               1   \n",
       "928              1.0           1.0      1011687.0               1   \n",
       "59899            0.0           1.0      1011687.0               0   \n",
       "22189            0.0           1.0      1011687.0               0   \n",
       "...              ...           ...            ...             ...   \n",
       "11617            0.0           1.0      1011687.0               0   \n",
       "67934            1.0           1.0     17773874.0               1   \n",
       "90891            1.0           1.0       869372.0               1   \n",
       "38238            1.0           0.0      1011687.0               0   \n",
       "5252             1.0           1.0      1011687.0               1   \n",
       "\n",
       "       Pais_GERMANY  Pais_SPAIN  \n",
       "69750             0           0  \n",
       "67722             0           0  \n",
       "928               0           1  \n",
       "59899             0           0  \n",
       "22189             1           0  \n",
       "...             ...         ...  \n",
       "11617             0           1  \n",
       "67934             0           0  \n",
       "90891             0           0  \n",
       "38238             1           0  \n",
       "5252              0           1  \n",
       "\n",
       "[24927 rows x 11 columns]"
      ]
     },
     "execution_count": 18,
     "metadata": {},
     "output_type": "execute_result"
    }
   ],
   "source": [
    "X_test"
   ]
  },
  {
   "cell_type": "code",
   "execution_count": 19,
   "metadata": {
    "colab": {
     "base_uri": "https://localhost:8080/"
    },
    "id": "KaWxSIwX2Dou",
    "outputId": "de93bdbe-a54a-48a4-a7c5-807676703afd"
   },
   "outputs": [
    {
     "data": {
      "text/plain": [
       "66440    1.0\n",
       "59205    0.0\n",
       "40951    1.0\n",
       "93972    1.0\n",
       "86078    1.0\n",
       "        ... \n",
       "6265     0.0\n",
       "54886    0.0\n",
       "76820    0.0\n",
       "860      0.0\n",
       "15795    1.0\n",
       "Name: Churn, Length: 74781, dtype: float64"
      ]
     },
     "execution_count": 19,
     "metadata": {},
     "output_type": "execute_result"
    }
   ],
   "source": [
    "y_train"
   ]
  },
  {
   "cell_type": "code",
   "execution_count": 20,
   "metadata": {
    "colab": {
     "base_uri": "https://localhost:8080/"
    },
    "id": "CbyZEqJG2KJA",
    "outputId": "273ef994-eee1-4fba-ea6b-c7fabb7e8d89"
   },
   "outputs": [
    {
     "data": {
      "text/plain": [
       "69750    0.0\n",
       "67722    0.0\n",
       "928      0.0\n",
       "59899    0.0\n",
       "22189    0.0\n",
       "        ... \n",
       "11617    0.0\n",
       "67934    0.0\n",
       "90891    0.0\n",
       "38238    1.0\n",
       "5252     0.0\n",
       "Name: Churn, Length: 24927, dtype: float64"
      ]
     },
     "execution_count": 20,
     "metadata": {},
     "output_type": "execute_result"
    }
   ],
   "source": [
    "y_test"
   ]
  },
  {
   "cell_type": "code",
   "execution_count": 21,
   "metadata": {
    "colab": {
     "base_uri": "https://localhost:8080/"
    },
    "id": "dGidEEGmsRWF",
    "outputId": "6d50de77-5448-40e6-9593-11ee0c3fcbbc"
   },
   "outputs": [
    {
     "name": "stdout",
     "output_type": "stream",
     "text": [
      "Tamanho de X_train: (74781, 11)\n"
     ]
    }
   ],
   "source": [
    "print(\"Tamanho de X_train:\", X_train.shape)"
   ]
  },
  {
   "cell_type": "code",
   "execution_count": 22,
   "metadata": {
    "colab": {
     "base_uri": "https://localhost:8080/"
    },
    "id": "g1CsU7GusdYM",
    "outputId": "7247ed92-ee95-4f75-be64-10c532c30ef7"
   },
   "outputs": [
    {
     "name": "stdout",
     "output_type": "stream",
     "text": [
      "Tamanho de X_test: (24927, 11)\n"
     ]
    }
   ],
   "source": [
    "print(\"Tamanho de X_test:\", X_test.shape)"
   ]
  },
  {
   "cell_type": "code",
   "execution_count": 23,
   "metadata": {
    "colab": {
     "base_uri": "https://localhost:8080/"
    },
    "id": "QvJm4PYesfts",
    "outputId": "97234969-9260-4de9-c402-9a39b51935cd"
   },
   "outputs": [
    {
     "name": "stdout",
     "output_type": "stream",
     "text": [
      "Tamanho de y_train: (74781,)\n"
     ]
    }
   ],
   "source": [
    "print(\"Tamanho de y_train:\", y_train.shape)"
   ]
  },
  {
   "cell_type": "code",
   "execution_count": 24,
   "metadata": {
    "colab": {
     "base_uri": "https://localhost:8080/"
    },
    "id": "1vWnPaeBsiFt",
    "outputId": "e11599a0-51af-4b2e-84b1-da6afba4d07e"
   },
   "outputs": [
    {
     "name": "stdout",
     "output_type": "stream",
     "text": [
      "Tamanho de y_test: (24927,)\n"
     ]
    }
   ],
   "source": [
    "print(\"Tamanho de y_test:\", y_test.shape)"
   ]
  },
  {
   "cell_type": "markdown",
   "metadata": {
    "id": "yPieQkQOS3GK"
   },
   "source": [
    "## **Balanceamento dos dados - Smote**"
   ]
  },
  {
   "cell_type": "markdown",
   "metadata": {
    "id": "lOhj-YljXcBE"
   },
   "source": [
    "Como está o balanceamento da nossa variavel preditora?\n",
    "\n",
    "Pois caso uma das classes esteja em baixa quantidade nosso modelo futuramente pode ter dificuldade para prever essa classe."
   ]
  },
  {
   "cell_type": "code",
   "execution_count": 25,
   "metadata": {
    "colab": {
     "base_uri": "https://localhost:8080/",
     "height": 568
    },
    "id": "Ky_Hyv2DXHvE",
    "outputId": "b27b482d-2264-4455-fc66-b8832722cc56"
   },
   "outputs": [
    {
     "data": {
      "text/plain": [
       "<Axes: xlabel='Churn'>"
      ]
     },
     "execution_count": 25,
     "metadata": {},
     "output_type": "execute_result"
    },
    {
     "data": {
      "image/png": "[encoded data removed]",
      "text/plain": [
       "<Figure size 800x600 with 1 Axes>"
      ]
     },
     "metadata": {},
     "output_type": "display_data"
    }
   ],
   "source": [
    "churn_counts = df['Churn'].value_counts()\n",
    "plt.figure(figsize=(8, 6))\n",
    "churn_counts.plot(kind='bar', color=['blue', 'orange'])"
   ]
  },
  {
   "cell_type": "code",
   "execution_count": 26,
   "metadata": {
    "colab": {
     "base_uri": "https://localhost:8080/"
    },
    "id": "dbOU8BBafVkL",
    "outputId": "eb192a33-7a5f-400f-83cc-d0343610fa17"
   },
   "outputs": [
    {
     "name": "stdout",
     "output_type": "stream",
     "text": [
      "Churn\n",
      "0.0    78.854254\n",
      "1.0    21.145746\n",
      "Name: proportion, dtype: float64\n"
     ]
    }
   ],
   "source": [
    "# Calcular e imprimir as porcentagens dos valores na coluna 'churn'\n",
    "print((df['Churn'].value_counts(normalize=True) * 100))"
   ]
  },
  {
   "cell_type": "markdown",
   "metadata": {
    "id": "E4rp5ET2fiv5"
   },
   "source": [
    "Temos apenas 20% dos dados classificados como Churn e faz sentido o número de clientes que abandonaram a marca ser menor.\n",
    "Entretanto isso pode indicar que se nosso modelo simplesmente \"chutasse\" que todos nossos clientes não dariam churn ele acertaria 80% dos casos e seria bem avaliado. Porém esse valor não é real para nós, pois nos interessa acertar o churn, por conta disso é interessante balancearmos nossos dados em casos como esses."
   ]
  },
  {
   "cell_type": "markdown",
   "metadata": {
    "id": "5LeF-GZ7uBYF"
   },
   "source": [
    "Idealmente aplicamos o balanceamento apenas na base de treino, em alguns casos podemos aplicar no teste mas imagine que, na vida real, quando nosso modelo for lidar com dados reais eles não estarão balanceados, então usaremos o balanceamento apenas no teste a nível de aprendizazdo do modelo."
   ]
  },
  {
   "cell_type": "code",
   "execution_count": 27,
   "metadata": {
    "colab": {
     "base_uri": "https://localhost:8080/"
    },
    "id": "LsUGa_55jaXe",
    "outputId": "5293315c-e0bb-48a8-aa68-9da4fcbd03f9"
   },
   "outputs": [
    {
     "name": "stdout",
     "output_type": "stream",
     "text": [
      "Distribuição das classes após o balanceamento:\n",
      "Churn\n",
      "1.0    58975\n",
      "0.0    58975\n",
      "Name: count, dtype: int64\n"
     ]
    }
   ],
   "source": [
    "from imblearn.over_sampling import SMOTE\n",
    "\n",
    "# Criar uma instância do SMOTE\n",
    "smote = SMOTE(random_state=42)\n",
    "\n",
    "# Aplicar o SMOTE aos dados de treinamento (X_train, y_train)\n",
    "X_train_balanced, y_train_balanced = smote.fit_resample(X_train, y_train)\n",
    "\n",
    "# Verificar a distribuição das classes após o balanceamento\n",
    "print(\"Distribuição das classes após o balanceamento:\")\n",
    "print(y_train_balanced.value_counts())"
   ]
  },
  {
   "cell_type": "code",
   "execution_count": 28,
   "metadata": {
    "colab": {
     "base_uri": "https://localhost:8080/"
    },
    "id": "7B6pCTBqIBL3",
    "outputId": "10a180b7-4647-491c-b511-be77e7d43478"
   },
   "outputs": [
    {
     "name": "stdout",
     "output_type": "stream",
     "text": [
      "Balanceamento em y_train:\n",
      "Churn\n",
      "1.0    58975\n",
      "0.0    58975\n",
      "Name: count, dtype: int64\n"
     ]
    }
   ],
   "source": [
    "train_balance = y_train_balanced.value_counts()\n",
    "print(\"Balanceamento em y_train:\")\n",
    "print(train_balance)"
   ]
  },
  {
   "cell_type": "code",
   "execution_count": 29,
   "metadata": {
    "id": "HnbOW6RDcrgh"
   },
   "outputs": [],
   "source": [
    "y_train_balanced.to_csv('y_train_balanced.csv', index=False)"
   ]
  },
  {
   "cell_type": "code",
   "execution_count": 30,
   "metadata": {
    "id": "042jdo-_hSSo"
   },
   "outputs": [],
   "source": [
    "X_train_balanced.to_csv('X_train_balanced.csv', index=False)"
   ]
  },
  {
   "cell_type": "code",
   "execution_count": 31,
   "metadata": {
    "id": "kIyAPt-JhUy7"
   },
   "outputs": [],
   "source": [
    "y_test.to_csv('y_test.csv', index=False)"
   ]
  },
  {
   "cell_type": "code",
   "execution_count": 32,
   "metadata": {
    "id": "JKEYGjI4hVSE"
   },
   "outputs": [],
   "source": [
    "X_test.to_csv('X_test.csv', index=False)"
   ]
  }
 ],
 "metadata": {
  "colab": {
   "provenance": []
  },
  "kernelspec": {
   "display_name": "base",
   "language": "python",
   "name": "python3"
  },
  "language_info": {
   "codemirror_mode": {
    "name": "ipython",
    "version": 3
   },
   "file_extension": ".py",
   "mimetype": "text/x-python",
   "name": "python",
   "nbconvert_exporter": "python",
   "pygments_lexer": "ipython3",
   "version": "3.12.4"
  }
 },
 "nbformat": 4,
 "nbformat_minor": 0
}
