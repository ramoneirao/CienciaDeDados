{
 "cells": [
  {
   "cell_type": "code",
   "execution_count": 1,
   "metadata": {
    "id": "WcH3No7Wt_ZK"
   },
   "outputs": [],
   "source": [
    "#usaremos a biblioteca pandas\n",
    "import pandas as pd"
   ]
  },
  {
   "cell_type": "markdown",
   "metadata": {
    "id": "aN5Vbr3DvQ9a"
   },
   "source": [
    "Base de dados com os 25 esportistas mais bem pagos segundo a forbes, para 2023. Os dados dos ganhos são em Reais e na casa dos milhões por ano.\n",
    "\n"
   ]
  },
  {
   "cell_type": "code",
   "execution_count": 4,
   "metadata": {
    "colab": {
     "base_uri": "https://localhost:8080/",
     "height": 363
    },
    "id": "h5bzsaKOxXN4",
    "outputId": "12e172aa-39a9-4961-f2ec-eb18d8392225"
   },
   "outputs": [
    {
     "data": {
      "text/html": [
       "<div>\n",
       "<style scoped>\n",
       "    .dataframe tbody tr th:only-of-type {\n",
       "        vertical-align: middle;\n",
       "    }\n",
       "\n",
       "    .dataframe tbody tr th {\n",
       "        vertical-align: top;\n",
       "    }\n",
       "\n",
       "    .dataframe thead th {\n",
       "        text-align: right;\n",
       "    }\n",
       "</style>\n",
       "<table border=\"1\" class=\"dataframe\">\n",
       "  <thead>\n",
       "    <tr style=\"text-align: right;\">\n",
       "      <th></th>\n",
       "      <th>Atleta</th>\n",
       "      <th>Esporte</th>\n",
       "      <th>Ganhos_Totais</th>\n",
       "    </tr>\n",
       "  </thead>\n",
       "  <tbody>\n",
       "    <tr>\n",
       "      <th>0</th>\n",
       "      <td>Lionel Messi</td>\n",
       "      <td>Futebol</td>\n",
       "      <td>639</td>\n",
       "    </tr>\n",
       "    <tr>\n",
       "      <th>1</th>\n",
       "      <td>Lebron James</td>\n",
       "      <td>Basquete</td>\n",
       "      <td>595</td>\n",
       "    </tr>\n",
       "    <tr>\n",
       "      <th>2</th>\n",
       "      <td>Cristiano Ronaldo</td>\n",
       "      <td>Futebol</td>\n",
       "      <td>565</td>\n",
       "    </tr>\n",
       "    <tr>\n",
       "      <th>3</th>\n",
       "      <td>Neymar Jr</td>\n",
       "      <td>Futebol</td>\n",
       "      <td>467</td>\n",
       "    </tr>\n",
       "    <tr>\n",
       "      <th>4</th>\n",
       "      <td>Stephen Curry</td>\n",
       "      <td>Basquete</td>\n",
       "      <td>452</td>\n",
       "    </tr>\n",
       "    <tr>\n",
       "      <th>5</th>\n",
       "      <td>Kevin Duart</td>\n",
       "      <td>Basquete</td>\n",
       "      <td>452</td>\n",
       "    </tr>\n",
       "    <tr>\n",
       "      <th>6</th>\n",
       "      <td>Roger Federer</td>\n",
       "      <td>Tenis</td>\n",
       "      <td>442</td>\n",
       "    </tr>\n",
       "    <tr>\n",
       "      <th>7</th>\n",
       "      <td>Canelo Alvarez</td>\n",
       "      <td>Boxe</td>\n",
       "      <td>442</td>\n",
       "    </tr>\n",
       "    <tr>\n",
       "      <th>8</th>\n",
       "      <td>Tom Brady</td>\n",
       "      <td>Futebol Americano</td>\n",
       "      <td>408</td>\n",
       "    </tr>\n",
       "    <tr>\n",
       "      <th>9</th>\n",
       "      <td>Giannis Antetoku</td>\n",
       "      <td>Basquete</td>\n",
       "      <td>397</td>\n",
       "    </tr>\n",
       "  </tbody>\n",
       "</table>\n",
       "</div>"
      ],
      "text/plain": [
       "              Atleta            Esporte  Ganhos_Totais\n",
       "0       Lionel Messi            Futebol            639\n",
       "1       Lebron James           Basquete            595\n",
       "2  Cristiano Ronaldo            Futebol            565\n",
       "3          Neymar Jr            Futebol            467\n",
       "4      Stephen Curry           Basquete            452\n",
       "5        Kevin Duart           Basquete            452\n",
       "6      Roger Federer              Tenis            442\n",
       "7     Canelo Alvarez               Boxe            442\n",
       "8          Tom Brady  Futebol Americano            408\n",
       "9   Giannis Antetoku           Basquete            397"
      ]
     },
     "execution_count": 4,
     "metadata": {},
     "output_type": "execute_result"
    }
   ],
   "source": [
    "df = pd.read_csv(\"ESPORTISTAS_MOD7.csv\", delimiter=';')\n",
    "\n",
    "df.head(10)"
   ]
  },
  {
   "cell_type": "markdown",
   "metadata": {
    "id": "fgQ3avFKy6kV"
   },
   "source": [
    "Conhecendo a base."
   ]
  },
  {
   "cell_type": "code",
   "execution_count": null,
   "metadata": {
    "colab": {
     "base_uri": "https://localhost:8080/",
     "height": 300
    },
    "id": "8bE4jYRizBWy",
    "outputId": "55dfd4ec-ac63-4495-c7f8-668856291a50"
   },
   "outputs": [
    {
     "data": {
      "text/html": [
       "<div>\n",
       "<style scoped>\n",
       "    .dataframe tbody tr th:only-of-type {\n",
       "        vertical-align: middle;\n",
       "    }\n",
       "\n",
       "    .dataframe tbody tr th {\n",
       "        vertical-align: top;\n",
       "    }\n",
       "\n",
       "    .dataframe thead th {\n",
       "        text-align: right;\n",
       "    }\n",
       "</style>\n",
       "<table border=\"1\" class=\"dataframe\">\n",
       "  <thead>\n",
       "    <tr style=\"text-align: right;\">\n",
       "      <th></th>\n",
       "      <th>Esporte</th>\n",
       "      <th>Atleta</th>\n",
       "    </tr>\n",
       "  </thead>\n",
       "  <tbody>\n",
       "    <tr>\n",
       "      <th>1</th>\n",
       "      <td>Basquete</td>\n",
       "      <td>8</td>\n",
       "    </tr>\n",
       "    <tr>\n",
       "      <th>5</th>\n",
       "      <td>Futebol Americano</td>\n",
       "      <td>7</td>\n",
       "    </tr>\n",
       "    <tr>\n",
       "      <th>4</th>\n",
       "      <td>Futebol</td>\n",
       "      <td>3</td>\n",
       "    </tr>\n",
       "    <tr>\n",
       "      <th>3</th>\n",
       "      <td>Boxe</td>\n",
       "      <td>2</td>\n",
       "    </tr>\n",
       "    <tr>\n",
       "      <th>7</th>\n",
       "      <td>Tenis</td>\n",
       "      <td>2</td>\n",
       "    </tr>\n",
       "    <tr>\n",
       "      <th>0</th>\n",
       "      <td>Automobilismo</td>\n",
       "      <td>1</td>\n",
       "    </tr>\n",
       "    <tr>\n",
       "      <th>2</th>\n",
       "      <td>Beisebol</td>\n",
       "      <td>1</td>\n",
       "    </tr>\n",
       "    <tr>\n",
       "      <th>6</th>\n",
       "      <td>Golfe</td>\n",
       "      <td>1</td>\n",
       "    </tr>\n",
       "  </tbody>\n",
       "</table>\n",
       "</div>"
      ],
      "text/plain": [
       "             Esporte  Atleta\n",
       "1           Basquete       8\n",
       "5  Futebol Americano       7\n",
       "4            Futebol       3\n",
       "3               Boxe       2\n",
       "7              Tenis       2\n",
       "0      Automobilismo       1\n",
       "2           Beisebol       1\n",
       "6              Golfe       1"
      ]
     },
     "execution_count": 6,
     "metadata": {},
     "output_type": "execute_result"
    }
   ],
   "source": [
    "# Usando o group by para agrupar os dados do df pela coluna 'Esporte'\n",
    "df.groupby('Esporte')['Atleta'].count().reset_index().sort_values(by='Atleta', ascending=False)"
   ]
  },
  {
   "cell_type": "markdown",
   "metadata": {
    "id": "guRAGygZ0sQ7"
   },
   "source": [
    "25 atletas 8 deles são de Basquete"
   ]
  },
  {
   "cell_type": "code",
   "execution_count": 7,
   "metadata": {
    "colab": {
     "base_uri": "https://localhost:8080/",
     "height": 300
    },
    "id": "9gVqWRx60rYc",
    "outputId": "6e72ac44-47fa-4cd3-dfcc-8e0a9e7d13b0"
   },
   "outputs": [
    {
     "data": {
      "text/html": [
       "<div>\n",
       "<style scoped>\n",
       "    .dataframe tbody tr th:only-of-type {\n",
       "        vertical-align: middle;\n",
       "    }\n",
       "\n",
       "    .dataframe tbody tr th {\n",
       "        vertical-align: top;\n",
       "    }\n",
       "\n",
       "    .dataframe thead th {\n",
       "        text-align: right;\n",
       "    }\n",
       "</style>\n",
       "<table border=\"1\" class=\"dataframe\">\n",
       "  <thead>\n",
       "    <tr style=\"text-align: right;\">\n",
       "      <th></th>\n",
       "      <th>Esporte</th>\n",
       "      <th>proportion</th>\n",
       "    </tr>\n",
       "  </thead>\n",
       "  <tbody>\n",
       "    <tr>\n",
       "      <th>0</th>\n",
       "      <td>Basquete</td>\n",
       "      <td>0.32</td>\n",
       "    </tr>\n",
       "    <tr>\n",
       "      <th>1</th>\n",
       "      <td>Futebol Americano</td>\n",
       "      <td>0.28</td>\n",
       "    </tr>\n",
       "    <tr>\n",
       "      <th>2</th>\n",
       "      <td>Futebol</td>\n",
       "      <td>0.12</td>\n",
       "    </tr>\n",
       "    <tr>\n",
       "      <th>3</th>\n",
       "      <td>Tenis</td>\n",
       "      <td>0.08</td>\n",
       "    </tr>\n",
       "    <tr>\n",
       "      <th>4</th>\n",
       "      <td>Boxe</td>\n",
       "      <td>0.08</td>\n",
       "    </tr>\n",
       "    <tr>\n",
       "      <th>5</th>\n",
       "      <td>Golfe</td>\n",
       "      <td>0.04</td>\n",
       "    </tr>\n",
       "    <tr>\n",
       "      <th>6</th>\n",
       "      <td>Automobilismo</td>\n",
       "      <td>0.04</td>\n",
       "    </tr>\n",
       "    <tr>\n",
       "      <th>7</th>\n",
       "      <td>Beisebol</td>\n",
       "      <td>0.04</td>\n",
       "    </tr>\n",
       "  </tbody>\n",
       "</table>\n",
       "</div>"
      ],
      "text/plain": [
       "             Esporte  proportion\n",
       "0           Basquete        0.32\n",
       "1  Futebol Americano        0.28\n",
       "2            Futebol        0.12\n",
       "3              Tenis        0.08\n",
       "4               Boxe        0.08\n",
       "5              Golfe        0.04\n",
       "6      Automobilismo        0.04\n",
       "7           Beisebol        0.04"
      ]
     },
     "execution_count": 7,
     "metadata": {},
     "output_type": "execute_result"
    }
   ],
   "source": [
    "# A porcentagem de cada esporte\n",
    "contagem_por_esporte = df['Esporte'].value_counts(normalize=True).reset_index()\n",
    "contagem_por_esporte"
   ]
  },
  {
   "cell_type": "markdown",
   "metadata": {
    "id": "tr3--BGY1Ip0"
   },
   "source": [
    "# Aplicando os conceitos de estatística:"
   ]
  },
  {
   "cell_type": "markdown",
   "metadata": {
    "id": "Uj71HIQTkVAX"
   },
   "source": [
    "## 1 - MÉDIA\n",
    "De forma manual"
   ]
  },
  {
   "cell_type": "code",
   "execution_count": 8,
   "metadata": {
    "colab": {
     "base_uri": "https://localhost:8080/"
    },
    "id": "dschx2c91D3B",
    "outputId": "c7e526d7-7a0c-45ce-9792-3e47fb90d9d1"
   },
   "outputs": [
    {
     "name": "stdout",
     "output_type": "stream",
     "text": [
      "Média de ganhos totais: 377.0\n"
     ]
    }
   ],
   "source": [
    "# Criando uma variavel chamada soma_ganhos_totais e em seguida aplicamos o SUM para que seja feita a soma da coluna.\n",
    "soma_ganhos_totais = df['Ganhos_Totais'].sum()\n",
    "# Em seguida calculando a quantidade de atletas \n",
    "quantidade_de_registros = len(df['Ganhos_Totais'])\n",
    "# Dividimos a soma da coluna de ganhos pela quantidade de atletas\n",
    "media_ganhos_totais = soma_ganhos_totais / quantidade_de_registros\n",
    "\n",
    "print(\"Média de ganhos totais:\", media_ganhos_totais)"
   ]
  },
  {
   "cell_type": "markdown",
   "metadata": {
    "id": "_SM5hz41kGiM"
   },
   "source": [
    "Com a função mean:"
   ]
  },
  {
   "cell_type": "code",
   "execution_count": 9,
   "metadata": {
    "colab": {
     "base_uri": "https://localhost:8080/"
    },
    "id": "HYtJ9p7nkL4i",
    "outputId": "ff380dc1-e21d-4409-dc75-639516243868"
   },
   "outputs": [
    {
     "data": {
      "text/plain": [
       "377.0"
      ]
     },
     "execution_count": 9,
     "metadata": {},
     "output_type": "execute_result"
    }
   ],
   "source": [
    "df['Ganhos_Totais'].mean()"
   ]
  },
  {
   "cell_type": "markdown",
   "metadata": {
    "id": "Uck3ckfekrz0"
   },
   "source": [
    "Ganhos totais por esporte utilizando mean:"
   ]
  },
  {
   "cell_type": "code",
   "execution_count": null,
   "metadata": {
    "colab": {
     "base_uri": "https://localhost:8080/",
     "height": 300
    },
    "id": "xJinV9pFkygI",
    "outputId": "7fc0a513-6820-4428-fe0a-4388fcd986ef"
   },
   "outputs": [
    {
     "data": {
      "text/html": [
       "<div>\n",
       "<style scoped>\n",
       "    .dataframe tbody tr th:only-of-type {\n",
       "        vertical-align: middle;\n",
       "    }\n",
       "\n",
       "    .dataframe tbody tr th {\n",
       "        vertical-align: top;\n",
       "    }\n",
       "\n",
       "    .dataframe thead th {\n",
       "        text-align: right;\n",
       "    }\n",
       "</style>\n",
       "<table border=\"1\" class=\"dataframe\">\n",
       "  <thead>\n",
       "    <tr style=\"text-align: right;\">\n",
       "      <th></th>\n",
       "      <th>Esporte</th>\n",
       "      <th>Ganhos_Totais</th>\n",
       "    </tr>\n",
       "  </thead>\n",
       "  <tbody>\n",
       "    <tr>\n",
       "      <th>4</th>\n",
       "      <td>Futebol</td>\n",
       "      <td>557.0</td>\n",
       "    </tr>\n",
       "    <tr>\n",
       "      <th>1</th>\n",
       "      <td>Basquete</td>\n",
       "      <td>400.5</td>\n",
       "    </tr>\n",
       "    <tr>\n",
       "      <th>3</th>\n",
       "      <td>Boxe</td>\n",
       "      <td>373.5</td>\n",
       "    </tr>\n",
       "    <tr>\n",
       "      <th>7</th>\n",
       "      <td>Tenis</td>\n",
       "      <td>366.0</td>\n",
       "    </tr>\n",
       "    <tr>\n",
       "      <th>6</th>\n",
       "      <td>Golfe</td>\n",
       "      <td>334.0</td>\n",
       "    </tr>\n",
       "    <tr>\n",
       "      <th>0</th>\n",
       "      <td>Automobilismo</td>\n",
       "      <td>319.0</td>\n",
       "    </tr>\n",
       "    <tr>\n",
       "      <th>5</th>\n",
       "      <td>Futebol Americano</td>\n",
       "      <td>311.0</td>\n",
       "    </tr>\n",
       "    <tr>\n",
       "      <th>2</th>\n",
       "      <td>Beisebol</td>\n",
       "      <td>241.0</td>\n",
       "    </tr>\n",
       "  </tbody>\n",
       "</table>\n",
       "</div>"
      ],
      "text/plain": [
       "             Esporte  Ganhos_Totais\n",
       "4            Futebol          557.0\n",
       "1           Basquete          400.5\n",
       "3               Boxe          373.5\n",
       "7              Tenis          366.0\n",
       "6              Golfe          334.0\n",
       "0      Automobilismo          319.0\n",
       "5  Futebol Americano          311.0\n",
       "2           Beisebol          241.0"
      ]
     },
     "execution_count": 10,
     "metadata": {},
     "output_type": "execute_result"
    }
   ],
   "source": [
    "df.groupby('Esporte')['Ganhos_Totais'].mean().reset_index().sort_values(by='Ganhos_Totais', ascending=False)"
   ]
  },
  {
   "cell_type": "markdown",
   "metadata": {
    "id": "X9AmqzY_kdQJ"
   },
   "source": [
    "## 2 - MEDIANA"
   ]
  },
  {
   "cell_type": "markdown",
   "metadata": {
    "id": "sGWL8iNSkgzm"
   },
   "source": [
    "Com a função median que ao ser aplicada funciona exatamente igual a média.  "
   ]
  },
  {
   "cell_type": "code",
   "execution_count": 11,
   "metadata": {
    "colab": {
     "base_uri": "https://localhost:8080/"
    },
    "id": "RaxUeFjZoeoQ",
    "outputId": "0691edae-c4ac-474b-8631-14776702e6fc"
   },
   "outputs": [
    {
     "data": {
      "text/plain": [
       "354.0"
      ]
     },
     "execution_count": 11,
     "metadata": {},
     "output_type": "execute_result"
    }
   ],
   "source": [
    "df['Ganhos_Totais'].median()"
   ]
  },
  {
   "cell_type": "markdown",
   "metadata": {
    "id": "scL31Jniok3x"
   },
   "source": [
    "A mediana é menor que média, que foi de 377.\n",
    "Isso evidencia uma distribuição dos dados não tão uniforme pois alguns valores tem puxado a média para um valor acima da mediana."
   ]
  },
  {
   "cell_type": "code",
   "execution_count": 12,
   "metadata": {
    "colab": {
     "base_uri": "https://localhost:8080/",
     "height": 300
    },
    "id": "FdTKo9FIo50j",
    "outputId": "b459b9c7-5976-40c1-a9d2-b4375a302eea"
   },
   "outputs": [
    {
     "data": {
      "text/html": [
       "<div>\n",
       "<style scoped>\n",
       "    .dataframe tbody tr th:only-of-type {\n",
       "        vertical-align: middle;\n",
       "    }\n",
       "\n",
       "    .dataframe tbody tr th {\n",
       "        vertical-align: top;\n",
       "    }\n",
       "\n",
       "    .dataframe thead th {\n",
       "        text-align: right;\n",
       "    }\n",
       "</style>\n",
       "<table border=\"1\" class=\"dataframe\">\n",
       "  <thead>\n",
       "    <tr style=\"text-align: right;\">\n",
       "      <th></th>\n",
       "      <th>Esporte</th>\n",
       "      <th>Ganhos_Totais</th>\n",
       "    </tr>\n",
       "  </thead>\n",
       "  <tbody>\n",
       "    <tr>\n",
       "      <th>4</th>\n",
       "      <td>Futebol</td>\n",
       "      <td>565.0</td>\n",
       "    </tr>\n",
       "    <tr>\n",
       "      <th>1</th>\n",
       "      <td>Basquete</td>\n",
       "      <td>392.5</td>\n",
       "    </tr>\n",
       "    <tr>\n",
       "      <th>3</th>\n",
       "      <td>Boxe</td>\n",
       "      <td>373.5</td>\n",
       "    </tr>\n",
       "    <tr>\n",
       "      <th>7</th>\n",
       "      <td>Tenis</td>\n",
       "      <td>366.0</td>\n",
       "    </tr>\n",
       "    <tr>\n",
       "      <th>6</th>\n",
       "      <td>Golfe</td>\n",
       "      <td>334.0</td>\n",
       "    </tr>\n",
       "    <tr>\n",
       "      <th>5</th>\n",
       "      <td>Futebol Americano</td>\n",
       "      <td>329.0</td>\n",
       "    </tr>\n",
       "    <tr>\n",
       "      <th>0</th>\n",
       "      <td>Automobilismo</td>\n",
       "      <td>319.0</td>\n",
       "    </tr>\n",
       "    <tr>\n",
       "      <th>2</th>\n",
       "      <td>Beisebol</td>\n",
       "      <td>241.0</td>\n",
       "    </tr>\n",
       "  </tbody>\n",
       "</table>\n",
       "</div>"
      ],
      "text/plain": [
       "             Esporte  Ganhos_Totais\n",
       "4            Futebol          565.0\n",
       "1           Basquete          392.5\n",
       "3               Boxe          373.5\n",
       "7              Tenis          366.0\n",
       "6              Golfe          334.0\n",
       "5  Futebol Americano          329.0\n",
       "0      Automobilismo          319.0\n",
       "2           Beisebol          241.0"
      ]
     },
     "execution_count": 12,
     "metadata": {},
     "output_type": "execute_result"
    }
   ],
   "source": [
    "df.groupby('Esporte')['Ganhos_Totais'].median().reset_index().sort_values(by='Ganhos_Totais', ascending=False)"
   ]
  },
  {
   "cell_type": "markdown",
   "metadata": {
    "id": "0ACpd1aepl5Q"
   },
   "source": [
    "## 3 - MODA"
   ]
  },
  {
   "cell_type": "markdown",
   "metadata": {
    "id": "VO7iPWaKqQ9t"
   },
   "source": [
    "A moda serve para ver um total de ganhos que se repete mas não é uma métrica tão eficiente para análise em específico."
   ]
  },
  {
   "cell_type": "code",
   "execution_count": 13,
   "metadata": {
    "colab": {
     "base_uri": "https://localhost:8080/"
    },
    "id": "NtaRAv8UqcPg",
    "outputId": "8c333390-87b2-43aa-d97e-dab4131a79da"
   },
   "outputs": [
    {
     "data": {
      "text/plain": [
       "0    241\n",
       "1    273\n",
       "2    334\n",
       "3    442\n",
       "4    452\n",
       "Name: Ganhos_Totais, dtype: int64"
      ]
     },
     "execution_count": 13,
     "metadata": {},
     "output_type": "execute_result"
    }
   ],
   "source": [
    "df['Ganhos_Totais'].mode()"
   ]
  },
  {
   "cell_type": "markdown",
   "metadata": {
    "id": "OiAa-MPfqydi"
   },
   "source": [
    "## 4 - DESVIO PADRÃO"
   ]
  },
  {
   "cell_type": "markdown",
   "metadata": {
    "id": "iK0NNOzRq-jb"
   },
   "source": [
    "Ao comparar a média com a mediana nota-se que temos uma distribuição de dados não tao uniforme, através do desvio pode-se identificar qual dos esportes tem maior dispersão entre os ganhos"
   ]
  },
  {
   "cell_type": "code",
   "execution_count": 14,
   "metadata": {
    "colab": {
     "base_uri": "https://localhost:8080/",
     "height": 300
    },
    "id": "drW_mXxerNv8",
    "outputId": "02716682-d092-43fc-e022-e47b1e7bceab"
   },
   "outputs": [
    {
     "data": {
      "text/html": [
       "<div>\n",
       "<style scoped>\n",
       "    .dataframe tbody tr th:only-of-type {\n",
       "        vertical-align: middle;\n",
       "    }\n",
       "\n",
       "    .dataframe tbody tr th {\n",
       "        vertical-align: top;\n",
       "    }\n",
       "\n",
       "    .dataframe thead th {\n",
       "        text-align: right;\n",
       "    }\n",
       "</style>\n",
       "<table border=\"1\" class=\"dataframe\">\n",
       "  <thead>\n",
       "    <tr style=\"text-align: right;\">\n",
       "      <th></th>\n",
       "      <th>Esporte</th>\n",
       "      <th>Ganhos_Totais</th>\n",
       "    </tr>\n",
       "  </thead>\n",
       "  <tbody>\n",
       "    <tr>\n",
       "      <th>0</th>\n",
       "      <td>Automobilismo</td>\n",
       "      <td>NaN</td>\n",
       "    </tr>\n",
       "    <tr>\n",
       "      <th>1</th>\n",
       "      <td>Basquete</td>\n",
       "      <td>103.414561</td>\n",
       "    </tr>\n",
       "    <tr>\n",
       "      <th>2</th>\n",
       "      <td>Beisebol</td>\n",
       "      <td>NaN</td>\n",
       "    </tr>\n",
       "    <tr>\n",
       "      <th>3</th>\n",
       "      <td>Boxe</td>\n",
       "      <td>96.873629</td>\n",
       "    </tr>\n",
       "    <tr>\n",
       "      <th>4</th>\n",
       "      <td>Futebol</td>\n",
       "      <td>86.278618</td>\n",
       "    </tr>\n",
       "    <tr>\n",
       "      <th>5</th>\n",
       "      <td>Futebol Americano</td>\n",
       "      <td>62.960305</td>\n",
       "    </tr>\n",
       "    <tr>\n",
       "      <th>6</th>\n",
       "      <td>Golfe</td>\n",
       "      <td>NaN</td>\n",
       "    </tr>\n",
       "    <tr>\n",
       "      <th>7</th>\n",
       "      <td>Tenis</td>\n",
       "      <td>107.480231</td>\n",
       "    </tr>\n",
       "  </tbody>\n",
       "</table>\n",
       "</div>"
      ],
      "text/plain": [
       "             Esporte  Ganhos_Totais\n",
       "0      Automobilismo            NaN\n",
       "1           Basquete     103.414561\n",
       "2           Beisebol            NaN\n",
       "3               Boxe      96.873629\n",
       "4            Futebol      86.278618\n",
       "5  Futebol Americano      62.960305\n",
       "6              Golfe            NaN\n",
       "7              Tenis     107.480231"
      ]
     },
     "execution_count": 14,
     "metadata": {},
     "output_type": "execute_result"
    }
   ],
   "source": [
    "desvio_padrao_por_esporte = df.groupby('Esporte')['Ganhos_Totais'].std().reset_index()\n",
    "desvio_padrao_por_esporte"
   ]
  },
  {
   "cell_type": "markdown",
   "metadata": {
    "id": "OAA_35UuLGFw"
   },
   "source": [
    "Os registros estão NAN são de quando tem apenas 1 registro para o esporte, pois não temos como calcular o desvio padrão se não temos mais de um registro."
   ]
  },
  {
   "cell_type": "code",
   "execution_count": 15,
   "metadata": {
    "colab": {
     "base_uri": "https://localhost:8080/",
     "height": 300
    },
    "id": "_6URFgD_LtcU",
    "outputId": "26dc3d9b-5a8f-430d-99ef-3f3cc96aa8a5"
   },
   "outputs": [
    {
     "data": {
      "text/html": [
       "<div>\n",
       "<style scoped>\n",
       "    .dataframe tbody tr th:only-of-type {\n",
       "        vertical-align: middle;\n",
       "    }\n",
       "\n",
       "    .dataframe tbody tr th {\n",
       "        vertical-align: top;\n",
       "    }\n",
       "\n",
       "    .dataframe thead th {\n",
       "        text-align: right;\n",
       "    }\n",
       "</style>\n",
       "<table border=\"1\" class=\"dataframe\">\n",
       "  <thead>\n",
       "    <tr style=\"text-align: right;\">\n",
       "      <th></th>\n",
       "      <th>Ganhos_Totais</th>\n",
       "    </tr>\n",
       "  </thead>\n",
       "  <tbody>\n",
       "    <tr>\n",
       "      <th>count</th>\n",
       "      <td>25.000000</td>\n",
       "    </tr>\n",
       "    <tr>\n",
       "      <th>mean</th>\n",
       "      <td>377.000000</td>\n",
       "    </tr>\n",
       "    <tr>\n",
       "      <th>std</th>\n",
       "      <td>110.029541</td>\n",
       "    </tr>\n",
       "    <tr>\n",
       "      <th>min</th>\n",
       "      <td>238.000000</td>\n",
       "    </tr>\n",
       "    <tr>\n",
       "      <th>25%</th>\n",
       "      <td>290.000000</td>\n",
       "    </tr>\n",
       "    <tr>\n",
       "      <th>50%</th>\n",
       "      <td>354.000000</td>\n",
       "    </tr>\n",
       "    <tr>\n",
       "      <th>75%</th>\n",
       "      <td>442.000000</td>\n",
       "    </tr>\n",
       "    <tr>\n",
       "      <th>max</th>\n",
       "      <td>639.000000</td>\n",
       "    </tr>\n",
       "  </tbody>\n",
       "</table>\n",
       "</div>"
      ],
      "text/plain": [
       "       Ganhos_Totais\n",
       "count      25.000000\n",
       "mean      377.000000\n",
       "std       110.029541\n",
       "min       238.000000\n",
       "25%       290.000000\n",
       "50%       354.000000\n",
       "75%       442.000000\n",
       "max       639.000000"
      ]
     },
     "execution_count": 15,
     "metadata": {},
     "output_type": "execute_result"
    }
   ],
   "source": [
    "df.describe()"
   ]
  },
  {
   "cell_type": "markdown",
   "metadata": {
    "id": "8_T4Vdn1V2E4"
   },
   "source": []
  }
 ],
 "metadata": {
  "colab": {
   "provenance": []
  },
  "kernelspec": {
   "display_name": "base",
   "language": "python",
   "name": "python3"
  },
  "language_info": {
   "codemirror_mode": {
    "name": "ipython",
    "version": 3
   },
   "file_extension": ".py",
   "mimetype": "text/x-python",
   "name": "python",
   "nbconvert_exporter": "python",
   "pygments_lexer": "ipython3",
   "version": "3.12.4"
  }
 },
 "nbformat": 4,
 "nbformat_minor": 0
}
